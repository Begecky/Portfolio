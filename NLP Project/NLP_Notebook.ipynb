{
 "cells": [
  {
   "cell_type": "code",
   "execution_count": 1,
   "metadata": {},
   "outputs": [],
   "source": [
    "import pandas as pd\n",
    "import numpy as np\n",
    "import scipy\n",
    "import sklearn\n",
    "import matplotlib.pyplot as plt\n",
    "import seaborn as sns\n",
    "import requests\n",
    "import cltk\n",
    "import re\n",
    "from bs4 import BeautifulSoup, SoupStrainer"
   ]
  },
  {
   "cell_type": "markdown",
   "metadata": {},
   "source": [
    "### Importing & Cleaning Texts:"
   ]
  },
  {
   "cell_type": "code",
   "execution_count": 2,
   "metadata": {
    "code_folding": [
     4,
     12,
     16,
     20,
     24,
     28,
     36
    ]
   },
   "outputs": [],
   "source": [
    "# Dictionary of Authors, their texts, the text urls and the text itself.\n",
    "  # The text itself will be retrieved via the function below.\n",
    "\n",
    "text_dict = {'Petrarca': {'Africa': \n",
    "                                    {'url': 'http://backend.bibliotecaitaliana.it/wp-json/muruca-core/v1/xml/bibit000921',\n",
    "                                     'text1': '',\n",
    "                                     'text2': ''},\n",
    "                          'Bucc. Carmen - Pet': \n",
    "                                    {'url': 'http://backend.bibliotecaitaliana.it/wp-json/muruca-core/v1/xml/bibit000846',\n",
    "                                     'text1': '',\n",
    "                                     'text2': ''},\n",
    "                          'Varia': \n",
    "                                    {'url': 'http://backend.bibliotecaitaliana.it/wp-json/muruca-core/v1/xml/bibit000769',\n",
    "                                     'text1': '', \n",
    "                                     'text2': ''},\n",
    "                          'Psalmi': \n",
    "                                    {'url': 'http://backend.bibliotecaitaliana.it/wp-json/muruca-core/v1/xml/bibit001378',\n",
    "                                     'text1': '', \n",
    "                                     'text2': ''}},\n",
    "            'Boccaccio': {'Carmina': \n",
    "                                    {'url': 'http://backend.bibliotecaitaliana.it/wp-json/muruca-core/v1/xml/bibit001658',\n",
    "                                     'text1': '', \n",
    "                                     'text2': ''},\n",
    "                          'Bucc. Carmen - Boc': \n",
    "                                    {'url': 'http://backend.bibliotecaitaliana.it/wp-json/muruca-core/v1/xml/bibit001461',\n",
    "                                     'text1': '', \n",
    "                                     'text2': ''}},\n",
    "             'Dante': {'Egloghe': \n",
    "                                    {'url': 'http://backend.bibliotecaitaliana.it/wp-json/muruca-core/v1/xml/bibit000808',\n",
    "                                     'text1': '', \n",
    "                                     'text2': ''},\n",
    "                       'Quaestio': \n",
    "                                    {'url': 'http://backend.bibliotecaitaliana.it/wp-json/muruca-core/v1/xml/bibit001095',\n",
    "                                     'text1': '', \n",
    "                                     'text2': ''},\n",
    "                       'DVE': \n",
    "                                    {'url': 'http://backend.bibliotecaitaliana.it/wp-json/muruca-core/v1/xml/bibit000018',\n",
    "                                     'text1': '', \n",
    "                                     'text2': ''}},\n",
    "             'Anon': {'Maiolichinus': \n",
    "                                     {'url':'http://backend.bibliotecaitaliana.it/wp-json/muruca-core/v1/xml/bibit000029',\n",
    "                                      'text1': '', \n",
    "                                      'text2': ''}}}\n",
    "\n"
   ]
  },
  {
   "cell_type": "code",
   "execution_count": 3,
   "metadata": {},
   "outputs": [],
   "source": [
    "# This function takes care of most cleaning as well.\n",
    "\n",
    "text_holder = []\n",
    "\n",
    "def text_prep(text_dict):\n",
    "\n",
    "    for author in text_dict.keys():\n",
    "    \n",
    "        for work in text_dict[author]:\n",
    "            \n",
    "            text = requests.get(text_dict[author][work]['url'])\n",
    "        \n",
    "            text = BeautifulSoup(text.content)\n",
    "            \n",
    "            text = text.select('div1')\n",
    "            \n",
    "            text1 = ' '.join([line.get_text().replace('\\n', ' ') for line in text])\n",
    "            \n",
    "            text_dict[author][work]['text1'] = text1\n",
    "            \n",
    "            text2 = [[line.get_text().replace('\\n', ' '), author, work] for line in text]\n",
    "            \n",
    "            text_dict[author][work]['text2'] = text2\n",
    "            \n",
    "    "
   ]
  },
  {
   "cell_type": "code",
   "execution_count": 4,
   "metadata": {},
   "outputs": [],
   "source": [
    "text_prep(text_dict)"
   ]
  },
  {
   "cell_type": "code",
   "execution_count": 5,
   "metadata": {},
   "outputs": [
    {
     "data": {
      "text/plain": [
       "[[\" Argomento Ad laudem et gloriam omnipotentis Dei et gloriosissime virginis Marie advocate Pisane civitatis atque totius triumphantis curie paradisi, amen. Et ad honorem et gloriam populi Pisani et exaltationem et augumentum status ipsius Pisane civitatis, amen. In Dei nomine amen. In questo libro che seguita qui di contra intitulato il Maiorichino si contiene chome anno Domini mille cento quatordici, cioè 1114, il populo pisano, per comandamento et a preghi di papa Paschale secondo, andò a l'insula di Maioricha con trecento vele grosse et bene armate de homini pisani io da piè et da chavallo. Et il dì di sancto Sixto uscirono di porto pisano con grande pianto di vechi et di fanciulli et di donne, et pervenuti prima a l'insula de Evisa, città fortissima in detta insula posta, et quella assediata per uno mese, et dopo molte crudele battaglie date la preseno per forsa d'arme con mirabile uccisione di Pagani, cioè il giorno di san Lorenso a dì X d'agosto anno 1114 sopra scripto. Et dipoi il giorno di sancto Bartholomeo apostolo in el dicto mese et anno s'acostorono con dicta armata alla isola di Maioricha, et quella per mesi sei assediata et con moltissime et diverse bataglie crudele date, finalmente quella per forsa d'arme superono et vinseno per tutto il mese d'aprile sequente: et più di cinquanta milia Pagani uciseno in la dicta guerra. Et li Cristiani che v'erano presi per diversi tempi in quello giorno dalle carcere  furono liberati, che furono di numero circa a trenta milia. Nientedimeno inansi che i dicti Pisani venisseno con loro armata alla sopradicta insula d'Evisa quando la presono, in e'lito di Barsellona perirono molte delle loro navi. Ma chi potrebbe racontare le spese inumerabili, i pericholi grandissimi et morte de homini che dicti Pisani sostenneno in quello viaggio et chamino che istetteno mesi 26, et tanta fu la exaltatione della victoria che riportorono alla cità di Pisa che totalmente dimenticorono la perdita delle loro nave et degli huomini et delle robbe.  \",\n",
       "  'Anon',\n",
       "  'Maiolichinus'],\n",
       " [' Libro I  Pisani populi vires et bellica facta Scripsimus ac duros terre pelagique labores, Maurorum stragem, spoliata subactaque regna. Ceptis ergo meis digneris, Christe, favere. Rumor ab Hesperia Latias delatus in urbes Romanos Siculosque tenet, gentisque Latine Litora nulla vacant fremitu: terroribus huius Grecorum populi quatiuntur ab usque Chorintho, Et timor illatus, quos late corripit omnes, A pelagi studio longe facit esse remotos. Namque dum contra proprias Maiorica vires Exerit Italiam, navali fisa paratu, Sicaniamque petit et Achaica litora circum Navigat, inque Dei servos vesana potenter Sevit, cum templis divinas polluit aras, Diripit, incendit villas castellaque multa, Captivosque trahit, quos non interficit, omnes, Et monet, ut nichilum, Christum legemque negare, Et precepta sui complecti vana Rasulle. Hinc sibi credentes amat, amplexatur, honorat, Contra dicentes tormentis applicat atris. Venduntur quidam sub conditione nefanda, Hos ferrum maniceque domant sub carcere tetro, Hos cruciant inamata fames nimiique labores. Et, ceu testantur qui vera referre putantur, Milia captorum plus quam ter dena fuerunt, Quos pariter Baleri vinxit tenuitque tirampnus, Preter ad ignotas quos per comercia gentes Transtulit, aut atrox obitus de carne resolvit. Fama mali tanti per plures cognita terras Commovet extimplo sitientes prelia Pisas. Concitat ira senes, qui Punica vincere regna, Subdere quique suo gentes potuere tributo. Hi, memorant dum facta Bone, dum bella Panormi Victaque per varios quam plurima prelia casus, Accendunt animos iuvenum, quibus orrida facta Et labor et sudor et duri gloria Martis Divitiis et delitiis potiora fuerunt. Petre Dei presul, meritis venerande beatis, Iam populis memor esto tuis celestia signa Tradere, que valeant gentilia monstra timere. Namque die Domini, quo Christus Tartara cuncta Vicit, et humanas animas de morte resurgens Tartarei dominus traxit de fauce profundi, Hortaris populos celestis signa salutis Sumere; quique daret, qui sumeret ipse fuisti Primus; te reliqui voto fervente sequuntur, Suscipiuntque Dei multorum milia signum. Inde duodenos de culmine nobilitatis Constituere viros, quibus est permissa potestas Consulis atque ducis, regerent ut gnaviter omnes, Purus et istorum disponens singula sensus Congrua militie, ratibus quoque conficiendis Queque iuvare queant homines classemque pararent. Et ne pretereant horum te nomina, lector, Que dictando canam, lineas scrutare sequentes. Ex his Gerardus Gerardi filius, auctus Sensibus, orator laudabilis atque facetus; Natus et Ugonis, patrui de nomine dictus Gerardus, patrui claro iam dignus honore; Sicherioque satus, titulis decoratus eisdem, Petrus et Atho simul numero dictantur in isto. His Ildebrandum Rolando iunge creatum, Viribus et factis et nobilitate micantem, Hinc Erithone satum, genitoris nomen habentem, Nec non Henricum, genus a Vinitihone trahentem, Lotarumque simul iuvenemque sciumque Dodonem. Hos decorant Stephano genitus Rodulfus et una Filius Uberti Lambertus clarus in urbe, Atque Robertinus Francardi splendida proles. Horum consilio clari cum presule digno Legati Romam vadunt, quos papa colendus Nomine Paschalis multo suscepit honore, Pontifici tribuendo crucem, romanaque signa Militie ducibus, que presens Atho recepit. Qui, postquam monuit pietatis dogma catervam Et quantum Scriptura pati pro fratribus optet, Hortatus cunctos sanctis insistere ceptis, Pro tanto facto peccamina cuncta relaxat, Hancque potestatem Pisano tribuit altam Pontifici. Redit hic propriam properanter ad urbem. Protinus a populo digna statione receptus Astantes turbas monitis papalibus implet. Et ceu durescit calido moderamine ferrum Mulciberis coctam dum temperat unda bipennem, Pontificis pariter Pisani voce sacrata Fervent Alphee fortes ad bella phalanges. Inde brevi valde numero labente dierum Tertia vox Ianuam, placidos moderata rogatus, Presulis invitat. Spondet solatia pugne; Sed longas nimiasque moras, annalia donec Tempora pretereant, fraudis sub tegmine poscit. Pisani didicere patres fraudemque dolumque. Ut tandem patuere doli, retinacula solvens Navita Pisanam sua vela retorxit ad urbem. Tunc demum Pise tanto sonuere dolatu, Ut nec magna quidem sentire tonitrua posses. Quicquid tunc habuit nemorosi Corsica ligni Aut picis innumeros ratium defertur ad usus, Lunensesque suo privantur robore silve. Arboribus cesis remanet Curvaria rara; Antennas que vela ferant, quod gestet easdem Arboreum robur, celse tribuere Mucelle. Ceditur omne nemus, cesum descendit ad undas. Hoc varie fiunt diviso robore naves: Gatti, drumones, garabi, celeresque galee, Barce, currabii, lintres, grandesque sagene Et plures alie variantes nomina naves. His ponuntur equi, sunt quedam victibus apte, Ingentes alie possunt portare catervas, Servitiis norunt possuntque subesse minores. He numquam metuunt vicinas tangere terras, Adducunt latices, homines ad litora vectant; Iura galearum iuvenum sunt apta lacertis. Harum quamque solent centum propellere remi, Ordine que bino plana nituntur in unda, Et freta scindentes fugiunt sic atque sequuntur Ut celeres capreas et aves superare volantes Veloci valeant undosa per equora cursu. Ligni materies non solum congrua classi; Hinc etenim turres, pontes scaleque geruntur, Cum quibus excelsos invadant agmina muros; Hinc quoque que magnas mittant in menia moles, Exagitent rumpantque domos, tormenta parantur; Hinc balista minax, aries, testudo petuntur, Sicque per innumeros lignum distenditur usus. Nec cessant fabri; ferrum consumitur omne; Quod, quia diversis rebus facit officiisque, Mille per artifices vario distinguitur actu. Nec vacat officium; depingunt arma colores, Resplendent galee, clipei selleque micantes, Impositumque super cum gemmis prenitet aurum. Interea veniunt quidam de gente remota, Romaque cum Luca mittunt solatia pugne. Auxilium bello Ianuensis sola negavit Patria, quamque potest Pisanos impedit actus. Denique perfecte naves mittuntur in undas: Accepit has Sarnus, greco vocitatus ab amne Alpheus, cui Pisa vetus, nunc lapsa, cohesit, Ex qua Pisanus, qui Pisas condidit istas, Italie fluvio nomen donavit et urbi. Hinc propria puppes queque statione ligantur, Implenturque cibis, equis armisque virisque, Et dantur ratibus certissima signa quibusque, At vexiliferi per turmas atque cohortes. Istorum virtus, populis bene nota Latinis, Credidit ad bellum facili conducere cursu Agmina. Decipiunt mortalia pectora cure; Consiliis hominum quoniam fortuna repugnat, Atque malis factis alicuius ponere finem Ante suum tempus non vult divina voluntas. Temporibus sata queque virent et temporis albent Articulo, cunctis data sunt sua tempora rebus. Temporis ordo monet, nature postulat usus, Ne, nisi maturi, rapiantur ab arbore fructus. Sed Domino, qui cuncta potest, sunt subdita queque, Et quodcumque bonum nutu distinguitur eius, Cuius amore suos cognatos atque parentes, Divitias, patriam Pisani deseruere. Iamque dies aderat sancti celeberrima Sixti, In qua Pisani de Penis marte subactis Annales recolunt votiva laude triumphos, Quando per Alphei fluctus populosa natabat Classis, et ad fauces limosi fluminis artas Convenere rates. Sed cum transire nequirent Temptantes aditus albentis more fluenti, Exonerare suas escis armisque carinas Ceperunt. Post hec spatiosa per equora naute Direxere viam, terris post terga relictis. Cernentes placidam fixis obtutibus urbem Divine cure sua menia, rura, penates, Uxores, patriam, natorum pignora mandant. Dumque rates abeunt, plorant in litore matres, Plorantum lacrimis bibule satiantur arene, Pectus ad usque parens vitreas descendit in undas, Et verbis placidis benedicit in equore natum. Hec pro patre rogat, pro fratribus atque maritis Inmensos alie fundunt in litore questus. Non aliter Graios flevisse feruntur Achive, Pergama quando rates Danae violente petebant. Et non desistunt precibus miscere querelas, Eolia ventus donec progressus ab aula Visibus arreptos spatiosa per equora vexit. Stagnea planities a leva parte relicta Atque Liburnus erant, dextra Gorgona remansit. Monteque cum Nigro Vada seu Populonica tellus Effugiunt visus, dum ventus in equore perflat. Corsica sub velis fuerat, Capraria tergo. Fertilis Ilba iacent Planosaque parte sinistra; Dumque favent venti, Tauro post terga relicta, Adveniunt Longona rates, linquntque lebetes, Et retinent portum dictum de nomine sancte Quam Reparata vocant. Muros templumque vetustum Erecti lapides scopulosaque litora monstrant. Hosque sinus exire parant, pariterque resumunt Turrenses aditus, ubi Constantinus habebat Sedes, rex clarus, multum celebratus ab omni Sardorum populo. Bis sex geminisque diebus, Operiendo suos, ibi gens Pisana moratur, Inde sinum repetunt, quem vulgo ferunt Caput Album Scilicet ob nullum trepidantia litora ventum. Istic Durbinius Pisanis associatur, Qui quondam regnum censebat Calaritanum, Et Constantino Saltarus iudice natus; Prevalet hic iaculo, preclaris sensibus ille. More pari Danaos Ecateia suscipit Aulis Cum fuerat Frigios Menelaus iturus in hostes. Civibus hic presul multum de pace locutus, Plurima per paucos incassum semina fudit; Sed tamen e multis fructum percepit eorum. Tunc Passarino committunt Alpherioque Ducatum pelagi patres communiter omnes, Hosque sequi naute sed et observare iubentur. Iussa patrum contempta iacent, convertitur ordo; Quisquis enim potuit celeri transcurrere ligno Ostendit sociis velis et remige puppes. Iam, geminis lapsis gemina cum nocte diebus, Tertia lux ierat, nox et iam ceperat esse, Tertia septembris vicinior ulla kalendis Non fuerat, nisi postera que sibi forte secunda Expectabatur, nec ea tenebrosior ulla. Circumquaque tonat, sed undique crebra coruscant Fulgora. Turbari nautas reliquosque videres, Qui nondum rabidi bene norant equoris usum. Sidera nulla patent oculis, solosque micantes Naute cernebant accensos puppibus ignes. Non Laerte satus foret in terroribus istis Intrepidus, Circes quamvis superaverit artes, Si fortuna ducem fluctus duxisset in istos. Arbitrium cuiusque fuit mirabile tempus In tempestatis transcurrere seva pericla. Sed Dominus, solitus propriis succurrere servis, Iustitie semper qui salvat et auget amantes, Firmavit Boree placidos super equora flatus, Qui tota leni portarunt equore nocte Naves. Mox, pulsis tenebris, subiere micantes Stelle; nox abiit; preclari forma diei Subsequitur; celeri classis levitate cucurrit. Hac crescente die ceperunt cernere terras Hispanas, sed eas Baleares esse putabant, Blandensi donec comittitur anchora ripe. Has postquam retinent Latio de litore vecti, Astis suspendunt pugnam minitantia signa, Atque tegunt fortes clippeis radiantibus artus, Et stringunt rigidos totis conatibus enses. Litora tota sonant ex rauca voce tubarum. Indigenas, quoscumque vident, capiuntque fugantque, Atque sequuntur, eos Baleares esse putantes. Hii se Christicolas Catalanensesque fatentur. Turbatos volvunt Pisani pectore sensus, Et, positis armis, resident in litore tristes. Barchinonensis postquam cognoscitur ora, Mutant consilium, diversa pericla timentes, Quod nec habetur ibi vento tutamen ab omni, Transieratque simul vallata caloribus estas. Tunc ex consulibus Rolandi filius unus, Cui genus et sensus clarum quoque curia nomen Et civilis amor cum divitiis tribuerunt, Mittitur ad comitem cui Barchinon atque Girunda Subduntur, multasque regit pro viribus urbes, Cui nomen Raimundus erat, qui laudis equestris Fructus innumeros clarosque paraverat actus, Hispanos cuius terror commoverat hostes. Rolando genitus, postquam pervenit ad ipsum Atque salutavit: \" Comitum clarissime \", dixit, \" Pisanus populus Christi virtutibus auctus \" Ecce, favente Deo, partes devenit in istas, \" Alterius verbis quod iam tibi forte relatum est. \" Quod si causa monet, scu ditia castra videre \" Te iuvat, acceleres Pisanam visere classem. \" Te sociare sibi belli sociumque ducemque \" Agmina nostra volunt; ferus et te provocat hostis; \" Nam quem non moveat Balearis seva tirampni \" Fama, repercussi que fines concutit orbis, \" Et Latii populos cunctosque perurguet Achivos? \" Necdum finierat consul, cum plura paranti Ille refert grates: \" Faciat quoque prospera \", dixit, \" Omnia vestra Deus, vobis et in omnibus adsit, \" Inque manus vestras communes prebeat hostes \" Orbis, et in sancte sortis nos congreget usus, \" Ut faciamus ei que sunt gratissima semper; \" Nam contra nullos ego iustius arma movebo. \" Hii Christi servos multis cruciatibus arcent, \" Atque meum litus faciunt cultore vacare; \" Nam quos Blandensi positos in litore muros \" Templa videtis erant miris radiantia signis, \" Quorum summa tegunt edere, vel frondea vitis \" Occulit aut ficus, seu quelibet occupat arbor. \" Pluribus in templis monachi cecidere per ipsos \" Atque sacerdotes, iugulis maculantibus aras; \" At reliquos etate viros aut arte micantes \" Constituere suis duris servire catenis. \" Vincla, labor, dolor atque fames hos sepe necarunt, \" Aut ius Machamatis quos ponere triste coegit \" In cervice iugum. QQQQQoouem non dolor excitat iste? \" Quod si forte Deus vobis concesserit ut vos \" Tanto possitis finem prebere labori, \" Pisanis dominis solatia queque paramus, \" Viribus et nostris sequemur comitantibus illos \".  Nuntia dictorum mox carta futura notatur, Qua se Pisanis verum promittit amicum, Atque Pirenee concedit singula terre. Tunc Ildibrandum donat multumque precatur Ut se Pisanis socio coniungat amore. Altera lux postquam cives conduxit in unum, Talibus alloquitur Pisanos vocibus Atho, Quem grate populus celebrabat munere lingue: \" Quod Domini nutu disponitur, a ratione \" Funditus humana cognoscitur esse remotum. \" Vidimus ingentes fluctus tonitrusque coruscos; \" Credidimus subitos minitari fulgora ventos. \" Mox Domini pietas pacatas reddidit undas \" Equoreas nobis; vis est ea nempe Tonantis, \" Nam pro velle suo mundanos destinat actus, \" Arbitrioque pio causa dominatur in omni. \" Hanc pedibus nostris tribuit contingere ripam, \" Ut socias relevet divina remissio turbas. \" Ergo, viri docti, dum litore stamus in isto, \" Divinos augere decet cuneos, felicia dici \" Ut vero valeant, non casso nomine, castra. \" Barchinonensis comitis solatia vobis, \" Auxiliante Deo, possunt non parva parari. \" Vos portare suos equites rogat ille ducentos, \" Centum se propriis spondet gestare carinis; \" Misit et hanc cartam \". Cartam porrexit et addit: \" Istuc nos Dominus duxit, non nostra voluntas; \" Qui famulatur ei bene speret et indubitate, \" Quod vera numquam fraudabitur utilitate. \" Presul abest, portumque tenet qui distat ab isto \" Per passus sex mille, reor; mittamus ad ipsum,  \" Et si dicta placent, tunc perveniamus ad actus \". Hisque peroratis, placuerunt dicta quibusque. Carta legi comitis petitur, fractoque sigillo Inspexit Lodoicus eam legitque decenter. Lecta placet cunctis, comiti dant agmina laudes. Sancti Felicis portum gens illa vocabat, In quo presul erat. Properans legatus ad ipsum Vadit; sed presul recipit firmatque loquelas. Dimittunt blandas post hec cum turbine naves, Atque petunt portum sanctus quem presul habebat, Cuius ad ingressum ventus pugnabat iniquus. Ut portum tenuere rates, et cetus haberi Cepit, et erboso steterat iam contio prato, Optimus antistes, sancte pietatis amator, Talibus Alpheos monuit orando loquelis: \" Sanguine vos proprio quos Christus ab hoste redemit, \" Ut veras spinas veteres fugitote ruinas. \" En sunt tres lapsus, quibus estat Adam superatus; \" Namque Deum perdit male qui cupit atque superbit, \" Et male letatur cui gloria vana paratur. \" Nascitur hinc odium, discordia, livor et ira. \" Ista movere queunt hominum precordia dira. \" Non valet esse bonus viciis qui subiacet istis. \" Vincere nemo potest, quisquis superatur ab ipsis; \" Pectora nam lacerant, sensusque trahunt velut hostes, \" Dirripiunt, capiunt; ipsis vos claudite postes. \" Non Domini genitum pro se tormenta tulisse, \" Ast homines propter, debent homines meminisse. \" Hic minuit nostros languores, atque reatus \" Tollit, et hic penas cunctosque fugat cruciatus. \" Pace Deum debent et mentis simplicitate  \" Querere, non odiis, homines, aut asperitate. \" Qui pacem portant celo possunt habitare. \" Debetis fratres cum voto cordis amare. \" Si nec amatis eos, quos vos modo forte videtis, \" De nondum visis michi numquam spem facietis. \" Horum quisquis enim presentes tempnit amores \" Qualiter illorum poterit relevare dolores? \" Pacis amatoris non est possessio parva, \" Sidera namque tenet pontumque beatus et arva. \" Postquam de Saulo Dominus sibi fecit amicum, \" Sit nemo nostrum fratrem ducens inimicum. \" Vera sit in nobis et non concordia falsa, \" Si tuti vultis transire per equora salsa. \" Trina Dei virtus nostros ut terreat hostes \" Pax sua possideat nostros cum limite postes \". Interea vulgus pelagi terrore solutum Murmurat, et patrias exoptat turpiter horas, Inque duces stultas temptans agitare querelas, Hostibus ommissis, pariter remeare minatur. His permotus ait Lucensis talia Fralmus: \" Laudet quisque Deum cui sunt cum prosperitate \" Omnia, letetur cui congrua queque parantur. \" Congrua namque reor socios et moltiplicare \" Subsidioque viros proprii reperire laboris. \" Qui socios augere potest bene percutit hostes, \" Quos satis egregios nobis divina paravit \" Gratia, nec nostrum teneat turbatio quemquam, \" Cum bello quisquam nec adhuc superaverit hostem, \" Ex quo cepimus hoc, neque sit superatus ab hoste. \" Ut quid tanta tenet vestras turbatio mentes? \" Penitet ignavos cepti fortassis honoris? \" Cur vox istorum preclaras polluit auras? \" Hosque piget venisse quidem, qui rura solebant \" Vertere, qui curvis incumbere semper aratris,  \" Cunctaque consumunt vertendo tempora glebas. \" Et modo, cum nequeant sua semina tradere sulcis \" Aut conculcato pedibus procumbere musto, \" Nocte dieque moras istas casusque queruntur, \" Inque domos migrare suas fortasse minantur. \" Vile genus hominum, quorum miserabilis etas \" Presenti populo nullam gerit utilitatem. \" Semper agant semperque gemant, semperque susurrent, \" Quos mores retinere suos infamia non est. \" Nos bonitas clarumque decus seiungat ab illis \" Et maneat nostro concordia semper in actu, \" Sitque carens odio qui vult servire Tonanti. \" Si decies prohibetur iter, decies repetatur, \" Et via temptetur crebro dum perficiatur. \" Ut tenuit semper, teneat reverentia nostras \" Curas, quod gerimus quia totus conspicit orbis. \" Si cito non aderit quod gestit nostra voluntas, \" Tactus ob hanc causam maneat formidine nemo. \" Quod prohibet mensis, reddunt tibi namque kalende, \" Cum Deus oratur, quod ab ipso forte vetatur \" Tempore non modico, cito prestat luce sub una \". His populus dictis avidas ut prebuit aures, Gaudia succedunt; turbatio, cura recedunt. Moxque, sequente die Domini, Raimundus ibidem Berengarius adveniens paucique suorum Iungit amicitiam. Pisani federe gaudent, Et socium factum prestanti munere donant. Dumque moras faciunt, morbosa peste fluente, Multi de populo fatis superantur iniquis. Hicque Caim moriens mestos cum presule cives  Dimisit, patrias non totus iturus ad oras. Dumque premunt lacrimas, Pesulani montis alumpnus Cum sociis centum Vilielmus castra subintrat, Armigeris ratibus vectis turbaque pedestri, Quos quasi viginti duxere per equora naves. Ast Aimelricus generosa stirpe creatus, Quem Nerbona colit dominum patremque ducemque, Viginti vitreas fertur duxisse per undas Naves, et celeri venisse per equora cursu. Hos quoque Raimundus, cui Balcius extat origo, Cui solitos Arelas impendere certat honores, Atque secus Rhodanum castris reperitur et arvis Dives, consequitur, laudato milite plenas Ducens septenas undosa per equora puppes; Raimundus sacrista potens, et strenuus actu, Militie titulis et qui fulgent Arelate Cum propriis totidem vitreas venere per undas. Tales Rusilium proceres lateque Biterre Et cum Nemausis Provincia tota sequuntur. Quanta per Ausonias transibant agmina terras Cum Romam venturus crat terrendo senatum Cesar, cum domitos Gallos iura ferre coegit, Tanta Girundenses venisse feruntur in agros.  ',\n",
       "  'Anon',\n",
       "  'Maiolichinus'],\n",
       " [' 2 Libro II   Postquam Lambertus, consul, de consule factus Dux equitum fuerat, multos et classe locarat Gallorum, venisse virum de nave ferebant, Qua fuit Albertus prudens Ugone creatus, Alberius cui rector erat: mulam venientis Non modicus sudor faciem quoque texerat eius. Progenuere virum sed que loca, quive parentes, Vel quod nomen habet, lector, vitabo referre. Ipse tuos narrat subisse, Minorica, portus Navem predictam, ventorum flamine pulsam, Quam rectam tenuisse viam referebat, equosque Vi sitis oppressos vini potasse liquorem; Defecisse tamen quosdam, pontoque relictos Ad loca dicta priusquam posset prora venire; Retulit et Mauros ad se venisse rogantes Et qua sint patria, quas et gradiantur ad horas. \" Bozeam petimus, Ianuenses \", navita dixit. \" Sed quoniam Pisana manus nos acriter odit, \" Precipue vestrum quoniam retinemus amorem, \" Hanc formidantes, vestrum contingere litus \" Cura fuit; factos pro vobis fugimus hostes, \" Nam nec habere valent nostras in prelia vires. \" Offendunt quoscumque queunt sine crimine nostro, \" Pervia Sarnigenis sunt equora cuncta, novosque \" Gentibus incipiunt tumidi monstrare furores.  \" Vidimus hos sulcare fretum, nos utque putamus \" Qualibet in vestra figunt tentoria ripa. \" Ledere sive volunt nos, aut bona tollere nostra, \" Auxilium nobis celeres prebere rogamus. \" Scimus eos venisse quidem, multumque timemus. \" Mox aiunt: \"vos fertis equos\" qui forte fremebant. \" Rustica turba refert, facit hoc irata frequenter, \" More suo fremitus agitans faciensque tumultus. \" Hostis quas habuit properanter protinus alnos \" Intrat, et intentis nos perturbare sagittis \" Cogitat, et toto mentitos increpat ore. \" Nostra manus confisa satis non segnius arma \" Sumpsit, et in steriles accenditur ira furores. \" Namque citus veniens ventus, dum vela tetendit, \" Mox Baleare dedit nobis contingere litus, \" Egressique virum quendam per rura vagantem \" Vidimus, et quantum locus ille remotus ab urbe \" Sit percunctamur: \"viginti milia\" dixit. \" Hausimus et laticem. Laticis data copia nobis \" Ut fuit, inque ratem vasisque virisque receptis, \" Equora crispavit zephirus, zephiroque favente \" Fleximus adversum Sardoas carbasa ripas. \" Sulcantes igitur pelagus venientia vela \" Aspicimus. Dubitare prius, sed ad arma videres \" Veloci cursu iuvenum properare catervam. \" Quoque modo properant, quos terret aquaticus auster, \" Ob pluvias operire domos, male tecta supellex \" Imbris ne pereat pro mole cadentis in edes, \" Sic gladios clipeosque suos sibi tollere quisque \" Certat et intente sinuatos preparat arcus. \" Accedunt gemine tanta cum pace carine,  \" Quanta, cum repetunt bene cognita pascua, tauri \" Ire solent quando nullas agitantur in aras, \" Et velut incedunt iuncti delphines in undis \" Quando natant aliquos non dando per equora saltus. \" Noscimus; accipiunt nostras referuntque salutes; \" Gaudia precipiti posita suscepimus ira. \" Qui postquam didicere viam quam fecimus ipsi, \" Quidve laboris honus passi fueramus ubique, \" Sardinie demum sese docuere relictos. \" Prevaluit boreas zephiro, bis quinque diebus \" Per mare nos vexit, ventoque cucurrimus illo. \" Nemo tamen didicit qua tunc foret insula parte, \" Quove loco pelagi steterit Maiorica post nos. \" Interea ventus Libicis progressus ab horis \" Vela tenens, possedit aquas, salientibus undis, \" Qui Barchinone nos usque reduxit ad amnem \". Talia dicentem populus circumstat, et omnes Si valeant, querunt, vel si paciantur amici. Incolumes postquam vir dictus retulit omnes, Murmure cum leto redeunt in castra caterve. Iamque dies geminus bis sex geminaverat horas, Cum venere decem Pesulano monte carine, Que Pisis fuerant augusti tempore misse Ad quoscumque tenet latos Provintia fines. His inerat clarus cum consule Vido Dodone, Ordine levita, trivii ratione peritus, Illius ut patrie traherent ad prelia gentem. Ethera carpebat solito molimine Phebus, Et splendor solis nondum tenuaverat umbras, Cum data signa sonant iussos motura recessus. Iusserat antistes ponto dare verbera classem, Ac Barchinonam recto procedere cursu.  Iussa probant omnes, nec inerti scandere passu Naves incipiunt, quos non sua vota retardant. Sed velud examen per apertas advolat auras Quando cupit patriam mutare locumque domumque, Sic Pisana manus, rapidis aquilonibus usa, Remige quam celeri dictam properabat ad urbem. Solis ab occasu modicum porrectus ad equor, Defessas solito qui frangit et accipit undas, Mons Iudeus, ibi plana divisus ab urbe, Non euris puppes calidisve tuetur ab austris; Cuius ab Hispana facie ratis appulit omnis. Ut terras subeunt Latie reliqueque carine, Litus ad usque tuas agmen navale tenebat, Lubricaris, aquas. Ripe cecidisse feruntur, Tanta premebat eas magne violentia classis. Hic, ubi mutavit lites concordia pace, Adveniunt sancti celeberrima festa Mathei. Tota nocte sonant tunc tintinabula cuncta, Vota vovent omnes, precibus votisque Tonantem Sollicitant, cuiusque colunt sollempnia sanctum. Candelas tunc quique suas in cuspide ponunt, Aut ubi lux clare populo videatur ab omni. Tertia lux aderat cum planum possidet equor Ventus, quem boream nequeas eurumve notare; His medius fuerat. Tundunt sua pectora naute, Totque dies vacuos cum noctibus ire queruntur. Iamque, die medio, sublimis in ethere Tytan De medio cursu terras spectabat et undas, Cum Catalanensi de litore classis abibat. Quos fremitus prebere solent stridentibus alis  Treicie volucres resonantes cantibus altis Agmine cum facto repetunt alias regiones, Non alios Pisana manus, clamore sequente, Exagitando suos et candida vela parando Solvendoque rates, summis cum vocibus edit. Quattuor insignes tunc precessere carine. Signiferi Francardus erant rectorque Pyrenes. Ordine consequitur renovato cetera classis. Lux abiit, nox atra subit, qua denique lapsa, Vel media, vel plus media, contraria retro Flamina vela dabant; qua causa previus heros Ad Tramaricis sua flexit carbasa litus. Inde Terragonam petit ac deserta Salodi. Hic zephirus perfringit aquas et fluctuat auster, Pervia. Sed zephiro plus sunt sinuantia saxa. Partibus unda tribus circumdat pontica rupem, Arbustis tegitur brevibus que spectat ad eurum Planities, alte rupis de parte levata. Regis in hac Karoli dicuntur castra fuisse, Cum duro quondam certimine stravit Hyberos; Hic hyemes Franci tolerasse feruntur et estus, Quando prestanti ceperunt robore terram. Post lapse noctis spatium lucisque sequentis Tempora consumpte, qui primus adhesit in illis Saxis signa dedit vigiles quos gesserat ignes, Ne foret incertus locus hic dubiusve carinis.  Hic postquam cunctis lux exivit edita terris Et latices hausere viri, conscendere pontum Incipiunt; vitreas velis remisque procellas Mota secat classis; iam terra relicta videri Non clare poterat, cum montibus abdita celsis Cumque, labante die, subiere crepuscula noctis. A recto cursu non recta retorxerat aura Vela; laborantes turbantur in equore naute, Et se conclamant invitos ire Dianam. Interea noctis tenebris aurora remotis Clara resurgebat, cum turbida nubila venti Ducere ceperunt ab ea qua labitur hora Publica lux mundi: mox flectere vela Salodon Plangentes satagunt, tantus vehit impetus ipsos. Huc simul ac venere rates iam nocte propinqua, Prosiluere viri latices haurire recentes. Ecce Mohabite pedibus vectantur equinis, Ut solet a nervo dimissa venire sagitta Quando suum Parthus sinuat violentius arcum, Qui captos pariter capientes fluminis undas Ad proprios longo duxerunt calle penates. Sed timor Alphee gentis de nexibus ipsos Eripuit, rigidos qui concutiebat Hiberos. Ergo per eventum, quoniam male contigit illis, Iussio fit reliquis ne progrediantur inermes. Dumque moram faciunt vacuisque vagantur in agris Agmina, murmur erat. Lucenses denique turbe, Dum pelagus tolerare minus fluctusque valerent Et nimium vellent sociis famulantibus uti,  Unaquaque die populum replere querela. Tunc Pisanus Ugo venerabilis archisacerdos Cum dextra pariter sublimia protulit ora, Qui tali populis sermone silentibus inquit: \" Sola Dei bonitas, qui cuncta gubernat habetque, \" Pisanos cives tantos animavit ad actus, \" Expertique suos nullos ad bella vocabant. \" Nullus ad ista fuit toleranda venire coactus. \" Sponte petebatis nobis, gratisque dabamus \" Quesitas vobis, non vilia munera, naves, \" Et ratibus vecti socii veniendo fuistis. \" Dicite, Lucenses, si quis vos forte coegit. \" Quippe nec inviti voluistis ad ista venire, \" Unde nec invitos quisquam retinere valebit. \" Pisanos solos discedere nempe vetamus, \" Non aliis prohibentur equi, non victus et arma. \" Accipiant ea quando volunt, sanique recedant, \" Securosque petant ductores, hique dabuntur, \" Cum quibus Italicos poterunt pertingere fines \". Ut memoratus herus post talia dicta resedit, Taliter incepit Vido supra memoratus: \" Cum Deus in cunctis preponi debeat actis, \" Nec pietas nec amor pietatis habetur in ullo \" Qui pro mundano tantum contendit honore. \" Certet honor mundi, certet sapientia quenam \" In mundi rebus Domini simulavit amorem, \" Pretulit atque Deo perituros semper honores. \" Unde Dei vestras cernendo potentia mentes, \" Contra quem vestrum toto fuit agmine murmur, \" Hunc dignum vobis largitur temporis usum. \" Hebreis populis murmur fuit instar ad huius,  \" Quando memorabant repletas carnibus ollas \" Et cuncta simul dilectaque grataque multum \" Fercula, Niliacis quibus utebantur in horis. \" Nam cuperent sevi potius iuga ferre tyrampni \" Servilique magis sub conditione manere, \" Quam prohibere gule vicium dapibusve carerent. \" Ille vetus populus residet sub pectore vestro, \" Illius et mores animosque viasque tenetis. \" Vulnere de tanto qui gestit habere salutem, \" Peniteat voluisse malum properanter iniquum. \" Desipuit, quicumque fuit, ceciditque retrorsum, \" Magnum nempe scelus nostro commisit in evo. \" Quod teneamus eum quisquam fortasse queretur. \" Preter Pisanos, quicumque recedere querit \" Quando libebit eat, sua tollere non prohibetur, \" Nulla recedenti sane violentia fiet. \" Ad patrios igitur cum venerit ille penates, \" Et medius turbe claros narraverit actus, \" Hoc de se vero poterit sermone referre, \" Quod numquam vidit quos tantum fugerit hostes. \" Nos mare, nos ventos pondusque feremus aquarum \" In Domini factis, nec habebimus inferiores \" Militie socios, quos Gallia tota sequetur; \" Namque, favente Deo, venient multo meliores \" Una nobiscum belli superare labores \". Tunc Vilielmus ait dominus montis Pesulani: \" Hos discedentes numquam doleatis abire. \" Pro quocumque viro, qui nunc fortasse recedit, \" Quattuor ob pugnam dabimus non deteriores \" Qui pro sex horum poterunt tolerare labores \". Surgens Henricus post hec Vinithone creatus Ortatur cives bellum firmare, priusque  Una cum patribus sese iurare fatetur. Dicta fides sequitur, iurant equaliter omnes. Iam secus occasum Phebi clarissima lampas Candentes vitreo tinguebat in equore flammas. Nox ea consiliis est postquam tota peracta, Et Phebo radiante dies iam clara micabat, Ecce recedentes equitum peditumque phalanges, Dimissis ratibus, proprias certantur ad edes. Italice redeunt, dimittentesque Salodon Inmeritis referunt convitia plurima nautis. Preterea factos habiles ad carbasa cantus Et quoscumque solet sociis in puppe referre Navita sermones deridet rustica turba. Interea quod hyems variaret sepius auras, Illeque perpaucis ratibus tutamina portus Prestat, et ignote non est fiducia genti, Ad Barchinonam classem deducere cunctam Constituunt, hyemare simul meditantur ibidem. Festa dies aderat Domini de nomine sumpta, Prebebatque leves flatus lenissimus auras, Quo Latie puppes use cum remige ventis Urbem navigio celeri tenuere Pyrenam. Post ubi Pisanis fuerat iam copia terre, Exonerare rates properant; pars maxima quarum Sistitur in terris, trahitur quoque luce sub illa. Nox quascumque sequens liquidis invenit in undis Intolleranda feri ponti facit ira solutas, Nec potuit requies prius equoris esse procellis Quam sexagenas vis fregit pontica naves. Hinc turme flebant, presul patresque dolebant,  Et pro posse suo non fractis subveniebant Navibus, in siccam donec traherentur arenam. Non alio luctu vidui gemuere Sabini, Cum sibi dilectas detraxit Roma puellas. Inter tristitias autem quas forte ferebat Alpheus populus inprovisosque dolores, Non oblitus erat quicquam de rebus agendis, Nec potuit clare mentis postponere sensus. Ligna legi iussit que congrua navibus essent, Ac tabulas quas dira maris proiecerat unda. Ingenium docti populi mox tecta ratesque Nocte dieque parat, complere videlicet illas Omnimodis satagit quas fregerat equoris ira, Atque modis paribus turres, tormenta per omnem Constituunt campum, Balee factura ruinam. Terque decem Pisas sutuuntur adire biremes Per quas incepto reparentur robora bello, Nisibus ut totis classem clarosque replerent Militie numeros note per secula Pise. At Barchinone quecumque relicta fuerunt Se diviserunt per plures agmina terras. Pars campum retinet, pars altera venit ad illos Quos habuisse datur supra Provintia fines, Atque Pesulanum montem venisse Levani  Gerardum comitem, clarum virtutis honore, Constat, militie Gotis per facta notatum. Istic bellorum Vallandus splendidus actu, Filius Ugonis Petrus et Rolandia proles Baruciique vigor nec non Vivianus et Abbas Dogmata militie monstrant incognita Gotis. Multi Nemausas, plures veniunt Arelatem, Inveniuntque piam gratamque per omnia gentem, Pisanas acies miro que fovit amore. Hic Ildebrandus Poppus transire volebat Cum scapha Rodanum, sed equo dum forte sederet, Delectavit eum puerorum cernere ludos, Et cum quesitum lapidem mississet in illos, Calcar equum tetigit, qui, dans in flumina saltum, Lucensem iuvenem rapidus submersit in undis. Non lacrime fuseque preces valuere cadenti. Mortuus huius equus cum tractus ab amne fuisset, Pisani iuvenes equitem traxere necatum. Qui socium postquam largis flevere querelis, Antistes clerus populusque valens Arelatis Intumulare virum summo curavit honore. At vice qui comitis Pisana presidet urbe Ugo; militie cui prebent singula laudem,  Agmine qui toto vitam servavit honestam, Astarum ludis et cursibus usus equorum Ac preponendo vincenti premia cursus, Pisanos equites tractabat more Quiritis, Egregiumque virum Catalania tota frequentans Sardanieque comes celso celebrabat honore. Consulis Henrici bonitas nec non reliquorum, Iurgia sive scelus non impunita relinquens, Iustitie normam servavit in agmine toto. Quippe sibi gnari socii dum forte faverent Omnibus equa dabant placidi moderamina iuris, Constituuntque viros totum vigilare per agmen Qui servare queant nocturno tempore naves. Bisque decem servant Balearica regna carine, Paganam rabiem validisque viribus urguent, Et titubare feri faciunt fera corda tirampni. Si bene belligeras pensent nova secula Pisas Per mare per terras geminas extendere vires, Hoc Pise faciunt Romam quod utramque deceret. Quarum signa ferus populus dum spectat Hyberus Ingemit, atque metu visi consumitur hostis. Castraque custodit Pesulani montis amator. Ille prius patrias remeare refutat ad edes, Quam sciat an ob rem seu frustra sumpserit arma. Hoc Catalanenses concussit inedia terras Tempore. Pisani, solitis nil strictius usi Sumptibus, inventos gestantes undique victus Argenti pretio varia quoque merce parabant. Barchinonenses larga bonitate fovebant, Et solabantur inopes mercamine fines.  At presul, custos sincere religionis, Ne sibi commissi caderent vigilanter agebat. Ergo diem nactus gratum tempusque loquendi, \" Arboreas \", dixit, \" postquam perceperat escas, \" Letalis pomi cum sumpsit ab hoste saporem \" Ille vetus genitor, paradisi menibus illum \" Iussit abire Deus, cuius sententia vindex, \" Hoc exosa nefas, pepulit dampnando superbum. \" Omne genus vicii vicio processit ab huius, \" Scilicet invadens hoc ordine posteritatem. \" Intrat in has tenebras mundane gentis origo, \" Primus homo; natos, hinc quos sibi fuderat Eva, \" Livor agit; fratris ferit impia dextra fratrem, \" Qui cadit; ante Deum clamat vox sanguinis eius; \" Solivagus Cain silvas agrosque pererrat. \" Ast subit astrigeras sedes iustissimus Enoch. \" Iustus post illum Noe cum fecerat archam, \" Diluit omne solum nimiarum pondus aquarum. \" Unde cessarunt: octavus prodit ab archa \" Tunc solus iustus: sunt gentes multiplicate: \" Post patriarcharum fuit ordo, deinde prophete, \" Et tamen infernas nemo vitaverat edes. \" Unde Dei pietas, hominum fera funera cernens, \" Ut salvaret eos emisit ab ethere natum, \" Et ne vana forent ea que sacrata canebant \" Ora prophetarum, celi rex est homo factus. \" Sic hominum factor sumens de viratine carnem \" Serviles habitus hominum portavit ad usus, \" Perque suam mortem cum crimine morte necata, \" Captivas animas de gurgite traxit Averni. \" Hac serie Domini salvavit gratia gentes, \" Venit et in cunctam benedictio posteritatem. \" Cuius apostolico dum presidet agmine Petrus  \" Ob fidei sacre confessam credulitatem \" Esse pius meruit celestis claviger aule. \" Ille tenet claves qui rexit in equore naves. \" Claviger ille pius puppis doctusque magister \" Vos in nave sua mundana per equora portet \" Incolumes, puppisque sue vos esse ministros \" Remigio dignos imploret Cunctipotentem, \" Ut possitis eos tutos ductare per equor \" Gurgite quos sacro sacrum baptisma piavit. \" Ergo docete viros kari pia dogmata fratres, \" Ac monitis sanctis a criminibus prohibete, \" Ut valeatis eos ad celica ducere regna, \" Deficiat vobis ut numquam celica merces, \" Quam Dominus solis concessit habere beatis. \" Exemplo Christi, cuius regit omnia virtus, \" Captivos fratres, quos barbarus opprimit hostis, \" Liberet a sevo fratrum pia cura tyrampno. \" Fratribus et Domino quantum debetis amoris \" Premonuit Petrus cum precessore magistro. \" Pro Petro Christus cunctisque fidelibus extat \" In cruce confixus, pro quo Petrus in cruce tensus. \" Fratribus unde suis succurrere nemo recuset. \" Fratres quippe suos Iudas patriarcha, nepotem \" Abraham dilectum de nexibus eruit hostis. \" Hi quibus est licitum feriant mucronibus hostem. \" Vos hominum factor sevo defendat ab hoste \". Que modo sunt scripta sunt pontificalia dicta: Flos levitarum vir nobilis et bene carus Ista satis melius querenti narret Obertus.  ',\n",
       "  'Anon',\n",
       "  'Maiolichinus'],\n",
       " [' Libro III   Quem colit interea tellus Balearica regem, Nazaredeolus Burabe, perterritus istis Confususque novis, in cetum convocat omnes Causas maiores per quos tractare solebat, Consilium quorum plano sermone requirit, Sive Moabitis obtarent tradere terram, An cum Pisanis aliquod coniungere fedus. Respondere viri soliti maiora referre, Et qui noscuntur aliis precedere sensu: \" Turba sumus famulique tui, quidqumque videtur \" In ratione tibi constantius eximiumque \" Nos sine lite sequi confestim disce paratos. \" Respice nulla minus populum quam bella volentem, \" Sedula velle suo tua gens in pace maneret. \" Hec nam culpa gravis dedit orrida scandala nobis. \" Undique gauderent Baleari subdita regno, \" Si cum Pisanis nos fedus habere daretur. \" Inque Moabitis nobis fiducia dare \" Non bona speratur, tantum convitia possunt, \" Quos tolerare gemunt Hispane gaudia terre. \" Respice Dertose quid agant, quantaque Dianam  \" Clade premant. Nostras miseratus mente querelas \" Accipe. Captivos omnes perquire, reserva, \" Et melius tracta, quia pax et vita per illos \" Ac regnum pariter tibi concedetur honorque. \" Ast his non habitis, numquam sedabitur hostis. \" Christicolis quoniam, qui pro pietate laborant, \" Kara magis essent captorum corpora fratrum, \" Quam videatur eis regnorum copia centum \". His habitis verbis, regis precordia diri Contremuere metu. Captivos protinus omnes Precipit inquiri passim veteresque novosque. Tunc de Bonomuli rate, quos sors, ventus et unda Vexerat invitos, curat tractare decenter. Pisanis etiam cartam pro tempore scripsit, In qua pontificem, patres, populumque salutat. Qui, quamvis prorsus diversum mente retractet, Ditia verba tamen mittens, nil supplicat hosti, Sese constantem sine proditione fatetur. Ampurie comitem testem narrantibus addit, \" Hyerusalem \" dicens \" peregrino dum petit actu  \" Conspicue fame notus comes Ampuriensis, \" Eius illesam servavi federe terram. \" Nullum quippe virum bello seu pace fefelli. \" Si Pisana manus mecum vult pacis habere \" Federa, continuo captivos reddo, measque \" Dono paratus opes. Linquat mea regna, suasque \" Inpensas reddam pariter pretiumque laboris. \" At si forte suis armis contendere mavult, \" Bellandoque meam putat armis vincere gentem, \" Usu communi cum se defendat ab urbe \" Urbs, nichilum faciunt eius mea regna labores \". His intellectis cartam piscina recepit. Et respondetur brevibus sermonibus illis, Qui tales apices et talia scripta tulerunt: \" Nil tolerare mali portantes nuntia lex est. \" Communis iuris debemus moribus uti. \" Non possunt iungi cum vestro federa rege, \" Nec fas est nobis ullam sibi reddere pacem, \" Ni prius in vestras conduxerit agmina terras \" Rex, qui, cuncta videns, iudex cognoscitur equus. \" Illuc decernat iudex pius ille patenter \" Inter nos, cunctos hominum qui iudicat actus \". Preter eas, alias fertur mississe lituras, Queque suis notis mitissima verba reportent. Privatis etiam multum promittit in illis, Albicione satum verbis commendat amicis. Utque memor maneat rogitabat federis eius, Quod cum Mugeto genitor retinebat, avusque Iunxit, et ex multo tenuit iam tempore Petrus.  Rex fuerat Balee Mugetus rexque Diane. Invasit Sardos rabida prestantior ira. His igitur propere violento marte subactis, Omnia cum plano tenuit montana tyrampnus. Huius Pisanus populus mox concitus actis, Conscendit celeres sulcantes equora naves. Tunc non erubuit quisquam de nobilitate Viribus equoreas remos urguere per undas: Si levis extiterat vel tota remanserat aura, Optatos cursus robur commune replebat. Qualiter accipitres pavidas peciere columbas, Et sicut Libici poscunt armenta leones, Tunc cum longa fames in viscera serpit eorum, Sic sic accelerant, sic poscunt bella frementes, Quos Pisana manus sevos ductabat in hostes. Sardinie postquam potuit de litore cerni Eximius populus Pisana ductus ab urbe, Rex cum gente sua terras fugiendo reliquid. Heroes igitur, suscepta laude triumphi, Victores redeunt, fines intrantque paternos.  Post illum vero Mugetus concitus annum, Perduxit Mauros in regnum Calaritanum, Et numero primos excedunt posteriores. Robora murorum, quo scilicet edificante, Subsidiabantur Sardorum corpora muris, Quique die tota latices et saxa ferebat, Impositus muro murum pro caute replebat. Multi Sardorum, quos presserat ira tyrampni, Tam seve mortis penas habuisse putantur. Hinc pisanus honor, vires animosque resumens, Non dubitat vitreas iterum transire per undas. Post ubi Pisani terras camposque tenebant, Rex fugisse datur. Multis nam marte peremptis, Barbarus abscessit capto cum coniuge nato. Erepti Sardi iugulis tutique fuerunt. Indeque tota manent Pisanis subdita regna. Sardinie docuere senes quecumque retexo.  Quesiti Sardi non hec tibi vera negabunt. Hunc regis puerum, qui captus dicitur esse, Pise victrices regi misere Lemanno. Huius avum Petri princeps generosus amabat, Qui dedit Alpheo, quesitum munus, Alanta. Reddidit hic patri, karissima munera, natum: Albicio quare successoresque vocantur Mugeti fratres successorumque suorum. Ergo quisquis habet regum Balearica sceptra, Ex hoc affirmat se fratrem seminis huius: Albicione satus Petrus, viget eius origo, Pisanos ornans probitatis imagine cives. Talia cur memorem Petrus et Balearicus auctor Causa fuit. Sed nunc ad propositum redeamus. Instabant Martis redeuntis tempora mensis, Cum fines Ebusi misse subiere carine. Mox avidi de plebe viri predeque cibique Intraverant casas, nec scuta nec arma ferentes. Dumque saraceno satiant sua corpora musto, Dum passas uvas, dum gaudent mandere ficus, Nota per arva loci veniunt equites Ebusini. Incautos homines per devia rura vagantes Detruncant gladiis, vario quoque vulnere perdunt. Tunc Petrus Ascensus, gestans sibi credita signa, Audaces socios in dirum concitat hostem. Ante rates certamen adest. Pugnant Ebusini: Huc equites peditesque ruunt fluctuque resistunt, Invictosque viros totis conatibus urguent,  Et non permittunt pedibus contingere litus. Insula parva iacet, non longe solis ab ortu, Que brevibus scopulis Ebusinam respicit urbem. Illa revertentes recipit de marte galeas. Sed, recreante parum iuvenilia membra quiete, Indubitata viri repetunt sinuamina portus, Inventasque rates capiuntque fugantque trahuntque. Captos inde viros, Ebusina plebe vidente, Ad sociosque ferunt manibus post terga ligatis. Insula stat pelago, partes ea respicit austri Adversum Libicos, cui Frumentaria nomen. Hanc Latii petiere viri properanter, et illic Ceperunt victus placide solatia prede, Perpinguesque boves, quibus et vesci potuissent, Ni pia Christicolis prohiberent tempora carnes. Lustrantesque locum, quo gens inamata latebat, Abstractos caveis Ebusum duxere ligatos. Hic tunc Lamberto nec non Erithone iubente, De duodenorum numero qui prememorantur, Ascensus Petrus naves divisit, et una Solis ab occasu cepit committere pugnam. Cum sexagenis igitur comitantibus illum, Signifer Ascensus, properans exire carinam, Hostiles cuneos multo cum robore poscit. Tunc Arduinus generosus Luciniensis Exortans socios in prima fronte resistit. Ast Ebusitanus iaculatus signifer astam Hosti terga dedit, socios fugiendo relinquens, Nec lesit quemquam iaculum tellure relictum. Luciniensis eum saxosa per arva sequtus,  Hunc cum haud varo iugulavit protinus ense. Rursus accedunt equites aciesque pedestris Altera, que furtim post grandia saxa latebat. Tunc Eritho consul sociis adiutus in hostes Fertur, et obstantes telo gladioque repellit. Sic perturbati cuncti fugiunt Ebusini, Quos fera bella gerens victor, Lamberte, fugasti, Ut fugiunt aquilas celeri levitate columbe, Et sicut pavidi fugiunt astilia pisces. Urbis ab arctoa tua pugnant agmina parte, Sacrilegosque petunt sternuntque viriliter hostes. Dumque tuum validis curvares viribus arcum, Per Mauri pectus missam transire sagittam Tu facis. Ille ruit, vitam cum sanguine fundens. Ducitur in longum tendens a litore collis, Qua Petrus Ascensus Maurorum terga premebat. Passibus haud lentis capit hunc gens barbara collem, Cui plus quam deceat via longa videtur ad urbem. Sed dum Pisanos ictus et vulnera sentit, Saucia cristati transcurrit robora montis. Pisani cunei, dum totis nisibus instant, Innumeros Mauros diverso funere sternunt. Iam quoque turba sequens ad portam venerat arcis, Quam locus ille gravis tepido demonstrat ab austro. Hic miles quendam, quem Luciniensis alumpnus  Straverat, obstantem nudo transverberat ense. Armiger hic Erithonis, fortiter hostibus instans, Occubuit moriens, saxi prostratus in ictu. Inde, Saraceni postquam cum turribus altis Muros conscendunt et grandia saxa remittunt, Agmina tuta petunt que sunt sita tecta sub urbe, Solis ab occasu, qua plebs residebat inermis. Inde viros puerosque trahunt matresque nurusque, Pannos et vestes de captis eruta tectis, Ruriculasque domi tuta statione morantes, Et de captura modicum vel nil meditantes, More gregis pecudum captos ad litora ducunt. Martius ex toto cursum compleverat, atque Aprilis fuerat media iam parte peractus, Cum, tepidis zephiris sevum. Volventibus equor, Carbasa convertunt naute quo vota ferebant. Quos dum precipites vitree vehit impetus unde, Ventus anhelantes Balee perduxit ad horas, Suspenduntque leves remis super equora naves. Interea Baleam geminas misere galeas, Uberto genitus Lambertus consul in illis, Que celeres adeunt portum de nomine Pini, Semimaremque vident servantem litora regem,  Qua veniant causa muliebri voce rogantem. Ast equites peditesque manent ad litus, et arcus Incassum tentos toto conamine flectunt. Ipse iubet cessare suos, et ledere nullum, Alpheosque rogat tutos exire carinas. Consul ad hec: \" Est vestra fides male credula nobis, \" Possumus unde minus nudis confidere verbis. \" Nos damus, ecce, fidem, quam non retinemus inanem, \" Quaque data nostram tutus intrare carinam \" Rex poterit, sua verba loquens, sanusque redire \". \" Iustius \", ille refert, \" est regis credere dictis. \" Qui si quem iubeat solo sermone venire, \" Tutior ire potest, cum constantissima regum \" Singula verba fluant: dictis incredula vestris \" Cernitur esse fides, quorum temptavimus artes. \" Si tamen e rebus quicquam vos sumere nostris \" Vultis, in hoc portu tuta statione manete, \" Queque dari vobis mox regia cura iubebit \". \" Ista suum \", dixit consul, \" vocat insula regem \" Te. Plures nostri stant sub moderamine iuris, \" Et Balea melior que vis consistit earum. \" Vestra fides nichil est; Machamatus ebrius ipsam \" Edidit; at nostram sanctorum gloria Christus. \" Unde satis melius nostris se credere posset \" Simplicibus dictis quis cui sanissima mens est, \" Quam iuramentis valeamus credere vestris \". Rector ad hec Balee: \" Nimium dubitare videris, \" Et trepidas vano te concutiente timore. \" Sed ne turbentur bona que tractanda videntur, \" Et timor absistat, saltim per scripta loquamur,  \" Ut notum postquam fuerit quod poscitis ipsi, \" Hoc complere queam quod gestit vestra voluntas, \" Quatenus esse boni semper valeamus amici \". Consul agit: \" Socius, scriptor quoque longius absunt. \" Ibimus, et nostros trutinantes pectore sensus, \" Ambo notis dabimus, quodcumque decebit utrumque \". Mox efferre rates et in ordine ducere remos Precepit nautis validasque ferire procellas. Sicut aves, quas penna levis portare per auras Concessa levitate solet, sic accelerantes Ad reliquas certant gemine remeare carinas. Quas postquam pelagi solitus labor egit in unum, Intravere tuos tutos, Capraria, portus, Inque Polentinos lux evehit altera fines Heroes Latios. Vallis didicere coloni, Qui fugiendo suas spoliarunt victibus edes, Linquentes vacuum gregibus pascentibus arvum. Hinc Latios iuvenes invita Minorica quamvis Suscepit. Predam sparsi per rura gerebant. Hos contra veniunt equitum peditumque caterve, Inque fugam versos ad naves usque regirant, Et mittunt lapides in eos densasque sagittas, Et non permittunt portu remanere quietos. Defuit esca viris Latiis, pastumque dederunt Hee quas rus habuit vulse radicitus erbe. Utque famem nequeunt equites plus ferre marini, Ad Barchinonam statuunt convertere cursum. Nam suspectus erat de proditione tyrampnus, Quare mens ad eum redeundi nulla manebat. Eolus interea dirum de carcere ventum  Solvit et inmitem, nomen fuit Africus illi, Albentes faciens has quas crispaverat undas. Intumuitque fretum: turbaverat aura profundum, Divisitque duas tempestas ipsa galeas. Quassata in toto fleverunt agmina campo. Ascensus Petrus nauclerius extitit isti, Filius Alberti fuit Ugo preditus illi, Que Mare manducans vulgo fuerat vocitata, Cuius presculptum gestabat prora draconem. Portibus ast alias susceperat insula puppes. Tempus ut admonuit, venti residente furore, Pertemptant iterum vitreas sulcare procellas, Nam transire fretum communia vota monebant. Postquam leta dies illos ad litora duxit, Narrantes casus tantique pericla laboris, Nuntia victrices mittunt felicia Pise, Que cursu propero bine duxere galee, Tripudiare quibus lete cepere phalanges. Unam, ni fallor, tecum, Maceline, gubernat Consocius Guido qui Presbiter est vocitatus. Rexerat ast aliam laudati cura Baronis. Ad Catalanenses postquam ratis utraque ripas Venerat, et belli narrantur utrimque paratus, Venturosque cito socios dixere liture, Romana missus venit legatus ab urbe Boso, pater sancta reverendus religione, Et domino pape virtutum culmine carus. Tunc et apostolici postquam benedictio cunctis Dicta fuit populis, tendunt ad sydera palmas, Et dominum celi pleno cum pectore laudant, Qui dignetur eis tantum salvare magistrum  Militie, per quem benedictio celica fertur, Ac coniungit eis socios sancti famulatus. Non aliis votis patres populusque Quiritum Aspexere suos civilia iura ferentes, Lata decem tabulis cum sunt primordia legis. Frigoribus lapsis, redeunt ad leta caloris Tempora. Lene fretum placida distringitur aura, Et valide classis pars Sarni ducta per undas Advehitur, propriis transcurrens nisibus austros, Atque resistentes superans cum fluctibus auras. Urbs igitur Ianue celeres mirata paratus, Livida demisso spectabat carbasa vultu. Massilie tandem levibus comitantibus auris Intravere sinus. Misso post terga Lirino, Bis quadraginta sulcantes equora prore, Iam quas precipites Rodani vehit impetus undas Scandere festinat multo cum robore classis. Divitiis Arelas pollens hanc sumptibus implet, Usque Magalonam rapidus quam propulit Heurus. Eoliis Boreas tandem procedit ab antris, Et famulatur ei totus cum nubibus aer. Arripit unda rates, ventoque ferente secundo In Catalanensi consistunt litore puppes. Fratribus occurrunt fratres, natisque parentes, Amplexuque dato post oscula iuncta vicissim, Quid cari faciant vite solatia querunt. Gaudia non fuerant matronis tanti Sabinis Cum precesserunt coram genitoribus olim, Natos Romulea gestantes gente creatos,  Vota patrum natos quanta pietate tenebant, Et nati quantum placidos strinxere parentes, Et quantum fratrum tenuerunt colla lacerti. Visibus Alphei carorum laetificati, Ducere robusto ceperunt gaudia motu. Cumque suo cursu maius vel iunius essent, Ecce Dodo consul castris accessit et Atho, Quos cum tripudio cuncte videre cohortes. Sedis apostolice missas a patre salutes Constanti tum voce ferunt, seriemque laborum Qua tardi veniant dicunt et in ordine causas. Tum cetum tenuere patres: papalia iussa Boso pater peragens precepit ab omnipotentis Invictique Dei, qui condidit omnia, parte Perque pii Petri sacrosanctos famulatus Et domini pape Paschalis in Urbe secundi, Ut Christi famulos, per quos pia signa tulerunt, Quos baptisma facit Domini quoque regula fratres, Eruat a sevis fratrum pia cura catenis. Talia cunctorum, cetus turmeque probantes, Intravere rates pelagus sulcare paratas, Quas tunc quingentas numerarunt scripta carinas. Presul Pisanus, quem maxima cura trahebat Ad captivatos acies perducere fratres, Vela dedit pelago, primus transitque Salodon, Hinc ad Dertose fluvium pervenit Hyberum, Huius militie primus quia signa levavit Pisanosque duces tantos animavit in actus. Tota sequendo patrem classis comitatur euntem,  Nongentos equites undosa per equora portans. Replet Hyberus aquis classem. Socialia pacta Cum ducibus proceres firmant, firmataque iurant. Lapsaque iam fuerat paucorum meta dierum, Cum dare vela parant ventis aquilone levatis. Ardua sed postquam laborantes equora pulsant, Lenior ingressas pontum vehit aura carinas, Nocte quibus tota cursus dedit illa secundos. Sol erat incipiens per iter conscendere celi, Quando Colubrarem viderunt agmina montem, Cui, quibus est plenus, nomen tribuere colubre. Accelerant: latet hic, cum mox saxosa videtur Insula, Tirenis que circum cingitur undis, Spectans Hesperium lapidoso vertice litus. Hanc Ebusum memorant. Urbi dedit insula nomen. Portus in hac magnus, magnum vicinia dicit, Qui valet innumeras spatiis servare carinas. Cernitur Hispane de partibus esse Diane; Hinc tenet illa caput, quo fert sua plaustra Bootes; Pandit in occiduum dextrum latus insula solem, Atque latus reliquum surgentis solis ab axe; Quique nec occasum nec prorsus spectat ad austrum, Occiduas finem non recte gestat in horas, Cunctaque saxosi cingunt campestria montes. Germinat innumeras erbas cum fructibus arvum; Mel satis, et dulces fluitant e fontibus haustus, Ordea multa gerit, vites quoque terra feraces. Finis ad occiduas qui non bene respicit horas  Mille quater passus Ebusina distat ab urbe. Eximii colles, plani spectacula campi, Intrepidas arces et menia tuta dederunt. Unda sinum grandem, gelidam que spectat ad Arcton, Queque superstat ei duplex dedit insula portum. Circumquaque fluunt latices e fontibus orti Dulcibus, erba viret, calami iuncique palustres. Celsior a medio porrectus in aera collis Exhimias altis habuit cum turribus arces; Ardua sed triplices circumdant menia muri; Subsistunt muris fovee de monte cavate; Ista duodenas habuerunt menia turres. Arcus ab his quantum poterit portare sagittam Turrigeri stabant montano robore muri. Dificiles aditus prebebant invia saxa. Hinc quantum forti bis missile mittitur arcu, Cernitur exterior descripte circulus urbis, Turribus et forti circumdata menia muro, Cuius fossa triplex inmania robora cingit. Fossa redundat aquis, quas attribuere paludes. Urbis et in summo fuit arx a partibus austri, Mons foris equoree pulsatus viribus unde, Iuxta quem dederant largos sinuamina portus. Altera pars montis, quem nempe recisa videtur Solis ab occasu, foveas descendit ad imas, Inde suburbanas descendens aspicit edes. Sed triplices fovee gelida non prorsus ab Arcto Usque tenent pontum, pontusque tuetur ab Euro Menia cum grandi posito super equora saxo.  Erectum paries saxum secernit ab urbe, Incipit a portu, protensus desinit illic Quo mons proruptus subiectas spectat in undas. Turriger hinc murus summas ascendit ad arces Duplex, et triplici tutus munimine fosse. Bozee flores et flores gentis Hybere Tutantur validis Ebusinam viribus urbem. Huius militie princeps a rege secundus Fertur Abulmunzer, fuerat cui tradita terra. Vir fuit ille ferox, captivus ab urbe Girunda, Qui post se versus, Christi baptisma negando, Vernula fit Sathane, quo non crudelior ullus.  ',\n",
       "  'Anon',\n",
       "  'Maiolichinus'],\n",
       " [' Libro IV  Nox erat incipiens, precesserat Hesperus astra. Alphee venere rates. Ebusina iuventus Inter conseptos stabat densissima muros. Bucina repletur flatu, lituique, tubeque: Tota sonat classis. Conclamant civis et hospes, Sed Latia superat clamor de gente levatus. Spicula crebra ferunt missos a menibus ignes. Phebus ab equorea postquam processerat unda, Clarueratque dies, populis pugnantibus aptus, Circumstant acies, ponuntur in ordine castra. Plurima vallis habet tentoria, plurima collis. Transcurrit campos celeris Pisana iuventus, Invaditque suos non pigris gressibus hostes. Saxa volant ritu pluvie de turribus altis, Tela sudesque terunt propiores menibus hostes.  Dificiles aditus per dura pericula fosse Pisane subeunt acies, portisque sub ipsis Non trepidant gladiis duros concidere Mauros. Ardescunt animi. Pugnantes cominus instant. Ictibus assiduis clipei galeeque teruntur. Nec prohibere valet torax penetrantia tela; Vulnus et interitus passim sanguisque redundant. Nox postquam veniens ferventia bella diremit, In sua Pisani redeunt tentoria fessi. Sed remeante die, turmisque petentibus arma, Machina construitur, sapientum viribus acta Artificum, turres feriens que dissipet altas. Tunc, aries cratesque simul sunt addita muris, Plena viris etiam per vallum vinea serpit, Qui vario nisu perstringere robora temptant. Obsita stat garabis protectis pontica ripa, E quibus armate properant ad bella cohortes. Dant animi vires. Media Mars sevit in unda, Nec tenet unda viros. Medio stant agmina fluctu, Innumerisque patent hominum discrimina telis. Lis geritur gladiis. Pugne furit anxius ardor, Turrigereque petunt muralia robora naves. Bartolot Anfossusque simul rapiuntur in undas, Nec vitant ictus, sed plana per equora Mauros Duriter obstantes iaculata cuspide sternunt. Huc Opitho, virtute potens, mox flectit habenas, Et Maurum peditem media transfigit in unda. Altus Parlasii Petrus atque Bono generosus Vido satus, iaciunt astas; mucronibus inde Concidunt Mauros: densantur ab urbe sagitte, Arcitenensque sagax per visus figit utrumque.  At de classe viri positum super equora murum Poscunt, et celsas invadunt agmina turres. Transiliunt fossas. Alii properantius addunt Ad conscendendum muri super ardua scalas. Proiciunt lapides iaculantes tela sudesque De muris Mauri, Pisanaque robora pellunt. Tunc instant acies, donec sol fervidus ipsas Estibus accensas cogit sua castra subire. Interea turrim faciunt, solitasque per artes Unaquaque die muros et menia frangunt. Arripit Alpheos belli violenta cupido, Et latas intrant pugnantes undique fossas. Tunc demum iuvenes subeuntes menia quinque Maurorum cuneos animis violentibus urguent. Hi contra iaciunt lapides et tela; fugaces Quattuor ex illis facti, transcurrere saltu Non dubitant aditus; quintusque remansit in illis Pipini natus, socii quem deseruerunt. Quid faceret? vel cuius opem pugnando rogaret? Proiciunt lapides in eum de turribus altis; A scapulis murus, contra quem plurimus hostis, Figitur innumeris telis variisque sagittis. More viri pugnat quindenis natus ab annis, In se conversos sternitque viriliter hostes. Dum tamen illorum nimius petit impetus ipsum, Corruit, et pariter perdit cum sanguine flatum. Innumeri subeunt membris puerilibus enses. Mauri letantur, socii stant cede dolentes. Exercetque suos dum gens Pisana labores, Tormentum mirum labentis solis ab axe, Quod longo tractu muralia robora poscat, Fecit Oriciades. Simul et testudinis artem  Actus in hac, aries murales sternere cursus Nititur, et penetrat impulsu perpete muros. Ast Ebusitanis non est ad prelia dispar Ingenium. Totas dant in certamina vires, Dumque suas faciunt non equis viribus artes, Pisanos temptant penitus confringere nisus, Dum, magni lapides, quos ardua machina portat, Inmensam certant muris conferre ruinam. Protegitur murus pannis latisque tapetis, Et turres habuere sui munimina restes, Fulcraque collate luserunt sepius ictus Molis, et opposite texerunt cetera crates. Sicut aves reparant nidos quos destruit aura, Cum tremulos venti vis concutit aere ramos, Sic Ebusitani muros ac menia cuncta Solliciti reparare student, presentia quorum Assidue vigili servat sua robora cura. Fecerat in muro plures testudo fenestras, Cuius Oriciade formam construxerat astus. Iam quoque casuram credebant agmina turrem, Cum cessare iubent patres testudinis actus, Electi donec iuvenes mittantur in illam, Qui captam teneant summis cum viribus urbem. Sancte, tuum festum, Victor, laudabile multum, Forte celebrabat mundus, Praxes super astra Quando levata fuit martyr virgoque decora. Luce sub hac cursus medios iam Phebus agebat; Estus erat grandis; tecum rogitasse putatur,  Celica turba, Deum Pisanus presul, et omnis Firmiter orabat magno cum presule clerus, Quatenus ipse suis pugnantibus auxilietur. Divinas aures tantos audisse rogatus Creditur, et fusas lacrimas monuisse Tonantem. Deviat esse Dei quisquis tales negat actus, Et pro posse suo non laudat Cunctipotentem. Extemplo medium dum carperet ethera Tytan, Mota fuit turris graviter, ceciditque patenter. Intremuit locus, et pulvis vicina replevit. Inconsumpta iacent mensis convivia. Fervet Prorsus ad introitum Latius seu Gallicus hospes. Ugo, qui Pisis comitum vice preditus extat, Et Dodo Teperti clarus per prelia natus, Ac Cinithoniades animis decoratus et actis Et Catalanensis quidam bene promtus in armis, A portu pariter per portas ingredientes, Invadunt Ebusum, sternunt violentibus hostes Viribus, et perimunt letis successibus illos. Qualiter armentum tygres per rura sequuntur Cum violenter eas ieiunia longa coercent, Haut secus heroum gladiis pagana fugantur Agmina. Tunc relique succurrunt undique turme Nulli parcentes, sexus iugulantur et etas. Hinc aditum quendam retinebant Hismaelite. Maurus ibi pugnabat atrox metuendus in armis, Et ferus accessus cunctis prohibere putabat. Erigit Ildebrandus in hunc Eufraxius ensem,  Cedentemque virum mirando recidit in ictu. Qui per rupturas intrarunt denique muri Barbara concidunt fugientum corpora ferro. Tunc percussa cadit gladiis Ebusina iuventus. Hic caput atque manus, illic sunt crura pedesque, Quaque pedem faceres hominum prosecta iacebant Eruta corporibus. Morientum milia calcant Belligeri cunei. Sed qui de cede supersunt Ascendunt medios inter duo robora muros. Altera turba ruens fugit ad sublimia saxa, Que suprafati spectantia diximus equor. Inde ruunt partim, partim truncantur, et illinc Rupibus e summis salsas iaciuntur in undas. Hic malus est saltus quem Mauri tunc didicere. Qui non fugerunt, saxosis ictibus et non Continuere manus, de muris precipitati, Undique confracti media iacuere platea. Declinat medios dum Titan ethere cursus, Pugnantesque viros et fervidus estus agebat, Urbs ubi prima fuit divino victa vigore, Altera victores veniunt ad menia. Portas Et superos aditus perfringere marte laborant. Multisoni resonant variis umbonibus ictus. Saxa volant, misseque pluunt utrimque sagitte. Ortantur proceres pugnantes fortiter alas. Utraque turba fremit. Penetrant ad sidera voces. Ascendunt geminas dum pugnant agmina turres, Et superare putant reliquam velocius urbem. Accurrens Ebusina cohors violentius hostem  Impetit, et saxis, telis sudibusque repellit, Perque coherentes cogit descendere scalas. Postquam bella viris in nullo commoda prestant, Mox sua castra movent, et barbara tecta subintrant. Sed defunctorum ne corrumpantur odore, Traditur extinctus flammis crepitantibus hostis. Postera lux oritur. Consurgentesque caterve Tendunt in reliquam studiis ardentibus urbem. Nocte dieque suas exercent fortiter artes. Lux octava redit. Turres feriendo reclinat Machina. Testudo perfringit sedula muros. Tum nox transierat vicine proxima luci, Aurore patuere fores, Phebusque redibat. Protinus ascendunt super altas agmina turres. Barbara turba pavet, celsasque recurrit ad arces. Alpheus populus defuncta cadavera calcans, Hostiles cuneos gladio prosternit et asta. Dumque satis properant super ardua ducere castrum Menia, Dominici sollers quod cura paravit, Telorum nimbi summa mittuntur ab arce, Sarnicolasque super volitant ingentia saxa. Sed Christi pietas divinaque gratia quantum In se sperantes semper sustentat et auget, Humane nequeunt ad plenum dicere lingue. Eius enim facto, qui noscitur omnia posse, Victoris festo qui primam vicerat urbem, Eius in octava meruit superare secundam Pisanus populus semper confisus in ipso. Victores tandem captum retinere laborant Et servare locum. Patres deducere castra Circumquaque iubent: parent: sed et obsidionem Menibus inclusis omnes vicinius addunt.  Nulla quies cuiquam tenebris vel luce dabatur. Turres tormentis altas murosque petebant, Queque graves longe dimittit machina moles Menia celsa petens, portabat adusque fenestras Cautes, internas sternendo sepius edes; Vicinusque malus, cui non erat agmine compar, Sublimem tractus crebro feriebat in aulam. Nunc ultra turres lapides portabat et infra, Et de sacrilegis faciebat sepe ruinam. Talibus et reliquis populus Pisanus agebat Artibus, et duros temptabat vincere casus. Tam Vido Rubeus quam Barchinonicus heros Incassum missas non direxere sagittas. E contra Mauri bellantia sepe petebant Agmina non parili facientes prelia dextra. Sevus Abulmunzer, super ardua menia demum Assistens, fractam defixo lumine turrim Spectabat tristis. Casu sinuaverat arcum Villano genitus; qui, mittens spicula contra, Spectantem medio defixit gutture Maurum. Iurarat pridem per iura Machamatis ille Incolumem cuiquam se nunquam reddere terram. Tunc sibi subiecti suaserunt talia cives: \" De iuramento nulla ratione teneri \" Te nuper facto fusi docuere cruores. \" Sanus enim non est cui figunt spicula guttur. \" Ergo tui compos citius fac deditionem, \" Et te nobiscum pariter de funere serva \". Annuerat princeps dictis precibusque suorum. Mittitur Alpheis ducibus qui nuntiet ista. Forma placet pacti Pisanis. Protinus illi,  Nil dubitando, viri sine conditione dederunt Omnia seque, simul mortis terrore remoto. Tunc, pie Laurenti, mundus tua festa colebat; Te, venerande, Deum placido monuisse rogatu Autumat Ecclesie populus, creduntque fideles, Cum vexilla super posuerunt agmina turres. Ter Domino laudes totum cantaverat agmen, Cornicinumque dabant voces lituique tubeque, Tinnitusque pios resonantia signa tulerunt. Conscendunt proceres summas properantius arces, Ac commune iubent spolium properanter in unum Accumulare locum. Turres et menia cuncta Certatim sternunt avidi terreque coequant. Transierant bis sex rapida vertigine menses, Et celer actus erat variis sudoribus annus. Tempus erat quo ferre soles, auguste, racemos, Cum citius solito potarunt agmina mustum, Sedarantque patres ceptas cum litibus iras, Quas predatorum tumidi movere furores. Vulgus ab introitu capte regionis, et ante Quam, populus quicquam superaret bellicus urbis, Collectam passim predam de rure trahebat. Dumque viri fortes muris tormenta pararent, Ignavum vulgus studium fornacis agebat. O quantis studiis panes venduntur! et illud Unde monetati replent marsupia nummi! Post hec expoliis, que comportarat in unum Alpheus populus, movet anxia turba susurros, Et repetit partes. Partiri capta recusant Hi quibus interius lacerat Maiorica mentes,  Neve moram facerent, spolii retinentibus illos Partibus, in tutas predam posuere carinas. Solvuntur classes; freta remis eruta spumant; Vela tument zephiris; liquidas rapit aura procellas. Adveniunt Baleam Latii comitatus, et illi Qui propter Baleam celestia signa tulerunt. Est sinus haud modicus Balee de partibus austri Portus instar habens, ubi cornua bina videntur, Per bis mille decem que sunt distantia passus; Replet utrumque latus Libico de litore raptus Pontus, et Arctoas finem distendit in horas, Quoque facit finem sinus hic de parte sinistra Urbs antiqua fuit raris habitata colonis. Inde fere gentes ab Hiberis finibus acte Navigio celeri, duce precedente Moalfac, Christicolis pulsis plures posuere penates. Hic, ubi lata stetit celsis Maiorica muris, Insula distat ab hac brevis ut per milia quinque, Que, complexa sinu, leve stat proxima terre. Portus in hac latus, Rodum vicinia dicit. Urbis ab hac possunt sublimia menia cerni, Ob quam Pisani tantos habuere labores. Illa dies letis populis octava refulsit In qua felicem matrem super astra recepit Virgineus partus, de qua Deus est homo factus, Parva venientes qua congregat insula puppes.  Luxque sequens fuit hec qua Christus morte resurgens, In mundo genitis vitam dedit atque salutem. Hac de plebe viri, latices haurire volendo, Navibus egressi, per rus gradiuntur inermes. Ast equites regionis erant in valle latentes, Qui peditum plures incautos agredientes, Truncarunt gladio, quosdam cepere, suisque Duriter astrictos secum duxere capistris. Hinc cum consulibus proceres tristantur et omnes. Tum Petrus antistes populos hortatus \" Ad istos \" Tartareos aditus properavit vestra voluntas \", Dixit, et ostendit Balearica menia dextra. \" Captus ibi factor vester pius atque creator \" Dicitur in membris; quis non pugnabit ut ipsum \" Eruat? ipsa licet mortem sibi bella minentur? \" Vos tamen in bello letum nolite timere, \" Nonnisi pro bello vite quia poscitur auctor \" Atque dator, vite cunctis qui preparat usum, \" Et qui pro nobis crucis est in stipite fixus. \" Cum captis captus nunc permanet atque ligatus, \" Ut det opem vinctis, trahat et de nexibus ipsos. \" Qui captum dominum pugnamve relinquit agentem \" Iuste dampnatur, digne privatur honore, \" Et manet infamis semotus ab urbe foroque \". Hoc et Boso pater, presul quoque Caralitanus Comparibus verbis lacrimisque fluentibus addunt. His dictis, sedet in transtris festina iuventus, Et placidas molitur aquas. In carbasa ventus Perflat, et amotis sulcatur navibus equor. Non volucres tanta penne levitate feruntur, Quanta rates levitas pacata per equora vectat. Miratur Balee populus candentia vela,  Et defixa tenens in classem torva tirampnus Lumina, dat lacrimas magno cogente dolore. Inde metum reprimens, quotquot rexisse putatur Permixti sexus educit ab urbe catervas, Ut late visus venientes terreat hostes. Totque licet turmas sparsas per rura viderent Audaces, quorum commoverat insula mentes, Haud trepidare valent quos spes preclara fovebat. Pinea silva fuit qua lata patebat arena, A muris Balee ceu per sex milia distans, Ex qua parte suo Titan petit ethera curru, Cui palus et pontus geminum latus arguit unda, Ortus et occasus nemoralia rura petenti Siccum dant aditum. Loca Ramora commemorantur, Sive Forenna, quidem plures dixere Catinos. Hic ubi plana cite tenuerunt litora prore, Educunt properanter equos. Properantius arma Sumit, et ignote lustrat loca cernua terre Bellator populus, quem iustior ira movebat. Qui sibi commissas aliquas habuere cohortes, Dispositas ipsas sectari signa iubebant. Post hec regis eques rarus progressus ab urbe, Iam castris positum vidit de collibus agmen. Quem Pisanorum rapidus comitatus equestris Ipsum dulcis aque fugat usque sequutus arenas, Qui torrens Luidis solet in regione vocari. Nox redit. Excubias faciunt vigilantia castra Eximiamque satis fulgentia sydera noctem Reddunt. Signa polus demonstrat nocte sub illa. Stella cadens divisa comas per mille videtur. Dispersum Balee signat divisio regnum. \" Ad Baleam\", clamat populus. \" Nos sidus ad illam  \" Crinitum properare monet; properate potentes; \" Est superare datum nobis Balearica regna. \" Sideris in Baleam radios cecidisse videtis \". Lux rediens fuerat qua sancti Bartholomei Festa celebrabat lati devotio mundi, Purpureis Titan radiis fulgebat, et aura Nulla fuit, quasi lac placidi maris unda iacebat. Immote ventis frondes. Volucresque quieti Cantus voce dabant. Resonabant intima silve. Ammonet Alpheos ductor rectorque Pyrenes Ordinibus factis aliquantum castra movere, Quemque sequi sua signa monet. \" Sit prontus in armis \" Qui cupit alterius \", dixit, \" conquirere fines \". Paruit haud monitis istis avidissima belli Gens, et torrentis modo dicti transiit hora Classis, et ad campos vicinos menibus urbis Plenius egresse fixerunt castra cohortes.  ',\n",
       "  'Anon',\n",
       "  'Maiolichinus'],\n",
       " [' Libro V   Dumque ruunt acies avide certamine Martis, Barbaricus campus Mauris dirisque Nigellis Densus erat: clipeos alii tenuere rotundos, Pars adoperta fuit captis Latialibus armis, Tunc cum Pisanas quondam piratica cepit Turba rates, monstratque suos gens torva vigores. Hic tunc procedens natus Bellominis Ugo Mauretusque simul giro rapiuntur equestri, Primaque Maurorum cuneos ad bella lacessunt.  Hinc bis octoni Pisana gente creati Heroes, comitis sectantes signa Levanni, Hostibus incurrunt mediis, densasque catervas Sternere non cessant Libicorum more leonum. Dant quibus introitum Baleares protinus ale, Et circumfuso velociter agmine claudunt, Ac retinere putant quos spes satis improba fallit. Ipsa pericla parant animos viresque ministrant His quibus interne torquent precordia cure: Sumunt quique suum perimuntque sagaciter hostem, Et quacumque ruunt campus patet amplior ipsis. Et veluti Rodii sternunt perimuntque volucres, Quando relucenti findentes aera penna Agrediuntur aves laniantque patentibus arvis, Sanguinea pariter miles Pisanus in asta Viribus infractis Balee terit acriter agmen, Et redit illesus, cunctis mirantibus actum. Post hec in geminas Balee milesque pedesque Dividitur partes. Campos alii tenuere, At iuxta fluctus quidam venere marinos, Oppositumque petunt Pisanum durius agmen, Erectisque premunt rarissima cornua signis. Alphee cedunt, sed lentis passibus, ale, Et contra posito nunquam flectuntur ab hoste. Ex Arelatensi numero Vilielmus ad ista Prelia Bernardus Mildace Daneta creatum Sternit, et in strati dimissa cuspide ventre Digreditur. Mauri socium de cede reportant. Tunc vexilla gerens Pisane signifer urbis Valandus cuneos in campum ducit apertum. Hinc Ildebrandus sancte vexilla Marie Consul habens dextra sevos incurrit in hostes.  Sedis apostolice vexillum detulit Atho, Et diras petiit violento milite turmas. Hos dum Pisani belli fervore sequuntur, Inter condensos rapiuntur protinus hostes. Inde Pyrenee gentis generosa potestas, Clara sequebantur cuius vexilla cohortes, Pulverulenta petit galeato milite rura. Huius signa ducis Gerardi cura Levanni Gestat, et ad levam procedunt agmina portam, Que patet ad claram surgentis lampada solis, Ac salse vicina magis cognoscitur unde. Hancque senex aciem sequitur comes Ampuriensis, Cui satis extiterat rector Balearis amicus, Et subiit pugnam vallatus milite forti. Procedunt acies, et vi certatur utrimque. Eminus obstantes decertant Hismaelite. Hii iaciunt lapides, iaculis pars appetit hostem. Telorum tegitur tenebrosis nubibus aer. Hinc dire veniunt in equos hominesque sagitte. Mars furit, et magnis resonat clamoribus ether. Tunc Latie turme, mortis terrore remoto, Incurrunt Mauris, et pugne cominus instant. Exeritur gladius, cessatque volatile ferrum: Terra cruore madens morientum substat acervis. Toto mixta sonant gemitus hortamina campo. Ugo, Parlasii tectis nutritus et hortus, Aurea que gessit quatiens venabula dextra Pugnantis contra per pectora misit Alantis.  Ille cadit properanter equo, fusoque cruore Tartareas flatum citius transmisit ad umbras. Occurrens Citharon casu commotus amici, Ugonis penetrat durata cuspide scutum. Ille, quod asta brevis contingere non valet hostem, Ense vicem reddit, pugnoque relinquit adempto. Hunc Teperciades Dodo Bernardusque sequuti Ferratas feriunt minitanti cuspide portas. Utque redire parant, duo, qui redeuntibus obstant, Occumbunt pariter, Bachimas Hispanus et Ander. Guttur in unius Dodo postquam miserat astam, Cede cruentatum traxit cum cuspide pannum. Sed quod ferre potest Bernardi dextera telum In latus, Ander, habes. Manes ad Tartara raptos Accipiunt, Stigieque patent properantibus aule. Viderat urbane pulsantes limina porte Rex Balee, reditumque viris prohibere nequisse Que tutabantur Balearica robora turmas. \" Rebar et hos homines \", ait, \" at iam credo leones \". Dux Catalanensis sevum Moldonea poscens, \" Primus \", ait, \" nostris quoniam te viribus offers, \" Integer haud poteris nostros evadere nisus \". Protinus urguet equum, teneras nec flectit habenas,  Toracem clippeumque viri levamque papillam Telum transfodiens, per dextrum proterit armum. Ille supinus equo ruit. Astaque frangitur ictu, Aurea sed comitis cuspis datur altera dextre, Que vibrata feros prosternat et Hismahelitas. Gerardus Porion prostravit cuspide vasta, Inque viri pectus vexillum misit et astam. Daridis Umberti penetravit lancea costas. Ildibrandini Danius transfoditur asta. Rodolfo geniti Garsias sternitur ense Rollandi. Sevum ruit in Daneta Recuccus, Et, velut asta fuit, de dorso pellit equino. Gerardusque comes rector dominusque Levanni, Dum furit in Mauros miles per bella probatus, Fraxinea Lelaphum fugientem percutit asta, Atque Niri scapulas ictu penetravit eodem. Stratus uterque ruit tanto deiectus in ictu. Cui sonipes violentus erat violentius actus Pulvereum campum cum corpore pressit herili, Seque regentis heri fregit labendo lacertum. Rainerius cum Tegrimo, Raineria proles, In coacervatos ibat promtissimus hostes. Sternit et hic Lephanton Tegrimus Alante creatum. Gerardus Gaitanus adest, qui cuspidis ictu  Cerbereas Rachium transfixum misit ad horas. Viscardus Nilion letali vulnere sternit. Hinc Albertinus, claro Bellomine natus, Per fauces medias ingentem fixit Aneten. Atrocem Laium venientem Vido Butensis Excipit, et victum Stigialibus agregat umbris. Saucius ipse dehinc graviter certamine cedit. Ildeprandinus, Iulitte filius, asta Fundit Ilerdensem generosum stirpe Gairum. Ingentem Valandus agens, Valandica proles, Astam, quam validus vibrabat uterque lacertus, Inmanem Libicum duro resupinat in agro. Terga Rachis penetrat Valandi frater in ictu Cuspidis Albertus, misso per pectora ferro. Asta virum fortem stravit Molphena Dodonis Consulis, huius equum celeri penetrante sagitta. Gausmaro genitus, fama decoratus equestri, Ugo Dianensem telo penetravit acuto, Mortiferumque fecit transfixo gutture vulnus. Sicherius, frater Valandi, perculit Idan. Hinc Mincharellus ruit, Ildebrandia proles, Et fudit Gurion, quem Corduba misit ad arma. Ugonis proles Albertus impulit Ermon. Anticium Libicum Lanfredi dextra peremit. Stravit Ilerdenium Matilde filius Ugo. Inde Sapibonides campo deiecit Aristen. Atque Sofridutius transfodit cuspide Maulam.  Popiliensis equum velocem Rusticus urguens Per lumbare Taves astam transmisit acernam. Mittit in hunc iaculum magno conamine Nelops, Perque viri corpus letalis lancea transit. Acrior hic Maurum telo transfigit eodem, Tresque necans alios orrendum mandat ad Orcum. Ast ubi membra viri sunt evacuata cruore, Felicem moriens transmittit ad ethera flatum. Occubuit Garathas Rubei Vidonis in asta, Indiguitque sui Cliton Suberamus amoris, Cui latus Abbatis transiecit lancea dextrum, Cervicemque viri mucrone resolvit, et agri Pulvere proiectum pedibus submittit equorum. Extinti socius ferventi concitus ira, Te, Viviane, petit violentus ob arma Galindus, Et iugulare cupit pro morte libenter amici. Non fugis audacem venientis militis ictum, Pretentaque virum properantem sternis in asta, Consorternque necis vite coniungis amico. Albicione sati clarus Lanfrancus ob arma Filius, obstantem Redum feriendo peremit. Hinc Arabis fugientis agens cum cuspide lumbos, Compulit hunc leva selle de parte labare. Rarus eques densusque pedes de parte marina Barbaricos cuneos pugne stridore coartat, Pugnantemque terit summis conatibus hostem. Alphei pedites, Domino prestante vigorem, Hic plures faciunt ensis seu cuspidis ictus. Ictibus attrite, cum iam tolerare nequirent  Prelia, barbarice redeunt ad tecta phalanges, Et firmant duro ferratas obice valvas. Menibus inclusis, discurrens undique, rector Anxius inperitat maneant ne cardine clauso, In campum redeant, et prelia dura reposcant, Ac repetant diros patriis pro legibus hostes, Et ne deficiant, nec vinci se patiantur, Proponens laudis quantum victoria prestet Et quantum tribuat victoribus utilitatis, Quantaque cum dampnis fedent obprobria victos, Quos fugit omne decus, quos deserit omnis honestas, Servicium, dolor hinc et tristia queque sequuntur. Et lacrimans adiurat eos per delubra regni, Ne metuant populos quos lex Machamatis odit Sed sic decertent devincere quatenus ipsos, Et sub perpetuis valeant retinere catenis Qui se necne suum cupiunt disperdere regnum. Hec agit, et cunctis animos viresque reducit. Ortantur proceres regem prohibentque timere, Atque mori spondent potius quam cedere bello. Signa capit Burabe, reseratur dextera porta, Prosiliunt turme, properant ad bella manipli. Dispositis signis Burabe iam stabat in agro, Durus agebat Alas dextre vexilla cohortis, In levo cornu torvo curante Corace. Plena dabant voces humano classica flatu, Nec tuba bella movens nec bucina defuit ulla. Cum sic dispositos sancte videre cohortes,  Directis igitur properant in prelia signis, Et dextram pariter satagunt invadere portam, Densus et innumerus fuerat qua barbarus hostis, Que quoque, Phebe, tuos claros spectabat ad ortus. Iam Vilielmus adest, dominus montis Pesulani, Cui rota signa dabat, clara comitante caterva. Et velox tantis sese conflictibus offert Dux Nerbonensis, de nomine dictus avito Fulgentes acies, decoratas milite forti, Precipit ante suos properanter sistere vultus. Nominat ille suos, largos quoque spondet honores. Quos videt audaces geminato robore firmat, Signiferumque monet nullo trepidare timore, Anteque fraternas prontum contendere turmas. Iuxta Raimundus pugnam festinus adibat, Cui sedes Arelas, cui Balcia tellus origo. Hic Arelatenses promtos in prelia firmans, Ammonet ut nolint de posterioribus esse. Petrus ad hanc litem Grossus non signius ibat, Hortaturque suos equites post cuspidis ictus Ne sint immemores inimicos ense ferire. Concurrunt partes. Miscentur utrimque manipli. Saxa ruunt. Volitant densissima pila per auras. Martia signa canunt. Subeunt ad sidera voces. Ira furor mixtos inter se concitat hostes. Telorum nimbis clipei galeeque teruntur. Arma sonant armis. Micat ictibus orridus ensis. Vulneribus misso saciatur sanguine tellus, Labentumque tegunt extincta cadavera campos. Henrigum Milgilas poscunt Neriusque, sed eius  Predurus clipeus iaculum propellit utrumque. Hos validos equites, Dertose finibus ortos, Cum Sigimundiade Vinithone creatus utroque Transfodiens, ambos de tergis sternit equinis. Atque ferus Periton socius necis esset eorum, Subsidiatorem Balee quem Corduba misit, Cum centum sociis Hispana per equora vectum, Ni faciendo, fugam citius flexisset habenas. Tunc Erithone satus Danaen, Gerardus Arontam Viribus insignes prostrarunt consul uterque. Dissecat obstantes cuneos tunc Balcius heros, Prosternens Arabem, perimitque deinde, Corellum. Bertraminus fratrem stravit Nilgdona Coracis. Ugo Delanda penetravit cuspide Tagum, Et tulit ense caput. Post hec iuvenalibus actus Viribus Umberti cadit Alcimionides Unon. Sed Petri fratris deiecit dextra Nicalem. Urguet equum sacrista potens Raimundus, et aste Nelioben valido percussum transfodit ictu, Cornipedemque rapit, precii non vilis habendum, Armigeroque suo gemmatas tradit habenas. Tunc Ildebrandus consul dirum Niceronta Transfodiens ferro per pectus dirigit astam, Vexillumque trahit madefactum sanguine Mauri. Petrum Parlasii bello quem miserat hora Agreditur Balager. Grandi retro pellitur ictu, Militis Alphei sicula percussus ab asta. Ad socios igitur fugiendo retorquet habenas.  Transfigit asta Rodon, Pusii vibrata lacertis. Flocius ense cadit, quem Gelli filius Oddo Viribus assumptis ictu transverberat uno. Insignes equites Pesulani montis ad istos Adveniunt ictus, Vilielmi signa sequentes. Dalmatius Castrensis ibi Molphenida leto Subpositum fecit per acute cuspidis ictum. Et Murivetuli miles Sichardus Emonem, Petrus Amunta petens, Bernardus Amunte creatum Proiciunt perimuntque simul, Froctardia proles. De villa Bosci Machamata vasta Videlmi Lancea transiecit. Tum Berengarius Oran Verune miles perimit, sociatque geenne. Tu, Raymunde Midan, cui prebet Eradius ortum, Dertosane cadis forcas penetrante Vilelmi Cuspide, cui sedes fuerat Pinianica tellus. Dux Aimelrigus, speciosis clarus in armis, Occupat obstantes fervente vigore catervas. Cui ferus Alcimio, fatis properando sinistris, Occurrit, cupiens ulcisci funera nati. Prevenit hunc Atacis ductor, nec deviat ictus, Per pectus volat asta tenax umbone forato. Occidit, et moriens premordet dentibus erbam. Promta phalanx comitat ducem, satis ardet in hostem. Fraxinus Henrici te pectoris, Atila, fixit In medio; ferrum vitalia cuncta retraxit. Et Pusii frater Lambertus Agranta peremit. Mindon ab Esculea dictus Rainutius hora,  Horrendum nimium fixit Ricapectora Carben. Inque Valentinum Plegonem Barutius astam Per scapulas misit levam figendo papillam, Traiectumque virum medio prostravit in agro. Pharion Hispanus Vinicelli sternitur ictu. Dum cadit Abrotani ruit inter lora fugacis, Cuius Saltarus transiecerat ilia virga. Quando duos pariter fixit iaculando Nigellos Gerardi proles Opizo, cum pube suorum Invadens aciem, satagit prosternere Mauros. Gausfredus Parthum, Rainerus proterit Afrum, Consortesque necis fecit germanus uterque. Marinianides Bernardus Ilogea leto Donat, transfigiens cedenti cuspide costas. Cuspide Silleti dirus prosternitur Olphes. Grunnius Alcheon sternit, Mauretus Edonem. Undique discurrens rector Catalanicus hostes Dissipat, et socios ortatu divite firmat. Ampurie fortes equites et Rusilienses, Subsidiando duci, dant plurima funera Mauris. At Petri Grossi deiecerat asta Coracem, Cuius promtus eques multos patraverat actus. Sed iugulare virum cum iam mucrone pararet, Currentes Mauri socium de cede tulerunt. Signifer Alpheus medios violentus in hostes Currit, et exacuens fortes in bella sodales. Ut reliquas prosternit aves regina volucrum, Sic sic hostiles terit insistendo phalanges. Barbarici statim cunei turbantur, et inde Conversi fugiunt. Pisani terga sequentes, Urbanas inter propellunt agmina portas. Innumeri capiuntur equi, capiuntur et arma,  Et fusi per rura lacus iacuere cruoris. Alcius ascendens Phebus contraxerat umbras. Ad sua victrices redeunt tentoria turme. Bellica per campos Balee iam facta patebant, Extinctosque viros fusos spectare per erbam Barbaricus populus simul et Pisana valebant Agmina. Legati veniebant atque redibant. Accipitres, vestes, privataque dona dabantur His quibus Ampurie comes hec tribuenda monebat. Vendita fit pietas. Tunc multum devius heros Regi transmittit cartas, recipitque latenter Huius scripturas que rescribuntur ad ipsum. Pestifer interea dum federa quereret hostis, Quos divinus amor, non preda nec ulla simultas, Sed Christi pietas ad iusta vocaverat arma, Captivos omnes sine conditione volebant. Nazaredeolus certa sine lege paratus Reddere non fuerat, nexuque fameque coactos Carceribus distentos attenuando necabat, Ac Pharaoneos retinens in mente furores Que spondebat heri cras inficiando vetabat. Utque dolosa vident patres colludia regis, Solantur populum, populus solamine gaudet. Dum trutinare novos nituntur pectore sensus, Itque reditque dies. Nam preterit unus et alter, Castraque paulatim mutata propinquius extant Menibus, ac creber procedit ab urbe tumultus, Optime Dalmati, quem tu non lentus adibas. Nam crebro facte pugne non tardus adesse Cerneris, in tantum pugne tibi suppetit ardor. Ergo die quadam paucis comitantibus hostes Corde volente petens, sociis absistere iussis,  Cum geminis solus vadis contendere Mauris. Viribus ergo tuis prostratus corruit unus, Alterius mox dextra tibi penetrabile scutum Transfigit, mediam penetrat quoque lancea coxam. Hinc patet, est miles non loricatus inermis. Stratus equo pugnare paras, sed vulnere factus Debilis, innumeros equites sine lege ruentes Decidis excipiens. Feriens te barbarus ensis Decapitat, felix transmigrat ad ethera flatus. Talia belli potens ut concipit aure Vilelmus Dat lacrimas, tristesque viri de funere questus Profundit. Nec ad ista vacat, sed clamat ad arma, Ulciscique necem iugulati currit amici. Heroem centum sectantur ob arma micantes, Qui promtos gestare solent ad bella vigores. Accelerat, campumque petit: sua menia Mauri Ista meditantes properatis gressibus intrant. Militis acquirit, vindex modo cum nequit esse, Gotica turba capud, mutato denique Mauro. Ante diem Domini semper que proxima fulget Lux rediit, qua tempus ent sine turbine clarum. Iamque sui cursus nonam perfecerat horam Phebus, cum fortes redeunt ad prelia Mauri, Christicolasque putant ad castra requirere tantum. In numero fidunt equitum peditumque potenti. At cauti pedites currunt letanter ad arma Pisanu, visosque petunt non segniter hostes. Spicula tela simul lapidesque venire per agros, Et pluvie ritu poteras spectare sagittas. Pugne sevit amor, Pisanis robur habundat. Dumque ferunt ictus, dum totis nisibus instant, Hismahelitarum cuneos in menia mittunt,  Et certant summum robur prosternere valli. Calcatos equites subeuntes limina porte Transfodiunt et equos …. durantibus astis. Summaque murorum sternunt violenter, et ipsas Concuciunt portas, funduntque viriliter hostes. Denique conspiciunt gemine fundamina fosse Mirantes muros et defensacula circum. Discrepat a visu quicquid pervenit ad aures Urbis, multorum subit in precordia terror. Diffidunt igitur multi, tremulumque revolvunt Ore silente caput, tanto pro robore fortes Ipsi desperant urbem superare potentem. Tres fuerant urbes, unum que nomen habebant. Sed diversa tamen si nomma queris earum, Nomine diverso poteris quamcumque notare. Arabathalgidith prime nomen vocitatur. Nazaredeolus fuit huius conditor urbis, Per quinquaginta que fit circumdata turres Usque Bebelgidith: sic est vocitata secunda. Arabathalgidith murus fabricatus ab ipsa Incipiens, urbis corpus circumdat, et, undas Equoris attingens, mare iuxta volvitur illuc Quo densat celsas urbs Elmodenia turres. Dividit has murus, circumdatur una duabus, Quas circum decies cubitorum milia cingunt, Hoc numero demptis ter ternis atque duobus. In numero certo turres sunt scire volenti  Quattuor et decies septem centumque notande. He tres una queunt urbs famosissima dici. Est commune tribus positum Maiorica nomen, Inter quas etiam torrens placidissimus ivit, Et per quinque queunt torrentis viscera pontes Transiri, liquide cum plus fluit impetus unde. Exechinque vocant. Qui plenius affluit amnem. Dicitur Enelamir producta canalibus unda, Que potanda viris dulces dabat omnibus haustus.  ',\n",
       "  'Anon',\n",
       "  'Maiolichinus'],\n",
       " [' Libro VI  Indigenis populis et ob auctas fortiter artes Menia tuta forent, si nutus Omnipotentis Iustitieque caput dicto cum rege manerent. In populi numero non debet fidere quicquam, Qui Dominum contra sublimes erigit arces. Namque Mohabitas rector Balearis ad arma, Getulos, Arabes, Parthos, Libicosque, Medosque Nec non Hispanos, multo conduxerat auro. Es dedit inmensum, non intemptata relinquens Per que tuta dari patrie solatia possent. Ergo pugnantum, tractare viriliter arma  Qui poterant, sibi sexaginta milia vel plus, Ast equites perhibentur ei ter mille fuisse, Et centena dabat pregrandes machina moles. Mille quater ductus numerus fuit arcitenentum, Figere qui poterant missis loca certa sagictis. Fundibulatorum pre multitudine certus Non fuerat numerus, sic nec lapides iacientum. Noscunt tanta patres cito robora non superari. Hortantur socios, et contra robora robur Accelerare parant. Naves prius esse trahendas Constituunt. Et perficiunt hec iussa libenter Agmina cuncta. Solum tracte tenuere carine. Inde duces Latii vicinius addere castra Festinando iubent. Iussis paretur eorum. Antistes Petrus tectum de parte marina Cum cleris habuit. Fuerat vice domnus in illis Cui Gratianus erat, dedit hoc sibi gratia, nomen. Non humilis, non alta nimis domus affuit, unde Prelia cum socio crebro suadebat Obertus. Iuxta pontificis tectum tentoria patrum, Ut citius veniant ad eum cum sepe vocentur. Nobilitatis honor non longe densus habebat Hospicium. Fortes steterant a fronte caterve Pisani populi, qui vitam duxit in armis Totam, perpetuos solitus tolerare labores. Huic non algor erat, non formidabilis estus, Hunc non grando ferox, non nix hymberve movebant Hostes et muros violentius agredientem. Hec erat ingeniis spectanda iuventus et armis.  Ingluviem ventris nimiamque perosa quietem, Noverat et brevibus submittere lumina somnis. Ast equitum robusta manus non sparsa per agmen, Sed iuxta levam fixit tentoria portam. Talis ab equorea facie porrectus utramque Observat portam populus. Catalanicus heros Illius in medio quo sit tutissimus extat, Namque vigor Latius dextra levaque sedebat, Hospiciumque ducis retro vallabat et ante. Stat post Pisanos Cardune rector, et illinc Plurima post illum que misit Gotia tellus Agmina, que predas potius quam bella gerebant. Ante duces reliquos sua fecit castra Videlmus Et dextre vicina magis quam cetera porte. Iuxta quem pariter sua cepit Baltius heros, Et Nerbonensis domini post ista steterunt Fulgentes acies, quas iuxta Rusilienses. Ampurie rector post omnes castra tenebat Et vallatus erat sola de gente suorum. Hi silvas et rura petunt, armentaque multa Direptosque greges, et quicquid germinat arvum Ad socias acies converso tramite ducunt. Lignea tecta trahunt, paleas ubi comperiuntur, Arboreasque simul vulsas cum stipite frondes. Gotorum pedites vel quos Provintia misit, Mercibus allatis, discurrunt agmine toto, Et venale facit quicquid dabat insula vulgus. Pisani summis arcent conatibus hostes.  Hiique, colendorum patrum precepta sequuti, Edifficant geminas superantes omnia turres Menia de lignis, vulgo castella vocantur. Altum surgit opus. Sublimia culmina quarum Aereas subeunt summis cum nubibus auras, Offenduntque satis ducentes frigora ventos, Astutusque magis nil fecit Degdalus arte. Viminee crates ducte de rure propinquo, Multaque terga boum lateralia queque tegebant. Suppositis igitur postquam residere paratis, Inpulse graviter celeri molimine currunt. Ut nubes quas forte Nothus violentior auctas Imbribus ad celum pluvioso turbine vexit, Quarum rura pedes celos agitare cacumen Sepius aspicitis, que currere quippe videntur, Pisanis acte turres non signius ibant. Astantes igitur multi mirantur euntes Qui similes numquam potuerunt visibus arces Subdere. Mox gemina subeunt testudine muros. Et dum Martis erat creber variusque tumultus, Tuta Mohabite violenti menia sepe Egrediebantur. Trahit impetus egredientes, Casus et hos potius quam bellicus instruit ordo. Utque Robertus eos audaci strenuitate Motus vidit, ait: \" Pro se certantibus auctor \" Est Deus, et robur pro se pugnantibus auget \". Dixerat, et plures solus properavit in hostes, Et partitus eos simul et fugientibus instans, Inter murales aditus pugnando reclusit. Corruit huius equus fovea; pro casus iniquus!  Protinus e sella se compulit ire regentem. Hic clippeo iaculoque prius, mucrone deinceps Pugnat, et Hectoreo decertans robore consul Sustinet innumeros ruinosis iactibus ictus In se collatos. Nudo quoque fortiter ense Dimicat, et solus multorum robora sentit. Dumque pluunt lapides et tela cadunt super illum, En levam supra cita figitur asta papillam. Eu! clippeus non obstiterat, lorica ruentem Incarnare virum facile dimiserat astam. Accelerant, raptumque ferunt de marte propinqui. Iam castella super defossi robora valli Implebant latas gemina testudine fossas. Erigit antennam Balearis in arbore cura, Castellis etiam que cernitur esse duobus Altior, in summo cuius bellator habebat Excelsum tutumque locum. Velamina panni Plurima sublimem septenaque terga tegebant, Qualiter excelse spatiosa per equora naves Sepius ire solent piratica bella timentes. Loricam tutam habet, clippeumque rotundum Et protectus erat cristata casside vertex. Per triplices funes antenne callidus usus Vesanum Maurum vacuas porrexit in auras. In quasi subiectas turres proiicere cautes, Et lapidare viros, et mittere tela valebat. Ardet in antennam pugnantum fortiter astus, Atque duos funes cum falce recidit acuta. Tertius antennam retinebat in aere funis. Pertimuit Maurus ne, falx si cederet illum,  Invitus rueret, vel protraheretur ab unco. Ergo, velut moles de summis eruta saxis, Per funem labens, dedit intra menia saltum. Grandia labentis senserunt pondera palme. Christicole gaudent, alacres dant agmina plausus Ammirata virum per inanes currere ventos. Nutabant turres Balee, murique cadebant Quos fodiebat ovans toto molimine fossor, Cui per quemque diem fulvum numisma dabatur. Hos aries duplex de testudinibus actus Et de castellis ictu graviore petebant, E quibus artifices mittunt super ardua pontes Menia, cumque volunt turres invadere possunt. Per quadragenos passus et apertus et amplus Introitus fuerat. Cetum fecere cohortes. Cardinibus Boso de primis taliter unus Inquit et hec monuit; monitus et verba notantur: \" Qui fines patrios, qui deseruere parentes, \" Uxores, natos, et quicquid dulce videtur \" Sensibus humanis, vos pro pietate fuistis. \" Si pietatis amor vos cum mercede vocavit, \" Cur pietatis honor non contra viscera fortes \" Impietatis habet? Balee spectate leonem, \" Qui male tractat oves et Christi dissipat agnos. \" Spectat ab excelsis muris molimina nostra. \" Incassum factas turres quoque credit et arces, \" Et nos et pariter subsannat Cunctipotentem, \" Agminis auctorem qui sese pretulit huius \" Ut vos informet. Vos Egyptum spoliate. \" En Pharaoneis fratres servire cathenis \" Cernitis. Ultrices frangant hec inpia dextre \" Tartara. De penis fratresque trahantur eorum,  \" Sitque beatus homo qui pro conflictibus istis \" Occumbet. Penas nequeat sentire gehenne. \" Non aliquis demon de crimine sive reatu \" Audeat ante Deum sibi conflictum generare. \" Gaudia dentur ei que fini subdita non sunt, \" Que servare solet vel que prebere beatis \" Splendor sanctorum, pia lux et gloria Ihesus. \" Non dubitent hi quos fuerit Regina polorum \" Cum nato comitata suo pugnare: Deus nam, \" Quia pia causa fuit pro qua vos arma tulistis, \" Adiutor fiet vobis, terrebit et hostes \" Et conculcabit divina potentia vestros. \" Hec ad certamen vos spes invitet euntes. \" Signifer et Michael vobis precedet, agetque \" Cum sociis hec bella suis Baptista Ioannes \" Et patriarcharum chorus arduus atque prophete. \" Ne trepidate: duces vobis in prelia fient \" Ecclesie Petrus cum Paulo tuta columna, \" Nec non Matheus, Lucas, Marcusque, Iohannes \" Et reliqui vestre facient solatia pugne. \" Auxiliumque dabit vobis certe protomartir \" Cum sociis Stephanus, Sylvester cum Nicholao. \" Virgineusque chorus vobis succurret, opemque \" Agmina sancta dabunt. Hanc spem retinete fidelem \". Dixerat: at lacrime fluxere per ora loquentis Ex oculis: deflent quia cernunt agmina flentem, Que votis pariter promittunt prelia totis. Denique castra petunt cum iam subit equora Titan. Nox habit. Aurore Phebus de parte resurgit. Bellica signa sonant. Toto properantque vigore Urbis ad introitum Pisanum robur et omnes  Gotorum populi vel quos Provintia misit. Intus Agareni perstant, valloque supersunt. Densa ruinosas iacit undique machina moles. Pisane bellant acies, adituque resistunt, Urbanas inter summis cum viribus edes Hostiles pellunt pugnantes fortiter alas. Post pedites equites veniunt, sed durius intrant. Difficilis ingressus equis, reditus nimis asper Cum remeare volunt. Miles Balearis ubique Cogit ad arma suos, vires adhibet reficitque. Alphei, litem telis gladiisque gerentes, Obstantes cohibent collatis nisibus hostes. Telorum super hos nimbi lapidesque ruentes Adveniunt: vallique terunt in margine ductos. Vertere terga parant, retro flectuntur habene Quos Balee faciunt nimium properare vigores. Sed Pisana cohors, per plurima vulnera lapsa, In sua castra redit, muri munimina linquens. Turres quam citius Baleares inde phalanges Letanter plaudendo petunt, et tympana letis Ictibus incipiunt ob gaudia summa ferire, In quibus et Furie poterant Bachusque notari. Tollunt astra diem, non preterit ira dolorque. Ut redit altera lux, certatim menia poscunt Pisani cunei, quibus hec sunt iurgia cure. Amplaque dupliciter via fit, temptatur, et intus Cunctorum parat ire vigor. Cum Phebus agebat In sublime suam progressus ab aequore lucem, Per factos aditus patulam pedes intrat in urbem, Inque resistentem turbam non leniter actus Barbaricis cuneis terrorem mortis agebat. Ast equiti nimis artus erat pro margine trames. Invitant pedites equites intrare, reductis  Qui convertuntur contra tentoria frenis, Quos vulnus trepidare facit seu funus equorum. Tunc equitum cemens extrinseca turba pavorem A fractis muris collapso robore cessat. Ista Mohabite cernunt, animisque resumptis, Per cunctas veniunt equites peditesque plateas. Dat tergum Pisana manus, que menia dudum Invasisse datur, clipeisque extimplo relictis Diffugiunt plures. Remanet Rainerus ibidem, Qui Malecomentum cognomento vocitatur. Quem socii postquam fugientes deseruere, Inter Agarenos nudo mucrone cucurrit. Ah quotiens fecere locum fugisse valeret, Si fuga tuta foret! gladio stetit ille minaci, Et quemcumque super violentia concidit huius, Cerbereos rictus et Tartara nigra petivit, Vel sine letali dum vixerit ille dolore Non erit. Hinc solum iussu petiere Coracis Et circumseptum iaculis fixere cohortes. Occubuit postquam sibi vulnera mille fuerunt, Exanimique viro, post vulnera tanta iacenti, Ablatum caput est: petiit pia sidera flatus. Ira patres populumque tenet, sociosque peremtos Egrotosque simul multa pietate queruntur. Agmina nam, postquam latices, non vina, bibebant, Conciderant morbis. Mutatio nempe ciborum Laxatos ventres in multa pericula traxit, Unde manus non parva malis oppressa cadebat. Innumeris igitur multi cecidere potentum, Qui titulis claris caput in sublime gerebant,  Et plures quibus equa stetit cum funere fama. Iamque viam tumuli pariter cum rure tegebant, Nobiliumque simul positas in litore capsas In reliquisque locis aliquis spectare valebat. Inter tot lacrimas natorum sive parentum, Tot licet ac tantos ferat inclita turba dolores, Non tamen a pugna cessat reliquoque labore. Decernunt pugnare patres, iterumque resumptis Viribus audaces animant in bella catervas. Dumque diem Domini celebrarent secula cuncta, Bertraminus Mauros petiit per prelia clarus, Cuius opes Arelate nitent, et origo parentum Nobilibus titulis viget illic clara suorum. Hic accinctus erat gladio, fundeque magister Hostiles acies lapides iaciendo petivit, Atque quod egregios fecisset sepius actus, Utpote qui sese cunctis conflictibus ultro Obtulerat, cuneos nichilum modicumve timebat Adversos. Hostis qui muris stabat in altis, Sepe, velut volucer quem grandinis appetit ictus Post frondem foliumve caput velociter abdens, Proiectos lapides vitabat tegmine quoquo. Hinc Balearis in hunc tectus; septemplice tergo Intrepidum iuvenem quidam properantius ibat. Hic igitur clippeum peditis post se venientis Accipiens, hostemque sequens, in menia sevos Provocat ad bellum Mauros de margine valli. Tunc Parthus, cui promta satis mens, promtior arcus Atque sagitta fuit, postquam contenderat arcum Transfodit fauces: penetravit missile guttur,  Audacem mors atra virum de nobilitate Tollit, quem socii deflent, celique coronant. Rore pruinoso, Phebo prestante calores, Et matutino iam frigore rura carebant, Cum turme, dapibus sumptis Bachique liquore, In Balee muros promtis non segniter ibant Gressibus, atque tube plus quam vicina replerant Cantibus, inque suis acies equitum peditumque Ordinibus steterant, astis vexilla micabant. Signiferi ducunt acies, et clamor euntes Concitat, et patulos invadunt agmina muros. Concurrunt hostes contra molimine toto, Alpheosque petunt et quam robustius instant. Saxa ruunt, et tela pluunt, et spicula ritu Grandinis instantes populos utrimque petitos Cuncutiunt prorsus, sternuntque teruntque premuntque. Vimineas crates moles lacerare videntur. Vulneribusque ruunt alii, moriuntur utrimque Multi, conspicitur sanguis profusus ubique. Iam remeare parant fesse per bella caterve, Difficilemque nimis nequeunt plus ferre laborem. Signifer Alpheus promto per bella vigore Discurrit, reficitque suas hortando cohortes. Adveniens super hunc magno cum turbine saxum Vexillum lanians, astam levumque lacertum Comminuit. De mortis eum rapuere periclis Quam celeres socii. Cure subiere medentum,  Nempe Boni proles Petrus, Gerardus et Ugo Ipsum peoniis curarunt protinus erbis. Casibus hic variis discrimina Martis aguntur, Occumbunt plures, redeunt sine vulnere nulli. Qualis ab Ideis populus remeabat Achivus Menibus, et quales fuerant per prelia Troes Dum bonus incolumes Hector Priamusque manebant, Protinus a pugna redeunt; sed barbara turba Funeribus variis plures habuisse querelas Creditur, et multo plures habuisse dolores. Cura patres Latios non parva dolorque premebant, Quod bene pugnatum sibi nullos attulit usus. Nam perfecta suis nec erat victoria dextris, Hostis bella magis quam curam pacis agebat, Et comes Ampurie nec non Catalanicus heros Ad patrios remeare lares properando petebant. Causa recedendi quenam vel qualiter esset, Nuntia carta fuit Baleam transmissa Diana. Illa Mohabitam molitum prelia regem, Et vastata satis narraverat optima terre,  A Barchinone muris nichil esse relictum Usque Terragonam quod lautum visibus esset, Omnibus inque locis Mauros referebat et ignem Rura, domos, segetes, fructus pariter populatos. Post multum dampni quod gens vesana peregit, Et Tramaricem captam dixere liture. Fidus erat comiti qui cartam duxerat istam, Et tamen hec fuerant aliter quam fama tulisset. Nam Barchinonam prefatus venerat hostis, Castraque Iudeo sua fecerat ardua colle. Urgelli comitem, comitem quoque Sardanieque Dicunt, et reliquos regionis ab usque Girunda Electos equites, quibus assunt prelia ludus, Agmine collecto crudeles Hismahelitas Mirando pepulisse modo, Domino faciente, Innumeras acies pauci pugnando fugarunt, Eque fugam versis multi cecidere, venirent Ad supradicti donec deserta Salodi. Captos constat equos plures, predamque potentem Barchinonensis populus perduxit in urbem. Nec Tramaricem captam ceu dixerat ille. Damna quidem fuerant, sed commoda plura fuerunt. Hanc comitis causam, qua posceret ille recessus, Diximus; ad reliquos nos ordo convocat actus. At comitem patres miti monuere relatu Ut desistat ab his, communia pacta per ipsum Intemerata rogant et iuramenta manere. Ille, licet causam quam patres dicere veram Noverat, a lucris se non subtraxit avaris.  Pacta reformantur, Barchinonensia damna Ut reparata forent. Dictis statuere supremis Condere tecta patres gravidis hyemalibus apta Temporibus, retroque iubent castella trahenda. Incrementa parant belli. Nova postulat hostis Federa. Federibus non audent credere multum Qui violenter amant aliquam sibi subdere gentem. Incustoditis etiam custodia non est Commitenda viris. Iuvenum laudabilis etas Sed non omnis adest. Laudandus ob omnia sensus Florentum iuvenum, quos vinum, fercula, somnus Fallere sepe solent, nec possunt affore queque Tuta iuventuti nimium que diligit ista. Ergo, soporifero saciati corpora vino Pisani iuvenes, testudine nocte quiescunt Hii quibus hostis erat Somnus, depulsus ab ipsis Noctibus innumeris. Baleares edocet ergo Ut Pisana petant nocturno tempore castra, Et: \" Properate, precor, sunt in testudine \", dixit. \" Quos retinere queo, teneo vincoque quiete \". Talia dicentem Balearis turba sequuta Nocte silente fuit, cuius custodia prima Transierat. Veniunt milleni castra petentes Armati, piceasque ferunt cum sulfure flammas Permixtas. Aliquis piceum persentit odorem. Ammonet ut vigilent. Sed iam vigilare nequibant, Quos Somnus lenis titubanti texerat ala. Auscultant quid agant hi de testudine: stertunt.  Inmittuntque focum: nichil est nisi somnus in illis. Per tabulas flammis diffusis tecta cremantur. Persentit strepitus somno decepta iuventus. A crepitante cito solvuntur somnia flamma, Protinus arma viri capiunt, clamare potenter Incipiunt. Una clamorem fecit et hostis. Vocibus et summis totum circumtonat agmen, Undique concepti moverunt castra tumultus. In Balee muros populus circumfluus ibat. Postquam cuncta rogus consumpsit, robora flamme Perdiderant. Mauri vocitant sua numina, sanctos Reginamque poli blasphemant crebro Mariam. Ut tenebris lapsis produxit ab equore Phebus Luciferos radios, populi fervente querela, Colloquii patres promtissima signa dederunt. Omnibus ad cetum venit de partibus agmen. Incipit Atho queri, sed concio tota querentem Attendit, brevibus narrantem singula dictis, Ignavos quosdam seu despectos vocitantem Et defraudantes sacramentum pietatis. Hec reliqui patres una populus comitesque, Hec viribus crebris, non bisve semelve petebant. Continuo castella trahunt retro bina, simulque Altera bina parant velociter edificare, Et mox ligna rates scripserunt cuncta daturas. Nec mora: ligna boves et mulus equusque tulerunt. Mulus, equus vel homo de regis attulit ortis Innumerum vimen, vites, malosque nucesque Et, glauce salices, si que poteratis in ullo Rure recognosci, vos horum vincla fuistis.  ',\n",
       "  'Anon',\n",
       "  'Maiolichinus'],\n",
       " [' Libro VII   Quattuor aereas castella videre per auras Surgere Pisana dudum poteramus ab arce. Massilie quondam Rome violenta potestas, Cui mare, cui tellus et plurima regna patebant, Ut superaret eam sane non celsius ullum Edificavit opus. Rector Balearis ab ipsis Nocte dieque suos nescit convertere visus Turribus, et similes operi fecere Latino Artifices totidem subita velociter arte. Ac, duplex aries quos crebro straverat ictu, Edificare parant celeri molimine muros. Inde Dianensem signatam mittit ad urbem Rex Balee cartam. Pontum brevis incipit alnus Scindere. Terra brevi spatio litusque petita Subsidium, socii simul alta Diana fuerunt. Ceperat et populus tales audire lituras. \" Nazaredeolus, Balearis rector et auctor \" Regni, mille suo felicia dona Buthali \" Atque Dianensi populo non parva salutis \" Gaudia. Velle meo vos quondam promeruissem \" Ut quam tuta modo solatia vestra rogarem. \" Sed tamen illa modo vobis solatia posco, \" Que nullo regi cognosco iure neganda, \" Adversatur enim cunctis communiter hostis \" Qui Machamaticum celebrandum numen adorant.  \" Nos leges moresque vetant retinere paternos, \" Observare monent stat contra dogmata quicquid, \" Et vitanda docent nostri precepta Rasulle. \" Captivosque petunt, quos latus pontus ab usque \" Oceano servire mee Balee vobisque paravit. \" Cuncta petunt etiam rerum discrimine nullo. \" Captivis habitis etenim sine conditione \" Poscunt ut, regni nulla michi parte relicta, \" Vita contentus regiones solus et urbes \" Quas placet ingrediar, vernis sociisque relictis. \" Vos modo per nostras dantem Machamata leges, \" Perque meum vos oro bonum dandumque datumque, \" Christicolis Balee populandum cedite numquam \" Conspicuum regimen, quod vestro pollet honori, \" Nam vestras replent eius bona plurima terras. \" At si non vultis nostras audire querelas, \" Nec vestre mentes sola pietate moventur, \" En trado vobis, Balee defendite regnum, \" Ne subeant hostes vestre precordia terre, \" Si Pisana manus violenter ceperit illud. \" Straverunt Ebusum. Balee spectate quid instet \" Per menses binos iam cuncta pericula passe. \" Belligeros stravere viros. Ad prelia fortes \" Qui superare queant rari michi nempe supersunt. \" Vires atque viros cupio per bella potentes. \" En renovo muros quos stravit plurimus hostis, \" Pugnacis Balee turres reparantur et arces. \" Confractas reparat turres sevissimus hostis, \" Nisibus et summis alias adiungere certat. \" Ad Moroch regem, cuius vos nempe sub ala  \" Tutos non dubito pacis gaudere quiete, \" Quas invitus ago pro me deferte querelas. \" Suscipiat Balee non tempnendos famulatus \" Atque tributa precor. Per eum retinere coronam \" Et regimen cupio. Nostrum Machamata testem \" Et data iura voco que nos retinemus ab illo, \" Vel iuramentis, que certius addere possum, \" Legatis faciam venientibus omnia vestris. \" Vos modo detis opem Balee vestre regioni, \" Ut qui cogit eam citius salvetur ab hoste \". Cognita sunt postquam que narrat epistola regis, Legatos regi Moroch misisse Diana Fertur. Et hec Balee direxit scripta Buthalis. \" Rectori Balee populisque tuentibus ipsam \" Sub duce tuta suo generosa Diana salutem. \" Quod Latii vestras invaserunt regiones \" Nos gravat, et certe communia dampna putamus \" Si Baleare bonum nostro tollatur honori. \" Quod vos forte volunt dimittere iura paterna, \" Invitis vobis, nunquam scimus faciendum. \" Christicole semper sunt contra dogmata nostra. \" Nos proprie legi, si possent, subdere vellent, \" Et servire suis obtarent cuncta tributis. \" Gentiles populos sibi subdere quippe laborant. \" Nos et vosque simul parili discrimine servos \" Quorum quis dubitet si vos violentia vincat?  \" Nos habeamus opes, nos defendamus honores \" Et regimen Balee qui missimus omnia Moroch \" Scripta ferenda probo domino nostro Mohabite \" Que transmisistis. Qui motus quippe suorum \" Dilectis precibus comitatum mittet equestrem \" Quam citius nobis. Classemque virosque paramus, \" Ut sistamus eos tutos in litore vestro. \" Signaque cum venient factos spectabitis ignes \" Montibus in vestris. Vestros attendite montes \". Cimba redit Baleam, verum putat esse tyrannus Quicquid carta refert et multum sperat in illis Promissis hominum que mortua tergora narrant. Cimbala pulsantur et timpana queque per urbem, Nec tuba nec lituus devotis cessat ab istis Leticiis, etenim Balee sunt talia ludus. Comperit interea cur gaudia duceret ista Barbaricus populus magnus Catalanicus heros, Et vocat in cetum proceres cunctasque cohortes. Ac verbis terret, si terreri potuissent, Quando Moabitas ex summo robore dicit, In patuloque docet fugientes ducere bellum, Nec fore poscendos nisi conducantur in artum, Moreque Parthorum fugiendo ferire sequentem. Cum solo solum gladio contendere dixit, Atque graves faciunt ictus si suppetit ensis. \" Qui non novit eos poterit satis ergo timere, \" At nos, qui variis bellis cognovimus illos, \" Si venient, auctore Deo, tute repetemus \". Sic comes. Ast Ebusum currentes mittere naves  Viginti patres communiter accelerabant. At sex ex illis, que precessere, per altum Transivere fretum, cursu propero venientes Quo superest pelago de duris insula saxis. Prebuerat portus urbs desolata Buthali, Qui timet audito Latias venisse carinas, Et cepisse duas ratium quas duxerat ipse. Pectore sed dubio tandem meliora revolvens Cogitat Alpheos quam tutos ire, nec umquam Adventum sentire suum, sparsosque per arvum Tendere pro preda, tutave manere quiete. Vera revolventem nec inanis opinio fallit. Ergo decem ratibus, reliquis consistere iussis Hic ubi portus erat tutus vicinior urbi, Remige quam celeri salsos invadere fluctus Precipit, ac portus aditusque requirit et ambit, Anticipatque sinus Latios ubi noverat esse. A somno surgunt isti pugnare parantes. Marinianus habens triginta scilicet ex his Quos secum duxit, festinius ire parabat Et pugnaturum fugiturum seque putabat, Cumque decem ratibus robur iuvenile per undas Pugnam committit. Sed vulnere Marinianus Afficitur, dare vela parans. Fugisse valeret; Impedit hunc velum quod tunc abeundo tetendit. At Mauri super hunc properos fecere tumultus, Et cepere virum pariter sociosque ratemque, Debilitando prius variis vulneribus omnes. Tresque rates alias paucorum nomine tutas, Devictas tandem secum duxere per undas. Plures qui fuerant loca per longinqua remoti Ad castrum veniunt, quod rex Norgvegius olim  Destruxisse datur, predam de rure trahentes, Carneque viventes, siliquis et agrestibus erbis, Radicibus plures etiam, modicisque steterunt Impensis in eo discrimina plura ferentes, Sepeque perpingues his esca fuistis, aselli. Hosque Saraceni pugnantes crebro petebant. Castrum tutamen Latiis crat hospiciumque. Interea gemine de sex rediere carinis, Amissis reliquis, predamque ratemque reducunt Quam Balee rector fertur misisse Dianam. Sarcina cartarum, quam vir tellure levare Vix posset, patribus data, legati que fuerunt, Inter quas pariles scripture comperiuntur. \" Nazaredeolus, retinens sua regna sinistris \" Auspiciis, caro per cuncta valere Buthali. \" Scripta tibi populoque tuo transmissa recepta \" Non dubito. Legique tuas cupiendo figuras, \" Quando rates poterant fluctus sulcare secundos \" Te mea promta fides credebat fluctibus uti. \" Nec de te mea spes mentem bene nota fefellit.  \" Ceptum stabat iter. Vobis dabat insula portus, \" Que prior est per me subite subiecta ruine. \" Gratulor audito vestro super hoste triumpho, \" Acta foret tanquam propria victoria dextra. \" Non tamen inde mee plenissima gaudia menti \" Sunt. Etenim vestros narrat michi fama recessus, \" Sepeque sublimi de turri cernere flammas \" Promissas cupio. Sed eas spectare volenti \" Si fierent, prohibent michi cum caligine nubes. \" Illis iratus: Citius discedite, dico, \" Non valeo per vos mea grandia vota videre. \" Discedunt, totoque patet cum monte cacumen. \" Prospitio. Nusquamque tuus viget ignis in illo. \" Ignis at ille meus, qui totis noctibus ardet, \" In sublime sua dat grandia lumina flammas. \" Credere non possum vestras remanere carinas \" Quin veniant. Dabit hora locum, quo nempe venire \" Intrepidus poteris, Balee solatia prestans. \" Si qua mei tibi cura subit, dilecte fidelis, \" Non regimen portusque meos nec munera sperne. \" Subsidieris ob hoc michi, quatenus, hoste fugato \" Et victo, pariter mecum communia regna \" Et commune bonum possis constanter habere \". His lectis, etiam quam plurima scripta leguntur, Queque neci deditos et eorum nomina narrant. Designant etiam quibus ictibus occubuerunt Et languore fame gentem gladioque coactam, Velocis citius passuram dampna ruine. Interea relique servantes equora naves, Contempto patrum iussu predamque sequute, Vicinas ponto villas et castra pererrant.  Ast hos Maurorum sparsos per rura sequentes Gaudebant cunei propero cohibere tumultu, Et victos pariter prestante vigore necare. His inerat Salomon Flava de gente creatus, Cum ratibus geminis Pisanis associatus, Viribus et menbris ingens specieque decorus. Hic intra quedam validi campestria castri Collectis spoliis navem properando petebat. Multus eques multusque pedes contendit in ipsum, Inque resistentem collatis viribus ivit. Hunc Paganorum straverunt agmina postquam A sociis homini capud abscidere relicto, Vexillumque sibi vitam pariterque tulerunt. Hec nova facta volant, dum multos omina terrent. Apropiantque dies adventus omnipotentis Invictique Dei, de virgine quando parente Christus, nostra salus, carnem nascendo recepit. Languor in urbe gravis Baleari, cura famesque Barbaricum populum non leniter attenuarant. Hinc, preter carnes, hyemanti cara fuerunt Omnia militie. Nec vino carius ullum. Insula vastatur Balee. Rex federa poscit. Fama refert comites regi de pace locutos, Venales factos, privataque dona rogare, Et propter reditum Balee naves habituros, Cum quibus ad patrios portus remeare valerent, Si modo Pisani iungi sibi federe nollent. Alpheis igitur ducibus quasi religionis Sermones faciunt, fraternas affore curas Pectoribus referunt. Captivos esse petendos Obsidibus sumptis, citiusque rogant redeundum.  Et cunctis coram sunt talia verba loquuti: \" Quod petimus rex omne facit, vos laudis honorem \" Queritis, et bellum tantum pro laude movetis \" Seu pro divitiis; vos et Maiorica vestros \" Sat parvipendit tantos illesa labores. \" Creditis et cleris, qui vos pugnare iubentes \" Agmina conspiciunt toto fluitantia campo, \" Bella videre volunt, gaudent de sanguine nostro \" Quorum doctrinam monitus et iussa refutent, \" Hi qui victores cupiunt ex marte reverti. \" Nos igitur nullus iubeat pugnare sacerdos. \" Quam cedat mucro nescit, quam lancea pungat. \" Incipiat, faciat, qui diligit ista iubere, \" Dicta quod a factis multum distare videntur. \" Nos qui sentimus crebrosque rependimus ictus \" Arbitrio pugnare decet, non iussibus horum. \" Contra iustitiam pugnam committere iuste \" Nemo potest. Iusti iustam cognoscite causam. \" Sunt pro captivis qui se venisse fatentur, \" Sed pro mundano nimis altercantur honore. \" Captivis habitis aliud linquatur, et ultra \" Nec laus orbis, honor, nec inanis pompa petantur, \" Sed vexilla super pateant communia turres. \" His habitis maiora quidem quicunque requirit \" Aspicit haud recto Balearica menia visu. \" Adde Mohabitas, quos expectare feruntur, \" Qui quantum gladiis et quantum cuspide possunt, \" Quippe viri Martis, docuit nos bellicus usus. \" Si venient ergo predam de rure feretis? \" Felices sane nimium si castra tenere \" Vos quoque tutari promte valeatis ab ipsis. \" Spes prede nec erit: gens hec qua lege valebit  \" Vivere, vitalis quando sibi decidet usus? \" Indubitanter equis nobisque cibaria desunt, \" Nec tam prolixa magis est ambage morandum. \" Dicite: quapropter, si regia federa vultis \" Et facitis, patrias una tendamus ad edes. \" Sive refutatis, nos incunctanter abimus \". His respondentes aiunt Henricus et Atho: \" Quisquis ad has partes aliud fortasse requirat, \" Nos pro captivis ad eas venisse fatemur. \" Non ob eos tantum quos detinet insula captos, \" Ast ob eos etiam quos detentura fuisset. \" Extirpare malum Domino faciente putamus, \" Nec volumus post nos tantum remanere baratrum. \" Non quia Pisani plures teneantur ab eius \" Pestiferis vinclis, plures de nomine vestro \" Perpetuis penis hostilis turba trucidat, \" Nobis vestra fides, socialia federa spondens, \" Sub iuramento sese coniuncxit. Et ultra \" Quam iuravistis vos obsecrare nequimus. \" Non tenor hoc faciet iusiurandum revocare, \" Velleque pro nostro nos non revocabimus unquam. \" Facta semel iuste stat turpe revolvere sepe. \" Paremus cleris, quia venit ab ordine sacro \" Iussio pugnandi. Nam iussit prelia papa \" Sedis apostolice, cuius precepta sequuti \" Tantum propositum nusquam mutare valemus. \" Cur discedatis non fecimus, haud faciemus. \" Hic neque discessus vobis videatar honestus. \" Si desunt vestes desuntque cibaria vobis, \" Vobis et vestris quod convenit omne paramus \". Auditis comites his verbis conticuerunt, A patribus sumptus qui largos sepe petentes  In proprios usus communia queque trahebant. Gothorum procerum postquam siluere farores, A pelago redeunt custodia publica prore Allatis scriptis, Baleam que cimba ferebat, Inter que fuerat memorati carta Buthalis. Inpensas multas ab amico nomine factas Commemorando refert; curet persolvere quicquid Pro se largiri rex obsecrarat amicum. Subsidium reliquum si quod iubet ille parari, Inmensos sumptus festinus mittere curet. Venturum sese mature premonet ante Quam geminare queat binaria cornua luna. At Pisana manus solitas non deserit artes Que sibi proficiant, festinans edificare. Patrum preceptis intrat quoque Carolus urbem, Iam dicto regi simili sermone loquutus: \" Iussio Pisarum, rex, nullis territa factis, \" Ad te me iussit concordi voce venire. \" Huc missus patribus sociisque faventibus adsum, \" Inque meo sensu posuerunt publica facta. \" Prospice quod docti debent ad cuncta videre, \" Et regimen retinere tuum cum pace labora, \" Non quia Pisani multum tua federa curent, \" Aut sine perfectis Balee remeare triumphis \" Optent. Ista tue sint constantissima menti \" Verba. Nec inerti memorabis singula sensu \" Quicquid dico notans. Tibi iam perpende quid instet. \" Es sapiens habitus, proprio sic consule regno, \" Ut valeas salvus tibi conservare fideles \". Dixerat, et regis recipit mitissima verba.  Thesauros cunctos, spolium promittit et urbis, Velleque pro sancto Petro se regna tenere Et pro Pisanis patulo sermone fatetur. Hincque cito sese spondet responsa daturum. Karolus inde redit; Pisane verba cohortes Accipiunt, et amant pacem laudantque voluntque. Obsidibus post hec quesitis, pacta secundum, Nobilium natis, mutavit verba tirampnus. Nam legis non esse sue prebere tributa Christicolis dixit, vel ab his regimen retinere. Firamt et hec veterum consulta fuisse suorum. Albicione sati veterem miratus amorem, Absque sui culpa vicioque fuisse remotum A se scire virum, cupideque videre precatur. Hic regem quesitus adit, secumque nepotem Ducit, et alterno regi coniunctus amore Ammonet ut populi Pisani compleat omnem Ipse voluntatem. Spondet rex, nec sine fraude. Interea Pisana super pia lumina flectens Astripotens rector respexit ab ethere castra, Et que languerant mox convaluere cohortes. Sed requies est nulla viris. In luce labores, Nocte repentino ferventia castra tumultu Crebro sollicitant stridentes Hismaelite. Cumque die quadam none succederet hore Oceanique maris peteret confinia Tytan, Stat vice qui comitum campum petit inclitus Ugo,  Cui Tepertiades comites sunt atque Recuccus. Inter condensos cuneos memorabilis heros Signiferum petiit, iaculi penetrabile ferrum Pectore submissum fixit tellure ruentem. Hinc Libicus quidam ruit ictu stratus ab eius, Ferrum gleba tenet, pretentaque frangitur asta. At pedes heroem Maurus iaculando requirit, Atque frementis equi transfigit viscera ferro. Iratus iugulare parat mavortius Ugo Barbaricum iuvenem. Medios quoque currit in hostes Debilitatus equus tenera cum concidit erba. Infremit, et Mauros ardenti lumine spectans Pugnat, et ense ferit se circumquaque petentes, Multorumque simul conflictus excipit unus. Cui dum subveniunt Parlasius Ugo Dodoque, Dat properanter equum bene promtus ob arma Recuccus. Iussa patres renovant. Hoc nam predantibus addunt Ut non desistant regionis tecta cremare, Et iugulare viros si quos reperire valerent. Ac solidos spondent equitis de vertice quinque, Pro iugulo peditis binos dare constituentes. Sic, Balee regnum gladius populatur et ignis. Inde viris nummi veniunt Baleeque ruina. Pisanos equites cunctos vigilare simulque Constitit in totis circumdare noctibus agmen. Tresque vices noctis, quibus alternare labores Continuos possent et se recreare quiete, Sub tribus egregie generosis distribuerunt. Ergo vicis prime curam Valandus habebat, Valando genitus: fuit, Ildibrande, secunde Tradita cura tibi, Matti pulcherrima proles: Presidet extreme Leo, clara propago Leonis.  Hi loricati sociis comitantibus ibant Murales aditus crebro terrore petentes. Inque die castella super facienda morati, Ligna trahi, crates fieri properando iubebant. Dux Catalanensis, cui plurimus affuit astus, Ad loca sive vias per quas iter esset ad urbem, Intentus spoliis, multo cum milite stabat, Inque Saracenos, preda iugulisque potitus, Letales studuit crebro conferre ruinas. Hoc et idem studium pre cunctis Balcius heros Militie ducibus clarus bellator agebat. Qui si quem prompto poterat superare vigore, Decapitabat eum, nec ei parcebat ob aurum. Per solitos mores, gelido mediante decembri, Frigora multa dabant venti caneque pruine. Albebant Balee nivibus et grandine montes, Artabant Mauros aure de frigore nate. Nempe notabantur cum cantibus edere fletus, Quos proferre solent vigiles super ardua cure Menia. Pisani frigus gelidasque pruinas Et gentes alie letanti corde ferebant. Pluribus at vicibus memorantes singula patres Colloquiis crebris bellum properare iubebant Armatasque rates Ebusi misere relictis. Ceperuntque leves pelagus sulcare carine. Sed prius a Balea puppis non magna recessit, Que, veniens Ebusum, fines poscebat Hyberos. In rate iam dicta fuerat clarissima quedam In patriam rediens cum parvo femina nato. Sulcantem pelagus castro videre morati,  Et latuere prius ne conspicerentur ab ullo. Moxque sinus adiit castello prora propinquos, Ac prodire viri festinavere carina. Dum loca scrutantes equatis gressibus irent, Exiliens Pisana phalanx promtissima Mauros Primitus obstantes iaculis gladiisque necavit. Sed servatur ab his cum nato femina parvo. Intrantes igitur navem sulcare parabant Pontum, cum totis aptabant carbasa remis, Cum subito videre duas freta scindere puppes, Heque cito cursu remis et fluctibus use Litora contigerant vicino proxima castro. Pisani postquam sese novere vicissim, Gaudia deposito duxerunt tanta timore, Quanta forent dulci pro nato gaudia matri, Si captus dudum nunc esset ab hoste reversus, Redderet aut functum divina potentia vite. Inde catervatim villam montesque petentes, Innumeris Mauris gladio stridente necatis, Ad magnam Baleam celeres fecere recursus. Letati patres omnes populusque ducesque Sumptus ac vestes sociis tribuere receptis. Interea Petrum rex advocat, ille vocatus Festinanter adit regem, placideque salutat, Astutoque viro cautis sermonibus inquid: \" Ut bene cognovi, rector carissime, verum \" Sub primis verbis coniungent federa tecum \" Pise. Te memorem verborum credo priorum, \" Cum quibus acceleres firmam coniungere pacem \" Dum potes, et citius facias quodcumque requirant. \" Sum quia Pisanus, nec ob hoc michi credere sperne.  \" Consiliisque meis si tu modo credere vitas, \" Adveniet tempus quo, rex, michi credere velles, \" Et dictis parere meis, si posse daretur \". At Petro Balee respondit talia rector: \" Petre, volunt omnes thesauros tollere nobis, \" Nec quicquam penitus vestri dimittere cives. \" Divitiis pauci nostra ditantur in urbe, \" Es tam grande dari non est etiam leve paucis, \" Ultra posse meum dare me sibi vestra requirunt \" Agmina. Quod possum largiri querere curent, \" Captivatorum si reddo sufficit agmen, \" Et cum perpetuo linquant mea federe regna. \" Unde viri vestri si non flectuntur ad ista, \" Inter nos et eos fiet pro velle Tonantis \". Sic ait. Auditis istis discessit uterque, Retulit ad socios colludia regia Petrus. Dumque dies fluerent, festinavere paratus Heroes Latii cogendo viriliter hostem. Hi villas et rura petunt, pars obsidet urbem, Cedibus et flammis regnum vastatur ubique. Tunc Arelatensis lustrans loca singula rector Castra refutabat facta sine strage videre. Nempe Saracenos truncos sine vertice plures Assiduus fecit, cuius sine sanguine fuso Non rediit mucro, nec acute cuspidis asta. Et sic Tartarea regni per inania nigri Compulit ire via plures inferna petentes. Cerberus obstupuit tenebrose portitor aule, Latratusque dedit, simul atraque regna tenentem Reddidit umbrarum pavidum vox garula regem. Ille suo famulo: \" Cur clamas, Cerbere? \" dixit. \" Iam iam pande quid est cur sic mea iura resolvis  \" Pestifero clamore tuo torvoque latratu. \" Infelix custos vocem sonitunique repone, \" Vel dicas citius que gens mea regna subintrat, \" Quis populos tantos tenebras sine luce petentes \" Sic properare facit: pandas quoque, Cerbere, causam \". Ille suo regi triplici sic ore locutus: \" O tenebrose pater, Pisane robora gentis \" Bella tue Balee fecisse feruntur in hora, \" Si pars existit regni Maiorica nostri. \" Roma quidem monuit: dimisit papa reatus \" Pro captivatis populo certare volenti. \" Plurima dampna facit nos hec tollerare potestas. \" Tartara nulla timent monitis eius morientes. \" At nostros Pisana cohors et Balcius heros \" Tartareis regnis et opus transmittit eorum. \" Nunc veniunt multi, plures michi crede futuros \" Cum Latie turme gladiis populantibus urbem \" Intrabunt nostram: tu mox fabricare cathenas \" Me suadente iube. Meruit tua turba ligari, \" Ne fugiat penas, quas iam meruisse putatur, \" Que Balee regem late veniendo sequetur: \" Secum quippe tuis feret agmina plurima regnis \". Dixit, et infremuit furiosus rector Averni, Terruit et manes querulo clamore tyrampnus. Exululant anime misera de carne solute Voce fremente ducis. Vox vallis ad ima recurrit. Occupat hinc langor regem faciente timore. Ille dolore caput queritur pectusque teneri. Hinc thalamos intrare parans minuisse cruorem Dicitur, et post hec paucis vixisse diebus. Ante tamen Burabe regimen cessisse putatur.  Ille quasi patris perfundens balsama corpus Condidit, et flevit multum posuitque sepulchro. Cerberus hunc postquam digessit ad antra geenne, Perque tenebrosam duxit Machamatus urbem, Stipitibus petitur, concurrunt undique manes. \" Ad me ferte meum \", conclamat sessor Averni. Eachus adstiterat dextra, leva Rodomantus, Et medias inter dixerunt talia flammas: \" In tetro genitor cui non est agmine compar, \" Ante tuos Balee rex est aterrime vultus, \" Qui fecit plures homines occumbere ferro, \" Compulit et multos Christi dimittere legem. \" Et quoniam nobis socios portavit amores, \" Da sibi flammifera consistere semper in aula, \" Condignasque suis meritis mox exhibe penas. \" Huius et eternis da flammis affore gentem, \" Perpetuasque iube socios portare catenas \". Turba ferum Balee regem comitata querelas Prebuit ad varios subito distracta dolores. Ille tridente suo ferventes concitat ignes, Exustumque flicit tectum penetrare favillas, Eque venenata faciens convivia carne. \" Vos fidusque meus mecum discumbite \", dixit. Paruerant iussis, veniunt ad prandia manes. Ipsorum sedes lapides perhibentur adusti, Exurens penitus consumit flamma sedentes. Primi ferventes gustus venere colubri, Ignea qui vivi gustantum viscera torquent Arida convivis sitis est, sanguisque draconum Felle niger multo tribuit potantibus austum.  Has epulas buffo prunis sectatur adustus, Innumerusque fuit. Lernea venena simulque Perfusum supra fortem tribuere liquorem. Poccula succedunt nesseis mixta venenis. Gustantum postquam ferventia viscera torquent, Spirituum rector nigrorum taliter inquit: \" O mea turba, meis Balearem discite regem \" Sedibus; et, quoniam cunctorum viscera fervent, \" Una Tantaleas vobiscum tendat ad undas. \" Sed vestrum super hoc prius exigo cemere ludum \". Ut lapidem Balee mutum consistere regem Conspiceres; tuleratque suos oblivio sensus; Obstupuit quoniam rapuit terror sibi mentem. Convive tandem post talia iussi tirampni Exiliunt, raptumque trahunt per inania regem Tartara, dilaniant, undis glatialibus addunt Exustum torrem: sitis est algore soluta; Mittitur in flammas; dolor est algorque calorque Ignibus amoto; senserunt viscera postquam Pestiferam siccata sitim, properavit ad amnem; Sed nequid accensos ob aquam removere calores. Nam latices, postquam voluit contingere labris, Astantem fugiunt umbram. Tunc margine ripe Ut lapis immotus prorsus stupefactus adheret. Deglutit miserum variarum forma ferarum, Sicque ferum regem tenebrosus discipat Orcus.  ',\n",
       "  'Anon',\n",
       "  'Maiolichinus'],\n",
       " [' Libro VIII  In solio regni Burabé post ista levatus Non permansuros citius conscendit honores, Usus enim regni fuit haud sibi tempore longo.  Cui Pisanorum captivos turba requirens A duce crudeli non congrua verba recepit. Iam Natalis erat, quo Christus Virgine natus Obscurum mundum divina luce replevit. Dumque pii festi summi celebrantur honores, Luxque pio populo postquam bis quarta refulsit, Maimonem sociosque datos novus ire Dianam Rex iussit. Fluctus intravit prora marinos. Pisani videre ratem citius properantem. Tunc festinanter puppes intrare parantes Sumptibus auxerunt prebentes singula patres. Et dum forte viris alimenta darentur et arma, Maimo peregit iter. Sed qua trahit impetus illum Non servando vias illuc sua vela relaxat. Spes erat hunc cito posse capi, si signa viderent Qualiacumque ratis; sed ventus carbasa perflans Luminibus puppem citius subtraxit eorum. Maimo viam, facit Latii rediere, volentes In Balee regnum studiosas ponere curas. Et dum nituntur ceptos superare labores, Alterutro referunt multi si viribus aut si Ingeniis nequeant ex hoste tenere triumphum. Ad proprias remeare domos ultraque morari Sese posse negant, pro morbo sive calore Extinctos memorant ex egretudine plures Seu gladio socios, paucos quoque vivere dicunt: Pro Balee pariter destructas affore Pisas Urbe satis stultum, sine re, sine mente videri.  Ergo rates omnes celeri reparare laborant Auxilio, ceptos nec deseruere paratus. Interea belli Catalanicus estuat heros Pro studio, magnaque ducem comitante caterva, Qua locus insidiis est, valle reponitur una. Sol fuerat. Prima radiarant omnia luce Secula, porta patet, de menibus egredientes Per loca tuta meant solito gestamine Mauri. At comes in sevos audacter prosilit hostes, Urbanam iuxta committens prelia portam, Que portum spectat qui Pineus est vocitatus. Utque Mohabitam viridi prostravit in erba, Asta viri dextrum de muris acta lacertum Transiit. Exultant Mauri letale putantes Hoc comiti vulnus. Post hec properando per urbem Nomina filsa ferunt comitis de funere ficta. Hinc relique gaudent servantes menia turme, Extinctumque canunt comitem, iugulare minantur Alpheos, seu perpetuis macerare catenis Ac penis variis alto clamore fatentur. Haud secus Alpheos factos sine principe clamant, Suadentes etiam ipsis, si vivere curent, Ut properent ad eos sub deditione venire. Pisani contra: \" Convicia vestra mineque \" Nos sub Rege poli non cogunt ulla timere. \" Venimus a patria summo sub principe Christo, \" Cuius ob auxilium Balee superabimus urbem, \" Qui servos Sathane gravibus vincire catenis \" Et gladiis nostris penitus dabit esse necandos. \" Illesumque, canes, comitem scitote Pirenum, \" Et vestre vicina satis fore tempora cladis \".  Post hec contendunt ad menia ducere turres. Gens divisa locis, patres, divisaque bella, Mox solide terre fossas velociter equant Ligna, lapis, vegetes, glebe proiectaque moles. In muris Mauri, nec progrediuntur ab urbe. Hinc vigor Alpheus turres ad menia ducit. Assistunt acies, perfringunt agmina muros. Interea Pisis matrone sive puelle Deponunt cultus, et templis semper adherent, Vota vovent et thura ferunt creberrima sanctis, Sepeque nudatis pedibus sacra templa petentes Profundunt lacrimas, dure dant oscula terre, Pro caris orant pienum pietate Tonantem, Victoresque petunt sanosque videre maritos. Volscorum presul meriti Rogerius alti, Viribus insignis, factis et origine pollens, Laurigeras Pisas comites spoliare volentes Territat, atque minans cohibet prohibetque rapinam. Per Latium totum ieiunia sancta precesque Papa iubet fieri, monet hinc et epistola Gallos. Annuit oranti divina potentia turbe, Et flentum gemitus divinas commonet aures. Quadragena dies seclis celebranda quibusque Virginis a partu populis festiva redibat, Qua pia cum nato virgo sacra templa petivit, Infantemque pium Symeon gestavit in ulnis. Nox fuerat celebris festive proxima luci. Accendunt Latii civilia robora flammis Noctu, de castrisque cremant velociter unum Inventa nuper Danais prudentibus arte,  Que miranda viros ceu nusquam visa latebat. Inde volant torres passim facilesque faville, Acta per alterius castri scintilla subintrat Crates, quod flammis crescentibus ocius ardet. Et candela velut siccis bene proxima lignis Siccam materiem tenues convertit in ignes, Et ceu paulatim grandis cito candet acervus, Sic castrum reliquum subito candere videres, Virgine cum sanctis natum genitrice rogante, Qui propria solus replet omnia secula luce. Nox ea letitia repletur, luce sequuta Preveniunt populos non parvula gaudia sanctos. Annua dum redeunt Agathes sollempnia sancte, De sub castello, quod porta marina peregit, Per triplices aditus Pisanum robur in urbem Pugnacis Balee robustis viribus intrat. At Latii cunei subierunt menia rari. Subvenit auxilio trepidanti protinus ale, Perque satis latas agmen Latiale plateas Insequitur. Cecidere duo de gente Latina, Persistunt aditu reliqui tollerantque ruinas, Quas iacti lapides transmissaque tela reportant. Post ubi telorum densi superant iaculatus, Nec locus est gladiis, fugiunt velociter extra. Impositum fovee succendit barbara pontem  Flamma, sed Alphei pavidi successibus instant, Et nituntur aquis extinguere cominus ignem. Ad primos aditus hi quos Provintia bello Misit, inire parant rigide certamina pugne, Contempnuntque sibi socios preferre Latinos. Hos brevibus tectos clipeis Balearica turba Aspicit, innumerisque caput seu crura sagittis Figit, et e tota propellit turpiter urbe. Presbiter Henricus, plebanus nocte propinqua Somnia leticie vidit presaga future. Talis facta viro vox auribus: \" Accipe \", dixit, \" Astra volunt hodie Pisinos urbe repelli, \" Cras vespertinis horis intrabit in urbem \" Lauriger Alpheus populus pro velle Tonantis \". Hoc et Toem monuit fratrem defunctus, et inquit: \" Nec timeas, veniam socius per prelia tecum \". Urbem posse capi iam desperaverat agmen. Per tres ergo vices committere prelia mane Patres atque duces communi voce iubebant. Nec clarum prorsus nec erat sine turbine tempus, Cum peditum cunei pugnam dubitanter adirent. Moliti decies aditus intrare patentes, Eiecti vicibus totidem murisque repulsi.  Pretereunte die, commitere prelia septem, Qui turrem Balee nuper captam retinebant, Ceperunt, aditu visam consistere primo. Innixus scapulas muro processerat unus, Et luteum temptabat opus subvertere: Maura Turba virum petiit, propero quoque tela volatu Missa resistentis clipeum fixere tenacem Istius, et robur dum Maurus cemeret ingens, Protinus agrediens robusta cuspide fixit Septemplex tegmen, sed telo protinus eius Durius affixus de muris concidit altis. Corruit eiusdem gladio percussus et alter. Maurorum cunei super ardua robora muri Plenius ascendunt, septem superare putantes, Et de presenti superatos tollere vita. Desuper adveniens divinus Spiritus illic Accendit socios, quorum vox trina Tonantem Factorem rerum dominum confessa rogavit. Hi, gravibus clipeis texerunt corpora postquam, Obstantes poscunt rigidis mucronibus hostes, Et faciunt plures collatis viribus ictus, Et multi plures sevo sibi dantur ab hoste. Tum Deus Alpheis largitus prosperitatem, Successus pandit letos optataque vota. Barbarice gentis mutans cum casibus omen, Voceque terribili Mauros gladioque poposcit Parvula turba feros celesti tacta vigore. Et velut armentuni tygres seveque leene  Poscunt, quando fames ipsas accerrima cogit, Pestiferoque boum conscindunt viscera dente, Sic socii septem plures gradiuntur in hostes, Fundentes iaculis simul et mucronibus ipsos. Barbara turba fugit. Latii, clamore levato, Per patulos aditus socios intrare precantur. Preveniunt omnes alios Sicheria proles Rainerius socios et Teperterius heros. Una Viscardus comites et Grunnius ipsis Extiterant propere, qui barbara terga secuti Cedentem turmam iaculis feriendo trucidant, Introitum donec fugientibus edit alumpnis Robustas pandens vetus Elmodenia valvas. At de parte maris pugnax Eufraxius urbem Intrat cum nato. Stat Maura caterva platea, Inque viros properata ruit stridentibus armis, Quos poterant terrere satis volitantia saxa. Intrepidus cum patre manet Bernardus, et Alcem Contra se positum durata cuspide sternit. Tunc Ildebrandus: \" Ferias, precor, optime fili, \" Nec cuiquam parcas gladio si deficit asta. \" Pro patria pugnare docet veneranda vetustas, \" Et nostri quondam micuere per arma parentes \". Dixit, et Agilion iaculo prosternit; at ense Brusei feriens caput a cervice resolvit. Difugiunt statim reliqui, fugientibus instans Cum genitore satus pertundit barbara terga. Undique currentes equites, mixti peditesque Audacis animi compressis gressibus intrant. Per solitas veluti subeunt examina sedes, Sic vigor Alpheus latam progressus in urbem  Dispersas fundit iaculis gladiisque catervas. Hic caput abscisus, pectus transfossus et alter, Visceribus fusis alius tellure iacebat, Humanoque nimis terram maduisse cruore Et fluxisse putes commotos sanguine rivos, Sicut cum, proprio dimisso flumina cursu Expaciata satis, quando revocantur in amnem Efficiunt rivos plures densasque lacunas. At rabidos postquam gladius deleverat hostes, Menia cum tectis retinent urbanaque templa Christicole, longus quos iam labor attenuarat, Et servant ipsam studiis vigilantibus urbem, Ac solito belli numquam removentur ab usu. Artibus intendunt, peragunt vincuntque labores. Destructis tectis via fit, castella trahuntur. Namque Bebelgidith portis sunt addita bina, Elmodenorum totidem sunt addita muris. Denique turritos Latialis machina muros Sternit, adequantur propero conamine fosse, Heque cadaveribus multis lignisque replentur. Barbara gens grandi nimium concussa timore Castra Pirenei comitis tremebunda subintrat, Ad quodcumque velit cupiens se iungere fedus, Si bellatores indempnes atque soluti Incolumes etiam cum libertate sinantur. Talia dum referunt, cetum properanter in unum Accitus populus pacis de federe tractat. Ecclesie pastor suscepit iura cathedre. Clerus adest, proceresque simul, contentio crescit Maxima, divisas pandunt certamina mentes. Pars trahit ad pactum, pars diligit altera pugnam. Collaudat clerus partem pugnare volentem,  Sanctus et antistes cum cardine prelia censet, Hisque favent acies. Contra Catalanicus heros Ampurieque senex contendunt atque Videlmus, Et sancti cleri fimas convertere mentes Muneribus largis, precibus precioque laborant. Hec pius, ut renuit, convicia sustinet ordo. Tunc cum Bernardo verbis Gratianus honestis Verba refert avidis Gothorum congrua dictis. Profundens lacrimas mestus cum cardine presul Sic genibus fusis numen celeste precatur: \" Conditor omnipotens celi terreque creator, \" Cuius perpetuo sunt condita secula iussu, \" Et quodcumque viget, quodcumque videtur in illis, \" Clamantum, petimus, lugubres intende precatus, \" Et confidentes in te, pater optime, serva, \" Ecclesieque tue, pro te certare volenti, \" Auxilio succurre pio: da vincere gentem \" Sacrilegam, multa sanctorum cede madentem, \" Et pietate tua rogantes respice servos \" Qui te factorem cunctorum semper adorant. \" Et tu, sancta Dei Genitrix, regina polorum, \" Una cum sanctis nostros suppleto rogatus \". Estuat interea castris Pisana iuventus. Protinus incipiunt pugnam Brunicardia proles, Arma petunt Latii; renuit dux bella Pyrenus; Accedunt muris, et poscunt Hismahelitas. Anticipant aditus, et portis cominus instant. Pagane contra miscent fera bella phalanges, Tutantes fractos invicto robore muros.  Acrius Alphei subeunt, armisque corrusci Duros irrumpunt aditus virtute coacta. Hos lapides et tela petunt misseque sagitte Et quas interior iaciebat machina moles. Tutantur clippeis tectos toracibus artus, Et iaculis missis poscunt mucronibus hostes, Immotique loco bellum renovantque feruntque. Mixta manus post hos, perpessa frequentia tela, Ardet in obstantem properanter currere turbam, Unde graves missi veniunt in scuta molares. Hinc de plebe viri, conversi terga, videntur De fractis muris turpi cecidisse ruina. At qui bella queunt animi tolerare vigore Obstantes arcent infracto robore turmas, Quamvis ter fuerant socii de marte repulsi. Tum vice qui comitum stat pollens viribus Ugo Militibus paucis intrat comitantibus urbem; Impetit et Mauros et cuspide turbat acuta, Ut celeres damas pardus per devia rura. Nisibus herois cum duriter inguina fossus Tenderet ad manes inmanis viribus Alchas, Accurrunt acies relique, ferroque micanti Perlustrant urbem. Multum tamen ante cruoris Excepit tellus, quam vertere terga coacti Desererent qua tunc steterant pugnando plateam. Vexillum peditum tunc Ansualdica proles Francardus gestans hostes aliunde petivit. Ast Ugonis eo comitantur et Uguitionis Artificum valide pagana per agmina vires  Sibillaque satus, multa comitante caterva. Hique vigorosi certatim bella volentes Pugnando darsana petunt, paganaque leto Agmina dant. Balee poscunt velociter arcem, Et quacumque ruunt bellum letale videres. Interfecta iacent per cuncta cadavera templa, Vulnera corporibus stillant, rivique cruoris Undique diffusi latas tenuere plateas. Pars gladio percussa cadit, pars capta tenetur, At reliquam gentem vetus Elmodenia servat. Hinc comes accelerans alia de parte Pyrenus Iudeos omnes sub deditione receptat. Circuiens properat captam gens sancta per urbem, Ferrea captorum dissolvens vincula fratrum, Cui faerant ostrum, bissus seu purpura vestes, Aurum cum gemmis, hispanaque pallia prede. Pars restabat adhuc, fuerat pars acta laborum. Vallatur populis urbs Elmodenia, cuius Obsidet assidue celsos gens provida muros. Ut castella trahant Pisani menia sternunt, Urbeque de capta planant obstantia queque. Qui presunt muris nutantes federa poscunt, Et fore non poterat variis concordia dictis. Angulus hanc habuit quam frangunt agmina turrim, Et subeunt aditus pugnantum robore factos. Vi capitur turris; labor est inmensus in illa. Crescit, et artificum cito fit molimine maior. Signa superponunt, et clamant menia capta. Undique concurrunt, passim properatur ad arma. Tutantur Mauri iaculis gladiisque fenestras A Latiis factas, quorum prontissimus, acri Dum perstat pugna, capud emittitque fenestra,  Tentus ab Alpheo perfertur crinibus extra, Abscisusque iacet nil proficiente Rasulla. Iam patet introitus; pubes Alphea subintrat, Lesa fugit moribunda falanx, repetitque coacta Urbem, que regis sat parvula circuit arcem. Occubuere tamen plures ferro, quibus extra Late profusus cruor extitit experimento. Circumstans Pisana manus muralia frangit Robora cum tectis, binasque ad menia turres Festinando trahit; formidine barbara turba Concutitur; poscunt vite tutamina pauci. Alphei nec concedunt, nec pacta refutant. Pars scalis innixa subit, pars funibus acta Excelsas scandit nec inerti robore turres. Barbara gens faciendo fugam conscendit in arcem. Arx invicta stetit bellis superanda cruentis, Septem protensas porrexit in aera turres Sat plus sublimes quam celsa theatra Quiritum. Pontica vis, late preruptis subdita saxis, In tuto posite latus unda proluit arcis. Partibus a reliquis fossa circumdatur ampla, Lata decem fuit hec, undenis passibus alta. Hanc tutabantur fortes per prelia mille.  Et darsana super positas duo robora turres Audaces pariter nitebantur retinere, Monstrabantque suos validos in bella furores. Dum dant assaltus crebros, dum vulnera miscent, Dum perimunt plures, multos fundendo cruores, Turribus insistens geminis Alphea iuventus Menia tutantes duros deterret Hyberos. Tormenti iactu muri sternuntur et hostes, Quos aries pulsat, quatit et densissima moles. Maura manus murum, per quem testudo trahenda Obstantem turrem iuvenilibus acta petebat Viribus, in celerem mox compulit ire ruinam. Angulus inpulsus turris ruit. Improba turba Protinus inde fugit. Scala Raimundus in ipsam Scandit, terque decem Mauros pugnando fugavit. Hinc audax quemdam prosternit cuspide vasta, Insistens gladio multos perimit feriendo. His reliquos sequitur letis successibus hostes. Difugiunt alia dimissa barbara turri Agmina precipiti saltu. Sed quinque superstant. Hi trabe percutiunt pugnantem, fortius ille Perstat: tunc validi saxi confringitur ictu, Oraque cum mediis moles proiecta resolvit Faucibus, hinc lapsus de muro concidit alto, Belligerator obit. Celi de carne solutam Accipiunt animam. Socii deflentur amores, Notus et ignotus lacrimas dant atque querelas, Et gemitus pariter mittunt communiter altos. Accedunt acies, turri subponitur ignis, Perque gradus Ugo scale Fugatia scandit.  Quinque superstantes adversis viribus hostes Conantem iuvenem multo stridore coartant. Denique conanti poterat succurrere nemo, Milenos ictus clipeo galeaque ferenti. Longa laboris erant nimium toleranda pericla. A prima solis subit hic certamina luce, Que nonam sane durare videntur in horam. Accensis animis tandem quidam sociorum Ingreditur turrim prudenter, summaque scandit, Et dum quinque petunt nudis mucronibus ipsum, Ugo subit turrim, binique subinde secuntur. Primus et hic gladio mox privat vertice Maurum, Atque, rota posita, clipeum velociter huius Accipit, et reliquos gladio violentus eodem Appetit, ac binos stricto mucrone recidit. Ast alios binos bini stravere sodales. Arx sine profuso numquam superanda cruore Restabat. Sedet hanc Pisana potentia circum, Observatque simul, venatrix utpote turba Orrendos ursos servat, cohibetque caverna. Rex novus interea factis perterritus istis, Postquam cuncta vidit Pisano robore vinci, Vivus ut evadat timidas se flectit ad artes, Expertosque satis promissis implet amicos. Et rate vectus habit, septem comitantibus illum, Qui Baleare solum dudum rexere priores. Hunc Dodo, qui vigili servaverat equora cura, Sulcantem pelagus capiens ad castra reduxit. Christicolas nuper solitus macerare catenis  Compedibus tentus rex ferrea vincla subivit. Hinc Balee populus regem sibi fecit Alanta Hispanum, cuius nec erat durabile regnum. Qui, de Dalmatii leto perterritus extans Cui caput arripuit, nulli se credidit umquam. Hec timidus memorans binos sibi reperit utres, Et vacuas inflans multo subflamine pelles Intro commissis cohibet spiramina filis. Sic Hispanus Alas, pro navi pellibus usus, Per freta longa natat, credas delphina natantem. Equore diffugium facit hic, sociosque relinquit. Perfringunt muros urbis Pisana domosque Agmina, per factos aditus castella trahuntur. Artibus, ingeniis, augmenta per aera crescunt Artificum studio, civisque laborat et hospes Alterutri parti nimie dare dampna ruine. Saxa, lapis, cespes late fundamina fosse Intus iacta replent; muris castella propinqua Consistunt; durus paries berbece foratur; Turres alterno conduntur in arce labore; Fulcra superponunt, pretiosaque pallia, telas, Que sua non faceret multo mercator in auro. At sub castello positi de menibus ignes Sulphureas mittunt per aperta foramina flammas, Quas auste puteis poscunt et fontibus unde. Extinctas Latii flammas torresque putabant, Clam vigiles sed erant: tunc alta palatia moles Et tormenta petunt; certant cum turribus unci,  Funibus et tracte ducuntur ad infima turres. Postque dies aliquot furtive robora flamme Creverunt subtus, fumus quoque qualis ab Ethna Progreditur, tetro quando Vulcanus in antro Concitat igniferas plenas caligine nubes. Tunc propere poscuntur aque, superadditur unda, Sed proiecta nequit tectas extinguere flammas. Castellum mox retro trahunt, dum desinat ignis. A proprio postquam cessavit flamma calore, Ingeniosa cohors castella reducit ad arcem Percutiens aries inpulsu perpete turrim, Robora celsa quatit, labuntur ad infima cautes. Interea Sochi cum binis cessit ab arce Militibus, pueris comitantibus atque puellis, Et dedit Alpheis precium sine nomine multum. At reliqui flammis sese donare minantur Quicquid habent precii, nisi, libertate potiti, Ad quecumque velint loca permittantur abire. Alphei contra referunt: \" Vos perdat et aurum \" Cunctipotens vestrum, qui tam perversa putatis. \" Carius est etenim vos tali morte resolvi \" Nobis, quam Balee pretiosa vel optima queque \". Hec Gerioneus populus non percipit aure. Tormentis AIphea manus circumpetit arcem, Constituitque duos mirando rabore pontes. Menibus impositum Pisanum robur in unum Protinus ascendit, lente dum ponitur alter. Dum pugnant Mauri tantisque laboribus assunt,  Alphei properant. Procedit Grunnius ante, Oppositumque sibi violentem proterit hostem, Iuxta quem reliqui mox progrediuntur in arcem. Maurorum quidam statim descendere scalas Incipiunt, multi sese preferre periclis Mortis non dubitant, ne confodiantur inulti. Sed velut accipitres celeri properare rotatu Pennarum levitate solent, ubi plurimus anser Aere suspensus fluvialia deserit arva, Et prosecta velut promtos laniata per ungues Cum plumis distracta iacent, sic cernere posses Pisanos properare viros, Maurosque iacere. Inde Pyrenee regionis rector in arcem Ascendens letus, superatos increpat hostes. Plures ense cadunt, multi cecidere fenestris. Hic certat iugulare mares, trahit ille puellas, Et facta preda muri sternuntur et edes. Hinc ignis cesos et lingnea tecta perurit. Depopulans agros terre loca circuit hospes. Inde viri veniunt et cum pueris mulieres, Inde boves pecudumque greges et multa supellex.  Pasca celebratur. Burabe de nexibus exit, Cuius dat nato Pisana potentia regnum. Denique victores, felici classe parata, Ad sua quique meant. Hos et de litore spectant Et miranda canunt Christi magnalia gentes. Pisanam tandem Burabe transductus in urbem Prebuit Italie sese spectabile monstrum.  ',\n",
       "  'Anon',\n",
       "  'Maiolichinus']]"
      ]
     },
     "execution_count": 5,
     "metadata": {},
     "output_type": "execute_result"
    }
   ],
   "source": [
    "# Hand-checked complete text-retrieval here:\n",
    "\n",
    "text_dict['Anon']['Maiolichinus']['text2']"
   ]
  },
  {
   "cell_type": "markdown",
   "metadata": {},
   "source": [
    "### Exploratory Analysis:"
   ]
  },
  {
   "cell_type": "markdown",
   "metadata": {},
   "source": [
    "#### Word Tokenization and Stop Words:"
   ]
  },
  {
   "cell_type": "code",
   "execution_count": 6,
   "metadata": {},
   "outputs": [],
   "source": [
    "author_str = str()\n",
    "author_list = []\n",
    "\n",
    "count_list = []\n",
    "\n",
    "for author in text_dict.keys():\n",
    "    \n",
    "    for work in text_dict[author]:\n",
    "        \n",
    "        author_str = \"{}: {}\".format(author, work)\n",
    "        \n",
    "        author_list.append(author_str)\n",
    "        \n",
    "        count_list.append(len(text_dict[author][work]['text1']))"
   ]
  },
  {
   "cell_type": "code",
   "execution_count": 7,
   "metadata": {},
   "outputs": [],
   "source": [
    "wordcount_df = pd.DataFrame(author_list)\n",
    "\n",
    "wordcount_df['Word Count'] = count_list"
   ]
  },
  {
   "cell_type": "code",
   "execution_count": 8,
   "metadata": {},
   "outputs": [
    {
     "ename": "SyntaxError",
     "evalue": "invalid syntax (<ipython-input-8-40c5c93bca4b>, line 1)",
     "output_type": "error",
     "traceback": [
      "\u001b[0;36m  File \u001b[0;32m\"<ipython-input-8-40c5c93bca4b>\"\u001b[0;36m, line \u001b[0;32m1\u001b[0m\n\u001b[0;31m    sns.\u001b[0m\n\u001b[0m        ^\u001b[0m\n\u001b[0;31mSyntaxError\u001b[0m\u001b[0;31m:\u001b[0m invalid syntax\n"
     ]
    }
   ],
   "source": [
    "sns."
   ]
  },
  {
   "cell_type": "code",
   "execution_count": null,
   "metadata": {},
   "outputs": [],
   "source": []
  },
  {
   "cell_type": "code",
   "execution_count": null,
   "metadata": {},
   "outputs": [],
   "source": []
  },
  {
   "cell_type": "code",
   "execution_count": null,
   "metadata": {},
   "outputs": [],
   "source": []
  },
  {
   "cell_type": "markdown",
   "metadata": {},
   "source": [
    "##### Stop Lists:"
   ]
  },
  {
   "cell_type": "markdown",
   "metadata": {},
   "source": [
    "Here, we will be creating lists of stop words (i.e. words that are too common to factor into our analysis).  After creating them, we will take these out of our tokens so they don't interfere with analysis of style, etc."
   ]
  },
  {
   "cell_type": "code",
   "execution_count": null,
   "metadata": {},
   "outputs": [],
   "source": [
    "# Variables for storing our stop words in the function below:\n",
    "pet_texts = list([bc_pet2, africa2, varia_pet2, psalmi_pet2])\n",
    "pet_stops = set()\n",
    "\n",
    "gio_texts = list([carmina_gio2, bc_gio2])\n",
    "gio_stops = set()\n",
    "\n",
    "dante_texts = list([egloghe_dante2, quaestio_dante2, dve_dante2])\n",
    "dante_stops = set()\n",
    "\n",
    "anon_stops = set()"
   ]
  },
  {
   "cell_type": "code",
   "execution_count": null,
   "metadata": {},
   "outputs": [],
   "source": [
    "import cltk.stop.stop\n",
    "import cltk.stop.latin\n",
    "\n",
    "# Defining our stop list constructor:\n",
    "Stopper = cltk.stop.latin.CorpusStoplist(language = 'latin')\n",
    "\n",
    "# Creating a function so we can generate stop word-lists\n",
    "def Stop_Builder(text_list, end_set):\n",
    "    \n",
    "    for text in text_list:\n",
    "    \n",
    "        x = Stopper.build_stoplist(text, \n",
    "                                   basis = 'frequency', \n",
    "                                   size = 50, \n",
    "                                   remove_punctuation = False)\n",
    "        \n",
    "        end_set.update(x)\n",
    "        end_set.update(cltk.stop.latin.PERSEUS_STOPS)"
   ]
  },
  {
   "cell_type": "code",
   "execution_count": null,
   "metadata": {},
   "outputs": [],
   "source": [
    "# Running our functions:\n",
    "Stop_Builder(pet_texts, pet_stops)\n",
    "Stop_Builder(gio_texts, gio_stops)\n",
    "Stop_Builder(dante_texts, dante_stops)"
   ]
  },
  {
   "cell_type": "code",
   "execution_count": null,
   "metadata": {},
   "outputs": [],
   "source": [
    "# Since this author only has one text here, we ran it outside of the function:\n",
    "anon_stops.update(Stopper.build_stoplist(liber_maio2, \n",
    "                                         basis = 'frequency',\n",
    "                                         size = 50,\n",
    "                                         remove_punctuation = False))"
   ]
  },
  {
   "cell_type": "markdown",
   "metadata": {},
   "source": [
    "Since it looks like our stop-list generator caught a few words we do not want to include in our stop-list, we will go ahead and take them out."
   ]
  },
  {
   "cell_type": "code",
   "execution_count": null,
   "metadata": {},
   "outputs": [],
   "source": [
    "# Creating lists of words we want to keep/not consider as stop words:\n",
    "\n",
    "pet_removal = ['amen', 'amor', 'arma', 'astra', 'bello', 'clausa', 'decus', 'dies',\n",
    "               'ego', 'domine', 'fata', 'filio', 'forte', 'fortuna', 'mors', 'semper',\n",
    "              'gloria', 'miserere', 'patri', 'principio', 'sancto', 'scipio', 'secula',\n",
    "              'seculorum', 'signa', 'spes', 'spiritui', 'tempora', 'valle', 'vita']\n",
    "gio_removal = ['agam', 'amor', 'amplexus', 'annos', 'constantia', 'dolor', 'forte',\n",
    "               'iacet', 'montes', 'pascua', 'precor', 'silvas', 'silvis', 'tempus', \n",
    "               'videre', 'vita', 'fata', 'mors']\n",
    "dante_removal = ['alphesibeus', 'capelle', 'carmine', 'ego', 'melibeus',\n",
    "                 'pascua', 'potest', 'secundum', 'senex', 'tityre', 'tityrus',\n",
    "                 'vero', 'videtur', 'vulgare', 'vix', 'dicimus', 'mopsus']\n",
    "anon_removal = ['agmina', 'balee', 'bella', 'hostes', 'menia', 'plures', 'populus',\n",
    "                'turres', 'urbem', 'viribus']"
   ]
  },
  {
   "cell_type": "code",
   "execution_count": null,
   "metadata": {},
   "outputs": [],
   "source": [
    "def Remove_Function(stop_set, removal_list):\n",
    "    \n",
    "    for x in removal_list:\n",
    "        stop_set.remove(x)"
   ]
  },
  {
   "cell_type": "code",
   "execution_count": null,
   "metadata": {},
   "outputs": [],
   "source": [
    "Remove_Function(pet_stops, pet_removal)\n",
    "Remove_Function(gio_stops, gio_removal)\n",
    "Remove_Function(dante_stops, dante_removal)\n",
    "Remove_Function(anon_stops, anon_removal)"
   ]
  },
  {
   "cell_type": "markdown",
   "metadata": {},
   "source": [
    "##### Word Tokens:"
   ]
  },
  {
   "cell_type": "markdown",
   "metadata": {},
   "source": [
    "Now, we will create our word-based tokens, and remove any stop words from them:"
   ]
  },
  {
   "cell_type": "code",
   "execution_count": null,
   "metadata": {},
   "outputs": [],
   "source": [
    "from cltk.tokenize.word import WordTokenizer\n",
    "from nltk.tokenize.punkt import PunktLanguageVars\n",
    "\n",
    "word_tokenizer = WordTokenizer('latin')\n",
    "punctuation = PunktLanguageVars()"
   ]
  },
  {
   "cell_type": "code",
   "execution_count": null,
   "metadata": {},
   "outputs": [],
   "source": [
    "# Petrarca:\n",
    "psalmi_tokens = list()\n",
    "pet_varia_tokens = list()\n",
    "pet_bc_tokens = list()\n",
    "africa_tokens = list()\n",
    "pet_container = [psalmi_tokens, pet_varia_tokens, pet_bc_tokens, africa_tokens]\n",
    "\n",
    "# Gio:\n",
    "carmina_gio_tokens = list()\n",
    "bc_gio_tokens = list()\n",
    "gio_container = [carmina_gio_tokens, bc_gio_tokens]\n",
    "\n",
    "# Dante:\n",
    "egloghe_tokens = list()\n",
    "quaestio_tokens = list()\n",
    "dve_tokens = list()\n",
    "dante_container = [egloghe_tokens, quaestio_tokens, dve_tokens]\n",
    "\n",
    "# Anon:\n",
    "liber_maio_tokens = list()"
   ]
  },
  {
   "cell_type": "code",
   "execution_count": null,
   "metadata": {},
   "outputs": [],
   "source": [
    "def Tokens(texts, containers, stops):\n",
    "    \n",
    "    y = 0\n",
    "    \n",
    "    for x in texts:\n",
    "        \n",
    "        beta = word_tokenizer.tokenize(x)\n",
    "        \n",
    "        beta2 = [w for w in beta if not w in stops]\n",
    "        \n",
    "        containers[y].append(beta2)\n",
    "        \n",
    "        y += 1"
   ]
  },
  {
   "cell_type": "code",
   "execution_count": null,
   "metadata": {},
   "outputs": [],
   "source": [
    "Tokens(pet_texts, pet_container, pet_stops)\n",
    "Tokens(gio_texts, gio_container, gio_stops)\n",
    "Tokens(dante_texts, dante_container, dante_stops)\n",
    "\n",
    "beta = word_tokenizer.tokenize(liber_maio2)\n",
    "liber_maio_tokens.append(beta)"
   ]
  },
  {
   "cell_type": "code",
   "execution_count": null,
   "metadata": {},
   "outputs": [],
   "source": [
    "# Deleting a few variables we no-longer need:\n",
    "del pet_texts, gio_texts, dante_texts, pet_removal, dante_removal, gio_removal, anon_removal"
   ]
  },
  {
   "cell_type": "markdown",
   "metadata": {},
   "source": [
    "#### Token and Stop Analysis:"
   ]
  },
  {
   "cell_type": "code",
   "execution_count": null,
   "metadata": {},
   "outputs": [],
   "source": [
    "import collections"
   ]
  },
  {
   "cell_type": "code",
   "execution_count": null,
   "metadata": {},
   "outputs": [],
   "source": [
    "# Un-nesting our lists from the above loop:\n",
    "\n",
    "# Petrarca\n",
    "psalmi_tokens = psalmi_tokens[0]\n",
    "pet_varia_tokens = pet_varia_tokens[0]\n",
    "pet_bc_tokens = pet_bc_tokens[0]\n",
    "africa_tokens = africa_tokens[0]\n",
    "\n",
    "# Gio:\n",
    "carmina_gio_tokens = carmina_gio_tokens[0]\n",
    "bc_gio_tokens = bc_gio_tokens[0]\n",
    "\n",
    "# Dante:\n",
    "egloghe_tokens = egloghe_tokens[0]\n",
    "quaestio_tokens = quaestio_tokens[0]\n",
    "dve_tokens = dve_tokens[0]\n",
    "\n",
    "# Anon:\n",
    "liber_maio_tokens = liber_maio_tokens[0]"
   ]
  },
  {
   "cell_type": "code",
   "execution_count": null,
   "metadata": {},
   "outputs": [],
   "source": [
    "psalmi_common = collections.Counter(psalmi_tokens).most_common(50)\n",
    "africa_common = collections.Counter(africa_tokens).most_common(50)\n",
    "pet_bc_common = collections.Counter(pet_bc_tokens).most_common(50)\n",
    "pet_varia_common = collections.Counter(pet_varia_tokens).most_common(50)\n",
    "\n",
    "carmina_gio_common = collections.Counter(carmina_gio_tokens).most_common(50)\n",
    "bc_gio_common = collections.Counter(bc_gio_tokens).most_common(50)\n",
    "\n",
    "egloghe_common = collections.Counter(egloghe_tokens).most_common(50)\n",
    "dve_common = collections.Counter(dve_tokens).most_common(50)\n",
    "quaestio_common = collections.Counter(quaestio_tokens).most_common(50)\n",
    "\n",
    "anon_common = collections.Counter(psalmi_tokens).most_common(50)"
   ]
  },
  {
   "cell_type": "markdown",
   "metadata": {},
   "source": [
    "Let's take a look at how these stop words compare between each author. "
   ]
  },
  {
   "cell_type": "code",
   "execution_count": null,
   "metadata": {},
   "outputs": [],
   "source": [
    "pet_stops = list(pet_stops)\n",
    "pet_stops.sort()\n",
    "\n",
    "gio_stops = list(gio_stops)\n",
    "gio_stops.sort()\n",
    "\n",
    "dante_stops = list(dante_stops)\n",
    "dante_stops.sort()\n",
    "\n",
    "anon_stops = list(anon_stops)\n",
    "anon_stops.sort()"
   ]
  },
  {
   "cell_type": "code",
   "execution_count": null,
   "metadata": {},
   "outputs": [],
   "source": [
    "pet = pd.Series(pet_stops)\n",
    "gio = pd.Series(gio_stops)\n",
    "dante = pd.Series(dante_stops)\n",
    "anon = pd.Series(anon_stops)"
   ]
  },
  {
   "cell_type": "code",
   "execution_count": null,
   "metadata": {},
   "outputs": [],
   "source": [
    "stops_df = pd.DataFrame(data = [pet_stops, gio_stops, dante_stops, anon_stops]).T\n",
    "\n",
    "stops_df.rename(columns = {0: 'Petrarch', \n",
    "                           1: 'G. Boccaccio', \n",
    "                           2: 'Dante', \n",
    "                           3: 'Anonymous'}, inplace = True)"
   ]
  },
  {
   "cell_type": "code",
   "execution_count": null,
   "metadata": {},
   "outputs": [],
   "source": [
    "stops_df"
   ]
  },
  {
   "cell_type": "markdown",
   "metadata": {},
   "source": [
    "If we take a look at the most common words between Petrarch and Gio (considering their Buccolicum Carmen works together since those two words are considered a similar genre), we can see how different the two authors are in their recurrent vocabulary.\n",
    "\n",
    "As you can see from above, our stop list is pretty well populated, but it looks liike some punctuation still made it in (a bug we will need to go back and fix later / look more at CLTK's documentation).  In order to account for this, we will skim off the first 15 of our most common words for each author (since they would be considered stops)"
   ]
  },
  {
   "cell_type": "code",
   "execution_count": null,
   "metadata": {},
   "outputs": [],
   "source": []
  },
  {
   "cell_type": "code",
   "execution_count": null,
   "metadata": {},
   "outputs": [],
   "source": []
  },
  {
   "cell_type": "code",
   "execution_count": null,
   "metadata": {
    "scrolled": true
   },
   "outputs": [],
   "source": [
    "f, ax = plt.subplots(2, 2, sharey = True, figsize = (12, 10))\n",
    "\n",
    "ax1 = sns.barplot(x = psalmi_common[0], y = [1], ax = ax[0][0])\n",
    "ax1.tick_params(axis = 'x', labelrotation = 60, labelsize = 11)\n",
    "\n",
    "ax2 = sns.barplot(x = b[0], y = b[1], ax = ax[0][1])\n",
    "ax2.tick_params(axis = 'x', labelrotation = 60, labelsize = 11)\n",
    "\n",
    "ax3 = sns.barplot(x = b[0], y = b[1], ax = ax[1][0])\n",
    "ax3.tick_params(axis = 'x', labelrotation = 60, labelsize = 11)\n",
    "\n",
    "ax4 = sns.barplot(x = b[0], y = b[1], ax = ax[1][1])\n",
    "ax4.tick_params(axis = 'x', labelrotation = 60, labelsize = 11)\n",
    "\n",
    "plt.show()"
   ]
  },
  {
   "cell_type": "code",
   "execution_count": null,
   "metadata": {},
   "outputs": [],
   "source": []
  },
  {
   "cell_type": "code",
   "execution_count": null,
   "metadata": {},
   "outputs": [],
   "source": []
  },
  {
   "cell_type": "code",
   "execution_count": null,
   "metadata": {},
   "outputs": [],
   "source": []
  },
  {
   "cell_type": "code",
   "execution_count": null,
   "metadata": {},
   "outputs": [],
   "source": [
    "to-do notes:\n",
    "    \n",
    "    - get overall length of text along with how much percentage the stops reflect and the cleaned tokens reflect. "
   ]
  },
  {
   "cell_type": "code",
   "execution_count": null,
   "metadata": {},
   "outputs": [],
   "source": []
  },
  {
   "cell_type": "code",
   "execution_count": null,
   "metadata": {},
   "outputs": [],
   "source": []
  },
  {
   "cell_type": "code",
   "execution_count": null,
   "metadata": {},
   "outputs": [],
   "source": []
  },
  {
   "cell_type": "code",
   "execution_count": null,
   "metadata": {},
   "outputs": [],
   "source": []
  },
  {
   "cell_type": "code",
   "execution_count": null,
   "metadata": {},
   "outputs": [],
   "source": []
  },
  {
   "cell_type": "code",
   "execution_count": null,
   "metadata": {},
   "outputs": [],
   "source": []
  },
  {
   "cell_type": "code",
   "execution_count": null,
   "metadata": {},
   "outputs": [],
   "source": []
  },
  {
   "cell_type": "code",
   "execution_count": null,
   "metadata": {},
   "outputs": [],
   "source": []
  },
  {
   "cell_type": "code",
   "execution_count": null,
   "metadata": {},
   "outputs": [],
   "source": []
  },
  {
   "cell_type": "code",
   "execution_count": null,
   "metadata": {},
   "outputs": [],
   "source": []
  },
  {
   "cell_type": "code",
   "execution_count": null,
   "metadata": {},
   "outputs": [],
   "source": []
  },
  {
   "cell_type": "code",
   "execution_count": null,
   "metadata": {},
   "outputs": [],
   "source": []
  },
  {
   "cell_type": "code",
   "execution_count": null,
   "metadata": {},
   "outputs": [],
   "source": []
  },
  {
   "cell_type": "code",
   "execution_count": null,
   "metadata": {},
   "outputs": [],
   "source": []
  },
  {
   "cell_type": "code",
   "execution_count": null,
   "metadata": {},
   "outputs": [],
   "source": []
  },
  {
   "cell_type": "code",
   "execution_count": null,
   "metadata": {},
   "outputs": [],
   "source": []
  },
  {
   "cell_type": "markdown",
   "metadata": {},
   "source": [
    "__[Beautiful Soup Tags](https://stackoverflow.com/questions/50486567/combine-find-all-beautiful-soup-tags-into-one-string)__"
   ]
  },
  {
   "cell_type": "markdown",
   "metadata": {},
   "source": [
    "__[Nested Dictionaries](https://www.geeksforgeeks.org/python-nested-dictionary/)__"
   ]
  },
  {
   "cell_type": "markdown",
   "metadata": {},
   "source": [
    "__[Nested Dictionary Iterations](https://stackoverflow.com/questions/43752962/how-to-iterate-through-a-nested-dict/43753252)__"
   ]
  },
  {
   "cell_type": "code",
   "execution_count": null,
   "metadata": {},
   "outputs": [],
   "source": [
    "# Looking at stop-words:\n",
    " ## Looks like this actually gives a bag of word count for all words:\n",
    "    \n",
    "import cltk.stop.stop\n",
    "\n",
    "psalmi_stops = cltk.stop.stop.Counter(psalmi_pet2_tokens)\n",
    "africa_stops = cltk.stop.stop.Counter(africa2_tokens)\n",
    "varia_stops = cltk.stop.stop.Counter(varia_pet2_tokens)\n",
    "bc_pet_stops = cltk.stop.stop.Counter(bc_pet2_tokens)\n",
    "\n",
    "a = pd.DataFrame(psalmi_stops.most_common(n = 20))\n",
    "b = pd.DataFrame(africa_stops.most_common(n = 20))\n",
    "c = pd.DataFrame(varia_stops.most_common(n = 20))\n",
    "d = pd.DataFrame(bc_pet_stops.most_common(n = 20))"
   ]
  }
 ],
 "metadata": {
  "kernelspec": {
   "display_name": "Python 3",
   "language": "python",
   "name": "python3"
  },
  "language_info": {
   "codemirror_mode": {
    "name": "ipython",
    "version": 3
   },
   "file_extension": ".py",
   "mimetype": "text/x-python",
   "name": "python",
   "nbconvert_exporter": "python",
   "pygments_lexer": "ipython3",
   "version": "3.7.7"
  },
  "toc": {
   "base_numbering": 1,
   "nav_menu": {},
   "number_sections": false,
   "sideBar": true,
   "skip_h1_title": false,
   "title_cell": "Table of Contents",
   "title_sidebar": "Contents",
   "toc_cell": false,
   "toc_position": {},
   "toc_section_display": true,
   "toc_window_display": true
  },
  "varInspector": {
   "cols": {
    "lenName": 16,
    "lenType": 16,
    "lenVar": 40
   },
   "kernels_config": {
    "python": {
     "delete_cmd_postfix": "",
     "delete_cmd_prefix": "del ",
     "library": "var_list.py",
     "varRefreshCmd": "print(var_dic_list())"
    },
    "r": {
     "delete_cmd_postfix": ") ",
     "delete_cmd_prefix": "rm(",
     "library": "var_list.r",
     "varRefreshCmd": "cat(var_dic_list()) "
    }
   },
   "oldHeight": 266,
   "position": {
    "height": "288px",
    "left": "675px",
    "right": "20px",
    "top": "84px",
    "width": "364px"
   },
   "types_to_exclude": [
    "module",
    "function",
    "builtin_function_or_method",
    "instance",
    "_Feature"
   ],
   "varInspector_section_display": "block",
   "window_display": false
  }
 },
 "nbformat": 4,
 "nbformat_minor": 2
}

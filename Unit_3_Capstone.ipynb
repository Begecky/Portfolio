{
 "cells": [
  {
   "cell_type": "markdown",
   "metadata": {
    "slideshow": {
     "slide_type": "slide"
    }
   },
   "source": [
    "## Predicting the Success of Cyber-Related Terrorist Attacks:"
   ]
  },
  {
   "cell_type": "markdown",
   "metadata": {
    "slideshow": {
     "slide_type": "subslide"
    }
   },
   "source": [
    "This dataset is from Global Terrorism Database curated by the University of Maryland:\n",
    "\n",
    "National Consortium for the Study of Terrorism and Responses to Terrorism (START). (2018). Global Terrorism Database [Data file]. Retrieved from https://www.start.umd.edu/gtd.\n",
    "\n",
    "It is a rich dataset with numerous variables and plenty of opportunities for analysis.  In this project, we will focus on predicting the 'success' of attacks which are related to cyber-events or have consequences for cyber-infrastructure (we will describe these characteristics in further detail below.   \n",
    "\n",
    "To begin, we will take a look at how this study classifies a successful terrorist attack and distinguishes it from an unsuccessful attack.  Below, is their description from pages 11 and 26 of their code-book (__[GTD Global Terrorism Database. Codebook: Inclusion Criteria and Variables](http://www.start.umd.edu/gtd/downloads/Codebook.pdf)__):\n",
    "\n",
    "> \"The GTD does not include plots or conspiracies that are not enacted, or at least attempted. For\n",
    "an event to be included in the GTD, the attackers must be “out the door,” en route to execute\n",
    "the attack. Planning, reconnaissance, and acquiring supplies do not meet this threshold.\n",
    "The GTD does include attacks that were attempted but ultimately unsuccessful. The\n",
    "circumstances vary depending on tactics (for details see the success variable, below). However,\n",
    "in general if a bomb is planted but fails to detonate; if an arsonist is intercepted by authorities\n",
    "before igniting a fire; or, if an assassin attempts and fails to kill his or her intended target, the\n",
    "attack is considered for inclusion in the GTD, and marked success=0.\" P. 11\n",
    "\n",
    "> \"Success of a terrorist strike is defined according to the tangible effects of the attack.\n",
    "Success is not judged in terms of the larger goals of the perpetrators. For example, a\n",
    "bomb that exploded in a building would be counted as a success even if it did not\n",
    "succeed in bringing the building down or inducing government repression.\n",
    "The definition of a successful attack depends on the type of attack. Essentially, the\n",
    "key question is whether or not the attack type took place. If a case has multiple\n",
    "attack types, it is successful if any of the attack types are successful, with the\n",
    "exception of assassinations, which are only successful if the intended target is killed.\n",
    "        1 = \"Yes\" The incident was successful.\n",
    "        0 = \"No\" The incident was not successful.\" P. 26\n",
    "\n",
    "Thus, our focus below will be on using the data collected to build a model which will successfully predict the success of a terror attack.  Below, we will begin importing and working with our data, and explanations and analysis will follow when pertinent."
   ]
  },
  {
   "cell_type": "code",
   "execution_count": 1,
   "metadata": {
    "slideshow": {
     "slide_type": "skip"
    }
   },
   "outputs": [
    {
     "name": "stderr",
     "output_type": "stream",
     "text": [
      "/usr/local/lib/python3.7/site-packages/sklearn/utils/__init__.py:4: DeprecationWarning: Using or importing the ABCs from 'collections' instead of from 'collections.abc' is deprecated, and in 3.8 it will stop working\n",
      "  from collections import Sequence\n"
     ]
    }
   ],
   "source": [
    "import pandas as pd\n",
    "import numpy as np\n",
    "import scipy\n",
    "import matplotlib.pyplot as plt\n",
    "import seaborn as sns\n",
    "import sklearn as skl\n",
    "import gc\n",
    "import sys\n",
    "import re\n",
    "%matplotlib inline\n",
    "\n",
    "import warnings\n",
    "warnings.filterwarnings('ignore')"
   ]
  },
  {
   "cell_type": "markdown",
   "metadata": {
    "slideshow": {
     "slide_type": "slide"
    }
   },
   "source": [
    "### 1. Importing, Cleaning and General Overview:\n",
    "\n",
    "#### A. Importing Data."
   ]
  },
  {
   "cell_type": "code",
   "execution_count": 2,
   "metadata": {
    "slideshow": {
     "slide_type": "fragment"
    }
   },
   "outputs": [],
   "source": [
    "df = pd.read_excel('globalterrorismdb_0718dist.xlsx', \n",
    "                   usecols = 'A, I, K, M, S:W, AA:AB, AD, AJ, AL, AM, AN, AP, BG, BM:BN, BQ, CE, CG, DA',\n",
    "                   dtype = {'summary':str, 'motive':str})                                                                                         "
   ]
  },
  {
   "cell_type": "code",
   "execution_count": 3,
   "metadata": {
    "slideshow": {
     "slide_type": "skip"
    }
   },
   "outputs": [],
   "source": [
    "# Renaming our columns for usability:\n",
    "\n",
    "cyber_data = pd.DataFrame(df.rename({'eventid':'event_id', 'doubtterr':'doubt', 'attacktype1_txt':'attack_1txt', \n",
    "                                     'targtype1_txt':'target_1txt', 'targsubtype1':'sub_target',\n",
    "                                     'targsubtype1_txt':'sub_targettxt', 'target1':'specific_target',\n",
    "                                     'natlty1_txt':'victim_nationalitytxt', 'gname':'group_name', \n",
    "                                     'guncertain1':'group_attrib_crtainty', 'individual':'unaffil_individ', \n",
    "                                     'weaptype1':'weapon', 'weaptype1_txt':'weapontxt', \n",
    "                                     'weapsubtype1':'sub_weapon', 'weapsubtype1_txt':'sub_weapontxt'}, axis = 1))"
   ]
  },
  {
   "cell_type": "code",
   "execution_count": 4,
   "metadata": {
    "slideshow": {
     "slide_type": "skip"
    }
   },
   "outputs": [
    {
     "data": {
      "text/plain": [
       "181736"
      ]
     },
     "execution_count": 4,
     "metadata": {},
     "output_type": "execute_result"
    }
   ],
   "source": [
    "# Memory Mitigation:\n",
    "del df\n",
    "gc.collect()"
   ]
  },
  {
   "cell_type": "code",
   "execution_count": 5,
   "metadata": {
    "slideshow": {
     "slide_type": "skip"
    }
   },
   "outputs": [
    {
     "data": {
      "text/plain": [
       "(181691, 24)"
      ]
     },
     "execution_count": 5,
     "metadata": {},
     "output_type": "execute_result"
    }
   ],
   "source": [
    "cyber_shape_1 = cyber_data.shape\n",
    "cyber_shape_1"
   ]
  },
  {
   "cell_type": "markdown",
   "metadata": {
    "slideshow": {
     "slide_type": "slide"
    }
   },
   "source": [
    "#### B. Selecting Rows Specific to Cyber-Related Terrorism:\n",
    "\n",
    "In order to filter the dataset and focus our inquiry on cyber-related events, we will use the following regex statements.  This statement attempts to focus on communication platforms (cellular, internet, radio) and its infrastructure (to a certain extent)."
   ]
  },
  {
   "cell_type": "code",
   "execution_count": 6,
   "metadata": {
    "slideshow": {
     "slide_type": "subslide"
    }
   },
   "outputs": [],
   "source": [
    "# Regex Filter which fills na in this column with the value: 'Unknown'\n",
    "specific = cyber_data.specific_target.str.contains(r'(internet|cell+|radio|communic+|emai+|cyb+|web|hac+)', \n",
    "                                                   na = 'Unknown', flags = re.IGNORECASE)\n",
    "specific_true = specific.loc[specific == True].keys()\n",
    "specific_unknown = specific.loc[specific == 'Unknown'].keys()\n",
    "\n",
    "# same for motive column.\n",
    "motive = cyber_data.motive.str.contains(r'(internet|cell+|radio|comm+|infor+|emai+|cyb+|web|hac+)', \n",
    "                                        na = 'Unknown', flags = re.IGNORECASE)\n",
    "motive_true = motive.loc[motive == True].keys()\n",
    "\n",
    "# same for summary column.\n",
    "summary = cyber_data.summary.str.contains(r'(internet|cell+|radio|comm+|infor+|emai+|cyb+|web|hac+)', \n",
    "                                          na = 'Unknown', flags = re.IGNORECASE)\n",
    "summary_true = summary.loc[summary == True].keys()"
   ]
  },
  {
   "cell_type": "code",
   "execution_count": 7,
   "metadata": {
    "slideshow": {
     "slide_type": "subslide"
    }
   },
   "outputs": [
    {
     "data": {
      "text/plain": [
       "(13255, 24)"
      ]
     },
     "execution_count": 7,
     "metadata": {},
     "output_type": "execute_result"
    }
   ],
   "source": [
    "# Combining the above results into a dataframe and looking at the shape:\n",
    "\n",
    "cyber_data = cyber_data.loc[(cyber_data.index.isin(specific_true)) | (cyber_data.index.isin(motive_true)) | \n",
    "                          (cyber_data.index.isin(summary_true)) | (cyber_data.index.isin(specific_unknown))]\n",
    "\n",
    "cyber_data.shape"
   ]
  },
  {
   "cell_type": "markdown",
   "metadata": {
    "slideshow": {
     "slide_type": "slide"
    }
   },
   "source": [
    "#### C. Splitting Our Train/Test Data:\n",
    "\n",
    "Below, we dropped some specific columns in dataframe in order to make future processing more efficient.  The 'event_id' column wasn't numerically significant and created problems when getting dummies was necessary. The same occured with 'summary' and 'motive.'  These last two columns, however, will come in handy when considering avenues for further research, which we will discuss below."
   ]
  },
  {
   "cell_type": "code",
   "execution_count": 8,
   "metadata": {
    "slideshow": {
     "slide_type": "fragment"
    }
   },
   "outputs": [],
   "source": [
    "from sklearn.model_selection import cross_val_score, train_test_split\n",
    "\n",
    "# Defining our Input and Output data:\n",
    "# (Cleaning afterwards to prevent leakage)\n",
    "\n",
    "X = cyber_data.drop(['event_id', 'success', 'summary', 'motive'], axis = 1)\n",
    "Y = pd.DataFrame(cyber_data['success'])\n",
    "\n",
    "X_train, X_test, Y_train, Y_test = train_test_split(X, Y, test_size = .25)\n",
    "\n",
    "X_train_start_index = X_train.index\n",
    "X_test_start_index = X_test.index"
   ]
  },
  {
   "cell_type": "code",
   "execution_count": 9,
   "metadata": {
    "slideshow": {
     "slide_type": "skip"
    }
   },
   "outputs": [
    {
     "name": "stdout",
     "output_type": "stream",
     "text": [
      "(9941, 20)\n",
      "(3314, 20)\n"
     ]
    }
   ],
   "source": [
    "print(X_train.shape)\n",
    "print(X_test.shape)"
   ]
  },
  {
   "cell_type": "code",
   "execution_count": 10,
   "metadata": {
    "slideshow": {
     "slide_type": "skip"
    }
   },
   "outputs": [],
   "source": [
    "# Memory Mitigation (Resource cited below):\n",
    "\n",
    "ipython_vars = ['In', 'Out', 'exit', 'quit', 'get_ipython', 'ipython_vars']\n",
    "\n",
    "cleaner = sorted([(x, sys.getsizeof(globals().get(x))) for x in dir() if not x.startswith('_') and x not in sys.modules and x not in ipython_vars], \n",
    "                 key=lambda x: x[1], reverse=True)"
   ]
  },
  {
   "cell_type": "code",
   "execution_count": 11,
   "metadata": {
    "slideshow": {
     "slide_type": "skip"
    }
   },
   "outputs": [
    {
     "data": {
      "text/plain": [
       "65"
      ]
     },
     "execution_count": 11,
     "metadata": {},
     "output_type": "execute_result"
    }
   ],
   "source": [
    "del X, Y, cleaner, specific, motive, summary, summary_true, motive_true, specific_true, specific_unknown\n",
    "gc.collect()"
   ]
  },
  {
   "cell_type": "markdown",
   "metadata": {
    "slideshow": {
     "slide_type": "slide"
    }
   },
   "source": [
    "#### D. Checking Nulls:"
   ]
  },
  {
   "cell_type": "code",
   "execution_count": 12,
   "metadata": {
    "slideshow": {
     "slide_type": "skip"
    }
   },
   "outputs": [],
   "source": [
    "train_nulls = pd.DataFrame(X_train.isna().sum())\n",
    "train_nulls = train_nulls.loc[train_nulls[0] != 0]\n",
    "\n",
    "test_nulls = pd.DataFrame(X_test.isna().sum())\n",
    "test_nulls = test_nulls.loc[test_nulls[0] != 0]\n"
   ]
  },
  {
   "cell_type": "markdown",
   "metadata": {
    "slideshow": {
     "slide_type": "fragment"
    },
    "variables": {
     "test_nulls": "<div>\n<style scoped>\n    .dataframe tbody tr th:only-of-type {\n        vertical-align: middle;\n    }\n\n    .dataframe tbody tr th {\n        vertical-align: top;\n    }\n\n    .dataframe thead th {\n        text-align: right;\n    }\n</style>\n<table border=\"1\" class=\"dataframe\">\n  <thead>\n    <tr style=\"text-align: right;\">\n      <th></th>\n      <th>0</th>\n    </tr>\n  </thead>\n  <tbody>\n    <tr>\n      <th>city</th>\n      <td>7</td>\n    </tr>\n    <tr>\n      <th>sub_targettxt</th>\n      <td>184</td>\n    </tr>\n    <tr>\n      <th>corp1</th>\n      <td>553</td>\n    </tr>\n    <tr>\n      <th>specific_target</th>\n      <td>154</td>\n    </tr>\n    <tr>\n      <th>victim_nationalitytxt</th>\n      <td>27</td>\n    </tr>\n    <tr>\n      <th>group_attrib_crtainty</th>\n      <td>15</td>\n    </tr>\n    <tr>\n      <th>sub_weapontxt</th>\n      <td>359</td>\n    </tr>\n  </tbody>\n</table>\n</div>",
     "train_nulls": "<div>\n<style scoped>\n    .dataframe tbody tr th:only-of-type {\n        vertical-align: middle;\n    }\n\n    .dataframe tbody tr th {\n        vertical-align: top;\n    }\n\n    .dataframe thead th {\n        text-align: right;\n    }\n</style>\n<table border=\"1\" class=\"dataframe\">\n  <thead>\n    <tr style=\"text-align: right;\">\n      <th></th>\n      <th>0</th>\n    </tr>\n  </thead>\n  <tbody>\n    <tr>\n      <th>city</th>\n      <td>25</td>\n    </tr>\n    <tr>\n      <th>sub_targettxt</th>\n      <td>603</td>\n    </tr>\n    <tr>\n      <th>corp1</th>\n      <td>1696</td>\n    </tr>\n    <tr>\n      <th>specific_target</th>\n      <td>482</td>\n    </tr>\n    <tr>\n      <th>victim_nationalitytxt</th>\n      <td>100</td>\n    </tr>\n    <tr>\n      <th>group_attrib_crtainty</th>\n      <td>34</td>\n    </tr>\n    <tr>\n      <th>sub_weapontxt</th>\n      <td>1036</td>\n    </tr>\n  </tbody>\n</table>\n</div>"
    }
   },
   "source": [
    "Our nulls here are concentrated in a few specific columns - and only one is in a numeric column.  \n",
    "<head>\n",
    "    <table>\n",
    "        <tr>\n",
    "            <td> {{train_nulls}} </td>\n",
    "            <td> {{test_nulls}} </td>\n",
    "        </tr>\n",
    "    </table>\n",
    "</head>\n",
    "\n",
    "As such, we will do the following:\n",
    "\n",
    "1. Fill na's in text columns with 'Unknown'\n",
    "2. Drop the na's in group_attrib_crtainty just prior to modeling since it is a low-enough total that we can drop it without significant consequences for our analysis."
   ]
  },
  {
   "cell_type": "markdown",
   "metadata": {
    "slideshow": {
     "slide_type": "slide"
    }
   },
   "source": [
    "#### E. Isolating Columns:\n",
    "\n",
    "We want to be sure we are only using the numeric columns that are significant (i.e. binary or numerically related to the values they contain) and not arbitrary categoricals (such as using numbers to classify one instance over another).  Initially, we imported more of the dataset which included different types of data-types.  After running the notebook as it was closer to its final form, it took considerably longer to load, at which point we dropped most of these columns from our initial read-in of the data. We account for a few lingering columns below:"
   ]
  },
  {
   "cell_type": "code",
   "execution_count": 13,
   "metadata": {
    "slideshow": {
     "slide_type": "fragment"
    }
   },
   "outputs": [],
   "source": [
    "cyber_train_X = X_train[['country_txt', 'region_txt', 'city', 'crit1', 'crit2', 'crit3', 'doubt',\n",
    "                       'suicide', 'attack_1txt', 'target_1txt', 'sub_targettxt', 'corp1',\n",
    "                       'specific_target', 'victim_nationalitytxt', 'group_name', 'unaffil_individ', 'weapontxt',\n",
    "                       'sub_weapontxt']]\n",
    "\n",
    "cyber_train_X = cyber_train_X.fillna('Unknown')\n",
    "\n",
    "cyber_train_X['group_attrib_crtainty'] = X_train[['group_attrib_crtainty']]\n",
    "\n",
    "# Making sure input and output dataframes still have the same amount of rows:\n",
    "\n",
    "cyber_train_Y = Y_train.iloc[Y_train.index == cyber_train_X.index]"
   ]
  },
  {
   "cell_type": "code",
   "execution_count": 14,
   "metadata": {
    "slideshow": {
     "slide_type": "skip"
    }
   },
   "outputs": [],
   "source": [
    "# Applying the same process above to our test data:\n",
    "\n",
    "cyber_test_X = X_test[['country_txt', 'region_txt', 'city', 'crit1', 'crit2', 'crit3', 'doubt',\n",
    "                       'suicide', 'attack_1txt', 'target_1txt', 'sub_targettxt', 'corp1',\n",
    "                       'specific_target', 'victim_nationalitytxt', 'group_name', 'unaffil_individ', 'weapontxt',\n",
    "                       'sub_weapontxt']]\n",
    "cyber_test_X.fillna('Unknown')\n",
    "cyber_test_X['group_attrib_crtainty'] = X_test[['group_attrib_crtainty']]\n",
    "\n",
    "# Making sure input and output dataframes still have the same amount of rows:\n",
    "\n",
    "cyber_test_Y = Y_test.iloc[Y_test.index == cyber_test_X.index]"
   ]
  },
  {
   "cell_type": "code",
   "execution_count": 15,
   "metadata": {
    "slideshow": {
     "slide_type": "skip"
    }
   },
   "outputs": [],
   "source": [
    "del X_train, X_test, Y_train, Y_test"
   ]
  },
  {
   "cell_type": "code",
   "execution_count": 16,
   "metadata": {
    "slideshow": {
     "slide_type": "skip"
    }
   },
   "outputs": [
    {
     "name": "stdout",
     "output_type": "stream",
     "text": [
      "(9941, 19)\n",
      "(3314, 19)\n"
     ]
    }
   ],
   "source": [
    "print(cyber_train_X.shape)\n",
    "print(cyber_test_X.shape)"
   ]
  },
  {
   "cell_type": "markdown",
   "metadata": {
    "slideshow": {
     "slide_type": "slide"
    }
   },
   "source": [
    "#### F. Applying Filters to Text Columns.\n",
    "\n",
    "The cells below are an attempt to consolidate (or group) some of the values together with a few certain columns we will be focusing on.  Given that these columns have a considerable number of unique values, when getting dummies later, it will greatly increase the size of our feature set.  While an increased feature-set is not necessarily a bad thing, preventing the size from becoming too large will aid in our explanatory power later on.  In other words, our feature set will have a comprehensible size, allowing us to explain the characteristics around a successful attack. Otherwise, we run the risk of a feature set which is too large for a human to understand and too many features - making it difficult to see which columns/characteristics are significant for our analysis.\n",
    "\n",
    "Below, we focus mainly on the types of weapons, the named terrorist groups and the cities attacked.  We also consolidated some of the sub_targets into larger groups.  After running our preliminary models, we found that targets and sub_targets were significant to our models, so we conducted some further feature engineering afterwards, which we will discuss later."
   ]
  },
  {
   "cell_type": "markdown",
   "metadata": {
    "slideshow": {
     "slide_type": "subslide"
    }
   },
   "source": [
    "There were a number of resources which were helpful in this grouping process, which we will lay out here:\n",
    "\n",
    "Regarding the 'sub_target' column (which provides further details regarding the primary target) we mainly referred to the codebook accompanying the study (as mentioned above: (__[GTD Global Terrorism Database. Codebook: Inclusion Criteria and Variables](http://www.start.umd.edu/gtd/downloads/Codebook.pdf)__)).  The grouping below was rather simple - primarily placing a few types of sub-targets together when it would not negatively impact our explanatory capabilites down the road."
   ]
  },
  {
   "cell_type": "markdown",
   "metadata": {
    "slideshow": {
     "slide_type": "subslide"
    }
   },
   "source": [
    "The 'city' and 'group_name' columns were more technical and involved some outside research.  The groupings below are aimed at linking cities together if they fall within an ideological, religious, environmental or political umbrella in which certain terrorist groups are interested.  For example, some middle-eastern cities are considered to lean more 'Sunni' as opposed to 'Shia', while others are 'split.'  Some South American cities lie within an area experiencing heavy gang activity (such as the Northern Triangle between Mexico and Panama).  Our goal with these groupings was to combine cities whenever they had a common interest factor for terrorist events, in the hopes that it would consolidate their correlation and aid in our predictive models.  \n",
    "\n",
    "These groupings, however, can be improved upon with further in-depth research.  Our time with this project was somewhat limited and there are a handful of regions we were unable to group together or research.  Additionally, our expertise in global terrorism is slight in comparison to those working in the field, which would benefit from an expert team member when creating these filters.  That said, it would be highly interesting to continue improving these classifications, especially given the wealth of information and databases made available by respected international research organizations, which we will list here:"
   ]
  },
  {
   "cell_type": "markdown",
   "metadata": {
    "slideshow": {
     "slide_type": "subslide"
    }
   },
   "source": [
    "Some cities and groups were classified according to their religious leanings:\n",
    "\n",
    "- Some Middle-Eastern cities were grouped under a Sunni/Shia or Sunni/Shia Split category.  These resources were helpful in ascertaining where a city fell with respect to these religious tendencies:\n",
    "-  A New York Times article by Sarah Almukhtar, Sergio Peçanha and Tim Wallace on January 5th, 2016, entitled: __[Behind Stark Political Divisions, a More\n",
    "Complex Map of Sunnis and Shiites.](https://www.nytimes.com/interactive/2016/01/04/world/middleeast/sunni-shiite-map-middle-east-iran-saudi-arabia.html)__\n",
    "- A blog post by Olivier Ypsilantis on August 14th, 2014, entitled: __[Carte religieuse de l’Iran et ses voisins](http://zakhor-online.com/?attachment_id=7932)__.\n",
    "- Max Fisher wrote a great article for Vox on March 26th, 2015 which has a lot of great maps for reference: __[40 maps that explain the Middle East](https://www.vox.com/a/maps-explain-the-middle-east)__\n",
    "The Gulf 2000 Project has a plethora of maps and resources regarding issues in the Middle-East, and specifically this page by Dr. Michael Izady entitled __[Atlas of the Islamic World and Vicinity\n",
    "(Infographs, Maps and Statistics Collection).](http://gulf2000.columbia.edu/maps.shtml)__ Some other maps we used from this site were: - __[A map of West Africa](http://gulf2000.columbia.edu/images/maps/West_Africa_Religion_lg.png)__\n",
    " - __[A map of Libya](http://gulf2000.columbia.edu/images/maps/Libya_Religion_Western_Sector_lg.png)__\n",
    " - __[A Shia territories map](http://gulf2000.columbia.edu/images/maps/ShiasReligionCore_lg.png)__\n",
    "\n",
    "The Crisis Group also has a number of useful resources and articles regarding these topics.  Specifically regarding Colombia and South America, we referenced and article entitled __[Colombia’s Armed Groups Battle for the Spoils of Peace](https://www.crisisgroup.org/latin-america-caribbean/andes/colombia/63-colombias-armed-groups-battle-spoils-peace)__ from Report  63 / Latin America & Caribbean 19 OCTOBER 2017.  There was an interesting map by Mike Shand (International Crisis Group 2017), entitled __[Map of Armed Groups and Coca Crops in Colombia, 2017.](https://www.crisisgroup.org/latin-america-caribbean/andes/colombia/63-colombias-armed-groups-battle-spoils-peace#map-5700-8)__."
   ]
  },
  {
   "cell_type": "markdown",
   "metadata": {
    "slideshow": {
     "slide_type": "subslide"
    }
   },
   "source": [
    "We'll also take this opportunity to list out further databases and resources we used for this project:\n",
    "\n",
    "For 'group_names' we referenced START's resources again (as they have a wealth of resources surrounding the database we used and the elements it describes.  Here, they list the names of __['Big, Allied and Dangerous' terrorist groups,](http://www.start.umd.edu/baad/database)___ which we used as the basis for a majority of our classification.\n",
    "\n",
    "The __[SATP website](http://www.satp.org/conflict-maps/bangladesh)__ was instrumental in gaining insight into Asian conflicts. Within this website, we referenced a specific article regarding the \n",
    "__[Nepalise Maoist conflicts](http://www.satp.org/terrorist-profile/nepal/communist-party-of-nepal-maoist)__, which described their objectives, operating areas, leaders, etc.  Towards the bottom of the page, it includes a ranking by the Nepalese Home Ministry, of areas in Nepal according to their sensitivity to these issues.  We then used this __[map](https://reliefweb.int/map/nepal/nepal-regions-zones-and-districts-cities-april-2015)__ from ReliefWeb to help us locate smaller cities in pertinent areas."
   ]
  },
  {
   "cell_type": "markdown",
   "metadata": {
    "slideshow": {
     "slide_type": "subslide"
    }
   },
   "source": [
    "South America and the Northern Triangle:\n",
    "\n",
    "Again, there are a number of databases and materials available from top-level international organizations.  Regarding the Northern Triangle (namely Guatemala, Honduras, El Salvador) we referenced the following articles:\n",
    " - __[Central America’s Violent Northern Triangle](https://www.cfr.org/backgrounder/central-americas-violent-northern-triangle)__By Rocio Cara Labrador and Danielle Renwick (updated June 26th, 2018) \n",
    " - The Insight Crime Organiztion has a main page for each country involved in frequent conflicts__[such as this one regarding El Salvador](https://www.insightcrime.org/el-salvador-organized-crime-news/)__   \n",
    " - Relief Web also had a variety of resources we used here, specifically a __[main search page](https://reliefweb.int/country/slv)__ for each country that leads to reports, infographics and the like.\n",
    " - The __[Humanitarian Reponse Group](https://www.humanitarianresponse.info/en/infographics)__ also has great resources and infographics.\n",
    " - The __[United Nations Regional Information Centre](https://www.unric.org/en/databases/26912-refugees-humanitarian-affairs-and-migration)__ points to a number of outside resources depending on what one is looking for.\n",
    " - In refrencing hotspots of violence in Guatemala, we used Relief Web's summary on __[Humanitarian Needs Overview for Guatemala in 2017](https://reliefweb.int/sites/reliefweb.int/files/resources/20180315_SUMMARY_HNO%20GT_ENG.pdf)__\n",
    " - Regarding the same of El Salvador, we used Relief Web's __[Map of El Salvador.](https://reliefweb.int/sites/reliefweb.int/files/resources/20180405%20monthly%20humanitarian%20snapshot%20-%20ENG.pdf)__\n",
    " - For Honduras we referred to an article entitled __['Northern Triangle is World's Extortion Hotspot'](https://www.insightcrime.org/news/brief/northern-triangle-world-extortion-hotspot/)__ by Steven Dudley and Michael Lohmuller on JULY 1st, 2015.  This article has a map that was helpful in locating our cities.\n",
    " - Regarding Columbia, we frequently referred to the __[Crisis Group's resources.](https://www.crisisgroup.org/)__ \n",
    "There were two articles in particular we referred to here.  The first was entitled 'Colombia’s Armed Groups Battle for the Spoils of Peace' (which we already referenced above).  The second was a map entitled __['Map of ELN Presence in Colombia in 2012 and 2018, and Expansion between 2012 and 2018'](https://www.crisisgroup.org/latin-america-caribbean/andes/colombia/68-missing-peace-colombias-new-government-and-last-guerrillas#map-6189-1)__ within an article named __['The Missing Peace: Colombia’s New Government and Last Guerrillas'](https://www.crisisgroup.org/latin-america-caribbean/andes/colombia/68-missing-peace-colombias-new-government-and-last-guerrillas)__ from their Report 68 / Latin America & Caribbean on July 12th, 2018."
   ]
  },
  {
   "cell_type": "markdown",
   "metadata": {
    "slideshow": {
     "slide_type": "subslide"
    }
   },
   "source": [
    "Other General References include:\n",
    "\n",
    " - __[Homeland Security Digital Library](https://www.hsdl.org/?collection&id=2167)__\n",
    " - __[U Mass Lowell](https://www.uml.edu/Research/CTSS/Online-Resources.aspx)__ Has a great page with links to further resources.\n",
    " - The Council on Foreign Relations has a page entitled __[Invisible Armies Insurgency Tracker: A Visual History of Guerrilla Warfare From 1775 to 2012 (from April 18th, 2013](https://www.cfr.org/wars-and-warfare/invisible-armies-insurgency-tracker/p29917)__.  As they describe it at the top of the page: \"The interactive Invisible Armies Insurgency Tracker presents a database of insurgencies from 1775 to 2012. It supplements the comprehensive historical narrative in Invisible Armies: An Epic History of Guerrilla Warfare from Ancient Times to the Present, by CFR Senior Fellow Max Boot.\"\n",
    " - West Point has __[The Combating Terrorism Center](https://ctc.usma.edu/regions/middle-east/)__ which is incredibly helpful and insightful with their background information.\n",
    " - __[The Terrorism Research and Analysis Consortium](https://www.trackingterrorism.org/region/afghanistan)__ has a lot of information - mostly private and paid, but one can at least browse the surface of what they offer (we also used some of their 'vulnerable cities' classifications in our cells below)."
   ]
  },
  {
   "cell_type": "markdown",
   "metadata": {
    "slideshow": {
     "slide_type": "skip"
    }
   },
   "source": [
    "##### 1. Defining Categories for Values within 'Sub_targettxt', 'Group_Name' and 'City':"
   ]
  },
  {
   "cell_type": "code",
   "execution_count": 17,
   "metadata": {
    "slideshow": {
     "slide_type": "slide"
    }
   },
   "outputs": [],
   "source": [
    "# Here is the function we will use to take our list of values and replace it with specific group/category names:\n",
    "    # We will do this for each of the test and training sets:\n",
    "    \n",
    "def magic_value_replacer(df, column, variable, string):\n",
    "    \n",
    "    df[column] = df[column].replace(variable, string)\n",
    "    "
   ]
  },
  {
   "cell_type": "markdown",
   "metadata": {
    "slideshow": {
     "slide_type": "skip"
    }
   },
   "source": [
    "###### Sub_targettxt:"
   ]
  },
  {
   "cell_type": "code",
   "execution_count": 18,
   "metadata": {
    "slideshow": {
     "slide_type": "skip"
    }
   },
   "outputs": [],
   "source": [
    "industrial = ['Gas/Oil/Electric', 'Industrial/Textiles/Factory', 'Farm/Ranch', 'Mining', 'Construction']\n",
    "\n",
    "white_collar = ['Restaurant/Bar/Café', 'Bank/Commerce', 'Multinational Corporation', \n",
    "                'Medical/Pharmaceutical', 'Retail/Grocery/Bakery (including cell phone shops and generic shops)', \n",
    "                'Hotel/Resort', 'Entertainment/Cultural/Stadium/Casino', 'Private Security Company/Firm',\n",
    "                'Legal Services', 'Retail/Grocery/Bakery']\n",
    "\n",
    "gov_figure1 = ['Judges/Attorneys/Courts', 'Judge/Attorney/Court', \n",
    "               'Government Personnel (excluding police, military)']\n",
    "\n",
    "gov_figure2 = ['Politician or Political Party Movement/Meeting/Rally', 'Royalty', 'Head of State',\n",
    "               'Election Related', 'Election-related']\n",
    "\n",
    "pol_facilities = ['Police Buildings (Headquarters/Stations/School)', \n",
    "                  'Police Patrol (including vehicles and convoys)', 'Police Checkpoint', 'Prison/Jail', \n",
    "                  'Police Building (headquarters, station, school)']\n",
    "\n",
    "mil_facilities = ['Military Barracks/Base/Headquarters/Checkpost', 'Military Recruiting Station/Academy',\n",
    "                       'Military Weaponry', 'Military Aircraft', 'Military Maritime', 'Paramilitary', \n",
    "                       'Military Transportation/Vehicle (excluding convoys)', 'Military Checkpoint']\n",
    "\n",
    "mil_personnel = ['Military Unit/Patrol/Convoy', 'Non-combatant Personnel', \n",
    "                      'Military Personnel (soldiers, troops, officers, forces)']\n",
    "\n",
    "gov_diplomatic = ['Diplomatic Personnel (outside of embassy, consulate)', 'Embassy/Consulate', 'NATO', \n",
    "                  'International Organization (peacekeeper, aid agency, compound)']\n",
    "\n",
    "educational = ['Teacher/Professor/Instructor', 'School/University/Educational Building', 'Other Personnel']\n",
    "\n",
    "food_water = ['Food Supply', 'Water Supply']\n",
    "\n",
    "internet_comm_information = ['Newspaper Journalist/Staff/Facility', 'Radio Journalist/Staff/Facility', \n",
    "                             'Television Journalist/Staff/Facility', 'Other (including online news agencies)',\n",
    "                             'Radio', 'Internet Infrastructure', 'Television', 'Electricity', \n",
    "                             'Telephone/Telegraph']\n",
    "\n",
    "religious = ['Religion Identified', 'Religious Figure', 'Place of Worship', 'Affiliated Institution']\n",
    "\n",
    "political = ['Protrainer', 'Political Party Member/Rally', 'Party Official/Candidate/Other Personnel', \n",
    "             'Party Office/Facility', 'Rally']\n",
    "\n",
    "mass_socio = ['Refugee (including Camps/IDP/Asylum Seekers)', 'Named Civilian', 'Student', \n",
    "              'Race/Ethnicity Identified', 'Farmer', 'Vehicles/Transportation', 'Marketplace/Plaza/Square', \n",
    "              'Village/City/Town/Suburb', 'House/Apartment/Residence', 'Laborer (General)/Occupation Identified', \n",
    "              'Procession/Gathering (funeral, wedding, birthday, religious)', 'Civilian Maritime',\n",
    "              'Public Areas (e.g., Public garden, parking lot, garage, beach, public buildings, camps)',\n",
    "              'Public Area (garden, parking lot, garage, beach, public building, camp)', 'Port', \n",
    "              'Memorial/Cemetery/Monument', 'Museum/Cultural Center/Cultural House', 'Labor Union Related', \n",
    "              'Tourism Travel Agency', 'Tour Bus/Van/Vehicle', 'Tourist', 'Other Facility', 'Airport',\n",
    "              'train/train Tracks/ Trolley', 'Bus Station/Stop', 'Subway', 'Bridge/Car Tunnel', \n",
    "              'Highway/Road/Toll/Traffic Signal', 'Taxi/Rickshaw', 'Bus (excluding tourists)', \n",
    "              'Commercial Maritime', 'Train/Train Tracks/Trolley', 'Aircraft (not at an airport)', \n",
    "              'Airline Officer/Personnel', 'Aircraft (not at an airport)', \n",
    "              'Demilitarized Zone (including Green Zone)']\n",
    "\n",
    "first_responders = ['Clinics', 'Fire Fighter/Truck', 'Ambulance']\n",
    "\n",
    "other_utilities = [ 'Gas', 'Oil', 'Oil Tanker']"
   ]
  },
  {
   "cell_type": "markdown",
   "metadata": {
    "slideshow": {
     "slide_type": "fragment"
    }
   },
   "source": [
    "###### specific_target:\n",
    "\n",
    "There were some duplicates here that were related to what we are looking for, so I went ahead and combined them in the hopes that they might lead to some more insights."
   ]
  },
  {
   "cell_type": "code",
   "execution_count": 19,
   "metadata": {
    "slideshow": {
     "slide_type": "fragment"
    }
   },
   "outputs": [],
   "source": [
    "comm_related = ['Cell tower', 'Cell phone tower',  'Cell Tower', 'Cell Phone Tower', 'Cell Phone Shop',\n",
    "                'Telecommunication Tower', 'Telecommunications Tower', 'Radio Stations', 'Radio Station',\n",
    "                'Radio station', 'radio station', 'Radio station antenna', 'A mobile phone tower', \n",
    "                'A mobile tower was targeted in the attack.', 'A Globe Telecom cell site', 'Internet Cafe',\n",
    "                'Telecommunications office', 'Telecommunication Institute', 'Communications Tower', \n",
    "                'Telecommunications Mast', 'An internet cafe']\n",
    "polling_areas = ['Polling Station', 'Polling Center', 'Polling Stations', 'Polling Booth']"
   ]
  },
  {
   "cell_type": "markdown",
   "metadata": {
    "slideshow": {
     "slide_type": "skip"
    }
   },
   "source": [
    "###### Group_name: (Grouping by Ideology, Political Tendencies, Etc.)"
   ]
  },
  {
   "cell_type": "code",
   "execution_count": 20,
   "metadata": {
    "slideshow": {
     "slide_type": "skip"
    }
   },
   "outputs": [],
   "source": [
    "palestinian_separatists = ['Hamas (Islamic Resistance Movement)', 'Palestinian Islamic Jihad (PIJ)',\n",
    "                           'Popular Front for the Liberation of Palestine (PFLP)', 'Popular Resistance Committees',\n",
    "                           'Al-Fatah']\n",
    "\n",
    "militants = ['Militants', 'Gunmen']\n",
    "\n",
    "asian_separatists = ['Abu Sayyaf Group (ASG)', 'Colonel Karuna Faction', 'Eastern Turkistan Islamic Movement (ETIM)',\n",
    "                     'Free Aceh Movement (GAM)', 'Janatantrik Terai Mukti Morcha (Jtmm)', \n",
    "                     'Janatantrik Terai Mukti Morcha- Goit (Jtmm-G)', \n",
    "                     'Janatantrik Terai Mukti Morcha- Jwala Singh (Jtmm-J)',\n",
    "                     'Janatantrik Terai Mukti Morcha- Rajan Mukti (Jtmm-R)',\n",
    "                     'Liberation Tigers of Tamil Eelam (LTTE)', 'Moro Islamic Liberation Front (MILF)',\n",
    "                     'Runda Kumpulan Kecil (Rkk)', 'Terai Army']\n",
    "\n",
    "middle_eastern_separatists = ['Haqqani Network', 'Harkatul Jihad-E-Islami', 'Lashkar-E-Taiba (Let)',\n",
    "                             'Kurdistan Workers\\' Party (PKK)', 'Lashkar-E-Balochistan', 'Chechen Rebels',\n",
    "                             'Free Syrian Army', 'Caucasus Emirate', 'Baloch Republican Army (BRA)',\n",
    "                             'Ansar Al-Islam', 'Kurdistan Free Life Party', 'Baloch Liberation Front (Blf)',\n",
    "                             'Baloch Liberation Army (BLA)', 'Ansar Al-Sharia (Libya)', 'Jaish-E-Mohammad (Jem)',\n",
    "                             'Riyadus-Salikhin Reconnaissance And Sabotage Battalion Of Chechen Martyrs',\n",
    "                             'Hizbul Mujahideen (Hm)', 'Southern Mobility Movement (Yemen)',\n",
    "                             'Supreme Council For Islamic Revolution In Iraq (Sciri)']\n",
    "\n",
    "indian_separatists = ['Dima Halao Daoga (Dhd)', 'Black Widows', 'Garo National Liberation Army',\n",
    "                      'Kangleipak Communist Party (KCP)', 'National Democratic Front of Bodoland (NDFB)',\n",
    "                      'National Liberation Front of Tripura (NLFT)', 'People\\'s Liberation Army (PLA)',\n",
    "                      'United Liberation Front of Assam (ULFA)', 'United National Liberation Front (UNLF)',\n",
    "                      'Karbi Longri North Cachar Liberation Front (Klnlf)', \n",
    "                      'National Socialist Council of Nagaland-Isak-Muivah (NSCN-IM)',\n",
    "                      'People\\'s Revolutionary Party of Kangleipak (PREPAK)']\n",
    "\n",
    "NW_indian_groups = ['Lashkar-e-Jhangvi', 'Sipah-e-Sahaba/Pakistan (SSP)', 'Hizbul Mujahideen (HM)', \n",
    "                    'Baloch Liberation Front (BLF)', 'Baloch Young Tigers (BYT)', 'Baloch Young Tigers (BYT)',\n",
    "                    'Baloch Liberation Army (BLA)', 'Baloch Republican Army (BRA)', 'United Baloch Army (UBA)',\n",
    "                    'Free Balochistan Army (FBA)', 'Baloch Nationalists']\n",
    "\n",
    "SE_indian_groups = ['Communist Party of India - Maoist (CPI-Maoist)', 'Indian Mujahideen', \n",
    "                    'Jama\\'atul Mujahideen Bangladesh (JMB)', 'Bangladesh Sarbahara Party',\n",
    "                    'Purbo Banglar Communist Party', 'Harkatul Jihad-e-Islami',\n",
    "                    'National Socialist Council of Nagaland-Unification (NSCN-U)',\n",
    "                    'Kanglei Yawol Kanna Lup (KYKL)', 'Kuki Tribal Militants', 'Kuki National Front (KNF)',\n",
    "                    'United Kuki Liberation Front (UKLF) - India', 'Hill Tiger Force (HTF)',\n",
    "                    'National Socialist Council of Nagaland-Khaplang (NSCN-K)',\n",
    "                    'National Socialist Council of Nagaland-Isak-Muivah (NSCN-IM)',\n",
    "                    'Hynniewtrep National Liberation Council (HNLC)']\n",
    "\n",
    "african_political = ['National Union for the Total Independence of Angola (UNITA)']\n",
    "\n",
    "irish_separatists = ['Real Irish Republican Army (RIRA)', 'Oglaigh Na Heireann', 'Irish Republican Army (IRA)']\n",
    "\n",
    "FARC_left_right = ['National Liberation Army of Colombia (ELN)', 'Popular Liberation Army (EPL)',\n",
    "                   'Revolutionary Armed Forces of Colombia (FARC)', 'United Self Defense Units of Colombia (AUC)']\n",
    "\n",
    "middle_eastern_religious = ['Al-Gama\\'at Al-Islamiyya (IG)', 'Al-Nusrah Front', 'Al-Qa\\'ida',\n",
    "                            'Al-Qa\\'ida in the Arabian Peninsula (AQAP)', 'Al-Shabaab', 'Ansar Al-Islam',\n",
    "                            'Ansar Al-Sharia (Libya)', 'Al-Qa\\'ida in the Lands of the Islamic Maghreb (AQLIM)',\n",
    "                            'Asa\\'Ib Ahl Al-Haqq', 'Caucasus Emirate', 'Eritrean Islamic Jihad Movement (EIJM)',\n",
    "                            'Great Eastern Islamic Raiders Front (Ibda-C)', 'Hizbul Al Islam (Somalia)',\n",
    "                            'Islamic Courts Union (ICU)', 'Islamic State of Iraq and al Sham (ISIS)',\n",
    "                            'Islamic Movement of Uzbekistan (IMU)', 'Jamiat Ul-Mujahedin (Jum)',\n",
    "                            'Jundallah', 'Mahdi Army', 'Taliban', 'Tehrik-i-Taliban Pakistan (TTP)', \n",
    "                            'Muslim extremists', 'Armed Islamic Group (GIA)', 'Sunni Muslim extremists',\n",
    "                            'Al-Qaida in the Islamic Maghreb (AQIM)', 'Al-Qaida', 'Al-Qaida in Iraq', \n",
    "                            'Islamic State of Iraq and the Levant (ISIL)',\n",
    "                            'Al-Qaida in the Arabian Peninsula (AQAP)']\n",
    "\n",
    "israel_palestine_lebanon = ['Anti-Semitic extremists', 'Hezbollah']\n",
    "\n",
    "asian_african_religious = ['Students Islamic Movement of India (Simi)', 'Ranbir Sena', 'Jemaah Islamiya (JI)', \n",
    "             'Movement for Oneness and Jihad in West Africa (MUJAO)', 'Lord\\'s Resistance Army (LRA)',\n",
    "             'Boko Haram']\n"
   ]
  },
  {
   "cell_type": "markdown",
   "metadata": {
    "slideshow": {
     "slide_type": "skip"
    }
   },
   "source": [
    "###### City: (Grouping by Predominate Religion, Political Party or Conflict Issue)"
   ]
  },
  {
   "cell_type": "code",
   "execution_count": 21,
   "metadata": {
    "slideshow": {
     "slide_type": "skip"
    }
   },
   "outputs": [],
   "source": [
    "sunni_cities = ['Mosul', 'Kirkuk', 'Sanandaj', 'Ramadi', 'Trabzone', 'Diarbekir', \n",
    "                'Damascus', 'Gwadar', 'Zahedan', 'Kandahar', 'Khiva', 'Fallujah',\n",
    "                'Dakhla', 'Tajura', 'Sabrata', 'Azizia', 'Kasabat', 'Misrata', 'Tripoli',\n",
    "                'Takrit', 'Tikrit']\n",
    "\n",
    "shia_cities = ['Mecca', 'Najaf', 'Karbala', 'Samarra', 'Ahwaz', 'Basra', \n",
    "               'Medina', 'Tabriz', 'Tunceli', 'Zahran', 'Tehran', 'Rasht', 'Bojnurd',\n",
    "               'Hillah', 'Diwania', 'Khalis', 'Dujali', 'Balad', 'Khanaqin', \n",
    "               'Sargodha', 'Dadu', 'Moro']\n",
    "\n",
    "split_cities = ['Kirmanshah', 'Baghdad', 'Kadhimia', 'Kuwait', 'Kars', 'Maras', \n",
    "               'Ankara', 'Sivas', 'Aleppo', 'Beirut', 'Abha', 'Jizan', 'Qazvin',\n",
    "               'Gunbad', 'Ashgabat', 'Mashhad', 'Herat', 'Merv', 'Charju', 'Bukhara',\n",
    "               'Samarkand', 'Mazari Sharif', 'Kandahar', 'Lar', 'Bandar Abbas', 'Dubai', \n",
    "               'Abu Dhabi', 'Tashkent', 'Erzurum', 'Konya', 'Izmir', 'Bursa', 'Istanbul',\n",
    "               'Tarhuna', ]\n",
    "\n",
    "ibadi_cities_libya = ['Nalut', 'Zentan', 'Gharian', 'Dafnia', 'Abu Kammash', 'Zuwara']\n",
    "\n",
    "columbia_eln_cities = ['Riosucio', 'Buenaventura', 'Cali', 'Popayán', 'Bucaramanga',\n",
    "                       'Barrancabermeja', 'Cucuta', 'Santa Rita']\n",
    "\n",
    "maoist_insurgency = ['Bhagalpur', 'Arwal', 'Khagaria', 'Rohtas', 'Kaimur',\n",
    "                       'Bhabua', 'Munger', 'Monghyr', 'Vaishali',\n",
    "                    'Dhanbad', 'Pakur', 'Koderma', 'Palamu', 'Balaghat',\n",
    "                     'Katni', 'Khandwa', 'Rajgarh', 'Shajapur']\n",
    "\n",
    "w_africa_muslim = ['Touba', 'N\\'Djamena', 'Maiduguri', 'Zaria', 'Sokoto', 'Kenema',\n",
    "                   'Cetoua', 'Mopte', 'Bobo-Dioulasso', 'Kayes', 'Monrovia']\n",
    "\n",
    "w_africa_mixed = ['Dogondutchi', 'Niamey', 'Parakou', 'Abuja', 'Kaduna', 'Kankan',\n",
    "                  'Lagos', 'Port Harcourt', 'Couala', 'Yaounde', 'Kumasi', 'Bamako',\n",
    "                  'Bertoua', 'Liberville', 'Port-Gentil', 'Zinder', 'Ouagadougou',\n",
    "                  'Freetown', 'Conakry', 'Bissau', 'Banjul', 'Dakar']\n",
    "\n",
    "w_africa_christian = ['Benin City', 'Onitsha', 'Abidjan', 'Takoradi', 'Accra', 'Lome']\n",
    "\n",
    "\n",
    "# Nepal Maoist Conflict - Class A According to SATP\n",
    "Nepal_maoist_A = ['Musikot', 'Rukumkot', 'Jajarkot District', 'Salyan', 'Pyuthan', 'Gajul', 'Rank', 'Budagaun',\n",
    "                  'Kalikot District', 'Rolpa', 'Rolpa District', 'Rukum District', 'Khalanga']\n",
    "\n",
    "# Nepal Maoist Conflict - Class B According to SATP\n",
    "Nepal_maoist_B = ['Charikot', 'Dolakha', 'Jiri', 'Ramechhap', 'Sindhuli Garhi', 'Sindhuli District', 'Dhungrebas',\n",
    "                  'Panaoti', 'Gorkha', 'Tulsipur', 'Ghorahi', 'Surkhet', 'Birendranagar',\n",
    "                  'Accham', 'Kamal Bajar', 'Dang', 'Dang District']\n",
    "\n",
    "# Nepal Maoist Conflict - Class C According to SATP\n",
    "Nepal_maoist_C = ['Khotang Bajar', 'Khotang District', 'Khandanda', 'Okhaldhunga', 'Rumjatar', 'Udayapur Garhi',\n",
    "                  'Rasuwa District', 'Gaighat', 'Hitura', 'Makwanpur Garhi', 'Patan', 'Baglung', 'Dhorpatan',\n",
    "                  'Bardiya', 'Gulariya', 'Dailekh', 'Dailekh District', 'Jumla', 'Dhading District', \n",
    "                  'Udayapur District', 'Lalitpur', 'Hetauda', 'Gulariya']\n",
    "\n",
    "\n",
    "# N_Triangle_S.America:\n",
    "northern_triangle = ['Tegucigalpa', 'San Pedro Sula', 'Guatemala City', 'Villa Nueva', 'Villa Canales', \n",
    "                     'Mixco', 'San Jan Sacatepequez', 'Chinautla', 'Escuintla', 'Jalapa', 'Puerto Barrios', \n",
    "                     'Morales', 'La Libertad', 'Nueva Concepcion', 'Metapan', 'Acajutla', 'Sonsonate',\n",
    "                     'Izalco', 'San Salvador', 'Apopa', 'Zaragoza', 'Colon', 'Santa Tecla', 'Usulutan',\n",
    "                     'San Miguel', 'La Union']\n"
   ]
  },
  {
   "cell_type": "markdown",
   "metadata": {
    "slideshow": {
     "slide_type": "skip"
    }
   },
   "source": [
    "##### 2. Implementing the Filtering Function:"
   ]
  },
  {
   "cell_type": "markdown",
   "metadata": {
    "slideshow": {
     "slide_type": "skip"
    }
   },
   "source": [
    "###### Sub_targettxt:"
   ]
  },
  {
   "cell_type": "code",
   "execution_count": 22,
   "metadata": {
    "slideshow": {
     "slide_type": "skip"
    }
   },
   "outputs": [],
   "source": [
    "magic_value_replacer(cyber_train_X, 'sub_targettxt', industrial, 'Industrial')\n",
    "magic_value_replacer(cyber_train_X, 'sub_targettxt', white_collar, 'White_collar')\n",
    "magic_value_replacer(cyber_train_X, 'sub_targettxt', gov_figure1, 'Gov_Figure1')\n",
    "magic_value_replacer(cyber_train_X, 'sub_targettxt', gov_figure2, 'Gov_Figure2')\n",
    "magic_value_replacer(cyber_train_X, 'sub_targettxt', pol_facilities, 'Police_Facilities')\n",
    "magic_value_replacer(cyber_train_X, 'sub_targettxt', mil_facilities, 'Military_Facilities')\n",
    "magic_value_replacer(cyber_train_X, 'sub_targettxt', mil_personnel, 'Military_Personnel')\n",
    "magic_value_replacer(cyber_train_X, 'sub_targettxt', gov_diplomatic, 'Gov_Diplomatic')\n",
    "magic_value_replacer(cyber_train_X, 'sub_targettxt', educational, 'Educational')\n",
    "magic_value_replacer(cyber_train_X, 'sub_targettxt', food_water, 'Food_Water')\n",
    "# magic_value_replacer(cyber_train_X, 'sub_targettxt', internet_comm_information, 'Info/Comm/Internet')\n",
    "magic_value_replacer(cyber_train_X, 'sub_targettxt', religious, 'Religious')\n",
    "magic_value_replacer(cyber_train_X, 'sub_targettxt', political, 'Political')\n",
    "magic_value_replacer(cyber_train_X, 'sub_targettxt', mass_socio, 'Mass_Socio')\n",
    "magic_value_replacer(cyber_train_X, 'sub_targettxt', first_responders, 'First_Responders')\n",
    "magic_value_replacer(cyber_train_X, 'sub_targettxt', other_utilities, 'Other_Utilities')"
   ]
  },
  {
   "cell_type": "code",
   "execution_count": 23,
   "metadata": {
    "slideshow": {
     "slide_type": "skip"
    }
   },
   "outputs": [],
   "source": [
    "magic_value_replacer(cyber_test_X, 'sub_targettxt', industrial, 'Industrial')\n",
    "magic_value_replacer(cyber_test_X, 'sub_targettxt', white_collar, 'White_collar')\n",
    "magic_value_replacer(cyber_test_X, 'sub_targettxt', gov_figure1, 'Gov_Figure1')\n",
    "magic_value_replacer(cyber_test_X, 'sub_targettxt', gov_figure2, 'Gov_Figure2')\n",
    "magic_value_replacer(cyber_test_X, 'sub_targettxt', pol_facilities, 'Police_Facilities')\n",
    "magic_value_replacer(cyber_test_X, 'sub_targettxt', mil_facilities, 'Military_Facilities')\n",
    "magic_value_replacer(cyber_test_X, 'sub_targettxt', mil_personnel, 'Military_Personnel')\n",
    "magic_value_replacer(cyber_test_X, 'sub_targettxt', gov_diplomatic, 'Gov_Diplomatic')\n",
    "magic_value_replacer(cyber_test_X, 'sub_targettxt', educational, 'Educational')\n",
    "magic_value_replacer(cyber_test_X, 'sub_targettxt', food_water, 'Food_Water')\n",
    "# magic_value_replacer(cyber_test_X, 'sub_targettxt', internet_comm_information, 'Info/Comm/Internet')\n",
    "magic_value_replacer(cyber_test_X, 'sub_targettxt', religious, 'Religious')\n",
    "magic_value_replacer(cyber_test_X, 'sub_targettxt', political, 'Political')\n",
    "magic_value_replacer(cyber_test_X, 'sub_targettxt', mass_socio, 'Mass_Socio')\n",
    "magic_value_replacer(cyber_test_X, 'sub_targettxt', first_responders, 'First_Responders')\n",
    "magic_value_replacer(cyber_test_X, 'sub_targettxt', other_utilities, 'Other_Utilities')"
   ]
  },
  {
   "cell_type": "markdown",
   "metadata": {
    "slideshow": {
     "slide_type": "skip"
    }
   },
   "source": [
    "###### Specific_target: "
   ]
  },
  {
   "cell_type": "code",
   "execution_count": 24,
   "metadata": {
    "slideshow": {
     "slide_type": "subslide"
    }
   },
   "outputs": [],
   "source": [
    "magic_value_replacer(cyber_train_X, 'specific_target', comm_related, 'Comm-Related')\n",
    "magic_value_replacer(cyber_train_X, 'specific_target', polling_areas, 'Polling_Areas')\n",
    "\n",
    "magic_value_replacer(cyber_test_X, 'specific_target', comm_related, 'Comm-Related')\n",
    "magic_value_replacer(cyber_test_X, 'specific_target', polling_areas, 'Polling_Areas')\n",
    "\n",
    "# Also applying this to cyber_data for some visualizations:\n",
    "magic_value_replacer(cyber_data, 'specific_target', comm_related, 'Comm-Related')\n",
    "magic_value_replacer(cyber_data, 'specific_target', polling_areas, 'Polling_Areas')"
   ]
  },
  {
   "cell_type": "markdown",
   "metadata": {
    "slideshow": {
     "slide_type": "skip"
    }
   },
   "source": [
    "###### Group_name: (Grouping by Ideology, Political Tendencies, Etc.)"
   ]
  },
  {
   "cell_type": "code",
   "execution_count": 25,
   "metadata": {
    "slideshow": {
     "slide_type": "skip"
    }
   },
   "outputs": [],
   "source": [
    "magic_value_replacer(cyber_train_X, 'group_name', palestinian_separatists, 'Palestinian_Separatists')\n",
    "magic_value_replacer(cyber_train_X, 'group_name', militants, 'Militants')\n",
    "magic_value_replacer(cyber_train_X, 'group_name', asian_separatists, 'Asian_Separatists')\n",
    "magic_value_replacer(cyber_train_X, 'group_name', middle_eastern_separatists, 'Middle_Eastern_Separatists')\n",
    "magic_value_replacer(cyber_train_X, 'group_name', indian_separatists, 'Indian_Separatists')\n",
    "magic_value_replacer(cyber_train_X, 'group_name', NW_indian_groups, 'NW_Indian_Groups')\n",
    "magic_value_replacer(cyber_train_X, 'group_name', SE_indian_groups, 'NW_Indian_Groups')\n",
    "magic_value_replacer(cyber_train_X, 'group_name', african_political, 'African_Political')\n",
    "magic_value_replacer(cyber_train_X, 'group_name', irish_separatists, 'Irish_Separatists')\n",
    "magic_value_replacer(cyber_train_X, 'group_name', FARC_left_right, 'FARC_left_right')\n",
    "magic_value_replacer(cyber_train_X, 'group_name', middle_eastern_religious, 'Middle_Eastern_Religious')\n",
    "magic_value_replacer(cyber_train_X, 'group_name', israel_palestine_lebanon, 'Israel_Palestinian_Lebanon')\n",
    "magic_value_replacer(cyber_train_X, 'group_name', asian_african_religious, 'Asian_African_Religious')"
   ]
  },
  {
   "cell_type": "code",
   "execution_count": 26,
   "metadata": {
    "slideshow": {
     "slide_type": "skip"
    }
   },
   "outputs": [],
   "source": [
    "magic_value_replacer(cyber_test_X, 'group_name', palestinian_separatists, 'Palestinian_Separatists')\n",
    "magic_value_replacer(cyber_test_X, 'group_name', militants, 'Militants')\n",
    "magic_value_replacer(cyber_test_X, 'group_name', asian_separatists, 'Asian_Separatists')\n",
    "magic_value_replacer(cyber_test_X, 'group_name', middle_eastern_separatists, 'Middle_Eastern_Separatists')\n",
    "magic_value_replacer(cyber_test_X, 'group_name', indian_separatists, 'Indian_Separatists')\n",
    "magic_value_replacer(cyber_test_X, 'group_name', NW_indian_groups, 'NW_Indian_Groups')\n",
    "magic_value_replacer(cyber_test_X, 'group_name', SE_indian_groups, 'NW_Indian_Groups')\n",
    "magic_value_replacer(cyber_test_X, 'group_name', african_political, 'African_Political')\n",
    "magic_value_replacer(cyber_test_X, 'group_name', irish_separatists, 'Irish_Separatists')\n",
    "magic_value_replacer(cyber_test_X, 'group_name', FARC_left_right, 'FARC_left_right')\n",
    "magic_value_replacer(cyber_test_X, 'group_name', middle_eastern_religious, 'Middle_Eastern_Religious')\n",
    "magic_value_replacer(cyber_test_X, 'group_name', israel_palestine_lebanon, 'Israel_Palestinian_Lebanon')\n",
    "magic_value_replacer(cyber_test_X, 'group_name', asian_african_religious, 'Asian_African_Religious')"
   ]
  },
  {
   "cell_type": "markdown",
   "metadata": {
    "slideshow": {
     "slide_type": "skip"
    }
   },
   "source": [
    "###### City: (Grouping by Predominate Religion, Political Party or Conflict Issue)"
   ]
  },
  {
   "cell_type": "code",
   "execution_count": 27,
   "metadata": {
    "slideshow": {
     "slide_type": "skip"
    }
   },
   "outputs": [],
   "source": [
    "magic_value_replacer(cyber_train_X, 'city', sunni_cities, 'Sunni_Cities')\n",
    "magic_value_replacer(cyber_train_X, 'city', shia_cities, 'Shia_Cities')\n",
    "magic_value_replacer(cyber_train_X, 'city', split_cities, 'Split_Cities')\n",
    "magic_value_replacer(cyber_train_X, 'city', ibadi_cities_libya, 'Ibadi_Cities_Libya')\n",
    "magic_value_replacer(cyber_train_X, 'city', columbia_eln_cities, 'Columbia_ELN_Cities')\n",
    "magic_value_replacer(cyber_train_X, 'city', maoist_insurgency, 'Maoist_Insurgency')\n",
    "magic_value_replacer(cyber_train_X, 'city', w_africa_muslim, 'W_Africa_muslim')\n",
    "magic_value_replacer(cyber_train_X, 'city', w_africa_mixed, 'W_Africa_mixed')\n",
    "magic_value_replacer(cyber_train_X, 'city', w_africa_christian, 'W_Africa_christian')\n",
    "magic_value_replacer(cyber_train_X, 'city', Nepal_maoist_A, 'Nepal_Maoist_A')\n",
    "magic_value_replacer(cyber_train_X, 'city', Nepal_maoist_B, 'Nepal_Maoist_B')\n",
    "magic_value_replacer(cyber_train_X, 'city', Nepal_maoist_C, 'Nepal_Maoist_C')\n",
    "magic_value_replacer(cyber_train_X, 'city', northern_triangle, 'Northern_Triangle')"
   ]
  },
  {
   "cell_type": "code",
   "execution_count": 28,
   "metadata": {
    "slideshow": {
     "slide_type": "skip"
    }
   },
   "outputs": [],
   "source": [
    "magic_value_replacer(cyber_test_X, 'city', sunni_cities, 'Sunni_Cities')\n",
    "magic_value_replacer(cyber_test_X, 'city', shia_cities, 'Shia_Cities')\n",
    "magic_value_replacer(cyber_test_X, 'city', split_cities, 'Split_Cities')\n",
    "magic_value_replacer(cyber_test_X, 'city', ibadi_cities_libya, 'Ibadi_Cities_Libya')\n",
    "magic_value_replacer(cyber_test_X, 'city', columbia_eln_cities, 'Columbia_ELN_Cities')\n",
    "magic_value_replacer(cyber_test_X, 'city', maoist_insurgency, 'Maoist_Insurgency')\n",
    "magic_value_replacer(cyber_test_X, 'city', w_africa_muslim, 'W_Africa_muslim')\n",
    "magic_value_replacer(cyber_test_X, 'city', w_africa_mixed, 'W_Africa_mixed')\n",
    "magic_value_replacer(cyber_test_X, 'city', w_africa_christian, 'W_Africa_christian')\n",
    "magic_value_replacer(cyber_test_X, 'city', Nepal_maoist_A, 'Nepal_Maoist_A')\n",
    "magic_value_replacer(cyber_test_X, 'city', Nepal_maoist_B, 'Nepal_Maoist_B')\n",
    "magic_value_replacer(cyber_test_X, 'city', Nepal_maoist_C, 'Nepal_Maoist_C')\n",
    "magic_value_replacer(cyber_test_X, 'city', northern_triangle, 'Northern_Triangle')"
   ]
  },
  {
   "cell_type": "code",
   "execution_count": 29,
   "metadata": {
    "slideshow": {
     "slide_type": "skip"
    }
   },
   "outputs": [
    {
     "name": "stdout",
     "output_type": "stream",
     "text": [
      "(9941, 19)\n",
      "(3314, 19)\n"
     ]
    }
   ],
   "source": [
    "print(cyber_train_X.shape)\n",
    "print(cyber_test_X.shape)"
   ]
  },
  {
   "cell_type": "code",
   "execution_count": 30,
   "metadata": {
    "slideshow": {
     "slide_type": "skip"
    }
   },
   "outputs": [
    {
     "data": {
      "text/plain": [
       "0"
      ]
     },
     "execution_count": 30,
     "metadata": {},
     "output_type": "execute_result"
    }
   ],
   "source": [
    "# Mitigating some memory issues:\n",
    "\n",
    "del industrial, white_collar, gov_figure1, gov_figure2, pol_facilities, mil_facilities, mil_personnel\n",
    "del gov_diplomatic, educational, food_water, internet_comm_information, religious, political, mass_socio, \n",
    "del sunni_cities, shia_cities, split_cities, ibadi_cities_libya, columbia_eln_cities, maoist_insurgency\n",
    "del w_africa_muslim, w_africa_mixed, w_africa_christian, Nepal_maoist_A, Nepal_maoist_B, Nepal_maoist_C\n",
    "del northern_triangle, african_political, asian_separatists, middle_eastern_separatists, first_responders\n",
    "del FARC_left_right, middle_eastern_religious, israel_palestine_lebanon, asian_african_religious, militants\n",
    "del indian_separatists, NW_indian_groups, SE_indian_groups, irish_separatists, palestinian_separatists, \n",
    "del other_utilities, comm_related, polling_areas\n",
    "\n",
    "gc.collect()"
   ]
  },
  {
   "cell_type": "code",
   "execution_count": 31,
   "metadata": {
    "slideshow": {
     "slide_type": "skip"
    }
   },
   "outputs": [],
   "source": [
    "ipython_vars = ['In', 'Out', 'exit', 'quit', 'get_ipython', 'ipython_vars']\n",
    "\n",
    "cleaner = sorted([(x, sys.getsizeof(globals().get(x))) for x in dir() if not x.startswith('_') and x not in sys.modules and x not in ipython_vars], \n",
    "                 key=lambda x: x[1], reverse=True)"
   ]
  },
  {
   "cell_type": "markdown",
   "metadata": {
    "slideshow": {
     "slide_type": "slide"
    }
   },
   "source": [
    "### 2. Preliminary Visualizations and Exploration:\n",
    "\n",
    "Here we take a look at some of the correlations and relationships between our features/columns and see what we might want to focus on with our models."
   ]
  },
  {
   "cell_type": "code",
   "execution_count": 32,
   "metadata": {
    "slideshow": {
     "slide_type": "skip"
    }
   },
   "outputs": [],
   "source": [
    "success_class_balance = pd.DataFrame(cyber_data['success'].value_counts())\n",
    "cyber_data_description = pd.DataFrame(cyber_data.describe())\n",
    "\n",
    "cyber_data_objects = pd.DataFrame(cyber_data.dtypes.loc[cyber_data.dtypes == 'O'])\n",
    "cyber_data_ints = pd.DataFrame(cyber_data.dtypes.loc[cyber_data.dtypes == 'int64'])\n",
    "cyber_data_floats = pd.DataFrame(cyber_data.dtypes.loc[cyber_data.dtypes == 'float'])"
   ]
  },
  {
   "cell_type": "markdown",
   "metadata": {
    "slideshow": {
     "slide_type": "fragment"
    },
    "variables": {
     "success_class_balance": "<div>\n<style scoped>\n    .dataframe tbody tr th:only-of-type {\n        vertical-align: middle;\n    }\n\n    .dataframe tbody tr th {\n        vertical-align: top;\n    }\n\n    .dataframe thead th {\n        text-align: right;\n    }\n</style>\n<table border=\"1\" class=\"dataframe\">\n  <thead>\n    <tr style=\"text-align: right;\">\n      <th></th>\n      <th>success</th>\n    </tr>\n  </thead>\n  <tbody>\n    <tr>\n      <th>1</th>\n      <td>11994</td>\n    </tr>\n    <tr>\n      <th>0</th>\n      <td>1261</td>\n    </tr>\n  </tbody>\n</table>\n</div>"
    }
   },
   "source": [
    "Based on our look at value counts, it looks like we will need to keep our class imbalance in mind as we continue.  Once we get to running our models, we will use a balanced accuracy score in order to evaluate our model with a more accurate perspective. \n",
    "\n",
    "{{success_class_balance}}\n",
    "\n",
    "The descriptive statistics below give us a nice layout of our more common values for each feature, number of unique values and their distributions as well.  After this, it looks as if our feature object types are relatively workable.  We should be fine in that regard."
   ]
  },
  {
   "cell_type": "markdown",
   "metadata": {
    "slideshow": {
     "slide_type": "subslide"
    },
    "variables": {
     "cyber_data_description": "<div>\n<style scoped>\n    .dataframe tbody tr th:only-of-type {\n        vertical-align: middle;\n    }\n\n    .dataframe tbody tr th {\n        vertical-align: top;\n    }\n\n    .dataframe thead th {\n        text-align: right;\n    }\n</style>\n<table border=\"1\" class=\"dataframe\">\n  <thead>\n    <tr style=\"text-align: right;\">\n      <th></th>\n      <th>event_id</th>\n      <th>crit1</th>\n      <th>crit2</th>\n      <th>crit3</th>\n      <th>doubt</th>\n      <th>success</th>\n      <th>suicide</th>\n      <th>group_attrib_crtainty</th>\n      <th>unaffil_individ</th>\n      <th>property</th>\n    </tr>\n  </thead>\n  <tbody>\n    <tr>\n      <th>count</th>\n      <td>1.325500e+04</td>\n      <td>13255.000000</td>\n      <td>13255.000000</td>\n      <td>13255.000000</td>\n      <td>13255.000000</td>\n      <td>13255.000000</td>\n      <td>13255.000000</td>\n      <td>13206.000000</td>\n      <td>13255.000000</td>\n      <td>13255.000000</td>\n    </tr>\n    <tr>\n      <th>mean</th>\n      <td>2.008238e+11</td>\n      <td>0.988759</td>\n      <td>0.987401</td>\n      <td>0.948397</td>\n      <td>-0.047680</td>\n      <td>0.904866</td>\n      <td>0.040890</td>\n      <td>0.190292</td>\n      <td>0.005734</td>\n      <td>-0.937156</td>\n    </tr>\n    <tr>\n      <th>std</th>\n      <td>9.704446e+08</td>\n      <td>0.105430</td>\n      <td>0.111540</td>\n      <td>0.221233</td>\n      <td>1.204459</td>\n      <td>0.293411</td>\n      <td>0.198043</td>\n      <td>0.392547</td>\n      <td>0.075507</td>\n      <td>3.455691</td>\n    </tr>\n    <tr>\n      <th>min</th>\n      <td>1.970011e+11</td>\n      <td>0.000000</td>\n      <td>0.000000</td>\n      <td>0.000000</td>\n      <td>-9.000000</td>\n      <td>0.000000</td>\n      <td>0.000000</td>\n      <td>0.000000</td>\n      <td>0.000000</td>\n      <td>-9.000000</td>\n    </tr>\n    <tr>\n      <th>25%</th>\n      <td>2.008010e+11</td>\n      <td>1.000000</td>\n      <td>1.000000</td>\n      <td>1.000000</td>\n      <td>0.000000</td>\n      <td>1.000000</td>\n      <td>0.000000</td>\n      <td>0.000000</td>\n      <td>0.000000</td>\n      <td>0.000000</td>\n    </tr>\n    <tr>\n      <th>50%</th>\n      <td>2.011100e+11</td>\n      <td>1.000000</td>\n      <td>1.000000</td>\n      <td>1.000000</td>\n      <td>0.000000</td>\n      <td>1.000000</td>\n      <td>0.000000</td>\n      <td>0.000000</td>\n      <td>0.000000</td>\n      <td>0.000000</td>\n    </tr>\n    <tr>\n      <th>75%</th>\n      <td>2.014062e+11</td>\n      <td>1.000000</td>\n      <td>1.000000</td>\n      <td>1.000000</td>\n      <td>0.000000</td>\n      <td>1.000000</td>\n      <td>0.000000</td>\n      <td>0.000000</td>\n      <td>0.000000</td>\n      <td>1.000000</td>\n    </tr>\n    <tr>\n      <th>max</th>\n      <td>2.017123e+11</td>\n      <td>1.000000</td>\n      <td>1.000000</td>\n      <td>1.000000</td>\n      <td>1.000000</td>\n      <td>1.000000</td>\n      <td>1.000000</td>\n      <td>1.000000</td>\n      <td>1.000000</td>\n      <td>1.000000</td>\n    </tr>\n  </tbody>\n</table>\n</div>"
    }
   },
   "source": [
    "> Descriptive Statistics:\n",
    "{{cyber_data_description}}"
   ]
  },
  {
   "cell_type": "code",
   "execution_count": 33,
   "metadata": {
    "slideshow": {
     "slide_type": "subslide"
    }
   },
   "outputs": [
    {
     "data": {
      "text/html": [
       "<div>\n",
       "<style scoped>\n",
       "    .dataframe tbody tr th:only-of-type {\n",
       "        vertical-align: middle;\n",
       "    }\n",
       "\n",
       "    .dataframe tbody tr th {\n",
       "        vertical-align: top;\n",
       "    }\n",
       "\n",
       "    .dataframe thead th {\n",
       "        text-align: right;\n",
       "    }\n",
       "</style>\n",
       "<table border=\"1\" class=\"dataframe\">\n",
       "  <thead>\n",
       "    <tr style=\"text-align: right;\">\n",
       "      <th></th>\n",
       "      <th>country_txt</th>\n",
       "      <th>region_txt</th>\n",
       "      <th>city</th>\n",
       "      <th>summary</th>\n",
       "      <th>attack_1txt</th>\n",
       "      <th>target_1txt</th>\n",
       "      <th>sub_targettxt</th>\n",
       "      <th>corp1</th>\n",
       "      <th>specific_target</th>\n",
       "      <th>victim_nationalitytxt</th>\n",
       "      <th>group_name</th>\n",
       "      <th>motive</th>\n",
       "      <th>weapontxt</th>\n",
       "      <th>sub_weapontxt</th>\n",
       "    </tr>\n",
       "  </thead>\n",
       "  <tbody>\n",
       "    <tr>\n",
       "      <th>count</th>\n",
       "      <td>13255</td>\n",
       "      <td>13255</td>\n",
       "      <td>13223</td>\n",
       "      <td>12103</td>\n",
       "      <td>13255</td>\n",
       "      <td>13255</td>\n",
       "      <td>12468</td>\n",
       "      <td>11006</td>\n",
       "      <td>12619</td>\n",
       "      <td>13128</td>\n",
       "      <td>13255</td>\n",
       "      <td>8791</td>\n",
       "      <td>13255</td>\n",
       "      <td>11860</td>\n",
       "    </tr>\n",
       "    <tr>\n",
       "      <th>unique</th>\n",
       "      <td>150</td>\n",
       "      <td>12</td>\n",
       "      <td>5954</td>\n",
       "      <td>11834</td>\n",
       "      <td>9</td>\n",
       "      <td>22</td>\n",
       "      <td>111</td>\n",
       "      <td>4414</td>\n",
       "      <td>8374</td>\n",
       "      <td>165</td>\n",
       "      <td>800</td>\n",
       "      <td>3767</td>\n",
       "      <td>12</td>\n",
       "      <td>30</td>\n",
       "    </tr>\n",
       "    <tr>\n",
       "      <th>top</th>\n",
       "      <td>India</td>\n",
       "      <td>South Asia</td>\n",
       "      <td>Unknown</td>\n",
       "      <td>01/11/2016: Assailants set fire to a shop in M...</td>\n",
       "      <td>Bombing/Explosion</td>\n",
       "      <td>Private Citizens &amp; Property</td>\n",
       "      <td>Police Security Forces/Officers</td>\n",
       "      <td>Not Applicable</td>\n",
       "      <td>Civilians</td>\n",
       "      <td>India</td>\n",
       "      <td>Unknown</td>\n",
       "      <td>The specific motive for the attack is unknown.</td>\n",
       "      <td>Explosives</td>\n",
       "      <td>Unknown Gun Type</td>\n",
       "    </tr>\n",
       "    <tr>\n",
       "      <th>freq</th>\n",
       "      <td>2852</td>\n",
       "      <td>5613</td>\n",
       "      <td>620</td>\n",
       "      <td>36</td>\n",
       "      <td>5083</td>\n",
       "      <td>3573</td>\n",
       "      <td>939</td>\n",
       "      <td>1439</td>\n",
       "      <td>506</td>\n",
       "      <td>2840</td>\n",
       "      <td>4689</td>\n",
       "      <td>2231</td>\n",
       "      <td>5643</td>\n",
       "      <td>3630</td>\n",
       "    </tr>\n",
       "  </tbody>\n",
       "</table>\n",
       "</div>"
      ],
      "text/plain": [
       "       country_txt  region_txt     city  \\\n",
       "count        13255       13255    13223   \n",
       "unique         150          12     5954   \n",
       "top          India  South Asia  Unknown   \n",
       "freq          2852        5613      620   \n",
       "\n",
       "                                                  summary        attack_1txt  \\\n",
       "count                                               12103              13255   \n",
       "unique                                              11834                  9   \n",
       "top     01/11/2016: Assailants set fire to a shop in M...  Bombing/Explosion   \n",
       "freq                                                   36               5083   \n",
       "\n",
       "                        target_1txt                    sub_targettxt  \\\n",
       "count                         13255                            12468   \n",
       "unique                           22                              111   \n",
       "top     Private Citizens & Property  Police Security Forces/Officers   \n",
       "freq                           3573                              939   \n",
       "\n",
       "                 corp1 specific_target victim_nationalitytxt group_name  \\\n",
       "count            11006           12619                 13128      13255   \n",
       "unique            4414            8374                   165        800   \n",
       "top     Not Applicable       Civilians                 India    Unknown   \n",
       "freq              1439             506                  2840       4689   \n",
       "\n",
       "                                                motive   weapontxt  \\\n",
       "count                                             8791       13255   \n",
       "unique                                            3767          12   \n",
       "top     The specific motive for the attack is unknown.  Explosives   \n",
       "freq                                              2231        5643   \n",
       "\n",
       "           sub_weapontxt  \n",
       "count              11860  \n",
       "unique                30  \n",
       "top     Unknown Gun Type  \n",
       "freq                3630  "
      ]
     },
     "execution_count": 33,
     "metadata": {},
     "output_type": "execute_result"
    }
   ],
   "source": [
    "cyber_data.describe(include = 'O')"
   ]
  },
  {
   "cell_type": "markdown",
   "metadata": {
    "slideshow": {
     "slide_type": "subslide"
    },
    "variables": {
     "cyber_data_floats": "<div>\n<style scoped>\n    .dataframe tbody tr th:only-of-type {\n        vertical-align: middle;\n    }\n\n    .dataframe tbody tr th {\n        vertical-align: top;\n    }\n\n    .dataframe thead th {\n        text-align: right;\n    }\n</style>\n<table border=\"1\" class=\"dataframe\">\n  <thead>\n    <tr style=\"text-align: right;\">\n      <th></th>\n      <th>0</th>\n    </tr>\n  </thead>\n  <tbody>\n    <tr>\n      <th>doubt</th>\n      <td>float64</td>\n    </tr>\n    <tr>\n      <th>group_attrib_crtainty</th>\n      <td>float64</td>\n    </tr>\n  </tbody>\n</table>\n</div>",
     "cyber_data_ints": "<div>\n<style scoped>\n    .dataframe tbody tr th:only-of-type {\n        vertical-align: middle;\n    }\n\n    .dataframe tbody tr th {\n        vertical-align: top;\n    }\n\n    .dataframe thead th {\n        text-align: right;\n    }\n</style>\n<table border=\"1\" class=\"dataframe\">\n  <thead>\n    <tr style=\"text-align: right;\">\n      <th></th>\n      <th>0</th>\n    </tr>\n  </thead>\n  <tbody>\n    <tr>\n      <th>event_id</th>\n      <td>int64</td>\n    </tr>\n    <tr>\n      <th>crit1</th>\n      <td>int64</td>\n    </tr>\n    <tr>\n      <th>crit2</th>\n      <td>int64</td>\n    </tr>\n    <tr>\n      <th>crit3</th>\n      <td>int64</td>\n    </tr>\n    <tr>\n      <th>success</th>\n      <td>int64</td>\n    </tr>\n    <tr>\n      <th>suicide</th>\n      <td>int64</td>\n    </tr>\n    <tr>\n      <th>unaffil_individ</th>\n      <td>int64</td>\n    </tr>\n    <tr>\n      <th>property</th>\n      <td>int64</td>\n    </tr>\n  </tbody>\n</table>\n</div>",
     "cyber_data_objects": "<div>\n<style scoped>\n    .dataframe tbody tr th:only-of-type {\n        vertical-align: middle;\n    }\n\n    .dataframe tbody tr th {\n        vertical-align: top;\n    }\n\n    .dataframe thead th {\n        text-align: right;\n    }\n</style>\n<table border=\"1\" class=\"dataframe\">\n  <thead>\n    <tr style=\"text-align: right;\">\n      <th></th>\n      <th>0</th>\n    </tr>\n  </thead>\n  <tbody>\n    <tr>\n      <th>country_txt</th>\n      <td>object</td>\n    </tr>\n    <tr>\n      <th>region_txt</th>\n      <td>object</td>\n    </tr>\n    <tr>\n      <th>city</th>\n      <td>object</td>\n    </tr>\n    <tr>\n      <th>summary</th>\n      <td>object</td>\n    </tr>\n    <tr>\n      <th>attack_1txt</th>\n      <td>object</td>\n    </tr>\n    <tr>\n      <th>target_1txt</th>\n      <td>object</td>\n    </tr>\n    <tr>\n      <th>sub_targettxt</th>\n      <td>object</td>\n    </tr>\n    <tr>\n      <th>corp1</th>\n      <td>object</td>\n    </tr>\n    <tr>\n      <th>specific_target</th>\n      <td>object</td>\n    </tr>\n    <tr>\n      <th>victim_nationalitytxt</th>\n      <td>object</td>\n    </tr>\n    <tr>\n      <th>group_name</th>\n      <td>object</td>\n    </tr>\n    <tr>\n      <th>motive</th>\n      <td>object</td>\n    </tr>\n    <tr>\n      <th>weapontxt</th>\n      <td>object</td>\n    </tr>\n    <tr>\n      <th>sub_weapontxt</th>\n      <td>object</td>\n    </tr>\n  </tbody>\n</table>\n</div>"
    }
   },
   "source": [
    "<head>\n",
    "    <table>\n",
    "        <tr>\n",
    "            <td> {{cyber_data_objects}} </td>\n",
    "            <td> {{cyber_data_ints}} </td>\n",
    "            <td> {{cyber_data_floats}} </td>\n",
    "        </tr>\n",
    "    </table>\n",
    "</head>\n",
    "          \n",
    "\n"
   ]
  },
  {
   "cell_type": "code",
   "execution_count": 34,
   "metadata": {
    "slideshow": {
     "slide_type": "subslide"
    }
   },
   "outputs": [
    {
     "data": {
      "text/plain": [
       "Civilians       506\n",
       "Comm-Related    415\n",
       "Unknown         240\n",
       "Officers        127\n",
       "Soldiers        126\n",
       "Village          96\n",
       "Patrol           89\n",
       "Mosque           89\n",
       "Office           85\n",
       "Checkpoint       84\n",
       "Name: specific_target, dtype: int64"
      ]
     },
     "execution_count": 34,
     "metadata": {},
     "output_type": "execute_result"
    }
   ],
   "source": [
    "cyber_data.specific_target.value_counts().head(10)"
   ]
  },
  {
   "cell_type": "markdown",
   "metadata": {
    "slideshow": {
     "slide_type": "skip"
    }
   },
   "source": [
    "#### B. Correlation:"
   ]
  },
  {
   "cell_type": "code",
   "execution_count": 35,
   "metadata": {
    "scrolled": false,
    "slideshow": {
     "slide_type": "slide"
    }
   },
   "outputs": [
    {
     "data": {
      "image/png": "[encoded data removed]",
      "text/plain": [
       "<Figure size 792x648 with 2 Axes>"
      ]
     },
     "metadata": {
      "needs_background": "light"
     },
     "output_type": "display_data"
    }
   ],
   "source": [
    "f, ax = plt.subplots(figsize = (11, 9))\n",
    "ax1 = sns.heatmap(cyber_data.corr(), annot = True)\n",
    "plt.show()"
   ]
  },
  {
   "cell_type": "markdown",
   "metadata": {
    "slideshow": {
     "slide_type": "skip"
    }
   },
   "source": [
    "#### C. Most Active Groups:"
   ]
  },
  {
   "cell_type": "code",
   "execution_count": 36,
   "metadata": {
    "slideshow": {
     "slide_type": "skip"
    }
   },
   "outputs": [],
   "source": [
    "# Most prolific groups:\n",
    "\n",
    "actives = cyber_train_X['group_name'].value_counts().head(11).drop('Unknown')\n",
    "mask3 = cyber_train_X['group_name'].map(lambda x: x in actives)\n",
    "actives_df = cyber_train_X[mask3]\n",
    "\n",
    "temp_output = cyber_train_Y.loc[actives_df.index]\n",
    "\n",
    "beta_1 = actives.keys()\n",
    "gamma_1 = actives.values\n",
    "\n",
    "# Most affected countries:\n",
    "\n",
    "hot_countries = cyber_train_X['country_txt'].value_counts().head(10)\n",
    "mask3 = cyber_train_X['country_txt'].map(lambda x: x in hot_countries)\n",
    "hot_countries_df = cyber_train_X[mask3]\n",
    "phi = hot_countries_df['country_txt'].value_counts().head(10)\n",
    "\n",
    "temp_output2 = cyber_train_Y.loc[hot_countries_df.index]\n",
    "\n",
    "\n",
    "beta_2 = phi.keys()\n",
    "gamma_2 = phi.values"
   ]
  },
  {
   "cell_type": "code",
   "execution_count": 37,
   "metadata": {
    "slideshow": {
     "slide_type": "slide"
    }
   },
   "outputs": [
    {
     "data": {
      "image/png": "[encoded data removed]",
      "text/plain": [
       "<Figure size 1224x504 with 2 Axes>"
      ]
     },
     "metadata": {
      "needs_background": "light"
     },
     "output_type": "display_data"
    }
   ],
   "source": [
    "f, (ax1, ax2) = plt.subplots(1, 2, figsize = (17, 7))\n",
    "\n",
    "plt.subplot(1, 2, 1)\n",
    "ax1 = sns.pointplot(x = actives_df['group_name'], y = temp_output['success'])\n",
    "ax1.set_xticklabels(labels = beta_1, rotation = '80', fontdict = {'fontsize':10})\n",
    "ax1.set_xlabel('Name of Terrorist Group', fontdict = {'fontsize':12})\n",
    "ax1.set_ylabel('Success Rate', fontdict = {'fontsize':12})\n",
    "ax1.set_title('Most Active Terror Groups and Their Success Rates')\n",
    "plt.subplots_adjust(wspace = .4)\n",
    "\n",
    "plt.subplot(1, 2, 2)\n",
    "ax2 = sns.pointplot(x = beta_2, y = gamma_2)\n",
    "ax2.set_xticklabels(labels = beta_2, rotation = '80', fontdict = {'fontsize':12})\n",
    "ax2.set_xlabel('Name of Country', fontdict = {'fontsize':12})\n",
    "ax2.set_ylabel('Number of Successful Attacks', fontdict = {'fontsize':12})\n",
    "ax2.set_title('Countries with Most Activity and Number of Successful Attacks')\n",
    "plt.subplots_adjust(wspace = .3, hspace = .3)\n",
    "\n",
    "plt.show()"
   ]
  },
  {
   "cell_type": "markdown",
   "metadata": {
    "slideshow": {
     "slide_type": "slide"
    }
   },
   "source": [
    "#### E. Highly Targeted Areas:\n",
    "\n",
    "The next few graphs take a look at the target feature (i.e. the feature that describes what sector is targeted within the attacks) and how they are distributed according to other features.  After having run some preliminary feature selections, our algorithims highlighted the importance of the target features, so we wanted to take a look at it in more-depth."
   ]
  },
  {
   "cell_type": "code",
   "execution_count": 38,
   "metadata": {
    "slideshow": {
     "slide_type": "skip"
    }
   },
   "outputs": [],
   "source": [
    "# Gathering the top-10 targets:\n",
    "big_targets = cyber_data['target_1txt'].value_counts().head(5)\n",
    "\n",
    "big_targets_mask = cyber_data['target_1txt'].apply(lambda x: x in big_targets)\n",
    "targeted_df = cyber_data[big_targets_mask]\n",
    "\n"
   ]
  },
  {
   "cell_type": "code",
   "execution_count": 39,
   "metadata": {
    "slideshow": {
     "slide_type": "subslide"
    }
   },
   "outputs": [
    {
     "data": {
      "image/png": "[encoded data removed]",
      "text/plain": [
       "<Figure size 1440x720 with 1 Axes>"
      ]
     },
     "metadata": {
      "needs_background": "light"
     },
     "output_type": "display_data"
    }
   ],
   "source": [
    "# Visualization Parameters:\n",
    "countplot_kwargs = {'edgecolor':'black',\n",
    "                    'linewidth':.85,\n",
    "                    'alpha':.85}\n",
    "countplot_rc = {'figure.dpi': 90,\n",
    "                'font.size': 20}\n",
    "\n",
    "# Plot set-up:\n",
    "\n",
    "plt.figure(figsize = (20, 10))\n",
    "plt.rc(countplot_rc)\n",
    "ax1 = sns.countplot(x = 'target_1txt', hue = 'region_txt', data = targeted_df, \n",
    "                    orient = 'h', palette = 'Paired', **countplot_kwargs)\n",
    "ax1.legend(loc = \"upper right\")\n",
    "plt.ylabel(\"Count\")\n",
    "plt.xlabel(\"Targeted Sectors\")\n",
    "plt.title(\"Geographical Location for Targeted Areas\")\n",
    "plt.xticks()\n",
    "plt.show()"
   ]
  },
  {
   "cell_type": "code",
   "execution_count": 40,
   "metadata": {
    "slideshow": {
     "slide_type": "subslide"
    }
   },
   "outputs": [
    {
     "data": {
      "image/png": "[encoded data removed]",
      "text/plain": [
       "<Figure size 1440x720 with 1 Axes>"
      ]
     },
     "metadata": {
      "needs_background": "light"
     },
     "output_type": "display_data"
    }
   ],
   "source": [
    "plt.figure(figsize = (20, 10))\n",
    "plt.rc(countplot_rc)\n",
    "ax2 = sns.countplot(x = 'target_1txt', hue = 'attack_1txt', data = targeted_df, orient = 'h',\n",
    "                    palette = 'Paired', **countplot_kwargs)\n",
    "ax2.legend(loc = 'upper right')\n",
    "plt.ylabel(\"Count\")\n",
    "plt.xlabel(\"Targeted Sectors\")\n",
    "plt.title(\"Targeted Areas and Attack Method\")\n",
    "plt.show()"
   ]
  },
  {
   "cell_type": "code",
   "execution_count": 41,
   "metadata": {
    "slideshow": {
     "slide_type": "subslide"
    }
   },
   "outputs": [
    {
     "data": {
      "image/png": "[encoded data removed]",
      "text/plain": [
       "<Figure size 1440x720 with 1 Axes>"
      ]
     },
     "metadata": {
      "needs_background": "light"
     },
     "output_type": "display_data"
    }
   ],
   "source": [
    "plt.figure(figsize = (20, 10))\n",
    "plt.rc(countplot_rc)\n",
    "ax3 = sns.countplot(x = 'target_1txt', hue = 'weapontxt', data = targeted_df, orient = 'h', \n",
    "                    palette = 'Paired', **countplot_kwargs)\n",
    "ax3.legend(loc = 'upper right')\n",
    "plt.ylabel(\"Count\")\n",
    "plt.xlabel(\"Targeted Sectors\")\n",
    "plt.title(\"Targeted Areas and Weapon Type\")\n",
    "\n",
    "plt.show()"
   ]
  },
  {
   "cell_type": "code",
   "execution_count": 42,
   "metadata": {
    "slideshow": {
     "slide_type": "skip"
    }
   },
   "outputs": [
    {
     "data": {
      "text/plain": [
       "1061"
      ]
     },
     "execution_count": 42,
     "metadata": {},
     "output_type": "execute_result"
    }
   ],
   "source": [
    "del actives, actives_df, temp_output, beta_1, beta_2, gamma_1, gamma_2,\n",
    "del hot_countries, hot_countries_df, phi, temp_output2, mask3\n",
    "gc.collect()"
   ]
  },
  {
   "cell_type": "markdown",
   "metadata": {
    "slideshow": {
     "slide_type": "slide"
    }
   },
   "source": [
    "### 3. Feature Selection:\n",
    "\n",
    "Getting closer to modeling and using feature selection algorithms to see what will help us best minimize our feature set while maintaining the most amount of variation in our data.\n",
    "\n",
    "We mainly focused on Select KBest within sklearn and PCA analysis to give us two perspectives on the data (one that we can parse out as humans, namely Select KBest, and one that is mostly computationally described, namely PCA). "
   ]
  },
  {
   "cell_type": "markdown",
   "metadata": {
    "slideshow": {
     "slide_type": "subslide"
    }
   },
   "source": [
    "#### A. Select K-Best:\n",
    "\n",
    "##### Assessing the Overall DataFrame and its Features:"
   ]
  },
  {
   "cell_type": "code",
   "execution_count": 43,
   "metadata": {
    "slideshow": {
     "slide_type": "skip"
    }
   },
   "outputs": [],
   "source": [
    "from sklearn import feature_selection"
   ]
  },
  {
   "cell_type": "code",
   "execution_count": 44,
   "metadata": {
    "slideshow": {
     "slide_type": "fragment"
    }
   },
   "outputs": [],
   "source": [
    "# Getting dummies on our training and test sets (slight wrangling involved):\n",
    "  # First dropping any na's:\n",
    "cyber_train_X.dropna(axis = 0, inplace = True)\n",
    "cyber_test_X.dropna(axis = 0, inplace = True)\n",
    "\n",
    "  # Then grabbing an index to make sure we maintain our train/test split:\n",
    "train_index = cyber_train_X.index\n",
    "test_index = cyber_test_X.index\n",
    "\n",
    "  # Dummy-time (we combined the dataframes here to make sure we didn't get duplicated dummies in both \n",
    "    # training and test sets):\n",
    "dummy_prep = pd.concat([cyber_train_X, cyber_test_X]).drop(['group_name', 'city', 'weapontxt'], axis = 1)\n",
    "dummy_1 = pd.get_dummies(dummy_prep)\n",
    "\n",
    "  # Re-filtering our Training/Test Inputs:\n",
    "cyber_train_dummy_X = dummy_1.loc[train_index]\n",
    "cyber_test_dummy_X = dummy_1.loc[test_index]\n",
    "\n",
    "  # Re-filtering our Training/Test Outputs:\n",
    "cyber_train_dummy_Y = cyber_train_Y.loc[train_index]\n",
    "cyber_test_dummy_Y = cyber_test_Y.loc[test_index]"
   ]
  },
  {
   "cell_type": "code",
   "execution_count": 45,
   "metadata": {
    "slideshow": {
     "slide_type": "subslide"
    }
   },
   "outputs": [
    {
     "name": "stdout",
     "output_type": "stream",
     "text": [
      "(9907, 12454)\n",
      "(2283, 12454)\n"
     ]
    }
   ],
   "source": [
    "# Making sure we have the same sizes still:\n",
    "print(cyber_train_dummy_X.shape)\n",
    "print(cyber_test_dummy_X.shape)"
   ]
  },
  {
   "cell_type": "code",
   "execution_count": 46,
   "metadata": {
    "slideshow": {
     "slide_type": "skip"
    }
   },
   "outputs": [],
   "source": [
    "# Fitting SelectKBest to our Features and output:\n",
    "  # Here we tried a number of sizes: 20, 30, 500 and 700. We found that 25-30 got us the best results.\n",
    "KBest_1 = feature_selection.SelectKBest(k = 25) \n",
    "cyber_train_KBest1 = KBest_1.fit_transform(cyber_train_dummy_X, cyber_train_dummy_Y)\n",
    "\n",
    "# Transforming the test-set\n",
    "cyber_test_KBest1 = KBest_1.transform(cyber_test_dummy_X)"
   ]
  },
  {
   "cell_type": "code",
   "execution_count": 47,
   "metadata": {
    "slideshow": {
     "slide_type": "skip"
    }
   },
   "outputs": [],
   "source": [
    "# Creating a DF with the top 25 features:\n",
    "feature_mask = KBest_1.get_support(indices = True)\n",
    "KBest_1_features = pd.DataFrame(cyber_train_dummy_X.columns[feature_mask])"
   ]
  },
  {
   "cell_type": "markdown",
   "metadata": {
    "slideshow": {
     "slide_type": "subslide"
    },
    "variables": {
     "KBest_1_features": "<div>\n<style scoped>\n    .dataframe tbody tr th:only-of-type {\n        vertical-align: middle;\n    }\n\n    .dataframe tbody tr th {\n        vertical-align: top;\n    }\n\n    .dataframe thead th {\n        text-align: right;\n    }\n</style>\n<table border=\"1\" class=\"dataframe\">\n  <thead>\n    <tr style=\"text-align: right;\">\n      <th></th>\n      <th>0</th>\n    </tr>\n  </thead>\n  <tbody>\n    <tr>\n      <th>0</th>\n      <td>country_txt_Nepal</td>\n    </tr>\n    <tr>\n      <th>1</th>\n      <td>country_txt_Uruguay</td>\n    </tr>\n    <tr>\n      <th>2</th>\n      <td>attack_1txt_Armed Assault</td>\n    </tr>\n    <tr>\n      <th>3</th>\n      <td>attack_1txt_Assassination</td>\n    </tr>\n    <tr>\n      <th>4</th>\n      <td>attack_1txt_Bombing/Explosion</td>\n    </tr>\n    <tr>\n      <th>5</th>\n      <td>attack_1txt_Facility/Infrastructure Attack</td>\n    </tr>\n    <tr>\n      <th>6</th>\n      <td>attack_1txt_Hostage Taking (Kidnapping)</td>\n    </tr>\n    <tr>\n      <th>7</th>\n      <td>target_1txt_Government (General)</td>\n    </tr>\n    <tr>\n      <th>8</th>\n      <td>target_1txt_Private Citizens &amp; Property</td>\n    </tr>\n    <tr>\n      <th>9</th>\n      <td>target_1txt_Unknown</td>\n    </tr>\n    <tr>\n      <th>10</th>\n      <td>sub_targettxt_Gov_Figure1</td>\n    </tr>\n    <tr>\n      <th>11</th>\n      <td>sub_targettxt_Unknown</td>\n    </tr>\n    <tr>\n      <th>12</th>\n      <td>corp1_Indian Armed Forces</td>\n    </tr>\n    <tr>\n      <th>13</th>\n      <td>corp1_Not Applicable</td>\n    </tr>\n    <tr>\n      <th>14</th>\n      <td>corp1_Unified Communist Party of Nepal: Maoist...</td>\n    </tr>\n    <tr>\n      <th>15</th>\n      <td>specific_target_Election Rally</td>\n    </tr>\n    <tr>\n      <th>16</th>\n      <td>specific_target_Internet Providers</td>\n    </tr>\n    <tr>\n      <th>17</th>\n      <td>specific_target_Local Jewish Community Member</td>\n    </tr>\n    <tr>\n      <th>18</th>\n      <td>specific_target_Unknown</td>\n    </tr>\n    <tr>\n      <th>19</th>\n      <td>victim_nationalitytxt_Nepal</td>\n    </tr>\n    <tr>\n      <th>20</th>\n      <td>victim_nationalitytxt_Unknown</td>\n    </tr>\n    <tr>\n      <th>21</th>\n      <td>sub_weapontxt_Arson/Fire</td>\n    </tr>\n    <tr>\n      <th>22</th>\n      <td>sub_weapontxt_Letter Bomb</td>\n    </tr>\n    <tr>\n      <th>23</th>\n      <td>sub_weapontxt_Other Explosive Type</td>\n    </tr>\n    <tr>\n      <th>24</th>\n      <td>sub_weapontxt_Unknown Gun Type</td>\n    </tr>\n  </tbody>\n</table>\n</div>"
    }
   },
   "source": [
    "Here, we are getting a lot of return from the attack, target, sub-target and a few country features.  The doubt column indicates whether doubt exists regarding the classification of this incident as a terrorist incident, as opposed to some sort of other crime.  High-correlation here would make sense, but for now, we will focus on the columns below as the doubt feature is potentially over-correlated.\n",
    "\n",
    "{{KBest_1_features}}"
   ]
  },
  {
   "cell_type": "markdown",
   "metadata": {
    "slideshow": {
     "slide_type": "slide"
    }
   },
   "source": [
    "##### Assessing Individual Features:\n",
    "\n",
    "Running SelectKBest on a few features individually to see which of their values is selected as most important.  This will help us consolidate some of those values and make a more specific dataframe. "
   ]
  },
  {
   "cell_type": "markdown",
   "metadata": {
    "slideshow": {
     "slide_type": "fragment"
    }
   },
   "source": [
    "###### Group_name:"
   ]
  },
  {
   "cell_type": "code",
   "execution_count": 48,
   "metadata": {
    "slideshow": {
     "slide_type": "skip"
    }
   },
   "outputs": [],
   "source": [
    "# Getting dummies on our training and test sets (slight wrangling involved):\n",
    "names_train_X = cyber_train_X['group_name']\n",
    "names_test_X = cyber_test_X['group_name']\n",
    "\n",
    "names_train_index = cyber_train_X['group_name'].index\n",
    "names_test_index = cyber_test_X['group_name'].index\n",
    "\n",
    "names_dummy_prep = pd.concat([names_train_X, names_test_X])\n",
    "names_dummy_1 = pd.get_dummies(names_dummy_prep)\n",
    "\n",
    "# Filtering Training/Test Inputs:\n",
    "names_train_dummy_X = names_dummy_1.loc[names_train_index]\n",
    "names_test_dummy_X = names_dummy_1.loc[names_test_index]\n",
    "\n",
    "# Filtering Training Outputs:\n",
    "names_train_dummy_Y = cyber_train_Y.loc[names_train_index]\n",
    "names_test_dummy_Y = cyber_test_Y.loc[names_test_index]"
   ]
  },
  {
   "cell_type": "code",
   "execution_count": 49,
   "metadata": {},
   "outputs": [
    {
     "data": {
      "text/plain": [
       "77345                                               Unknown\n",
       "140755                             Middle_Eastern_Religious\n",
       "76104                            Middle_Eastern_Separatists\n",
       "78496                                               Unknown\n",
       "92483                                      NW_Indian_Groups\n",
       "92319                                      NW_Indian_Groups\n",
       "180387                      Houthi extremists (Ansar Allah)\n",
       "94248                                               Unknown\n",
       "139990                             Middle_Eastern_Religious\n",
       "171908                                              Unknown\n",
       "117967                                              Unknown\n",
       "82754                                               Unknown\n",
       "2735                                          Black Muslims\n",
       "102269                                              Unknown\n",
       "159882                                    Fulani extremists\n",
       "102240                           Middle_Eastern_Separatists\n",
       "88148                                               Unknown\n",
       "164568                                              Maoists\n",
       "125347                             Middle_Eastern_Religious\n",
       "79132                               Al-Aqsa Martyrs Brigade\n",
       "5511                                        FARC_left_right\n",
       "111764                                     NW_Indian_Groups\n",
       "123234                             Middle_Eastern_Religious\n",
       "103873                                            Militants\n",
       "144666               Ahle Sunnat Wal Jamaat (ASWJ-Pakistan)\n",
       "147094    Communist Party of Nepal - Maoist (CPN-Maoist-...\n",
       "72730                                       Hutu extremists\n",
       "96303                                      NW_Indian_Groups\n",
       "87381                                               Unknown\n",
       "100909                                     NW_Indian_Groups\n",
       "                                ...                        \n",
       "148462                            Luhansk People's Republic\n",
       "70987                                               Unknown\n",
       "75654                               Palestinian_Separatists\n",
       "102755                                   Indian_Separatists\n",
       "12918                                          Ku Klux Klan\n",
       "95128                                      NW_Indian_Groups\n",
       "60347                                               Unknown\n",
       "78300                                     Asian_Separatists\n",
       "145991                                              Unknown\n",
       "11620                           M-19 (Movement of April 19)\n",
       "109635                                              Unknown\n",
       "83700                                               Unknown\n",
       "162680                                              Maoists\n",
       "85965                               Palestinian_Separatists\n",
       "120856                             Middle_Eastern_Religious\n",
       "93329                                      NW_Indian_Groups\n",
       "73545               Indigenous People's Federal Army (IPFA)\n",
       "113574                           Militant Minority (Greece)\n",
       "6571                                 Montoneros (Argentina)\n",
       "67504                                               Unknown\n",
       "123175                                              Unknown\n",
       "116922                              New People's Army (NPA)\n",
       "95101                                      NW_Indian_Groups\n",
       "70949                                            Black Star\n",
       "158752                                              Unknown\n",
       "120174                                              Unknown\n",
       "4714                                                Unknown\n",
       "21562                                     Shining Path (SL)\n",
       "144733                             Middle_Eastern_Religious\n",
       "119628                             Middle_Eastern_Religious\n",
       "Name: group_name, Length: 9907, dtype: object"
      ]
     },
     "execution_count": 49,
     "metadata": {},
     "output_type": "execute_result"
    }
   ],
   "source": [
    "names_train_X"
   ]
  },
  {
   "cell_type": "code",
   "execution_count": 50,
   "metadata": {
    "slideshow": {
     "slide_type": "skip"
    }
   },
   "outputs": [],
   "source": [
    "# Fitting model to our features and output.\n",
    "  # Again, we tried 30, 50 and 150, here. It seemed like 25-30 features gave us the best results.\n",
    "KBest_names = feature_selection.SelectKBest(k = 25)  \n",
    "names_train_KBest = KBest_names.fit_transform(names_train_dummy_X, names_train_dummy_Y)\n",
    "\n",
    "# Transforming our test set.\n",
    "names_test_KBest = KBest_names.transform(names_test_dummy_X)"
   ]
  },
  {
   "cell_type": "code",
   "execution_count": 51,
   "metadata": {
    "scrolled": true,
    "slideshow": {
     "slide_type": "skip"
    }
   },
   "outputs": [],
   "source": [
    "# Summarizing the scores for those top 25 features in a df:\n",
    "\n",
    "names_mask = KBest_names.get_support(indices = True)\n",
    "KBest_names_features = pd.DataFrame(names_train_dummy_X.columns[names_mask])"
   ]
  },
  {
   "cell_type": "markdown",
   "metadata": {
    "slideshow": {
     "slide_type": "subslide"
    },
    "variables": {
     "KBest_names_features": "<div>\n<style scoped>\n    .dataframe tbody tr th:only-of-type {\n        vertical-align: middle;\n    }\n\n    .dataframe tbody tr th {\n        vertical-align: top;\n    }\n\n    .dataframe thead th {\n        text-align: right;\n    }\n</style>\n<table border=\"1\" class=\"dataframe\">\n  <thead>\n    <tr style=\"text-align: right;\">\n      <th></th>\n      <th>0</th>\n    </tr>\n  </thead>\n  <tbody>\n    <tr>\n      <th>0</th>\n      <td>Armed Commandos of Liberation</td>\n    </tr>\n    <tr>\n      <th>1</th>\n      <td>Black September</td>\n    </tr>\n    <tr>\n      <th>2</th>\n      <td>Communist Party of Nepal (People's War Group)</td>\n    </tr>\n    <tr>\n      <th>3</th>\n      <td>Communist Party of Nepal - Maoist (CPN-Maoist-...</td>\n    </tr>\n    <tr>\n      <th>4</th>\n      <td>Communist Party of Nepal-Maoist (Baidya)</td>\n    </tr>\n    <tr>\n      <th>5</th>\n      <td>Hekla Reception Committee-Initiative for More ...</td>\n    </tr>\n    <tr>\n      <th>6</th>\n      <td>Informal Anarchist Federation</td>\n    </tr>\n    <tr>\n      <th>7</th>\n      <td>Jihadi-inspired extremists</td>\n    </tr>\n    <tr>\n      <th>8</th>\n      <td>Left-Wing Militants</td>\n    </tr>\n    <tr>\n      <th>9</th>\n      <td>Maoist Communist Party of Manipur</td>\n    </tr>\n    <tr>\n      <th>10</th>\n      <td>Maoists</td>\n    </tr>\n    <tr>\n      <th>11</th>\n      <td>Mexican Revolutionary Movement</td>\n    </tr>\n    <tr>\n      <th>12</th>\n      <td>NW_Indian_Groups</td>\n    </tr>\n    <tr>\n      <th>13</th>\n      <td>Orly Organization</td>\n    </tr>\n    <tr>\n      <th>14</th>\n      <td>Pattani United Liberation Organization (PULO)</td>\n    </tr>\n    <tr>\n      <th>15</th>\n      <td>Riyadus-Salikhin Reconnaissance and Sabotage B...</td>\n    </tr>\n    <tr>\n      <th>16</th>\n      <td>Sabaot Land Defense Force (SLDF)</td>\n    </tr>\n    <tr>\n      <th>17</th>\n      <td>Scottish Socialist Republican League</td>\n    </tr>\n    <tr>\n      <th>18</th>\n      <td>September 11</td>\n    </tr>\n    <tr>\n      <th>19</th>\n      <td>Supporters of Ernest Wamba dia Wamba</td>\n    </tr>\n    <tr>\n      <th>20</th>\n      <td>The 78 Unemployed</td>\n    </tr>\n    <tr>\n      <th>21</th>\n      <td>The Extraditables</td>\n    </tr>\n    <tr>\n      <th>22</th>\n      <td>The Justice Department</td>\n    </tr>\n    <tr>\n      <th>23</th>\n      <td>The World United Formosans for Independence (W...</td>\n    </tr>\n    <tr>\n      <th>24</th>\n      <td>Unknown</td>\n    </tr>\n  </tbody>\n</table>\n</div>"
    }
   },
   "source": [
    "It looks like some of our groupings from above made it into the top-25 features, which is reassuring that our efforts above produced a result.  This also gives us a slightly broader view of the terrorist groups that are highly active, as opposed to overly-specific groups that might wash out the activity in other countries.\n",
    "\n",
    "{{KBest_names_features}}\n",
    "\n",
    "This also points to another issue for consideration when performing future work on the dataset. When making these groups and filters, one will want to be sure to create groups that consider as much of the globe as possible. Otherwise, one would run the risk of coagulating a few groups together from one area, thereby increasing their significance, and over-powering the significance of other groups.  The groups we created above were an attempt at creating well-represented portions of the globe.  It would benefit, however, from more time and research so as to further tweak these groupings towards a higher accuracy."
   ]
  },
  {
   "cell_type": "markdown",
   "metadata": {
    "slideshow": {
     "slide_type": "subslide"
    }
   },
   "source": [
    "###### City:"
   ]
  },
  {
   "cell_type": "code",
   "execution_count": 52,
   "metadata": {
    "slideshow": {
     "slide_type": "skip"
    }
   },
   "outputs": [],
   "source": [
    "# Getting dummies on our training and test sets (slight wrangling involved):\n",
    "city_train_X = cyber_train_X['city']\n",
    "city_test_X = cyber_test_X['city']\n",
    "\n",
    "city_train_index = cyber_train_X['city'].index\n",
    "city_test_index = cyber_test_X['city'].index\n",
    "\n",
    "city_dummy_prep = pd.concat([city_train_X, city_test_X])\n",
    "city_dummy_1 = pd.get_dummies(city_dummy_prep)\n",
    "\n",
    "# Training/Test Inputs:\n",
    "city_train_dummy_X = city_dummy_1.loc[city_train_index]\n",
    "city_test_dummy_X = city_dummy_1.loc[city_test_index]\n",
    "\n",
    "# Training Output:\n",
    "city_train_dummy_Y = cyber_train_Y.loc[city_train_index]\n",
    "city_test_dummy_Y = cyber_test_Y.loc[city_test_index]"
   ]
  },
  {
   "cell_type": "code",
   "execution_count": 53,
   "metadata": {
    "slideshow": {
     "slide_type": "skip"
    }
   },
   "outputs": [],
   "source": [
    "# Fitting model to our features and output.\n",
    "KBest_city = feature_selection.SelectKBest(k = 25) # Tried 30 and 150. 25-30 was our best range.\n",
    "city_train_KBest = KBest_city.fit_transform(city_train_dummy_X, city_train_dummy_Y)\n",
    "\n",
    "# Transforming our test set:\n",
    "city_test_KBest = KBest_city.transform(city_test_dummy_X)"
   ]
  },
  {
   "cell_type": "code",
   "execution_count": 54,
   "metadata": {
    "scrolled": true,
    "slideshow": {
     "slide_type": "skip"
    }
   },
   "outputs": [],
   "source": [
    "# Summarizing the scores for those top 25 features in a df:\n",
    "pd.set_option('max_rows', 101)\n",
    "city_mask = KBest_city.get_support(indices = True)\n",
    "KBest_city_features = pd.DataFrame(city_train_dummy_X.columns[city_mask])"
   ]
  },
  {
   "cell_type": "markdown",
   "metadata": {
    "slideshow": {
     "slide_type": "subslide"
    },
    "variables": {
     "KBest_city_features": "<div>\n<style scoped>\n    .dataframe tbody tr th:only-of-type {\n        vertical-align: middle;\n    }\n\n    .dataframe tbody tr th {\n        vertical-align: top;\n    }\n\n    .dataframe thead th {\n        text-align: right;\n    }\n</style>\n<table border=\"1\" class=\"dataframe\">\n  <thead>\n    <tr style=\"text-align: right;\">\n      <th></th>\n      <th>0</th>\n    </tr>\n  </thead>\n  <tbody>\n    <tr>\n      <th>0</th>\n      <td>Aguada</td>\n    </tr>\n    <tr>\n      <th>1</th>\n      <td>Ajdari</td>\n    </tr>\n    <tr>\n      <th>2</th>\n      <td>Bihsud district</td>\n    </tr>\n    <tr>\n      <th>3</th>\n      <td>Brussels</td>\n    </tr>\n    <tr>\n      <th>4</th>\n      <td>Daraa</td>\n    </tr>\n    <tr>\n      <th>5</th>\n      <td>Dhangadhi</td>\n    </tr>\n    <tr>\n      <th>6</th>\n      <td>Dublin</td>\n    </tr>\n    <tr>\n      <th>7</th>\n      <td>Hind Khel</td>\n    </tr>\n    <tr>\n      <th>8</th>\n      <td>Imphal</td>\n    </tr>\n    <tr>\n      <th>9</th>\n      <td>Isulan</td>\n    </tr>\n    <tr>\n      <th>10</th>\n      <td>Jos</td>\n    </tr>\n    <tr>\n      <th>11</th>\n      <td>Kharan district</td>\n    </tr>\n    <tr>\n      <th>12</th>\n      <td>Lawdar district</td>\n    </tr>\n    <tr>\n      <th>13</th>\n      <td>London</td>\n    </tr>\n    <tr>\n      <th>14</th>\n      <td>Los Angeles</td>\n    </tr>\n    <tr>\n      <th>15</th>\n      <td>Mogadishu</td>\n    </tr>\n    <tr>\n      <th>16</th>\n      <td>Nabalawag</td>\n    </tr>\n    <tr>\n      <th>17</th>\n      <td>Ordzhonikidzevskaya</td>\n    </tr>\n    <tr>\n      <th>18</th>\n      <td>Paris</td>\n    </tr>\n    <tr>\n      <th>19</th>\n      <td>Siraha district</td>\n    </tr>\n    <tr>\n      <th>20</th>\n      <td>Sirnoo</td>\n    </tr>\n    <tr>\n      <th>21</th>\n      <td>Split_Cities</td>\n    </tr>\n    <tr>\n      <th>22</th>\n      <td>Sunni_Cities</td>\n    </tr>\n    <tr>\n      <th>23</th>\n      <td>The Hague</td>\n    </tr>\n    <tr>\n      <th>24</th>\n      <td>Zinjibar</td>\n    </tr>\n  </tbody>\n</table>\n</div>"
    }
   },
   "source": [
    "{{KBest_city_features}}"
   ]
  },
  {
   "cell_type": "markdown",
   "metadata": {
    "slideshow": {
     "slide_type": "subslide"
    }
   },
   "source": [
    "###### Specific_target:"
   ]
  },
  {
   "cell_type": "code",
   "execution_count": 55,
   "metadata": {
    "slideshow": {
     "slide_type": "skip"
    }
   },
   "outputs": [],
   "source": [
    "# Getting dummies on our training and test sets (slight wrangling involved):\n",
    "spec_targ_train_X = cyber_train_X['specific_target']\n",
    "spec_targ_test_X = cyber_test_X['specific_target']\n",
    "\n",
    "spec_targ_train_index = cyber_train_X['specific_target'].index\n",
    "spec_targ_test_index = cyber_test_X['specific_target'].index\n",
    "\n",
    "spec_targ_dummy_prep = pd.concat([spec_targ_train_X, spec_targ_test_X])\n",
    "spec_targ_dummy_1 = pd.get_dummies(spec_targ_dummy_prep)\n",
    "\n",
    "# Training/Test Inputs:\n",
    "spec_targ_train_dummy_X = spec_targ_dummy_1.loc[spec_targ_train_index]\n",
    "spec_targ_test_dummy_X = spec_targ_dummy_1.loc[spec_targ_test_index]\n",
    "\n",
    "# Training Output:\n",
    "spec_targ_train_dummy_Y = cyber_train_Y.loc[spec_targ_train_index]\n",
    "spec_targ_test_dummy_Y = cyber_test_Y.loc[spec_targ_test_index]"
   ]
  },
  {
   "cell_type": "code",
   "execution_count": 56,
   "metadata": {
    "slideshow": {
     "slide_type": "skip"
    }
   },
   "outputs": [],
   "source": [
    "# Fitting the model to our features and training output:\n",
    "\n",
    "KBest_spec_targ = feature_selection.SelectKBest(k = 25) # Tried 5, but 3 was best.\n",
    "spec_targ_train_KBest = KBest_spec_targ.fit_transform(spec_targ_train_dummy_X, spec_targ_train_dummy_Y)\n",
    "\n",
    "# Transforming our test set:\n",
    "spec_targ_test_KBest = KBest_spec_targ.transform(spec_targ_test_dummy_X)"
   ]
  },
  {
   "cell_type": "code",
   "execution_count": 57,
   "metadata": {
    "slideshow": {
     "slide_type": "skip"
    }
   },
   "outputs": [],
   "source": [
    "# Summarizing the scores for those top 3 features in a df:\n",
    "\n",
    "spec_targ_mask = KBest_spec_targ.get_support(indices = True)\n",
    "KBest_spec_targ_features = pd.DataFrame(spec_targ_train_dummy_X.columns[spec_targ_mask])"
   ]
  },
  {
   "cell_type": "markdown",
   "metadata": {
    "slideshow": {
     "slide_type": "subslide"
    },
    "variables": {
     "KBest_spec_targ_features": "<div>\n<style scoped>\n    .dataframe tbody tr th:only-of-type {\n        vertical-align: middle;\n    }\n\n    .dataframe tbody tr th {\n        vertical-align: top;\n    }\n\n    .dataframe thead th {\n        text-align: right;\n    }\n</style>\n<table border=\"1\" class=\"dataframe\">\n  <thead>\n    <tr style=\"text-align: right;\">\n      <th></th>\n      <th>0</th>\n    </tr>\n  </thead>\n  <tbody>\n    <tr>\n      <th>0</th>\n      <td>A bus terminal</td>\n    </tr>\n    <tr>\n      <th>1</th>\n      <td>Bus Park</td>\n    </tr>\n    <tr>\n      <th>2</th>\n      <td>Chair: Pushpa Kamal Dahal Prachanda</td>\n    </tr>\n    <tr>\n      <th>3</th>\n      <td>Civilians</td>\n    </tr>\n    <tr>\n      <th>4</th>\n      <td>Comm-Related</td>\n    </tr>\n    <tr>\n      <th>5</th>\n      <td>Commander</td>\n    </tr>\n    <tr>\n      <th>6</th>\n      <td>Election Rally</td>\n    </tr>\n    <tr>\n      <th>7</th>\n      <td>Internet Providers</td>\n    </tr>\n    <tr>\n      <th>8</th>\n      <td>Judge</td>\n    </tr>\n    <tr>\n      <th>9</th>\n      <td>Local Jewish Community Member</td>\n    </tr>\n    <tr>\n      <th>10</th>\n      <td>Railway Tracks</td>\n    </tr>\n    <tr>\n      <th>11</th>\n      <td>Residence of Leader: Tajmir Khan</td>\n    </tr>\n    <tr>\n      <th>12</th>\n      <td>The target was a polling station.</td>\n    </tr>\n    <tr>\n      <th>13</th>\n      <td>Town of El Doncello</td>\n    </tr>\n    <tr>\n      <th>14</th>\n      <td>Unknown</td>\n    </tr>\n    <tr>\n      <th>15</th>\n      <td>four researchers at the Tulane Regional Primat...</td>\n    </tr>\n    <tr>\n      <th>16</th>\n      <td>henry holguin cubillos, subdirector radio supe...</td>\n    </tr>\n    <tr>\n      <th>17</th>\n      <td>home of Carlos Pestana Zevallos. transport and...</td>\n    </tr>\n    <tr>\n      <th>18</th>\n      <td>researcher, Sarah Williams-Blangero, at the So...</td>\n    </tr>\n    <tr>\n      <th>19</th>\n      <td>six researchers at Yerkes Regional Primate Res...</td>\n    </tr>\n    <tr>\n      <th>20</th>\n      <td>six researchers at the University of Washingto...</td>\n    </tr>\n    <tr>\n      <th>21</th>\n      <td>some researchers at the University of Minnesot...</td>\n    </tr>\n    <tr>\n      <th>22</th>\n      <td>three researchers at the University of Califor...</td>\n    </tr>\n    <tr>\n      <th>23</th>\n      <td>trucking company in Arcata, California</td>\n    </tr>\n    <tr>\n      <th>24</th>\n      <td>two primate researchers, Patricia Fultz and Ji...</td>\n    </tr>\n  </tbody>\n</table>\n</div>"
    }
   },
   "source": [
    "From here, we can infer that while the data-set we are looking at somehow has consequences for cyber infrastructre or networks (including email and social networks as well as the physical networks), there seems to be a correlation with bombings and incendiary methods as well.  As such, we cannot rule out the possibility that cyber-related attacks are often related to physical or other forms of terrorist attacks (at least in the current analysis we are doing here).\n",
    "\n",
    "{{KBest_spec_targ_features}}"
   ]
  },
  {
   "cell_type": "markdown",
   "metadata": {
    "slideshow": {
     "slide_type": "slide"
    }
   },
   "source": [
    "#### B. Principle Component Analysis:\n",
    "##### Assessing the Overall DataFrame:"
   ]
  },
  {
   "cell_type": "code",
   "execution_count": 58,
   "metadata": {
    "slideshow": {
     "slide_type": "fragment"
    }
   },
   "outputs": [],
   "source": [
    "from sklearn.decomposition import PCA\n",
    "\n",
    "# Using the whole dataset (cyber_train_data):\n",
    "PCA_1 = PCA(n_components = 25)  # Tried 30 and 500\n",
    "cyber_train_PCA = PCA_1.fit_transform(cyber_train_dummy_X)  \n",
    "cyber_test_PCA = PCA_1.transform(cyber_test_dummy_X)"
   ]
  },
  {
   "cell_type": "markdown",
   "metadata": {
    "slideshow": {
     "slide_type": "skip"
    }
   },
   "source": [
    "##### Assessing Individual Features\n",
    "\n",
    "###### Group_name:"
   ]
  },
  {
   "cell_type": "code",
   "execution_count": 59,
   "metadata": {
    "slideshow": {
     "slide_type": "skip"
    }
   },
   "outputs": [],
   "source": [
    "# Now looking at group_name values:\n",
    "PCA_name = PCA(n_components = 25) # Tried 30 and 150\n",
    "name_train_PCA = PCA_name.fit_transform(names_train_dummy_X)\n",
    "name_test_PCA = PCA_name.transform(names_test_dummy_X)"
   ]
  },
  {
   "cell_type": "markdown",
   "metadata": {
    "slideshow": {
     "slide_type": "skip"
    }
   },
   "source": [
    "###### City:"
   ]
  },
  {
   "cell_type": "code",
   "execution_count": 60,
   "metadata": {
    "slideshow": {
     "slide_type": "skip"
    }
   },
   "outputs": [],
   "source": [
    "# Then some city stuff:\n",
    "PCA_cities = PCA(n_components = 25) # Tried 30 and 150\n",
    "cities_train_PCA = PCA_cities.fit_transform(city_train_dummy_X)\n",
    "cities_test_PCA = PCA_cities.transform(city_test_dummy_X)"
   ]
  },
  {
   "cell_type": "markdown",
   "metadata": {
    "slideshow": {
     "slide_type": "skip"
    }
   },
   "source": [
    "###### Specific_target:"
   ]
  },
  {
   "cell_type": "code",
   "execution_count": 61,
   "metadata": {
    "slideshow": {
     "slide_type": "skip"
    }
   },
   "outputs": [],
   "source": [
    "# Specific_target:\n",
    "PCA_spec_targ = PCA(n_components = 3)  # Tried 5\n",
    "spec_targ_train_PCA = PCA_spec_targ.fit_transform(spec_targ_train_dummy_X)\n",
    "spec_targ_test_PCA = PCA_spec_targ.transform(spec_targ_test_dummy_X)"
   ]
  },
  {
   "cell_type": "markdown",
   "metadata": {
    "slideshow": {
     "slide_type": "slide"
    }
   },
   "source": [
    "#### C. Creating Specified DF with Selected Features:\n",
    "\n",
    "##### DataFrame from KBest Algorithms:"
   ]
  },
  {
   "cell_type": "code",
   "execution_count": 62,
   "metadata": {
    "slideshow": {
     "slide_type": "fragment"
    }
   },
   "outputs": [],
   "source": [
    "# Training:\n",
    "alpha = pd.DataFrame(cyber_train_KBest1, columns = KBest_1_features[0])\n",
    "beta = pd.DataFrame(names_train_KBest, columns = KBest_names_features[0])\n",
    "gamma = pd.DataFrame(city_train_KBest, columns = KBest_city_features[0])\n",
    "delta = pd.DataFrame(spec_targ_train_KBest, columns = KBest_spec_targ_features[0])\n",
    "\n",
    "KBest_train_X = pd.concat([alpha, beta, gamma, delta], axis = 1)"
   ]
  },
  {
   "cell_type": "code",
   "execution_count": 63,
   "metadata": {
    "slideshow": {
     "slide_type": "skip"
    }
   },
   "outputs": [],
   "source": [
    "# Test:\n",
    "alpha2 = pd.DataFrame(cyber_test_KBest1, columns = KBest_1_features[0])\n",
    "beta2 = pd.DataFrame(names_test_KBest, columns = KBest_names_features[0])\n",
    "gamma2 = pd.DataFrame(city_test_KBest, columns = KBest_city_features[0])\n",
    "delta2 = pd.DataFrame(spec_targ_test_KBest, columns = KBest_spec_targ_features[0])\n",
    "\n",
    "KBest_test_X = pd.concat([alpha2, beta2, gamma2, delta2], axis = 1)"
   ]
  },
  {
   "cell_type": "code",
   "execution_count": 64,
   "metadata": {
    "slideshow": {
     "slide_type": "skip"
    }
   },
   "outputs": [],
   "source": [
    "del alpha, alpha2, city_dummy_1, city_dummy_prep, big_targets, beta, "
   ]
  },
  {
   "cell_type": "code",
   "execution_count": 65,
   "metadata": {
    "slideshow": {
     "slide_type": "skip"
    }
   },
   "outputs": [],
   "source": [
    "del beta2, delta, delta2, \n",
    "del dummy_1"
   ]
  },
  {
   "cell_type": "code",
   "execution_count": 66,
   "metadata": {
    "slideshow": {
     "slide_type": "skip"
    }
   },
   "outputs": [
    {
     "data": {
      "text/plain": [
       "14"
      ]
     },
     "execution_count": 66,
     "metadata": {},
     "output_type": "execute_result"
    }
   ],
   "source": [
    "gc.collect()"
   ]
  },
  {
   "cell_type": "markdown",
   "metadata": {
    "slideshow": {
     "slide_type": "slide"
    }
   },
   "source": [
    "##### DataFrame from PCA:"
   ]
  },
  {
   "cell_type": "code",
   "execution_count": 67,
   "metadata": {
    "slideshow": {
     "slide_type": "fragment"
    }
   },
   "outputs": [],
   "source": [
    "# Training:\n",
    "cyber_train_PCA = pd.DataFrame(cyber_train_PCA)\n",
    "name_train_PCA = pd.DataFrame(name_train_PCA)\n",
    "cities_train_PCA = pd.DataFrame(cities_train_PCA)\n",
    "spec_targ_train_PCA = pd.DataFrame(spec_targ_train_PCA)\n",
    "\n",
    "PCA_train_X = pd.DataFrame()\n",
    "PCA_train_X = pd.concat([cyber_train_PCA, name_train_PCA, cities_train_PCA, spec_targ_train_PCA], axis = 1)"
   ]
  },
  {
   "cell_type": "code",
   "execution_count": 68,
   "metadata": {
    "slideshow": {
     "slide_type": "skip"
    }
   },
   "outputs": [],
   "source": [
    "# Test:\n",
    "cyber_test_PCA = pd.DataFrame(cyber_test_PCA)\n",
    "name_test_PCA = pd.DataFrame(name_test_PCA)\n",
    "cities_test_PCA = pd.DataFrame(cities_test_PCA)\n",
    "spec_targ_test_PCA = pd.DataFrame(spec_targ_test_PCA)\n",
    "\n",
    "PCA_test_X = pd.DataFrame()\n",
    "PCA_test_X = pd.concat([cyber_test_PCA, name_test_PCA, cities_test_PCA, spec_targ_test_PCA], axis = 1)"
   ]
  },
  {
   "cell_type": "code",
   "execution_count": 69,
   "metadata": {
    "slideshow": {
     "slide_type": "skip"
    }
   },
   "outputs": [
    {
     "data": {
      "text/plain": [
       "0"
      ]
     },
     "execution_count": 69,
     "metadata": {},
     "output_type": "execute_result"
    }
   ],
   "source": [
    "del cyber_train_PCA, name_train_PCA, cities_train_PCA, spec_targ_train_PCA, cyber_test_PCA\n",
    "del name_test_PCA, cities_test_PCA, spec_targ_test_PCA\n",
    "\n",
    "gc.collect()"
   ]
  },
  {
   "cell_type": "markdown",
   "metadata": {
    "slideshow": {
     "slide_type": "slide"
    }
   },
   "source": [
    "### 4. Preliminary Models:\n",
    "\n",
    "Starting with a simple Logistic Regression since our output feature is binary. Afterwards, we will move on to our Random Forest, Support Vector Classifier and Gradient Booster. We chose these models since they often work well with binary output features. These models will also be discussed below in more detail."
   ]
  },
  {
   "cell_type": "code",
   "execution_count": 70,
   "metadata": {
    "slideshow": {
     "slide_type": "skip"
    }
   },
   "outputs": [],
   "source": [
    "prelim_results = pd.DataFrame(columns=['Test B.A. Score', 'FP', 'FN', 'Mean CV Score', 'CV Std'])"
   ]
  },
  {
   "cell_type": "markdown",
   "metadata": {
    "slideshow": {
     "slide_type": "fragment"
    }
   },
   "source": [
    "#### Logistic Regression:\n",
    "\n",
    "##### KBest Features:"
   ]
  },
  {
   "cell_type": "code",
   "execution_count": 71,
   "metadata": {
    "slideshow": {
     "slide_type": "skip"
    }
   },
   "outputs": [],
   "source": [
    "from sklearn.linear_model import LogisticRegression\n",
    "from sklearn.metrics import confusion_matrix, balanced_accuracy_score\n",
    "from sklearn.model_selection import cross_val_score\n",
    "\n",
    "KBest_logistic = LogisticRegression()\n",
    "\n",
    "KBest_logistic = KBest_logistic.fit(KBest_train_X, cyber_train_dummy_Y)\n",
    "KBest_logistic_train_pred_ = KBest_logistic.predict(KBest_train_X)\n",
    "KBest_logistic_test_pred_ = KBest_logistic.predict(KBest_test_X)\n",
    "\n",
    "# Evaluation:\n",
    "  # Confustion Matrices:    \n",
    "KBest_logistic_confusion_train = confusion_matrix(cyber_train_dummy_Y, KBest_logistic_train_pred_, labels = [0, 1])\n",
    "KBest_logistic_confusion_test = confusion_matrix(cyber_test_dummy_Y, KBest_logistic_test_pred_, labels = [0, 1])\n",
    "\n",
    "  # Cross-validation and train/test scores:\n",
    "KBest_logistic_cv = cross_val_score(KBest_logistic, KBest_train_X, cyber_train_dummy_Y, \n",
    "                                    scoring = 'balanced_accuracy', cv = 5)\n",
    "\n",
    "  # Looking at balanced accuracy/f1 scores:\n",
    "KBest_logistic_train = balanced_accuracy_score(cyber_train_dummy_Y, KBest_logistic_train_pred_)    \n",
    "KBest_logistic_test = balanced_accuracy_score(cyber_test_dummy_Y, KBest_logistic_test_pred_)    "
   ]
  },
  {
   "cell_type": "code",
   "execution_count": 72,
   "metadata": {
    "slideshow": {
     "slide_type": "slide"
    }
   },
   "outputs": [
    {
     "name": "stdout",
     "output_type": "stream",
     "text": [
      "\n",
      "The mean cross-validation score is: 57.33% ±0.74%\n",
      "The cv scores are: [0.58130974 0.57838537 0.56306837 0.57810433 0.56584821]\n",
      "\n",
      "Training-Set Metrics:\n",
      "     0     1\n",
      "0  167   778\n",
      "1   48  8914\n",
      "\n",
      "False Positive/Type I Error: 778 (82.33%)\n",
      "False Negative/Type II Error: 48 (0.54%)\n",
      "Balanced Accuracy: 58.57%\n",
      "\n",
      "Test-Set Metrics:\n",
      "    0     1\n",
      "0  28   184\n",
      "1   7  2064\n",
      "\n",
      "False Positive/Type I Error: 184 (86.79%)\n",
      "False Negative/Type II Error: 7 (0.34%)\n",
      "Balanced Accuracy: 56.43%\n"
     ]
    }
   ],
   "source": [
    "plusminus = u\"\\u00B1\"\n",
    "print(\"\\nThe mean cross-validation score is: {:.2%} {}{:.2%}\".format(KBest_logistic_cv.mean(),\n",
    "                                                                     plusminus, KBest_logistic_cv.std()))\n",
    "print(\"The cv scores are: {}\".format(KBest_logistic_cv))\n",
    "\n",
    "conf_df = pd.DataFrame(KBest_logistic_confusion_train)\n",
    "\n",
    "FP = conf_df.loc[0, 1]\n",
    "FN = conf_df.loc[1, 0]\n",
    "NegT = conf_df.iloc[0].sum()\n",
    "PosT = conf_df.iloc[1].sum()\n",
    "\n",
    "print(\"\\nTraining-Set Metrics:\")\n",
    "print(conf_df)\n",
    "print('\\nFalse Positive/Type I Error: {} ({:.2%})'.format(FP, (FP / NegT)))\n",
    "print('False Negative/Type II Error: {} ({:.2%})'.format(FN, (FN / PosT)))\n",
    "print('Balanced Accuracy: {:.2%}\\n'.format(KBest_logistic_train))\n",
    "\n",
    "conf_df2 = pd.DataFrame(KBest_logistic_confusion_test)\n",
    "\n",
    "FP2 = conf_df2.loc[0, 1]\n",
    "FN2 = conf_df2.loc[1, 0]\n",
    "NegT2 = conf_df2.iloc[0].sum()\n",
    "PosT2 = conf_df2.iloc[1].sum()\n",
    "\n",
    "print(\"Test-Set Metrics:\")\n",
    "print(conf_df2)\n",
    "print('\\nFalse Positive/Type I Error: {} ({:.2%})'.format(FP2, (FP2 / NegT2)))\n",
    "print('False Negative/Type II Error: {} ({:.2%})'.format(FN2, (FN2 / PosT2)))\n",
    "print('Balanced Accuracy: {:.2%}'.format(KBest_logistic_test))\n",
    "\n",
    "prelim_results = prelim_results.append({'Test B.A. Score': KBest_logistic_test, \n",
    "                                        'FP': FP2, \n",
    "                                        'FN': FN2, \n",
    "                                        'Mean CV Score': KBest_logistic_cv.mean(), \n",
    "                                        'CV Std': KBest_logistic_cv.std()}, ignore_index = True)"
   ]
  },
  {
   "cell_type": "code",
   "execution_count": 73,
   "metadata": {
    "scrolled": true,
    "slideshow": {
     "slide_type": "subslide"
    }
   },
   "outputs": [
    {
     "data": {
      "image/png": "[encoded data removed]",
      "text/plain": [
       "<Figure size 720x288 with 2 Axes>"
      ]
     },
     "metadata": {
      "needs_background": "light"
     },
     "output_type": "display_data"
    }
   ],
   "source": [
    "fig, (ax1, ax2) = plt.subplots(nrows = 1, ncols = 2, figsize = (10, 4), sharey = True)\n",
    "ax1 = sns.countplot(KBest_logistic_test_pred_, ax = ax1)\n",
    "ax1.set_title(\"Prediction Results\")\n",
    "ax1.set_xticklabels(labels = ['Unsuccessful', 'Successful'])\n",
    "ax2 = sns.countplot(cyber_test_Y.success, ax = ax2)\n",
    "ax2.set_title(\"Actual Results\")\n",
    "ax2.set_xticklabels(labels = ['Unsuccessful', 'Successful'])\n",
    "plt.show()"
   ]
  },
  {
   "cell_type": "code",
   "execution_count": 74,
   "metadata": {
    "slideshow": {
     "slide_type": "skip"
    }
   },
   "outputs": [
    {
     "data": {
      "text/plain": [
       "11154"
      ]
     },
     "execution_count": 74,
     "metadata": {},
     "output_type": "execute_result"
    }
   ],
   "source": [
    "del KBest_logistic, KBest_logistic_train_pred_, KBest_logistic_test_pred_ , KBest_logistic_confusion_train\n",
    "del KBest_logistic_confusion_test, KBest_logistic_cv, KBest_logistic_train, KBest_logistic_test\n",
    "gc.collect()"
   ]
  },
  {
   "cell_type": "markdown",
   "metadata": {
    "slideshow": {
     "slide_type": "slide"
    }
   },
   "source": [
    "##### PCA Features:"
   ]
  },
  {
   "cell_type": "code",
   "execution_count": 75,
   "metadata": {
    "slideshow": {
     "slide_type": "skip"
    }
   },
   "outputs": [],
   "source": [
    "PCA_logistic = LogisticRegression()\n",
    "\n",
    "PCA_logistic = PCA_logistic.fit(PCA_train_X, cyber_train_dummy_Y)\n",
    "PCA_logistic_train_pred_ = PCA_logistic.predict(PCA_train_X)\n",
    "PCA_logistic_test_pred_ = PCA_logistic.predict(PCA_test_X)\n",
    "\n",
    "# Evaluation:\n",
    "  # Confustion Matrices:    \n",
    "PCA_logistic_confusion_train = confusion_matrix(cyber_train_dummy_Y, PCA_logistic_train_pred_, labels = [0, 1])\n",
    "PCA_logistic_confusion_test = confusion_matrix(cyber_test_dummy_Y, PCA_logistic_test_pred_, labels = [0, 1])\n",
    "\n",
    "  # Cross-validation and train/test scores:\n",
    "PCA_logistic_cv = cross_val_score(PCA_logistic, PCA_train_X, cyber_train_dummy_Y,\n",
    "                                  scoring = 'balanced_accuracy', cv = 5)\n",
    "\n",
    "  # Looking at balanced accuracy/f1 scores:\n",
    "PCA_logistic_train = balanced_accuracy_score(cyber_train_dummy_Y, PCA_logistic_train_pred_)    \n",
    "PCA_logistic_test = balanced_accuracy_score(cyber_test_dummy_Y, PCA_logistic_test_pred_)    "
   ]
  },
  {
   "cell_type": "code",
   "execution_count": 76,
   "metadata": {
    "slideshow": {
     "slide_type": "slide"
    }
   },
   "outputs": [
    {
     "name": "stdout",
     "output_type": "stream",
     "text": [
      "\n",
      "The mean cross-validation score is: 55.68% ±0.56%\n",
      "The cv scores are: [0.56780336 0.55276693 0.55582424 0.55332341 0.55442915]\n",
      "\n",
      "Training-Set Metrics:\n",
      "     0     1\n",
      "0  127   818\n",
      "1   64  8898\n",
      "\n",
      "False Positive/Type I Error: 818 (86.56%)\n",
      "False Negative/Type II Error: 64 (0.71%)\n",
      "Balanced Accuracy: 56.36%\n",
      "\n",
      "Test-Set Metrics:\n",
      "    0     1\n",
      "0  23   189\n",
      "1  13  2058\n",
      "\n",
      "False Positive/Type I Error: 189 (89.15%)\n",
      "False Negative/Type II Error: 13 (0.63%)\n",
      "Balanced Accuracy: 55.11%\n"
     ]
    }
   ],
   "source": [
    "print(\"\\nThe mean cross-validation score is: {:.2%} {}{:.2%}\".format(PCA_logistic_cv.mean(),\n",
    "                                                                     plusminus, PCA_logistic_cv.std()))\n",
    "print(\"The cv scores are: {}\".format(PCA_logistic_cv))\n",
    "\n",
    "conf_df = pd.DataFrame(PCA_logistic_confusion_train)\n",
    "\n",
    "FP = conf_df.loc[0, 1]\n",
    "FN = conf_df.loc[1, 0]\n",
    "NegT = conf_df.iloc[0].sum()\n",
    "PosT = conf_df.iloc[1].sum()\n",
    "\n",
    "print(\"\\nTraining-Set Metrics:\")\n",
    "print(conf_df)\n",
    "print('\\nFalse Positive/Type I Error: {} ({:.2%})'.format(FP, (FP / NegT)))\n",
    "print('False Negative/Type II Error: {} ({:.2%})'.format(FN, (FN / PosT)))\n",
    "print('Balanced Accuracy: {:.2%}\\n'.format(PCA_logistic_train))\n",
    "\n",
    "conf_df2 = pd.DataFrame(PCA_logistic_confusion_test)\n",
    "\n",
    "FP2 = conf_df2.loc[0, 1]\n",
    "FN2 = conf_df2.loc[1, 0]\n",
    "NegT2 = conf_df2.iloc[0].sum()\n",
    "PosT2 = conf_df2.iloc[1].sum()\n",
    "\n",
    "print(\"Test-Set Metrics:\")\n",
    "print(conf_df2)\n",
    "print('\\nFalse Positive/Type I Error: {} ({:.2%})'.format(FP2, (FP2 / NegT2)))\n",
    "print('False Negative/Type II Error: {} ({:.2%})'.format(FN2, (FN2 / PosT2)))\n",
    "print('Balanced Accuracy: {:.2%}'.format(PCA_logistic_test))\n",
    "\n",
    "prelim_results = prelim_results.append({'Test B.A. Score': PCA_logistic_test, \n",
    "                                        'FP': FP2, \n",
    "                                        'FN': FN2, \n",
    "                                        'Mean CV Score': PCA_logistic_cv.mean(), \n",
    "                                        'CV Std': PCA_logistic_cv.std()}, ignore_index = True)"
   ]
  },
  {
   "cell_type": "markdown",
   "metadata": {
    "slideshow": {
     "slide_type": "fragment"
    }
   },
   "source": [
    "Now, while we do have some decent scores here, especially regarding the true positive predictions, we do have a class imbalance issue we will need to take into consideration (as demonstrated below).  One way of doing that will work on increasing the accuracy of our true negatives and focusing less on our true positives. It will also help to take into consideration our False Negatives and Positives. Lowering these will help strengthen our model and give us more predictive integrity.  In other words, we want to make sure we avoid as many False Negatives (i.e. instances where our model does not predict a terrorist attack, when instead one does, in fact, occur) as possible.  We also want to be sure we are keeping our False Positive count as low as possible since responding to predicted terrorist incidents when there are none will exhaust resources and employees - in turn taking away their energies from realistic threats. \n",
    "\n",
    "In order to do so, we have implemented the Balanced Accuracy score, which gives us an average of our False Negatives and Positives.  It allows us to consider another aspect of the model results outside of the training and test-set scores (which only allow us to see on aspect of a model's predictive results).  The Balanced Accuracy is a nice addition to the confusion matrix, which gives us the hard-numbers which are factored into the Balanced Accuracy score.  In assessing the models above along with those below, we will be looking at all of these evaluation methods in order to determine which model is the best and make our reasoning as well-rounded as possible. "
   ]
  },
  {
   "cell_type": "code",
   "execution_count": 77,
   "metadata": {
    "slideshow": {
     "slide_type": "skip"
    }
   },
   "outputs": [
    {
     "name": "stdout",
     "output_type": "stream",
     "text": [
      "1    8962\n",
      "0     945\n",
      "Name: success, dtype: int64\n",
      "1    2071\n",
      "0     212\n",
      "Name: success, dtype: int64\n"
     ]
    }
   ],
   "source": [
    "print(cyber_train_dummy_Y.success.value_counts())\n",
    "print(cyber_test_dummy_Y.success.value_counts())"
   ]
  },
  {
   "cell_type": "code",
   "execution_count": 78,
   "metadata": {
    "slideshow": {
     "slide_type": "skip"
    }
   },
   "outputs": [
    {
     "data": {
      "text/plain": [
       "34"
      ]
     },
     "execution_count": 78,
     "metadata": {},
     "output_type": "execute_result"
    }
   ],
   "source": [
    "del PCA_logistic, PCA_logistic_train_pred_, PCA_logistic_test_pred_ , PCA_logistic_confusion_train\n",
    "del PCA_logistic_confusion_test, PCA_logistic_cv, PCA_logistic_train, PCA_logistic_test\n",
    "gc.collect()"
   ]
  },
  {
   "cell_type": "markdown",
   "metadata": {
    "slideshow": {
     "slide_type": "slide"
    }
   },
   "source": [
    "#### Random Forest:\n",
    "\n",
    "##### KBest Features:"
   ]
  },
  {
   "cell_type": "code",
   "execution_count": 79,
   "metadata": {
    "slideshow": {
     "slide_type": "skip"
    }
   },
   "outputs": [],
   "source": [
    "from sklearn.ensemble import RandomForestClassifier\n",
    "\n",
    "KBest_forest = RandomForestClassifier(n_estimators = 30, max_depth = 12)\n",
    "\n",
    "KBest_forest = KBest_forest.fit(KBest_train_X, cyber_train_dummy_Y)\n",
    "KBest_forest_train_pred_ = KBest_forest.predict(KBest_train_X)\n",
    "KBest_forest_test_pred_ = KBest_forest.predict(KBest_test_X)\n",
    "\n",
    "# Evaluation:\n",
    "  # Confustion Matrices:    \n",
    "KBest_forest_confusion_train = confusion_matrix(cyber_train_dummy_Y, KBest_forest_train_pred_, labels = [0, 1])\n",
    "KBest_forest_confusion_test = confusion_matrix(cyber_test_dummy_Y, KBest_forest_test_pred_, labels = [0, 1])\n",
    "\n",
    "  # Cross-validation and train/test scores:\n",
    "KBest_forest_cv = cross_val_score(KBest_forest, KBest_train_X, cyber_train_dummy_Y, \n",
    "                                  scoring = 'balanced_accuracy', cv = 5)\n",
    "\n",
    "  # Looking at balanced accuracy/f1 scores:\n",
    "KBest_forest_train = balanced_accuracy_score(cyber_train_dummy_Y, KBest_forest_train_pred_)    \n",
    "KBest_forest_test = balanced_accuracy_score(cyber_test_dummy_Y, KBest_forest_test_pred_)    \n",
    "    "
   ]
  },
  {
   "cell_type": "code",
   "execution_count": 80,
   "metadata": {
    "slideshow": {
     "slide_type": "slide"
    }
   },
   "outputs": [
    {
     "name": "stdout",
     "output_type": "stream",
     "text": [
      "\n",
      "The mean cross-validation score is: 56.06% ±0.57%\n",
      "The cv scores are: [0.55889453 0.56808222 0.55123595 0.56446346 0.56042287]\n",
      "\n",
      "Training-Set Metrics:\n",
      "     0     1\n",
      "0  144   801\n",
      "1   19  8943\n",
      "\n",
      "False Positive/Type I Error: 801 (84.76%)\n",
      "False Negative/Type II Error: 19 (0.21%)\n",
      "Balanced Accuracy: 57.51%\n",
      "\n",
      "Test-Set Metrics:\n",
      "    0     1\n",
      "0  12   200\n",
      "1   1  2070\n",
      "\n",
      "False Positive/Type I Error: 200 (94.34%)\n",
      "False Negative/Type II Error: 1 (0.05%)\n",
      "Balanced Accuracy: 52.81%\n",
      "\n",
      "\n",
      "Feature Importances:\n",
      "\n"
     ]
    },
    {
     "data": {
      "text/html": [
       "<div>\n",
       "<style scoped>\n",
       "    .dataframe tbody tr th:only-of-type {\n",
       "        vertical-align: middle;\n",
       "    }\n",
       "\n",
       "    .dataframe tbody tr th {\n",
       "        vertical-align: top;\n",
       "    }\n",
       "\n",
       "    .dataframe thead th {\n",
       "        text-align: right;\n",
       "    }\n",
       "</style>\n",
       "<table border=\"1\" class=\"dataframe\">\n",
       "  <thead>\n",
       "    <tr style=\"text-align: right;\">\n",
       "      <th></th>\n",
       "      <th>Importances</th>\n",
       "    </tr>\n",
       "    <tr>\n",
       "      <th>0</th>\n",
       "      <th></th>\n",
       "    </tr>\n",
       "  </thead>\n",
       "  <tbody>\n",
       "    <tr>\n",
       "      <th>attack_1txt_Assassination</th>\n",
       "      <td>0.21</td>\n",
       "    </tr>\n",
       "    <tr>\n",
       "      <th>target_1txt_Unknown</th>\n",
       "      <td>0.08</td>\n",
       "    </tr>\n",
       "    <tr>\n",
       "      <th>sub_weapontxt_Other Explosive Type</th>\n",
       "      <td>0.05</td>\n",
       "    </tr>\n",
       "    <tr>\n",
       "      <th>sub_weapontxt_Unknown Gun Type</th>\n",
       "      <td>0.04</td>\n",
       "    </tr>\n",
       "    <tr>\n",
       "      <th>attack_1txt_Bombing/Explosion</th>\n",
       "      <td>0.04</td>\n",
       "    </tr>\n",
       "    <tr>\n",
       "      <th>sub_targettxt_Unknown</th>\n",
       "      <td>0.04</td>\n",
       "    </tr>\n",
       "    <tr>\n",
       "      <th>Unknown</th>\n",
       "      <td>0.03</td>\n",
       "    </tr>\n",
       "    <tr>\n",
       "      <th>attack_1txt_Hostage Taking (Kidnapping)</th>\n",
       "      <td>0.03</td>\n",
       "    </tr>\n",
       "    <tr>\n",
       "      <th>Unknown</th>\n",
       "      <td>0.02</td>\n",
       "    </tr>\n",
       "    <tr>\n",
       "      <th>sub_weapontxt_Letter Bomb</th>\n",
       "      <td>0.02</td>\n",
       "    </tr>\n",
       "    <tr>\n",
       "      <th>victim_nationalitytxt_Nepal</th>\n",
       "      <td>0.02</td>\n",
       "    </tr>\n",
       "    <tr>\n",
       "      <th>specific_target_Unknown</th>\n",
       "      <td>0.02</td>\n",
       "    </tr>\n",
       "    <tr>\n",
       "      <th>Communist Party of Nepal - Maoist (CPN-Maoist-Chand)</th>\n",
       "      <td>0.02</td>\n",
       "    </tr>\n",
       "    <tr>\n",
       "      <th>sub_targettxt_Gov_Figure1</th>\n",
       "      <td>0.02</td>\n",
       "    </tr>\n",
       "    <tr>\n",
       "      <th>target_1txt_Private Citizens &amp; Property</th>\n",
       "      <td>0.02</td>\n",
       "    </tr>\n",
       "    <tr>\n",
       "      <th>target_1txt_Government (General)</th>\n",
       "      <td>0.02</td>\n",
       "    </tr>\n",
       "    <tr>\n",
       "      <th>attack_1txt_Armed Assault</th>\n",
       "      <td>0.02</td>\n",
       "    </tr>\n",
       "    <tr>\n",
       "      <th>Communist Party of Nepal (People's War Group)</th>\n",
       "      <td>0.01</td>\n",
       "    </tr>\n",
       "    <tr>\n",
       "      <th>Local Jewish Community Member</th>\n",
       "      <td>0.01</td>\n",
       "    </tr>\n",
       "    <tr>\n",
       "      <th>NW_Indian_Groups</th>\n",
       "      <td>0.01</td>\n",
       "    </tr>\n",
       "    <tr>\n",
       "      <th>Maoists</th>\n",
       "      <td>0.01</td>\n",
       "    </tr>\n",
       "    <tr>\n",
       "      <th>Sunni_Cities</th>\n",
       "      <td>0.01</td>\n",
       "    </tr>\n",
       "    <tr>\n",
       "      <th>Split_Cities</th>\n",
       "      <td>0.01</td>\n",
       "    </tr>\n",
       "    <tr>\n",
       "      <th>Jos</th>\n",
       "      <td>0.01</td>\n",
       "    </tr>\n",
       "    <tr>\n",
       "      <th>Internet Providers</th>\n",
       "      <td>0.01</td>\n",
       "    </tr>\n",
       "    <tr>\n",
       "      <th>Communist Party of Nepal-Maoist (Baidya)</th>\n",
       "      <td>0.01</td>\n",
       "    </tr>\n",
       "    <tr>\n",
       "      <th>The target was a polling station.</th>\n",
       "      <td>0.01</td>\n",
       "    </tr>\n",
       "    <tr>\n",
       "      <th>country_txt_Nepal</th>\n",
       "      <td>0.01</td>\n",
       "    </tr>\n",
       "    <tr>\n",
       "      <th>Black September</th>\n",
       "      <td>0.01</td>\n",
       "    </tr>\n",
       "    <tr>\n",
       "      <th>Paris</th>\n",
       "      <td>0.01</td>\n",
       "    </tr>\n",
       "    <tr>\n",
       "      <th>attack_1txt_Facility/Infrastructure Attack</th>\n",
       "      <td>0.01</td>\n",
       "    </tr>\n",
       "    <tr>\n",
       "      <th>corp1_Indian Armed Forces</th>\n",
       "      <td>0.01</td>\n",
       "    </tr>\n",
       "    <tr>\n",
       "      <th>corp1_Not Applicable</th>\n",
       "      <td>0.01</td>\n",
       "    </tr>\n",
       "    <tr>\n",
       "      <th>corp1_Unified Communist Party of Nepal: Maoist (UCPN-M)</th>\n",
       "      <td>0.01</td>\n",
       "    </tr>\n",
       "    <tr>\n",
       "      <th>specific_target_Local Jewish Community Member</th>\n",
       "      <td>0.01</td>\n",
       "    </tr>\n",
       "    <tr>\n",
       "      <th>victim_nationalitytxt_Unknown</th>\n",
       "      <td>0.01</td>\n",
       "    </tr>\n",
       "    <tr>\n",
       "      <th>sub_weapontxt_Arson/Fire</th>\n",
       "      <td>0.01</td>\n",
       "    </tr>\n",
       "    <tr>\n",
       "      <th>The Justice Department</th>\n",
       "      <td>0.01</td>\n",
       "    </tr>\n",
       "    <tr>\n",
       "      <th>The Hague</th>\n",
       "      <td>0.00</td>\n",
       "    </tr>\n",
       "    <tr>\n",
       "      <th>Zinjibar</th>\n",
       "      <td>0.00</td>\n",
       "    </tr>\n",
       "    <tr>\n",
       "      <th>Ordzhonikidzevskaya</th>\n",
       "      <td>0.00</td>\n",
       "    </tr>\n",
       "    <tr>\n",
       "      <th>Siraha district</th>\n",
       "      <td>0.00</td>\n",
       "    </tr>\n",
       "    <tr>\n",
       "      <th>A bus terminal</th>\n",
       "      <td>0.00</td>\n",
       "    </tr>\n",
       "    <tr>\n",
       "      <th>Bus Park</th>\n",
       "      <td>0.00</td>\n",
       "    </tr>\n",
       "    <tr>\n",
       "      <th>Chair: Pushpa Kamal Dahal Prachanda</th>\n",
       "      <td>0.00</td>\n",
       "    </tr>\n",
       "    <tr>\n",
       "      <th>Sirnoo</th>\n",
       "      <td>0.00</td>\n",
       "    </tr>\n",
       "    <tr>\n",
       "      <th>Civilians</th>\n",
       "      <td>0.00</td>\n",
       "    </tr>\n",
       "    <tr>\n",
       "      <th>Comm-Related</th>\n",
       "      <td>0.00</td>\n",
       "    </tr>\n",
       "    <tr>\n",
       "      <th>researcher, Sarah Williams-Blangero, at the Southwest Foundation for Biomedical Research in San Antonio, TX</th>\n",
       "      <td>0.00</td>\n",
       "    </tr>\n",
       "    <tr>\n",
       "      <th>Commander</th>\n",
       "      <td>0.00</td>\n",
       "    </tr>\n",
       "    <tr>\n",
       "      <th>Election Rally</th>\n",
       "      <td>0.00</td>\n",
       "    </tr>\n",
       "    <tr>\n",
       "      <th>Judge</th>\n",
       "      <td>0.00</td>\n",
       "    </tr>\n",
       "    <tr>\n",
       "      <th>Railway Tracks</th>\n",
       "      <td>0.00</td>\n",
       "    </tr>\n",
       "    <tr>\n",
       "      <th>Residence of Leader: Tajmir Khan</th>\n",
       "      <td>0.00</td>\n",
       "    </tr>\n",
       "    <tr>\n",
       "      <th>Town of El Doncello</th>\n",
       "      <td>0.00</td>\n",
       "    </tr>\n",
       "    <tr>\n",
       "      <th>four researchers at the Tulane Regional Primate Research Center at Tulane University in Louisiana, including Director of the Center, Peter Gerone</th>\n",
       "      <td>0.00</td>\n",
       "    </tr>\n",
       "    <tr>\n",
       "      <th>henry holguin cubillos, subdirector radio supernoticias</th>\n",
       "      <td>0.00</td>\n",
       "    </tr>\n",
       "    <tr>\n",
       "      <th>home of Carlos Pestana Zevallos. transport and communication minister*</th>\n",
       "      <td>0.00</td>\n",
       "    </tr>\n",
       "    <tr>\n",
       "      <th>Mogadishu</th>\n",
       "      <td>0.00</td>\n",
       "    </tr>\n",
       "    <tr>\n",
       "      <th>six researchers at Yerkes Regional Primate Research Center at Emory University in Atlanta, GA</th>\n",
       "      <td>0.00</td>\n",
       "    </tr>\n",
       "    <tr>\n",
       "      <th>six researchers at the University of Washington in Seattle, WA</th>\n",
       "      <td>0.00</td>\n",
       "    </tr>\n",
       "    <tr>\n",
       "      <th>some researchers at the University of Minnesota in Minneapolis, MN</th>\n",
       "      <td>0.00</td>\n",
       "    </tr>\n",
       "    <tr>\n",
       "      <th>three researchers at the University of California-Davis</th>\n",
       "      <td>0.00</td>\n",
       "    </tr>\n",
       "    <tr>\n",
       "      <th>trucking company in Arcata, California</th>\n",
       "      <td>0.00</td>\n",
       "    </tr>\n",
       "    <tr>\n",
       "      <th>Nabalawag</th>\n",
       "      <td>0.00</td>\n",
       "    </tr>\n",
       "    <tr>\n",
       "      <th>Aguada</th>\n",
       "      <td>0.00</td>\n",
       "    </tr>\n",
       "    <tr>\n",
       "      <th>Los Angeles</th>\n",
       "      <td>0.00</td>\n",
       "    </tr>\n",
       "    <tr>\n",
       "      <th>Maoist Communist Party of Manipur</th>\n",
       "      <td>0.00</td>\n",
       "    </tr>\n",
       "    <tr>\n",
       "      <th>Scottish Socialist Republican League</th>\n",
       "      <td>0.00</td>\n",
       "    </tr>\n",
       "    <tr>\n",
       "      <th>Sabaot Land Defense Force (SLDF)</th>\n",
       "      <td>0.00</td>\n",
       "    </tr>\n",
       "    <tr>\n",
       "      <th>Riyadus-Salikhin Reconnaissance and Sabotage Battalion of Chechen Martyrs</th>\n",
       "      <td>0.00</td>\n",
       "    </tr>\n",
       "    <tr>\n",
       "      <th>Pattani United Liberation Organization (PULO)</th>\n",
       "      <td>0.00</td>\n",
       "    </tr>\n",
       "    <tr>\n",
       "      <th>Orly Organization</th>\n",
       "      <td>0.00</td>\n",
       "    </tr>\n",
       "    <tr>\n",
       "      <th>Mexican Revolutionary Movement</th>\n",
       "      <td>0.00</td>\n",
       "    </tr>\n",
       "    <tr>\n",
       "      <th>Left-Wing Militants</th>\n",
       "      <td>0.00</td>\n",
       "    </tr>\n",
       "    <tr>\n",
       "      <th>London</th>\n",
       "      <td>0.00</td>\n",
       "    </tr>\n",
       "    <tr>\n",
       "      <th>Jihadi-inspired extremists</th>\n",
       "      <td>0.00</td>\n",
       "    </tr>\n",
       "    <tr>\n",
       "      <th>Informal Anarchist Federation</th>\n",
       "      <td>0.00</td>\n",
       "    </tr>\n",
       "    <tr>\n",
       "      <th>Hekla Reception Committee-Initiative for More Social Eruptions</th>\n",
       "      <td>0.00</td>\n",
       "    </tr>\n",
       "    <tr>\n",
       "      <th>Armed Commandos of Liberation</th>\n",
       "      <td>0.00</td>\n",
       "    </tr>\n",
       "    <tr>\n",
       "      <th>specific_target_Internet Providers</th>\n",
       "      <td>0.00</td>\n",
       "    </tr>\n",
       "    <tr>\n",
       "      <th>specific_target_Election Rally</th>\n",
       "      <td>0.00</td>\n",
       "    </tr>\n",
       "    <tr>\n",
       "      <th>September 11</th>\n",
       "      <td>0.00</td>\n",
       "    </tr>\n",
       "    <tr>\n",
       "      <th>Supporters of Ernest Wamba dia Wamba</th>\n",
       "      <td>0.00</td>\n",
       "    </tr>\n",
       "    <tr>\n",
       "      <th>The 78 Unemployed</th>\n",
       "      <td>0.00</td>\n",
       "    </tr>\n",
       "    <tr>\n",
       "      <th>The Extraditables</th>\n",
       "      <td>0.00</td>\n",
       "    </tr>\n",
       "    <tr>\n",
       "      <th>The World United Formosans for Independence (WUFI)</th>\n",
       "      <td>0.00</td>\n",
       "    </tr>\n",
       "    <tr>\n",
       "      <th>country_txt_Uruguay</th>\n",
       "      <td>0.00</td>\n",
       "    </tr>\n",
       "    <tr>\n",
       "      <th>Ajdari</th>\n",
       "      <td>0.00</td>\n",
       "    </tr>\n",
       "    <tr>\n",
       "      <th>Bihsud district</th>\n",
       "      <td>0.00</td>\n",
       "    </tr>\n",
       "    <tr>\n",
       "      <th>Brussels</th>\n",
       "      <td>0.00</td>\n",
       "    </tr>\n",
       "    <tr>\n",
       "      <th>Daraa</th>\n",
       "      <td>0.00</td>\n",
       "    </tr>\n",
       "    <tr>\n",
       "      <th>Dhangadhi</th>\n",
       "      <td>0.00</td>\n",
       "    </tr>\n",
       "    <tr>\n",
       "      <th>Dublin</th>\n",
       "      <td>0.00</td>\n",
       "    </tr>\n",
       "    <tr>\n",
       "      <th>Hind Khel</th>\n",
       "      <td>0.00</td>\n",
       "    </tr>\n",
       "    <tr>\n",
       "      <th>Imphal</th>\n",
       "      <td>0.00</td>\n",
       "    </tr>\n",
       "    <tr>\n",
       "      <th>Isulan</th>\n",
       "      <td>0.00</td>\n",
       "    </tr>\n",
       "    <tr>\n",
       "      <th>Kharan district</th>\n",
       "      <td>0.00</td>\n",
       "    </tr>\n",
       "    <tr>\n",
       "      <th>Lawdar district</th>\n",
       "      <td>0.00</td>\n",
       "    </tr>\n",
       "    <tr>\n",
       "      <th>two primate researchers, Patricia Fultz and Jiri Mestecky, at the University of Alabama at Birmingham</th>\n",
       "      <td>0.00</td>\n",
       "    </tr>\n",
       "  </tbody>\n",
       "</table>\n",
       "</div>"
      ],
      "text/plain": [
       "                                                    Importances\n",
       "0                                                              \n",
       "attack_1txt_Assassination                                  0.21\n",
       "target_1txt_Unknown                                        0.08\n",
       "sub_weapontxt_Other Explosive Type                         0.05\n",
       "sub_weapontxt_Unknown Gun Type                             0.04\n",
       "attack_1txt_Bombing/Explosion                              0.04\n",
       "sub_targettxt_Unknown                                      0.04\n",
       "Unknown                                                    0.03\n",
       "attack_1txt_Hostage Taking (Kidnapping)                    0.03\n",
       "Unknown                                                    0.02\n",
       "sub_weapontxt_Letter Bomb                                  0.02\n",
       "victim_nationalitytxt_Nepal                                0.02\n",
       "specific_target_Unknown                                    0.02\n",
       "Communist Party of Nepal - Maoist (CPN-Maoist-C...         0.02\n",
       "sub_targettxt_Gov_Figure1                                  0.02\n",
       "target_1txt_Private Citizens & Property                    0.02\n",
       "target_1txt_Government (General)                           0.02\n",
       "attack_1txt_Armed Assault                                  0.02\n",
       "Communist Party of Nepal (People's War Group)              0.01\n",
       "Local Jewish Community Member                              0.01\n",
       "NW_Indian_Groups                                           0.01\n",
       "Maoists                                                    0.01\n",
       "Sunni_Cities                                               0.01\n",
       "Split_Cities                                               0.01\n",
       "Jos                                                        0.01\n",
       "Internet Providers                                         0.01\n",
       "Communist Party of Nepal-Maoist (Baidya)                   0.01\n",
       "The target was a polling station.                          0.01\n",
       "country_txt_Nepal                                          0.01\n",
       "Black September                                            0.01\n",
       "Paris                                                      0.01\n",
       "attack_1txt_Facility/Infrastructure Attack                 0.01\n",
       "corp1_Indian Armed Forces                                  0.01\n",
       "corp1_Not Applicable                                       0.01\n",
       "corp1_Unified Communist Party of Nepal: Maoist ...         0.01\n",
       "specific_target_Local Jewish Community Member              0.01\n",
       "victim_nationalitytxt_Unknown                              0.01\n",
       "sub_weapontxt_Arson/Fire                                   0.01\n",
       "The Justice Department                                     0.01\n",
       "The Hague                                                  0.00\n",
       "Zinjibar                                                   0.00\n",
       "Ordzhonikidzevskaya                                        0.00\n",
       "Siraha district                                            0.00\n",
       "A bus terminal                                             0.00\n",
       "Bus Park                                                   0.00\n",
       "Chair: Pushpa Kamal Dahal Prachanda                        0.00\n",
       "Sirnoo                                                     0.00\n",
       "Civilians                                                  0.00\n",
       "Comm-Related                                               0.00\n",
       "researcher, Sarah Williams-Blangero, at the Sou...         0.00\n",
       "Commander                                                  0.00\n",
       "Election Rally                                             0.00\n",
       "Judge                                                      0.00\n",
       "Railway Tracks                                             0.00\n",
       "Residence of Leader: Tajmir Khan                           0.00\n",
       "Town of El Doncello                                        0.00\n",
       "four researchers at the Tulane Regional Primate...         0.00\n",
       "henry holguin cubillos, subdirector radio super...         0.00\n",
       "home of Carlos Pestana Zevallos. transport and ...         0.00\n",
       "Mogadishu                                                  0.00\n",
       "six researchers at Yerkes Regional Primate Rese...         0.00\n",
       "six researchers at the University of Washington...         0.00\n",
       "some researchers at the University of Minnesota...         0.00\n",
       "three researchers at the University of Californ...         0.00\n",
       "trucking company in Arcata, California                     0.00\n",
       "Nabalawag                                                  0.00\n",
       "Aguada                                                     0.00\n",
       "Los Angeles                                                0.00\n",
       "Maoist Communist Party of Manipur                          0.00\n",
       "Scottish Socialist Republican League                       0.00\n",
       "Sabaot Land Defense Force (SLDF)                           0.00\n",
       "Riyadus-Salikhin Reconnaissance and Sabotage Ba...         0.00\n",
       "Pattani United Liberation Organization (PULO)              0.00\n",
       "Orly Organization                                          0.00\n",
       "Mexican Revolutionary Movement                             0.00\n",
       "Left-Wing Militants                                        0.00\n",
       "London                                                     0.00\n",
       "Jihadi-inspired extremists                                 0.00\n",
       "Informal Anarchist Federation                              0.00\n",
       "Hekla Reception Committee-Initiative for More S...         0.00\n",
       "Armed Commandos of Liberation                              0.00\n",
       "specific_target_Internet Providers                         0.00\n",
       "specific_target_Election Rally                             0.00\n",
       "September 11                                               0.00\n",
       "Supporters of Ernest Wamba dia Wamba                       0.00\n",
       "The 78 Unemployed                                          0.00\n",
       "The Extraditables                                          0.00\n",
       "The World United Formosans for Independence (WUFI)         0.00\n",
       "country_txt_Uruguay                                        0.00\n",
       "Ajdari                                                     0.00\n",
       "Bihsud district                                            0.00\n",
       "Brussels                                                   0.00\n",
       "Daraa                                                      0.00\n",
       "Dhangadhi                                                  0.00\n",
       "Dublin                                                     0.00\n",
       "Hind Khel                                                  0.00\n",
       "Imphal                                                     0.00\n",
       "Isulan                                                     0.00\n",
       "Kharan district                                            0.00\n",
       "Lawdar district                                            0.00\n",
       "two primate researchers, Patricia Fultz and Jir...         0.00"
      ]
     },
     "metadata": {},
     "output_type": "display_data"
    }
   ],
   "source": [
    "print(\"\\nThe mean cross-validation score is: {:.2%} {}{:.2%}\".format(KBest_forest_cv.mean(),\n",
    "                                                                     plusminus, KBest_forest_cv.std()))\n",
    "print(\"The cv scores are: {}\".format(KBest_forest_cv))\n",
    "\n",
    "conf_df = pd.DataFrame(KBest_forest_confusion_train)\n",
    "\n",
    "FP = conf_df.loc[0, 1]\n",
    "FN = conf_df.loc[1, 0]\n",
    "NegT = conf_df.iloc[0].sum()\n",
    "PosT = conf_df.iloc[1].sum()\n",
    "\n",
    "print(\"\\nTraining-Set Metrics:\")\n",
    "print(conf_df)\n",
    "print('\\nFalse Positive/Type I Error: {} ({:.2%})'.format(FP, (FP / NegT)))\n",
    "print('False Negative/Type II Error: {} ({:.2%})'.format(FN, (FN / PosT)))\n",
    "print('Balanced Accuracy: {:.2%}\\n'.format(KBest_forest_train))\n",
    "\n",
    "conf_df2 = pd.DataFrame(KBest_forest_confusion_test)\n",
    "\n",
    "FP2 = conf_df2.loc[0, 1]\n",
    "FN2 = conf_df2.loc[1, 0]\n",
    "NegT2 = conf_df2.iloc[0].sum()\n",
    "PosT2 = conf_df2.iloc[1].sum()\n",
    "\n",
    "print(\"Test-Set Metrics:\")\n",
    "print(conf_df2)\n",
    "print('\\nFalse Positive/Type I Error: {} ({:.2%})'.format(FP2, (FP2 / NegT2)))\n",
    "print('False Negative/Type II Error: {} ({:.2%})'.format(FN2, (FN2 / PosT2)))\n",
    "print('Balanced Accuracy: {:.2%}'.format(KBest_forest_test))\n",
    "\n",
    "print('\\n\\nFeature Importances:\\n')\n",
    "feat_imp = pd.DataFrame(KBest_forest.feature_importances_.round(2), index = KBest_train_X.columns, \n",
    "                        columns = [\"Importances\"])\n",
    "display(feat_imp.sort_values('Importances', ascending = False))\n",
    "\n",
    "prelim_results = prelim_results.append({'Test B.A. Score': KBest_forest_test, \n",
    "                                        'FP': FP2, \n",
    "                                        'FN': FN2, \n",
    "                                        'Mean CV Score': KBest_forest_cv.mean(), \n",
    "                                        'CV Std': KBest_forest_cv.std()}, ignore_index = True)"
   ]
  },
  {
   "cell_type": "markdown",
   "metadata": {
    "slideshow": {
     "slide_type": "slide"
    }
   },
   "source": [
    "##### PCA Features"
   ]
  },
  {
   "cell_type": "code",
   "execution_count": 81,
   "metadata": {
    "slideshow": {
     "slide_type": "skip"
    }
   },
   "outputs": [],
   "source": [
    "PCA_forest = RandomForestClassifier()\n",
    "\n",
    "PCA_forest = PCA_forest.fit(PCA_train_X, cyber_train_dummy_Y)\n",
    "PCA_forest_train_pred_ = PCA_forest.predict(PCA_train_X)\n",
    "PCA_forest_test_pred_ = PCA_forest.predict(PCA_test_X)\n",
    "\n",
    "# Evaluation:\n",
    "  # Confusion Matrices:\n",
    "PCA_forest_confusion_train = confusion_matrix(cyber_train_dummy_Y, PCA_forest_train_pred_, labels = [0, 1])\n",
    "PCA_forest_confusion_test = confusion_matrix(cyber_test_dummy_Y, PCA_forest_test_pred_, labels = [0, 1])\n",
    "\n",
    "  # Cross-validation and train/test scores:\n",
    "PCA_forest_cv = cross_val_score(PCA_forest, PCA_train_X, cyber_train_dummy_Y, \n",
    "                                scoring = 'balanced_accuracy', cv = 5)\n",
    "\n",
    "  # Looking and balanced accuracy/f1 scores:\n",
    "PCA_forest_train = balanced_accuracy_score(cyber_train_dummy_Y, PCA_forest_train_pred_)    \n",
    "PCA_forest_test = balanced_accuracy_score(cyber_test_dummy_Y, PCA_forest_test_pred_)    "
   ]
  },
  {
   "cell_type": "code",
   "execution_count": 82,
   "metadata": {
    "scrolled": true,
    "slideshow": {
     "slide_type": "slide"
    }
   },
   "outputs": [
    {
     "name": "stdout",
     "output_type": "stream",
     "text": [
      "\n",
      "The mean cross-validation score is: 64.12% ±1.74%\n",
      "The cv scores are: [0.65815768 0.62014094 0.62821387 0.66497189 0.63475529]\n",
      "\n",
      "Training-Set Metrics:\n",
      "     0     1\n",
      "0  867    78\n",
      "1   32  8930\n",
      "\n",
      "False Positive/Type I Error: 78 (8.25%)\n",
      "False Negative/Type II Error: 32 (0.36%)\n",
      "Balanced Accuracy: 95.69%\n",
      "\n",
      "Test-Set Metrics:\n",
      "    0     1\n",
      "0  63   149\n",
      "1  63  2008\n",
      "\n",
      "False Positive/Type I Error: 149 (70.28%)\n",
      "False Negative/Type II Error: 63 (3.04%)\n",
      "Balanced Accuracy: 63.34%\n"
     ]
    }
   ],
   "source": [
    "print(\"\\nThe mean cross-validation score is: {:.2%} {}{:.2%}\".format(PCA_forest_cv.mean(),\n",
    "                                                                     plusminus, PCA_forest_cv.std()))\n",
    "print(\"The cv scores are: {}\".format(PCA_forest_cv))\n",
    "\n",
    "conf_df = pd.DataFrame(PCA_forest_confusion_train)\n",
    "\n",
    "FP = conf_df.loc[0, 1]\n",
    "FN = conf_df.loc[1, 0]\n",
    "NegT = conf_df.iloc[0].sum()\n",
    "PosT = conf_df.iloc[1].sum()\n",
    "\n",
    "print(\"\\nTraining-Set Metrics:\")\n",
    "print(conf_df)\n",
    "print('\\nFalse Positive/Type I Error: {} ({:.2%})'.format(FP, (FP / NegT)))\n",
    "print('False Negative/Type II Error: {} ({:.2%})'.format(FN, (FN / PosT)))\n",
    "print('Balanced Accuracy: {:.2%}\\n'.format(PCA_forest_train))\n",
    "\n",
    "conf_df2 = pd.DataFrame(PCA_forest_confusion_test)\n",
    "\n",
    "FP2 = conf_df2.loc[0, 1]\n",
    "FN2 = conf_df2.loc[1, 0]\n",
    "NegT2 = conf_df2.iloc[0].sum()\n",
    "PosT2 = conf_df2.iloc[1].sum()\n",
    "\n",
    "print(\"Test-Set Metrics:\")\n",
    "print(conf_df2)\n",
    "print('\\nFalse Positive/Type I Error: {} ({:.2%})'.format(FP2, (FP2 / NegT2)))\n",
    "print('False Negative/Type II Error: {} ({:.2%})'.format(FN2, (FN2 / PosT2)))\n",
    "print('Balanced Accuracy: {:.2%}'.format(PCA_forest_test))\n",
    "\n",
    "prelim_results = prelim_results.append({'Test B.A. Score': PCA_forest_test, \n",
    "                                        'FP': FP2, \n",
    "                                        'FN': FN2, \n",
    "                                        'Mean CV Score': PCA_forest_cv.mean(), \n",
    "                                        'CV Std': PCA_forest_cv.std()}, ignore_index = True)"
   ]
  },
  {
   "cell_type": "markdown",
   "metadata": {
    "slideshow": {
     "slide_type": "subslide"
    }
   },
   "source": [
    "Here, we can see quite a bit of over-fitting given that the training score and balanced accuracy scores are nearly perfect, while the test score is about 5 percentage points lower than the training score and over 20 points below the balanced accuracy (a drastic difference compared to what we have seen thus far). The nice aspect about the Random Forest, however, is that it lets us look into the feature importances which were used in creating the model, which we saw in the KBest model above."
   ]
  },
  {
   "cell_type": "code",
   "execution_count": 83,
   "metadata": {
    "slideshow": {
     "slide_type": "skip"
    }
   },
   "outputs": [
    {
     "data": {
      "text/plain": [
       "62"
      ]
     },
     "execution_count": 83,
     "metadata": {},
     "output_type": "execute_result"
    }
   ],
   "source": [
    "del PCA_forest, PCA_forest_train_pred_, PCA_forest_test_pred_ , PCA_forest_confusion_train, \n",
    "del PCA_forest_confusion_test, PCA_forest_cv, PCA_forest_train, PCA_forest_test\n",
    "gc.collect()"
   ]
  },
  {
   "cell_type": "markdown",
   "metadata": {
    "slideshow": {
     "slide_type": "slide"
    }
   },
   "source": [
    "#### Support Vector Classifier:\n",
    "\n",
    "##### KBest Features:"
   ]
  },
  {
   "cell_type": "code",
   "execution_count": 84,
   "metadata": {
    "slideshow": {
     "slide_type": "skip"
    }
   },
   "outputs": [],
   "source": [
    "from sklearn.svm import SVC\n",
    "\n",
    "KBest_SVC = SVC()\n",
    "\n",
    "KBest_SVC = KBest_SVC.fit(KBest_train_X, cyber_train_dummy_Y)\n",
    "KBest_SVC_train_pred_ = KBest_SVC.predict(KBest_train_X)\n",
    "KBest_SVC_test_pred_ = KBest_SVC.predict(KBest_test_X)\n",
    "\n",
    "# Evaluation:\n",
    "  # Confusion matrices:\n",
    "KBest_SVC_confusion_train = confusion_matrix(cyber_train_dummy_Y, KBest_SVC_train_pred_, labels = [0, 1])\n",
    "KBest_SVC_confusion_test = confusion_matrix(cyber_test_dummy_Y, KBest_SVC_test_pred_, labels = [0, 1])\n",
    "\n",
    "  # Cross-validation and train/test scores:\n",
    "KBest_SVC_cv = cross_val_score(KBest_SVC, KBest_train_X, cyber_train_dummy_Y, \n",
    "                               scoring = 'balanced_accuracy', cv = 5)\n",
    "\n",
    "  # Looking at balanced accuracy/f1 scores:\n",
    "KBest_SVC_train = balanced_accuracy_score(cyber_train_dummy_Y, KBest_SVC_train_pred_)\n",
    "KBest_SVC_test = balanced_accuracy_score(cyber_test_dummy_Y, KBest_SVC_test_pred_)    "
   ]
  },
  {
   "cell_type": "code",
   "execution_count": 85,
   "metadata": {
    "slideshow": {
     "slide_type": "slide"
    }
   },
   "outputs": [
    {
     "name": "stdout",
     "output_type": "stream",
     "text": [
      "\n",
      "The mean cross-validation score is: 50.00% ±0.00%\n",
      "The cv scores are: [0.5 0.5 0.5 0.5 0.5]\n",
      "\n",
      "Training-Set Metrics:\n",
      "   0     1\n",
      "0  0   945\n",
      "1  0  8962\n",
      "\n",
      "False Positive/Type I Error: 945 (100.00%)\n",
      "False Negative/Type II Error: 0 (0.00%)\n",
      "Balanced Accuracy: 50.00%\n",
      "\n",
      "Test-Set Metrics:\n",
      "   0     1\n",
      "0  0   212\n",
      "1  0  2071\n",
      "\n",
      "False Positive/Type I Error: 212 (100.00%)\n",
      "False Negative/Type II Error: 0 (0.00%)\n",
      "Balanced Accuracy: 50.00%\n"
     ]
    }
   ],
   "source": [
    "print(\"\\nThe mean cross-validation score is: {:.2%} {}{:.2%}\".format(KBest_SVC_cv.mean(),\n",
    "                                                                     plusminus, KBest_SVC_cv.std()))\n",
    "print(\"The cv scores are: {}\".format(KBest_SVC_cv))\n",
    "\n",
    "conf_df = pd.DataFrame(KBest_SVC_confusion_train)\n",
    "\n",
    "FP = conf_df.loc[0, 1]\n",
    "FN = conf_df.loc[1, 0]\n",
    "NegT = conf_df.iloc[0].sum()\n",
    "PosT = conf_df.iloc[1].sum()\n",
    "\n",
    "print(\"\\nTraining-Set Metrics:\")\n",
    "print(conf_df)\n",
    "print('\\nFalse Positive/Type I Error: {} ({:.2%})'.format(FP, (FP / NegT)))\n",
    "print('False Negative/Type II Error: {} ({:.2%})'.format(FN, (FN / PosT)))\n",
    "print('Balanced Accuracy: {:.2%}\\n'.format(KBest_SVC_train))\n",
    "\n",
    "conf_df2 = pd.DataFrame(KBest_SVC_confusion_test)\n",
    "\n",
    "FP2 = conf_df2.loc[0, 1]\n",
    "FN2 = conf_df2.loc[1, 0]\n",
    "NegT2 = conf_df2.iloc[0].sum()\n",
    "PosT2 = conf_df2.iloc[1].sum()\n",
    "\n",
    "print(\"Test-Set Metrics:\")\n",
    "print(conf_df2)\n",
    "print('\\nFalse Positive/Type I Error: {} ({:.2%})'.format(FP2, (FP2 / NegT2)))\n",
    "print('False Negative/Type II Error: {} ({:.2%})'.format(FN2, (FN2 / PosT2)))\n",
    "print('Balanced Accuracy: {:.2%}'.format(KBest_SVC_test))\n",
    "\n",
    "prelim_results = prelim_results.append({'Test B.A. Score': KBest_SVC_test, \n",
    "                                        'FP': FP2, \n",
    "                                        'FN': FN2, \n",
    "                                        'Mean CV Score': KBest_SVC_cv.mean(), \n",
    "                                        'CV Std': KBest_SVC_cv.std()}, ignore_index = True)"
   ]
  },
  {
   "cell_type": "code",
   "execution_count": 86,
   "metadata": {
    "slideshow": {
     "slide_type": "skip"
    }
   },
   "outputs": [
    {
     "data": {
      "text/plain": [
       "34"
      ]
     },
     "execution_count": 86,
     "metadata": {},
     "output_type": "execute_result"
    }
   ],
   "source": [
    "del KBest_SVC, KBest_SVC_train_pred_, KBest_SVC_test_pred_ , KBest_SVC_confusion_train\n",
    "del KBest_SVC_confusion_test, KBest_SVC_cv, KBest_SVC_train, KBest_SVC_test\n",
    "gc.collect()"
   ]
  },
  {
   "cell_type": "markdown",
   "metadata": {
    "slideshow": {
     "slide_type": "slide"
    }
   },
   "source": [
    "##### PCA Features"
   ]
  },
  {
   "cell_type": "code",
   "execution_count": 87,
   "metadata": {
    "slideshow": {
     "slide_type": "skip"
    }
   },
   "outputs": [],
   "source": [
    "PCA_SVC = SVC()\n",
    "\n",
    "PCA_SVC = PCA_SVC.fit(PCA_train_X, cyber_train_dummy_Y)\n",
    "PCA_SVC_train_pred_ = PCA_SVC.predict(PCA_train_X)\n",
    "PCA_SVC_test_pred_ = PCA_SVC.predict(PCA_test_X)\n",
    "\n",
    "# Evaluation:\n",
    "  # Confusion Matrices:\n",
    "PCA_SVC_confusion_train = confusion_matrix(cyber_train_dummy_Y, PCA_SVC_train_pred_, labels = [0, 1])\n",
    "PCA_SVC_confusion_test = confusion_matrix(cyber_test_dummy_Y, PCA_SVC_test_pred_, labels = [0, 1])\n",
    "\n",
    "  # Cross-validation and train/test scores:\n",
    "PCA_SVC_cv = cross_val_score(PCA_SVC, PCA_train_X, cyber_train_dummy_Y, \n",
    "                             scoring = 'balanced_accuracy', cv = 5)\n",
    "\n",
    "  # Looking at the F1/balanced accuracy scores:\n",
    "PCA_SVC_train = balanced_accuracy_score(cyber_train_dummy_Y, PCA_SVC_train_pred_)\n",
    "PCA_SVC_test = balanced_accuracy_score(cyber_test_dummy_Y, PCA_SVC_test_pred_)"
   ]
  },
  {
   "cell_type": "code",
   "execution_count": 88,
   "metadata": {
    "slideshow": {
     "slide_type": "slide"
    }
   },
   "outputs": [
    {
     "name": "stdout",
     "output_type": "stream",
     "text": [
      "\n",
      "The mean cross-validation score is: 50.00% ±0.00%\n",
      "The cv scores are: [0.5 0.5 0.5 0.5 0.5]\n",
      "\n",
      "Training-Set Metrics:\n",
      "   0     1\n",
      "0  0   945\n",
      "1  0  8962\n",
      "\n",
      "False Positive/Type I Error: 945 (100.00%)\n",
      "False Negative/Type II Error: 0 (0.00%)\n",
      "Balanced Accuracy: 50.00%\n",
      "\n",
      "Test-Set Metrics:\n",
      "   0     1\n",
      "0  0   212\n",
      "1  0  2071\n",
      "\n",
      "False Positive/Type I Error: 212 (100.00%)\n",
      "False Negative/Type II Error: 0 (0.00%)\n",
      "Balanced Accuracy: 50.00%\n"
     ]
    }
   ],
   "source": [
    "print(\"\\nThe mean cross-validation score is: {:.2%} {}{:.2%}\".format(PCA_SVC_cv.mean(),\n",
    "                                                                     plusminus, PCA_SVC_cv.std()))\n",
    "print(\"The cv scores are: {}\".format(PCA_SVC_cv))\n",
    "\n",
    "conf_df = pd.DataFrame(PCA_SVC_confusion_train)\n",
    "\n",
    "FP = conf_df.loc[0, 1]\n",
    "FN = conf_df.loc[1, 0]\n",
    "NegT = conf_df.iloc[0].sum()\n",
    "PosT = conf_df.iloc[1].sum()\n",
    "\n",
    "print(\"\\nTraining-Set Metrics:\")\n",
    "print(conf_df)\n",
    "print('\\nFalse Positive/Type I Error: {} ({:.2%})'.format(FP, (FP / NegT)))\n",
    "print('False Negative/Type II Error: {} ({:.2%})'.format(FN, (FN / PosT)))\n",
    "print('Balanced Accuracy: {:.2%}\\n'.format(PCA_SVC_train))\n",
    "\n",
    "conf_df2 = pd.DataFrame(PCA_SVC_confusion_test)\n",
    "\n",
    "FP2 = conf_df2.loc[0, 1]\n",
    "FN2 = conf_df2.loc[1, 0]\n",
    "NegT2 = conf_df2.iloc[0].sum()\n",
    "PosT2 = conf_df2.iloc[1].sum()\n",
    "\n",
    "print(\"Test-Set Metrics:\")\n",
    "print(conf_df2)\n",
    "print('\\nFalse Positive/Type I Error: {} ({:.2%})'.format(FP2, (FP2 / NegT2)))\n",
    "print('False Negative/Type II Error: {} ({:.2%})'.format(FN2, (FN2 / PosT2)))\n",
    "print('Balanced Accuracy: {:.2%}'.format(PCA_SVC_test))\n",
    "\n",
    "prelim_results = prelim_results.append({'Test B.A. Score': PCA_SVC_test, \n",
    "                                        'FP': FP2, \n",
    "                                        'FN': FN2, \n",
    "                                        'Mean CV Score': PCA_SVC_cv.mean(), \n",
    "                                        'CV Std': PCA_SVC_cv.std()}, ignore_index = True)"
   ]
  },
  {
   "cell_type": "markdown",
   "metadata": {
    "slideshow": {
     "slide_type": "subslide"
    }
   },
   "source": [
    "These support vector models are considerably stable in the sense that they are able to achieve similar test scores throughout various rounds, which is good.  The balanced accuracy scores are decent and the amount of error is considerably less than the models above. Let's take a look at one more round of model-type before we make this our official model."
   ]
  },
  {
   "cell_type": "code",
   "execution_count": 89,
   "metadata": {
    "slideshow": {
     "slide_type": "skip"
    }
   },
   "outputs": [
    {
     "data": {
      "text/plain": [
       "28"
      ]
     },
     "execution_count": 89,
     "metadata": {},
     "output_type": "execute_result"
    }
   ],
   "source": [
    "del PCA_SVC, PCA_SVC_train_pred_, PCA_SVC_test_pred_ , PCA_SVC_confusion_train\n",
    "del PCA_SVC_confusion_test, PCA_SVC_cv, PCA_SVC_train, PCA_SVC_test\n",
    "gc.collect()"
   ]
  },
  {
   "cell_type": "markdown",
   "metadata": {
    "slideshow": {
     "slide_type": "slide"
    }
   },
   "source": [
    "#### Gradient Boosting:\n",
    "\n",
    "##### KBest Features:"
   ]
  },
  {
   "cell_type": "code",
   "execution_count": 90,
   "metadata": {
    "slideshow": {
     "slide_type": "skip"
    }
   },
   "outputs": [],
   "source": [
    "from sklearn.ensemble import GradientBoostingClassifier\n",
    "\n",
    "KBest_GBC = GradientBoostingClassifier()\n",
    "\n",
    "KBest_GBC = KBest_GBC.fit(KBest_train_X, cyber_train_dummy_Y)\n",
    "KBest_GBC_train_pred_ = KBest_GBC.predict(KBest_train_X)\n",
    "KBest_GBC_test_pred_ = KBest_GBC.predict(KBest_test_X)\n",
    "\n",
    "# Evaluation:\n",
    "  # Confusion matrices:    \n",
    "KBest_GBC_confusion_train = confusion_matrix(cyber_train_dummy_Y, KBest_GBC_train_pred_, labels = [0, 1])\n",
    "KBest_GBC_confusion_test = confusion_matrix(cyber_test_dummy_Y, KBest_GBC_test_pred_, labels = [0, 1])\n",
    "\n",
    "  # Cross-validation and train/test scores:\n",
    "KBest_GBC_cv = cross_val_score(KBest_GBC, KBest_train_X, cyber_train_dummy_Y, \n",
    "                               scoring = 'balanced_accuracy', cv = 5)\n",
    "\n",
    "\n",
    "  # Looking at the F1/balanced-accuracy scores:\n",
    "KBest_GBC_train = balanced_accuracy_score(cyber_train_dummy_Y, KBest_GBC_train_pred_)\n",
    "KBest_GBC_test = balanced_accuracy_score(cyber_test_dummy_Y, KBest_GBC_test_pred_)"
   ]
  },
  {
   "cell_type": "code",
   "execution_count": 91,
   "metadata": {
    "slideshow": {
     "slide_type": "slide"
    }
   },
   "outputs": [
    {
     "name": "stdout",
     "output_type": "stream",
     "text": [
      "\n",
      "The mean cross-validation score is: 57.81% ±1.70%\n",
      "The cv scores are: [0.5750464  0.605255   0.56571387 0.58771495 0.55666129]\n",
      "\n",
      "Training-Set Metrics:\n",
      "     0     1\n",
      "0  191   754\n",
      "1   32  8930\n",
      "\n",
      "False Positive/Type I Error: 754 (79.79%)\n",
      "False Negative/Type II Error: 32 (0.36%)\n",
      "Balanced Accuracy: 59.93%\n",
      "\n",
      "Test-Set Metrics:\n",
      "    0     1\n",
      "0  31   181\n",
      "1   8  2063\n",
      "\n",
      "False Positive/Type I Error: 181 (85.38%)\n",
      "False Negative/Type II Error: 8 (0.39%)\n",
      "Balanced Accuracy: 57.12%\n",
      "\n",
      "\n",
      "Feature Importances:\n",
      "\n"
     ]
    },
    {
     "data": {
      "text/html": [
       "<div>\n",
       "<style scoped>\n",
       "    .dataframe tbody tr th:only-of-type {\n",
       "        vertical-align: middle;\n",
       "    }\n",
       "\n",
       "    .dataframe tbody tr th {\n",
       "        vertical-align: top;\n",
       "    }\n",
       "\n",
       "    .dataframe thead th {\n",
       "        text-align: right;\n",
       "    }\n",
       "</style>\n",
       "<table border=\"1\" class=\"dataframe\">\n",
       "  <thead>\n",
       "    <tr style=\"text-align: right;\">\n",
       "      <th></th>\n",
       "      <th>Importances</th>\n",
       "    </tr>\n",
       "    <tr>\n",
       "      <th>0</th>\n",
       "      <th></th>\n",
       "    </tr>\n",
       "  </thead>\n",
       "  <tbody>\n",
       "    <tr>\n",
       "      <th>attack_1txt_Assassination</th>\n",
       "      <td>0.27</td>\n",
       "    </tr>\n",
       "    <tr>\n",
       "      <th>target_1txt_Unknown</th>\n",
       "      <td>0.17</td>\n",
       "    </tr>\n",
       "    <tr>\n",
       "      <th>attack_1txt_Bombing/Explosion</th>\n",
       "      <td>0.07</td>\n",
       "    </tr>\n",
       "    <tr>\n",
       "      <th>sub_weapontxt_Unknown Gun Type</th>\n",
       "      <td>0.07</td>\n",
       "    </tr>\n",
       "    <tr>\n",
       "      <th>sub_weapontxt_Other Explosive Type</th>\n",
       "      <td>0.05</td>\n",
       "    </tr>\n",
       "    <tr>\n",
       "      <th>sub_weapontxt_Letter Bomb</th>\n",
       "      <td>0.03</td>\n",
       "    </tr>\n",
       "    <tr>\n",
       "      <th>The Justice Department</th>\n",
       "      <td>0.03</td>\n",
       "    </tr>\n",
       "    <tr>\n",
       "      <th>victim_nationalitytxt_Nepal</th>\n",
       "      <td>0.02</td>\n",
       "    </tr>\n",
       "    <tr>\n",
       "      <th>Communist Party of Nepal (People's War Group)</th>\n",
       "      <td>0.02</td>\n",
       "    </tr>\n",
       "    <tr>\n",
       "      <th>Unknown</th>\n",
       "      <td>0.02</td>\n",
       "    </tr>\n",
       "    <tr>\n",
       "      <th>NW_Indian_Groups</th>\n",
       "      <td>0.01</td>\n",
       "    </tr>\n",
       "    <tr>\n",
       "      <th>Armed Commandos of Liberation</th>\n",
       "      <td>0.01</td>\n",
       "    </tr>\n",
       "    <tr>\n",
       "      <th>Town of El Doncello</th>\n",
       "      <td>0.01</td>\n",
       "    </tr>\n",
       "    <tr>\n",
       "      <th>country_txt_Nepal</th>\n",
       "      <td>0.01</td>\n",
       "    </tr>\n",
       "    <tr>\n",
       "      <th>Sunni_Cities</th>\n",
       "      <td>0.01</td>\n",
       "    </tr>\n",
       "    <tr>\n",
       "      <th>Paris</th>\n",
       "      <td>0.01</td>\n",
       "    </tr>\n",
       "    <tr>\n",
       "      <th>Ordzhonikidzevskaya</th>\n",
       "      <td>0.01</td>\n",
       "    </tr>\n",
       "    <tr>\n",
       "      <th>Nabalawag</th>\n",
       "      <td>0.01</td>\n",
       "    </tr>\n",
       "    <tr>\n",
       "      <th>Dublin</th>\n",
       "      <td>0.01</td>\n",
       "    </tr>\n",
       "    <tr>\n",
       "      <th>Hind Khel</th>\n",
       "      <td>0.01</td>\n",
       "    </tr>\n",
       "    <tr>\n",
       "      <th>Sirnoo</th>\n",
       "      <td>0.01</td>\n",
       "    </tr>\n",
       "    <tr>\n",
       "      <th>The target was a polling station.</th>\n",
       "      <td>0.01</td>\n",
       "    </tr>\n",
       "    <tr>\n",
       "      <th>Lawdar district</th>\n",
       "      <td>0.01</td>\n",
       "    </tr>\n",
       "    <tr>\n",
       "      <th>attack_1txt_Hostage Taking (Kidnapping)</th>\n",
       "      <td>0.01</td>\n",
       "    </tr>\n",
       "    <tr>\n",
       "      <th>corp1_Indian Armed Forces</th>\n",
       "      <td>0.01</td>\n",
       "    </tr>\n",
       "    <tr>\n",
       "      <th>corp1_Unified Communist Party of Nepal: Maoist (UCPN-M)</th>\n",
       "      <td>0.01</td>\n",
       "    </tr>\n",
       "    <tr>\n",
       "      <th>sub_targettxt_Gov_Figure1</th>\n",
       "      <td>0.01</td>\n",
       "    </tr>\n",
       "    <tr>\n",
       "      <th>target_1txt_Private Citizens &amp; Property</th>\n",
       "      <td>0.01</td>\n",
       "    </tr>\n",
       "    <tr>\n",
       "      <th>target_1txt_Government (General)</th>\n",
       "      <td>0.01</td>\n",
       "    </tr>\n",
       "    <tr>\n",
       "      <th>specific_target_Internet Providers</th>\n",
       "      <td>0.01</td>\n",
       "    </tr>\n",
       "    <tr>\n",
       "      <th>specific_target_Unknown</th>\n",
       "      <td>0.01</td>\n",
       "    </tr>\n",
       "    <tr>\n",
       "      <th>three researchers at the University of California-Davis</th>\n",
       "      <td>0.00</td>\n",
       "    </tr>\n",
       "    <tr>\n",
       "      <th>Mogadishu</th>\n",
       "      <td>0.00</td>\n",
       "    </tr>\n",
       "    <tr>\n",
       "      <th>trucking company in Arcata, California</th>\n",
       "      <td>0.00</td>\n",
       "    </tr>\n",
       "    <tr>\n",
       "      <th>A bus terminal</th>\n",
       "      <td>0.00</td>\n",
       "    </tr>\n",
       "    <tr>\n",
       "      <th>Siraha district</th>\n",
       "      <td>0.00</td>\n",
       "    </tr>\n",
       "    <tr>\n",
       "      <th>Los Angeles</th>\n",
       "      <td>0.00</td>\n",
       "    </tr>\n",
       "    <tr>\n",
       "      <th>some researchers at the University of Minnesota in Minneapolis, MN</th>\n",
       "      <td>0.00</td>\n",
       "    </tr>\n",
       "    <tr>\n",
       "      <th>London</th>\n",
       "      <td>0.00</td>\n",
       "    </tr>\n",
       "    <tr>\n",
       "      <th>Split_Cities</th>\n",
       "      <td>0.00</td>\n",
       "    </tr>\n",
       "    <tr>\n",
       "      <th>six researchers at the University of Washington in Seattle, WA</th>\n",
       "      <td>0.00</td>\n",
       "    </tr>\n",
       "    <tr>\n",
       "      <th>The Hague</th>\n",
       "      <td>0.00</td>\n",
       "    </tr>\n",
       "    <tr>\n",
       "      <th>Zinjibar</th>\n",
       "      <td>0.00</td>\n",
       "    </tr>\n",
       "    <tr>\n",
       "      <th>henry holguin cubillos, subdirector radio supernoticias</th>\n",
       "      <td>0.00</td>\n",
       "    </tr>\n",
       "    <tr>\n",
       "      <th>Bus Park</th>\n",
       "      <td>0.00</td>\n",
       "    </tr>\n",
       "    <tr>\n",
       "      <th>Railway Tracks</th>\n",
       "      <td>0.00</td>\n",
       "    </tr>\n",
       "    <tr>\n",
       "      <th>researcher, Sarah Williams-Blangero, at the Southwest Foundation for Biomedical Research in San Antonio, TX</th>\n",
       "      <td>0.00</td>\n",
       "    </tr>\n",
       "    <tr>\n",
       "      <th>four researchers at the Tulane Regional Primate Research Center at Tulane University in Louisiana, including Director of the Center, Peter Gerone</th>\n",
       "      <td>0.00</td>\n",
       "    </tr>\n",
       "    <tr>\n",
       "      <th>Unknown</th>\n",
       "      <td>0.00</td>\n",
       "    </tr>\n",
       "    <tr>\n",
       "      <th>six researchers at Yerkes Regional Primate Research Center at Emory University in Atlanta, GA</th>\n",
       "      <td>0.00</td>\n",
       "    </tr>\n",
       "    <tr>\n",
       "      <th>Kharan district</th>\n",
       "      <td>0.00</td>\n",
       "    </tr>\n",
       "    <tr>\n",
       "      <th>Residence of Leader: Tajmir Khan</th>\n",
       "      <td>0.00</td>\n",
       "    </tr>\n",
       "    <tr>\n",
       "      <th>Local Jewish Community Member</th>\n",
       "      <td>0.00</td>\n",
       "    </tr>\n",
       "    <tr>\n",
       "      <th>home of Carlos Pestana Zevallos. transport and communication minister*</th>\n",
       "      <td>0.00</td>\n",
       "    </tr>\n",
       "    <tr>\n",
       "      <th>Judge</th>\n",
       "      <td>0.00</td>\n",
       "    </tr>\n",
       "    <tr>\n",
       "      <th>Internet Providers</th>\n",
       "      <td>0.00</td>\n",
       "    </tr>\n",
       "    <tr>\n",
       "      <th>Election Rally</th>\n",
       "      <td>0.00</td>\n",
       "    </tr>\n",
       "    <tr>\n",
       "      <th>Commander</th>\n",
       "      <td>0.00</td>\n",
       "    </tr>\n",
       "    <tr>\n",
       "      <th>Comm-Related</th>\n",
       "      <td>0.00</td>\n",
       "    </tr>\n",
       "    <tr>\n",
       "      <th>Civilians</th>\n",
       "      <td>0.00</td>\n",
       "    </tr>\n",
       "    <tr>\n",
       "      <th>Chair: Pushpa Kamal Dahal Prachanda</th>\n",
       "      <td>0.00</td>\n",
       "    </tr>\n",
       "    <tr>\n",
       "      <th>Aguada</th>\n",
       "      <td>0.00</td>\n",
       "    </tr>\n",
       "    <tr>\n",
       "      <th>Jos</th>\n",
       "      <td>0.00</td>\n",
       "    </tr>\n",
       "    <tr>\n",
       "      <th>Black September</th>\n",
       "      <td>0.00</td>\n",
       "    </tr>\n",
       "    <tr>\n",
       "      <th>Maoist Communist Party of Manipur</th>\n",
       "      <td>0.00</td>\n",
       "    </tr>\n",
       "    <tr>\n",
       "      <th>Left-Wing Militants</th>\n",
       "      <td>0.00</td>\n",
       "    </tr>\n",
       "    <tr>\n",
       "      <th>Jihadi-inspired extremists</th>\n",
       "      <td>0.00</td>\n",
       "    </tr>\n",
       "    <tr>\n",
       "      <th>Informal Anarchist Federation</th>\n",
       "      <td>0.00</td>\n",
       "    </tr>\n",
       "    <tr>\n",
       "      <th>Hekla Reception Committee-Initiative for More Social Eruptions</th>\n",
       "      <td>0.00</td>\n",
       "    </tr>\n",
       "    <tr>\n",
       "      <th>Communist Party of Nepal-Maoist (Baidya)</th>\n",
       "      <td>0.00</td>\n",
       "    </tr>\n",
       "    <tr>\n",
       "      <th>Communist Party of Nepal - Maoist (CPN-Maoist-Chand)</th>\n",
       "      <td>0.00</td>\n",
       "    </tr>\n",
       "    <tr>\n",
       "      <th>sub_weapontxt_Arson/Fire</th>\n",
       "      <td>0.00</td>\n",
       "    </tr>\n",
       "    <tr>\n",
       "      <th>Isulan</th>\n",
       "      <td>0.00</td>\n",
       "    </tr>\n",
       "    <tr>\n",
       "      <th>victim_nationalitytxt_Unknown</th>\n",
       "      <td>0.00</td>\n",
       "    </tr>\n",
       "    <tr>\n",
       "      <th>specific_target_Local Jewish Community Member</th>\n",
       "      <td>0.00</td>\n",
       "    </tr>\n",
       "    <tr>\n",
       "      <th>specific_target_Election Rally</th>\n",
       "      <td>0.00</td>\n",
       "    </tr>\n",
       "    <tr>\n",
       "      <th>corp1_Not Applicable</th>\n",
       "      <td>0.00</td>\n",
       "    </tr>\n",
       "    <tr>\n",
       "      <th>sub_targettxt_Unknown</th>\n",
       "      <td>0.00</td>\n",
       "    </tr>\n",
       "    <tr>\n",
       "      <th>attack_1txt_Facility/Infrastructure Attack</th>\n",
       "      <td>0.00</td>\n",
       "    </tr>\n",
       "    <tr>\n",
       "      <th>attack_1txt_Armed Assault</th>\n",
       "      <td>0.00</td>\n",
       "    </tr>\n",
       "    <tr>\n",
       "      <th>Maoists</th>\n",
       "      <td>0.00</td>\n",
       "    </tr>\n",
       "    <tr>\n",
       "      <th>Mexican Revolutionary Movement</th>\n",
       "      <td>0.00</td>\n",
       "    </tr>\n",
       "    <tr>\n",
       "      <th>Orly Organization</th>\n",
       "      <td>0.00</td>\n",
       "    </tr>\n",
       "    <tr>\n",
       "      <th>Pattani United Liberation Organization (PULO)</th>\n",
       "      <td>0.00</td>\n",
       "    </tr>\n",
       "    <tr>\n",
       "      <th>Imphal</th>\n",
       "      <td>0.00</td>\n",
       "    </tr>\n",
       "    <tr>\n",
       "      <th>Dhangadhi</th>\n",
       "      <td>0.00</td>\n",
       "    </tr>\n",
       "    <tr>\n",
       "      <th>Daraa</th>\n",
       "      <td>0.00</td>\n",
       "    </tr>\n",
       "    <tr>\n",
       "      <th>Brussels</th>\n",
       "      <td>0.00</td>\n",
       "    </tr>\n",
       "    <tr>\n",
       "      <th>Bihsud district</th>\n",
       "      <td>0.00</td>\n",
       "    </tr>\n",
       "    <tr>\n",
       "      <th>Ajdari</th>\n",
       "      <td>0.00</td>\n",
       "    </tr>\n",
       "    <tr>\n",
       "      <th>country_txt_Uruguay</th>\n",
       "      <td>0.00</td>\n",
       "    </tr>\n",
       "    <tr>\n",
       "      <th>The World United Formosans for Independence (WUFI)</th>\n",
       "      <td>0.00</td>\n",
       "    </tr>\n",
       "    <tr>\n",
       "      <th>The Extraditables</th>\n",
       "      <td>0.00</td>\n",
       "    </tr>\n",
       "    <tr>\n",
       "      <th>The 78 Unemployed</th>\n",
       "      <td>0.00</td>\n",
       "    </tr>\n",
       "    <tr>\n",
       "      <th>Supporters of Ernest Wamba dia Wamba</th>\n",
       "      <td>0.00</td>\n",
       "    </tr>\n",
       "    <tr>\n",
       "      <th>September 11</th>\n",
       "      <td>0.00</td>\n",
       "    </tr>\n",
       "    <tr>\n",
       "      <th>Scottish Socialist Republican League</th>\n",
       "      <td>0.00</td>\n",
       "    </tr>\n",
       "    <tr>\n",
       "      <th>Sabaot Land Defense Force (SLDF)</th>\n",
       "      <td>0.00</td>\n",
       "    </tr>\n",
       "    <tr>\n",
       "      <th>Riyadus-Salikhin Reconnaissance and Sabotage Battalion of Chechen Martyrs</th>\n",
       "      <td>0.00</td>\n",
       "    </tr>\n",
       "    <tr>\n",
       "      <th>two primate researchers, Patricia Fultz and Jiri Mestecky, at the University of Alabama at Birmingham</th>\n",
       "      <td>0.00</td>\n",
       "    </tr>\n",
       "  </tbody>\n",
       "</table>\n",
       "</div>"
      ],
      "text/plain": [
       "                                                    Importances\n",
       "0                                                              \n",
       "attack_1txt_Assassination                                  0.27\n",
       "target_1txt_Unknown                                        0.17\n",
       "attack_1txt_Bombing/Explosion                              0.07\n",
       "sub_weapontxt_Unknown Gun Type                             0.07\n",
       "sub_weapontxt_Other Explosive Type                         0.05\n",
       "sub_weapontxt_Letter Bomb                                  0.03\n",
       "The Justice Department                                     0.03\n",
       "victim_nationalitytxt_Nepal                                0.02\n",
       "Communist Party of Nepal (People's War Group)              0.02\n",
       "Unknown                                                    0.02\n",
       "NW_Indian_Groups                                           0.01\n",
       "Armed Commandos of Liberation                              0.01\n",
       "Town of El Doncello                                        0.01\n",
       "country_txt_Nepal                                          0.01\n",
       "Sunni_Cities                                               0.01\n",
       "Paris                                                      0.01\n",
       "Ordzhonikidzevskaya                                        0.01\n",
       "Nabalawag                                                  0.01\n",
       "Dublin                                                     0.01\n",
       "Hind Khel                                                  0.01\n",
       "Sirnoo                                                     0.01\n",
       "The target was a polling station.                          0.01\n",
       "Lawdar district                                            0.01\n",
       "attack_1txt_Hostage Taking (Kidnapping)                    0.01\n",
       "corp1_Indian Armed Forces                                  0.01\n",
       "corp1_Unified Communist Party of Nepal: Maoist ...         0.01\n",
       "sub_targettxt_Gov_Figure1                                  0.01\n",
       "target_1txt_Private Citizens & Property                    0.01\n",
       "target_1txt_Government (General)                           0.01\n",
       "specific_target_Internet Providers                         0.01\n",
       "specific_target_Unknown                                    0.01\n",
       "three researchers at the University of Californ...         0.00\n",
       "Mogadishu                                                  0.00\n",
       "trucking company in Arcata, California                     0.00\n",
       "A bus terminal                                             0.00\n",
       "Siraha district                                            0.00\n",
       "Los Angeles                                                0.00\n",
       "some researchers at the University of Minnesota...         0.00\n",
       "London                                                     0.00\n",
       "Split_Cities                                               0.00\n",
       "six researchers at the University of Washington...         0.00\n",
       "The Hague                                                  0.00\n",
       "Zinjibar                                                   0.00\n",
       "henry holguin cubillos, subdirector radio super...         0.00\n",
       "Bus Park                                                   0.00\n",
       "Railway Tracks                                             0.00\n",
       "researcher, Sarah Williams-Blangero, at the Sou...         0.00\n",
       "four researchers at the Tulane Regional Primate...         0.00\n",
       "Unknown                                                    0.00\n",
       "six researchers at Yerkes Regional Primate Rese...         0.00\n",
       "Kharan district                                            0.00\n",
       "Residence of Leader: Tajmir Khan                           0.00\n",
       "Local Jewish Community Member                              0.00\n",
       "home of Carlos Pestana Zevallos. transport and ...         0.00\n",
       "Judge                                                      0.00\n",
       "Internet Providers                                         0.00\n",
       "Election Rally                                             0.00\n",
       "Commander                                                  0.00\n",
       "Comm-Related                                               0.00\n",
       "Civilians                                                  0.00\n",
       "Chair: Pushpa Kamal Dahal Prachanda                        0.00\n",
       "Aguada                                                     0.00\n",
       "Jos                                                        0.00\n",
       "Black September                                            0.00\n",
       "Maoist Communist Party of Manipur                          0.00\n",
       "Left-Wing Militants                                        0.00\n",
       "Jihadi-inspired extremists                                 0.00\n",
       "Informal Anarchist Federation                              0.00\n",
       "Hekla Reception Committee-Initiative for More S...         0.00\n",
       "Communist Party of Nepal-Maoist (Baidya)                   0.00\n",
       "Communist Party of Nepal - Maoist (CPN-Maoist-C...         0.00\n",
       "sub_weapontxt_Arson/Fire                                   0.00\n",
       "Isulan                                                     0.00\n",
       "victim_nationalitytxt_Unknown                              0.00\n",
       "specific_target_Local Jewish Community Member              0.00\n",
       "specific_target_Election Rally                             0.00\n",
       "corp1_Not Applicable                                       0.00\n",
       "sub_targettxt_Unknown                                      0.00\n",
       "attack_1txt_Facility/Infrastructure Attack                 0.00\n",
       "attack_1txt_Armed Assault                                  0.00\n",
       "Maoists                                                    0.00\n",
       "Mexican Revolutionary Movement                             0.00\n",
       "Orly Organization                                          0.00\n",
       "Pattani United Liberation Organization (PULO)              0.00\n",
       "Imphal                                                     0.00\n",
       "Dhangadhi                                                  0.00\n",
       "Daraa                                                      0.00\n",
       "Brussels                                                   0.00\n",
       "Bihsud district                                            0.00\n",
       "Ajdari                                                     0.00\n",
       "country_txt_Uruguay                                        0.00\n",
       "The World United Formosans for Independence (WUFI)         0.00\n",
       "The Extraditables                                          0.00\n",
       "The 78 Unemployed                                          0.00\n",
       "Supporters of Ernest Wamba dia Wamba                       0.00\n",
       "September 11                                               0.00\n",
       "Scottish Socialist Republican League                       0.00\n",
       "Sabaot Land Defense Force (SLDF)                           0.00\n",
       "Riyadus-Salikhin Reconnaissance and Sabotage Ba...         0.00\n",
       "two primate researchers, Patricia Fultz and Jir...         0.00"
      ]
     },
     "metadata": {},
     "output_type": "display_data"
    }
   ],
   "source": [
    "print(\"\\nThe mean cross-validation score is: {:.2%} {}{:.2%}\".format(KBest_GBC_cv.mean(),\n",
    "                                                                     plusminus, KBest_GBC_cv.std()))\n",
    "print(\"The cv scores are: {}\".format(KBest_GBC_cv))\n",
    "\n",
    "conf_df = pd.DataFrame(KBest_GBC_confusion_train)\n",
    "\n",
    "FP = conf_df.loc[0, 1]\n",
    "FN = conf_df.loc[1, 0]\n",
    "NegT = conf_df.iloc[0].sum()\n",
    "PosT = conf_df.iloc[1].sum()\n",
    "\n",
    "print(\"\\nTraining-Set Metrics:\")\n",
    "print(conf_df)\n",
    "print('\\nFalse Positive/Type I Error: {} ({:.2%})'.format(FP, (FP / NegT)))\n",
    "print('False Negative/Type II Error: {} ({:.2%})'.format(FN, (FN / PosT)))\n",
    "print('Balanced Accuracy: {:.2%}\\n'.format(KBest_GBC_train))\n",
    "\n",
    "conf_df2 = pd.DataFrame(KBest_GBC_confusion_test)\n",
    "\n",
    "FP2 = conf_df2.loc[0, 1]\n",
    "FN2 = conf_df2.loc[1, 0]\n",
    "NegT2 = conf_df2.iloc[0].sum()\n",
    "PosT2 = conf_df2.iloc[1].sum()\n",
    "\n",
    "print(\"Test-Set Metrics:\")\n",
    "print(conf_df2)\n",
    "print('\\nFalse Positive/Type I Error: {} ({:.2%})'.format(FP2, (FP2 / NegT2)))\n",
    "print('False Negative/Type II Error: {} ({:.2%})'.format(FN2, (FN2 / PosT2)))\n",
    "print('Balanced Accuracy: {:.2%}'.format(KBest_GBC_test))\n",
    "\n",
    "print('\\n\\nFeature Importances:\\n')\n",
    "feat_imp = pd.DataFrame(KBest_GBC.feature_importances_.round(2), index = KBest_train_X.columns, \n",
    "                        columns = [\"Importances\"])\n",
    "display(feat_imp.sort_values('Importances', ascending = False))\n",
    "\n",
    "prelim_results = prelim_results.append({'Test B.A. Score': KBest_GBC_test, \n",
    "                                        'FP': FP2, \n",
    "                                        'FN': FN2, \n",
    "                                        'Mean CV Score': KBest_GBC_cv.mean(), \n",
    "                                        'CV Std': KBest_GBC_cv.std()}, ignore_index = True)"
   ]
  },
  {
   "cell_type": "code",
   "execution_count": 92,
   "metadata": {
    "slideshow": {
     "slide_type": "skip"
    }
   },
   "outputs": [
    {
     "data": {
      "text/plain": [
       "41"
      ]
     },
     "execution_count": 92,
     "metadata": {},
     "output_type": "execute_result"
    }
   ],
   "source": [
    "del KBest_GBC, KBest_GBC_train_pred_, KBest_GBC_test_pred_ , KBest_GBC_confusion_train\n",
    "del KBest_GBC_confusion_test, KBest_GBC_cv, KBest_GBC_train, KBest_GBC_test\n",
    "gc.collect()"
   ]
  },
  {
   "cell_type": "markdown",
   "metadata": {
    "slideshow": {
     "slide_type": "slide"
    }
   },
   "source": [
    "##### PCA Features"
   ]
  },
  {
   "cell_type": "code",
   "execution_count": 93,
   "metadata": {
    "slideshow": {
     "slide_type": "skip"
    }
   },
   "outputs": [],
   "source": [
    "PCA_GBC = GradientBoostingClassifier()\n",
    "\n",
    "PCA_GBC = PCA_GBC.fit(PCA_train_X, cyber_train_dummy_Y)\n",
    "PCA_GBC_train_pred_ = PCA_GBC.predict(PCA_train_X) \n",
    "PCA_GBC_test_pred_ = PCA_GBC.predict(PCA_test_X) \n",
    "\n",
    "# Evaluation:\n",
    "\n",
    "  # Confusion matrices:\n",
    "PCA_GBC_confusion_train = confusion_matrix(cyber_train_dummy_Y, PCA_GBC_train_pred_, labels = [0, 1])\n",
    "PCA_GBC_confusion_test = confusion_matrix(cyber_test_dummy_Y, PCA_GBC_test_pred_, labels = [0, 1])\n",
    "\n",
    "  # Cross_validation and train/test score:\n",
    "PCA_GBC_cv = cross_val_score(PCA_GBC, PCA_train_X, cyber_train_dummy_Y, \n",
    "                             scoring = 'balanced_accuracy', cv = 5)\n",
    "\n",
    "  # Looking at the F1/balanced accuracy scores:\n",
    "PCA_GBC_train = balanced_accuracy_score(cyber_train_dummy_Y, PCA_GBC_train_pred_)\n",
    "PCA_GBC_test = balanced_accuracy_score(cyber_test_dummy_Y, PCA_GBC_test_pred_)"
   ]
  },
  {
   "cell_type": "code",
   "execution_count": 94,
   "metadata": {
    "scrolled": true,
    "slideshow": {
     "slide_type": "slide"
    }
   },
   "outputs": [
    {
     "name": "stdout",
     "output_type": "stream",
     "text": [
      "\n",
      "The mean cross-validation score is: 60.26% ±0.75%\n",
      "The cv scores are: [0.61542241 0.59843395 0.60664683 0.59634383 0.59592014]\n",
      "\n",
      "Training-Set Metrics:\n",
      "     0     1\n",
      "0  283   662\n",
      "1   41  8921\n",
      "\n",
      "False Positive/Type I Error: 662 (70.05%)\n",
      "False Negative/Type II Error: 41 (0.46%)\n",
      "Balanced Accuracy: 64.74%\n",
      "\n",
      "Test-Set Metrics:\n",
      "    0     1\n",
      "0  44   168\n",
      "1  20  2051\n",
      "\n",
      "False Positive/Type I Error: 168 (79.25%)\n",
      "False Negative/Type II Error: 20 (0.97%)\n",
      "Balanced Accuracy: 59.89%\n"
     ]
    }
   ],
   "source": [
    "plusminus = u\"\\u00B1\"\n",
    "print(\"\\nThe mean cross-validation score is: {:.2%} {}{:.2%}\".format(PCA_GBC_cv.mean(),\n",
    "                                                                     plusminus, PCA_GBC_cv.std()))\n",
    "print(\"The cv scores are: {}\".format(PCA_GBC_cv))\n",
    "\n",
    "conf_df = pd.DataFrame(PCA_GBC_confusion_train)\n",
    "\n",
    "FP = conf_df.loc[0, 1]\n",
    "FN = conf_df.loc[1, 0]\n",
    "NegT = conf_df.iloc[0].sum()\n",
    "PosT = conf_df.iloc[1].sum()\n",
    "\n",
    "print(\"\\nTraining-Set Metrics:\")\n",
    "print(conf_df)\n",
    "print('\\nFalse Positive/Type I Error: {} ({:.2%})'.format(FP, (FP / NegT)))\n",
    "print('False Negative/Type II Error: {} ({:.2%})'.format(FN, (FN / PosT)))\n",
    "print('Balanced Accuracy: {:.2%}\\n'.format(PCA_GBC_train))\n",
    "\n",
    "conf_df2 = pd.DataFrame(PCA_GBC_confusion_test)\n",
    "\n",
    "FP2 = conf_df2.loc[0, 1]\n",
    "FN2 = conf_df2.loc[1, 0]\n",
    "NegT2 = conf_df2.iloc[0].sum()\n",
    "PosT2 = conf_df2.iloc[1].sum()\n",
    "\n",
    "print(\"Test-Set Metrics:\")\n",
    "print(conf_df2)\n",
    "print('\\nFalse Positive/Type I Error: {} ({:.2%})'.format(FP2, (FP2 / NegT2)))\n",
    "print('False Negative/Type II Error: {} ({:.2%})'.format(FN2, (FN2 / PosT2)))\n",
    "print('Balanced Accuracy: {:.2%}'.format(PCA_GBC_test))\n",
    "\n",
    "prelim_results = prelim_results.append({'Test B.A. Score': PCA_GBC_test, \n",
    "                                        'FP': FP2, \n",
    "                                        'FN': FN2, \n",
    "                                        'Mean CV Score': PCA_GBC_cv.mean(), \n",
    "                                        'CV Std': PCA_GBC_cv.std()}, ignore_index = True)"
   ]
  },
  {
   "cell_type": "code",
   "execution_count": 95,
   "metadata": {
    "slideshow": {
     "slide_type": "skip"
    }
   },
   "outputs": [
    {
     "data": {
      "text/plain": [
       "34"
      ]
     },
     "execution_count": 95,
     "metadata": {},
     "output_type": "execute_result"
    }
   ],
   "source": [
    "del PCA_GBC, PCA_GBC_train_pred_, PCA_GBC_test_pred_ , PCA_GBC_confusion_train\n",
    "del PCA_GBC_confusion_test, PCA_GBC_cv, PCA_GBC_train, PCA_GBC_test\n",
    "gc.collect()"
   ]
  },
  {
   "cell_type": "markdown",
   "metadata": {
    "slideshow": {
     "slide_type": "slide"
    },
    "variables": {
     "prelim_results": "<div>\n<style scoped>\n    .dataframe tbody tr th:only-of-type {\n        vertical-align: middle;\n    }\n\n    .dataframe tbody tr th {\n        vertical-align: top;\n    }\n\n    .dataframe thead th {\n        text-align: right;\n    }\n</style>\n<table border=\"1\" class=\"dataframe\">\n  <thead>\n    <tr style=\"text-align: right;\">\n      <th></th>\n      <th>Test B.A. Score</th>\n      <th>FP</th>\n      <th>FN</th>\n      <th>Mean CV Score</th>\n      <th>CV Std</th>\n    </tr>\n  </thead>\n  <tbody>\n    <tr>\n      <th>0</th>\n      <td>0.564348</td>\n      <td>184.0</td>\n      <td>7.0</td>\n      <td>0.573343</td>\n      <td>0.007393</td>\n    </tr>\n    <tr>\n      <th>1</th>\n      <td>0.551107</td>\n      <td>189.0</td>\n      <td>13.0</td>\n      <td>0.556829</td>\n      <td>0.005586</td>\n    </tr>\n    <tr>\n      <th>2</th>\n      <td>0.528060</td>\n      <td>200.0</td>\n      <td>1.0</td>\n      <td>0.560620</td>\n      <td>0.005684</td>\n    </tr>\n    <tr>\n      <th>3</th>\n      <td>0.633375</td>\n      <td>149.0</td>\n      <td>63.0</td>\n      <td>0.641248</td>\n      <td>0.017357</td>\n    </tr>\n    <tr>\n      <th>4</th>\n      <td>0.500000</td>\n      <td>212.0</td>\n      <td>0.0</td>\n      <td>0.500000</td>\n      <td>0.000000</td>\n    </tr>\n    <tr>\n      <th>5</th>\n      <td>0.500000</td>\n      <td>212.0</td>\n      <td>0.0</td>\n      <td>0.500000</td>\n      <td>0.000000</td>\n    </tr>\n    <tr>\n      <th>6</th>\n      <td>0.571182</td>\n      <td>181.0</td>\n      <td>8.0</td>\n      <td>0.578078</td>\n      <td>0.017042</td>\n    </tr>\n    <tr>\n      <th>7</th>\n      <td>0.598945</td>\n      <td>168.0</td>\n      <td>20.0</td>\n      <td>0.602553</td>\n      <td>0.007509</td>\n    </tr>\n  </tbody>\n</table>\n</div>"
    }
   },
   "source": [
    "#### Summary of First Models:\n",
    "\n",
    "> Based on these preliminary results, we were able to get relatively similar results from nearly all models, but it looks like our Random Forest Classifier did best (with the Support Vector Classifier coming in at a close second). In addition, the Random Forest model did best with the KBest feature-set. We will try and focus on the Random Forest model with our next phase and tune the parameters to see if we can optimize those results.  \n",
    "\n",
    "> Results Table:\n",
    "\n",
    "{{prelim_results}}\n",
    "\n",
    "> Now onto tuning our model!"
   ]
  },
  {
   "cell_type": "code",
   "execution_count": 96,
   "metadata": {
    "slideshow": {
     "slide_type": "skip"
    }
   },
   "outputs": [
    {
     "data": {
      "text/plain": [
       "42"
      ]
     },
     "execution_count": 96,
     "metadata": {},
     "output_type": "execute_result"
    }
   ],
   "source": [
    "del PCA_spec_targ, PCA_name, PCA_cities, PCA_1, KBest_spec_targ, KBest_names, conf_df, conf_df2\n",
    "del KBest_city, KBest_1, city_mask, feature_mask, names_mask, spec_targ_mask, feature_selection\n",
    "del KBest_spec_targ_features, KBest_city_features, KBest_names_features, KBest_1_features\n",
    "del spec_targ_test_index, city_test_dummy_Y, names_test_dummy_Y, spec_targ_test_dummy_Y, spec_targ_test_dummy_X\n",
    "del X_test_start_index, city_test_index, names_test_index, spec_targ_train_index, city_train_dummy_Y\n",
    "del names_train_dummy_Y, spec_targ_train_dummy_Y, spec_targ_train_dummy_X, city_train_index, names_train_index\n",
    "del names_test_dummy_X, names_train_X, city_train_X, spec_targ_train_X, names_test_X, city_test_X, spec_targ_test_X\n",
    "del PosT2, PosT, names_train_dummy_X, city_test_dummy_X, city_train_dummy_X\n",
    "gc.collect()"
   ]
  },
  {
   "cell_type": "code",
   "execution_count": 97,
   "metadata": {
    "scrolled": true,
    "slideshow": {
     "slide_type": "skip"
    }
   },
   "outputs": [],
   "source": [
    "\n",
    "# These are the usual ipython objects, including this one you are creating\n",
    "ipython_vars = ['In', 'Out', 'exit', 'quit', 'get_ipython', 'ipython_vars']\n",
    "\n",
    "# Get a sorted list of the objects and their sizes\n",
    "\n",
    "cleaner = sorted([(x, sys.getsizeof(globals().get(x))) for x in dir() if not x.startswith('_') and x not in sys.modules and x not in ipython_vars], key=lambda x: x[1], reverse=True)\n"
   ]
  },
  {
   "cell_type": "markdown",
   "metadata": {
    "slideshow": {
     "slide_type": "slide"
    }
   },
   "source": [
    "### 5. Improving our Scores:\n",
    "\n",
    "#### A. Investigating the Data Itself:\n",
    "\n"
   ]
  },
  {
   "cell_type": "code",
   "execution_count": 98,
   "metadata": {
    "slideshow": {
     "slide_type": "skip"
    }
   },
   "outputs": [],
   "source": [
    "def RF_KBest_Eval():   \n",
    "    print(\"\\nThe mean cross-validation score is: {:.2%} {}{:.2%}\".format(KBest_forest_cv.mean(),\n",
    "                                                                         plusminus, KBest_forest_cv.std()))\n",
    "    print(\"The cv scores are: {}\".format(KBest_forest_cv))\n",
    "\n",
    "    conf_df = pd.DataFrame(KBest_forest_confusion_train)\n",
    "\n",
    "    FP = conf_df.loc[0, 1]\n",
    "    FN = conf_df.loc[1, 0]\n",
    "    NegT = conf_df.iloc[0].sum()\n",
    "    PosT = conf_df.iloc[1].sum()\n",
    "\n",
    "    print(\"\\nTraining-Set Metrics:\")\n",
    "    print(conf_df)\n",
    "    print('\\nFalse Positive/Type I Error: {} ({:.2%})'.format(FP, (FP / NegT)))\n",
    "    print('False Negative/Type II Error: {} ({:.2%})'.format(FN, (FN / PosT)))\n",
    "    print('Balanced Accuracy: {:.2%}\\n'.format(KBest_forest_train))\n",
    "\n",
    "    conf_df2 = pd.DataFrame(KBest_forest_confusion_test)\n",
    "\n",
    "    FP2 = conf_df2.loc[0, 1]\n",
    "    FN2 = conf_df2.loc[1, 0]\n",
    "    NegT2 = conf_df2.iloc[0].sum()\n",
    "    PosT2 = conf_df2.iloc[1].sum()\n",
    "\n",
    "    print(\"Test-Set Metrics:\")\n",
    "    print(conf_df2)\n",
    "    print('\\nFalse Positive/Type I Error: {} ({:.2%})'.format(FP2, (FP2 / NegT2)))\n",
    "    print('False Negative/Type II Error: {} ({:.2%})'.format(FN2, (FN2 / PosT2)))\n",
    "    print('Balanced Accuracy: {:.2%}'.format(KBest_forest_test))\n",
    "\n",
    "    print('\\n\\nFeature Importances:\\n')\n",
    "    feat_imp = pd.DataFrame(KBest_forest.feature_importances_.round(2), index = KBest_train_X.columns, \n",
    "                            columns = [\"Importances\"])\n",
    "    display(feat_imp.sort_values('Importances', ascending = False))"
   ]
  },
  {
   "cell_type": "code",
   "execution_count": 99,
   "metadata": {
    "slideshow": {
     "slide_type": "fragment"
    }
   },
   "outputs": [
    {
     "name": "stdout",
     "output_type": "stream",
     "text": [
      "\n",
      "The mean cross-validation score is: 56.06% ±0.57%\n",
      "The cv scores are: [0.55889453 0.56808222 0.55123595 0.56446346 0.56042287]\n",
      "\n",
      "Training-Set Metrics:\n",
      "     0     1\n",
      "0  144   801\n",
      "1   19  8943\n",
      "\n",
      "False Positive/Type I Error: 801 (84.76%)\n",
      "False Negative/Type II Error: 19 (0.21%)\n",
      "Balanced Accuracy: 57.51%\n",
      "\n",
      "Test-Set Metrics:\n",
      "    0     1\n",
      "0  12   200\n",
      "1   1  2070\n",
      "\n",
      "False Positive/Type I Error: 200 (94.34%)\n",
      "False Negative/Type II Error: 1 (0.05%)\n",
      "Balanced Accuracy: 52.81%\n",
      "\n",
      "\n",
      "Feature Importances:\n",
      "\n"
     ]
    },
    {
     "data": {
      "text/html": [
       "<div>\n",
       "<style scoped>\n",
       "    .dataframe tbody tr th:only-of-type {\n",
       "        vertical-align: middle;\n",
       "    }\n",
       "\n",
       "    .dataframe tbody tr th {\n",
       "        vertical-align: top;\n",
       "    }\n",
       "\n",
       "    .dataframe thead th {\n",
       "        text-align: right;\n",
       "    }\n",
       "</style>\n",
       "<table border=\"1\" class=\"dataframe\">\n",
       "  <thead>\n",
       "    <tr style=\"text-align: right;\">\n",
       "      <th></th>\n",
       "      <th>Importances</th>\n",
       "    </tr>\n",
       "    <tr>\n",
       "      <th>0</th>\n",
       "      <th></th>\n",
       "    </tr>\n",
       "  </thead>\n",
       "  <tbody>\n",
       "    <tr>\n",
       "      <th>attack_1txt_Assassination</th>\n",
       "      <td>0.21</td>\n",
       "    </tr>\n",
       "    <tr>\n",
       "      <th>target_1txt_Unknown</th>\n",
       "      <td>0.08</td>\n",
       "    </tr>\n",
       "    <tr>\n",
       "      <th>sub_weapontxt_Other Explosive Type</th>\n",
       "      <td>0.05</td>\n",
       "    </tr>\n",
       "    <tr>\n",
       "      <th>sub_weapontxt_Unknown Gun Type</th>\n",
       "      <td>0.04</td>\n",
       "    </tr>\n",
       "    <tr>\n",
       "      <th>attack_1txt_Bombing/Explosion</th>\n",
       "      <td>0.04</td>\n",
       "    </tr>\n",
       "    <tr>\n",
       "      <th>sub_targettxt_Unknown</th>\n",
       "      <td>0.04</td>\n",
       "    </tr>\n",
       "    <tr>\n",
       "      <th>Unknown</th>\n",
       "      <td>0.03</td>\n",
       "    </tr>\n",
       "    <tr>\n",
       "      <th>attack_1txt_Hostage Taking (Kidnapping)</th>\n",
       "      <td>0.03</td>\n",
       "    </tr>\n",
       "    <tr>\n",
       "      <th>Unknown</th>\n",
       "      <td>0.02</td>\n",
       "    </tr>\n",
       "    <tr>\n",
       "      <th>sub_weapontxt_Letter Bomb</th>\n",
       "      <td>0.02</td>\n",
       "    </tr>\n",
       "    <tr>\n",
       "      <th>victim_nationalitytxt_Nepal</th>\n",
       "      <td>0.02</td>\n",
       "    </tr>\n",
       "    <tr>\n",
       "      <th>specific_target_Unknown</th>\n",
       "      <td>0.02</td>\n",
       "    </tr>\n",
       "    <tr>\n",
       "      <th>Communist Party of Nepal - Maoist (CPN-Maoist-Chand)</th>\n",
       "      <td>0.02</td>\n",
       "    </tr>\n",
       "    <tr>\n",
       "      <th>sub_targettxt_Gov_Figure1</th>\n",
       "      <td>0.02</td>\n",
       "    </tr>\n",
       "    <tr>\n",
       "      <th>target_1txt_Private Citizens &amp; Property</th>\n",
       "      <td>0.02</td>\n",
       "    </tr>\n",
       "    <tr>\n",
       "      <th>target_1txt_Government (General)</th>\n",
       "      <td>0.02</td>\n",
       "    </tr>\n",
       "    <tr>\n",
       "      <th>attack_1txt_Armed Assault</th>\n",
       "      <td>0.02</td>\n",
       "    </tr>\n",
       "    <tr>\n",
       "      <th>Communist Party of Nepal (People's War Group)</th>\n",
       "      <td>0.01</td>\n",
       "    </tr>\n",
       "    <tr>\n",
       "      <th>Local Jewish Community Member</th>\n",
       "      <td>0.01</td>\n",
       "    </tr>\n",
       "    <tr>\n",
       "      <th>NW_Indian_Groups</th>\n",
       "      <td>0.01</td>\n",
       "    </tr>\n",
       "    <tr>\n",
       "      <th>Maoists</th>\n",
       "      <td>0.01</td>\n",
       "    </tr>\n",
       "    <tr>\n",
       "      <th>Sunni_Cities</th>\n",
       "      <td>0.01</td>\n",
       "    </tr>\n",
       "    <tr>\n",
       "      <th>Split_Cities</th>\n",
       "      <td>0.01</td>\n",
       "    </tr>\n",
       "    <tr>\n",
       "      <th>Jos</th>\n",
       "      <td>0.01</td>\n",
       "    </tr>\n",
       "    <tr>\n",
       "      <th>Internet Providers</th>\n",
       "      <td>0.01</td>\n",
       "    </tr>\n",
       "    <tr>\n",
       "      <th>Communist Party of Nepal-Maoist (Baidya)</th>\n",
       "      <td>0.01</td>\n",
       "    </tr>\n",
       "    <tr>\n",
       "      <th>The target was a polling station.</th>\n",
       "      <td>0.01</td>\n",
       "    </tr>\n",
       "    <tr>\n",
       "      <th>country_txt_Nepal</th>\n",
       "      <td>0.01</td>\n",
       "    </tr>\n",
       "    <tr>\n",
       "      <th>Black September</th>\n",
       "      <td>0.01</td>\n",
       "    </tr>\n",
       "    <tr>\n",
       "      <th>Paris</th>\n",
       "      <td>0.01</td>\n",
       "    </tr>\n",
       "    <tr>\n",
       "      <th>attack_1txt_Facility/Infrastructure Attack</th>\n",
       "      <td>0.01</td>\n",
       "    </tr>\n",
       "    <tr>\n",
       "      <th>corp1_Indian Armed Forces</th>\n",
       "      <td>0.01</td>\n",
       "    </tr>\n",
       "    <tr>\n",
       "      <th>corp1_Not Applicable</th>\n",
       "      <td>0.01</td>\n",
       "    </tr>\n",
       "    <tr>\n",
       "      <th>corp1_Unified Communist Party of Nepal: Maoist (UCPN-M)</th>\n",
       "      <td>0.01</td>\n",
       "    </tr>\n",
       "    <tr>\n",
       "      <th>specific_target_Local Jewish Community Member</th>\n",
       "      <td>0.01</td>\n",
       "    </tr>\n",
       "    <tr>\n",
       "      <th>victim_nationalitytxt_Unknown</th>\n",
       "      <td>0.01</td>\n",
       "    </tr>\n",
       "    <tr>\n",
       "      <th>sub_weapontxt_Arson/Fire</th>\n",
       "      <td>0.01</td>\n",
       "    </tr>\n",
       "    <tr>\n",
       "      <th>The Justice Department</th>\n",
       "      <td>0.01</td>\n",
       "    </tr>\n",
       "    <tr>\n",
       "      <th>The Hague</th>\n",
       "      <td>0.00</td>\n",
       "    </tr>\n",
       "    <tr>\n",
       "      <th>Zinjibar</th>\n",
       "      <td>0.00</td>\n",
       "    </tr>\n",
       "    <tr>\n",
       "      <th>Ordzhonikidzevskaya</th>\n",
       "      <td>0.00</td>\n",
       "    </tr>\n",
       "    <tr>\n",
       "      <th>Siraha district</th>\n",
       "      <td>0.00</td>\n",
       "    </tr>\n",
       "    <tr>\n",
       "      <th>A bus terminal</th>\n",
       "      <td>0.00</td>\n",
       "    </tr>\n",
       "    <tr>\n",
       "      <th>Bus Park</th>\n",
       "      <td>0.00</td>\n",
       "    </tr>\n",
       "    <tr>\n",
       "      <th>Chair: Pushpa Kamal Dahal Prachanda</th>\n",
       "      <td>0.00</td>\n",
       "    </tr>\n",
       "    <tr>\n",
       "      <th>Sirnoo</th>\n",
       "      <td>0.00</td>\n",
       "    </tr>\n",
       "    <tr>\n",
       "      <th>Civilians</th>\n",
       "      <td>0.00</td>\n",
       "    </tr>\n",
       "    <tr>\n",
       "      <th>Comm-Related</th>\n",
       "      <td>0.00</td>\n",
       "    </tr>\n",
       "    <tr>\n",
       "      <th>researcher, Sarah Williams-Blangero, at the Southwest Foundation for Biomedical Research in San Antonio, TX</th>\n",
       "      <td>0.00</td>\n",
       "    </tr>\n",
       "    <tr>\n",
       "      <th>Commander</th>\n",
       "      <td>0.00</td>\n",
       "    </tr>\n",
       "    <tr>\n",
       "      <th>Election Rally</th>\n",
       "      <td>0.00</td>\n",
       "    </tr>\n",
       "    <tr>\n",
       "      <th>Judge</th>\n",
       "      <td>0.00</td>\n",
       "    </tr>\n",
       "    <tr>\n",
       "      <th>Railway Tracks</th>\n",
       "      <td>0.00</td>\n",
       "    </tr>\n",
       "    <tr>\n",
       "      <th>Residence of Leader: Tajmir Khan</th>\n",
       "      <td>0.00</td>\n",
       "    </tr>\n",
       "    <tr>\n",
       "      <th>Town of El Doncello</th>\n",
       "      <td>0.00</td>\n",
       "    </tr>\n",
       "    <tr>\n",
       "      <th>four researchers at the Tulane Regional Primate Research Center at Tulane University in Louisiana, including Director of the Center, Peter Gerone</th>\n",
       "      <td>0.00</td>\n",
       "    </tr>\n",
       "    <tr>\n",
       "      <th>henry holguin cubillos, subdirector radio supernoticias</th>\n",
       "      <td>0.00</td>\n",
       "    </tr>\n",
       "    <tr>\n",
       "      <th>home of Carlos Pestana Zevallos. transport and communication minister*</th>\n",
       "      <td>0.00</td>\n",
       "    </tr>\n",
       "    <tr>\n",
       "      <th>Mogadishu</th>\n",
       "      <td>0.00</td>\n",
       "    </tr>\n",
       "    <tr>\n",
       "      <th>six researchers at Yerkes Regional Primate Research Center at Emory University in Atlanta, GA</th>\n",
       "      <td>0.00</td>\n",
       "    </tr>\n",
       "    <tr>\n",
       "      <th>six researchers at the University of Washington in Seattle, WA</th>\n",
       "      <td>0.00</td>\n",
       "    </tr>\n",
       "    <tr>\n",
       "      <th>some researchers at the University of Minnesota in Minneapolis, MN</th>\n",
       "      <td>0.00</td>\n",
       "    </tr>\n",
       "    <tr>\n",
       "      <th>three researchers at the University of California-Davis</th>\n",
       "      <td>0.00</td>\n",
       "    </tr>\n",
       "    <tr>\n",
       "      <th>trucking company in Arcata, California</th>\n",
       "      <td>0.00</td>\n",
       "    </tr>\n",
       "    <tr>\n",
       "      <th>Nabalawag</th>\n",
       "      <td>0.00</td>\n",
       "    </tr>\n",
       "    <tr>\n",
       "      <th>Aguada</th>\n",
       "      <td>0.00</td>\n",
       "    </tr>\n",
       "    <tr>\n",
       "      <th>Los Angeles</th>\n",
       "      <td>0.00</td>\n",
       "    </tr>\n",
       "    <tr>\n",
       "      <th>Maoist Communist Party of Manipur</th>\n",
       "      <td>0.00</td>\n",
       "    </tr>\n",
       "    <tr>\n",
       "      <th>Scottish Socialist Republican League</th>\n",
       "      <td>0.00</td>\n",
       "    </tr>\n",
       "    <tr>\n",
       "      <th>Sabaot Land Defense Force (SLDF)</th>\n",
       "      <td>0.00</td>\n",
       "    </tr>\n",
       "    <tr>\n",
       "      <th>Riyadus-Salikhin Reconnaissance and Sabotage Battalion of Chechen Martyrs</th>\n",
       "      <td>0.00</td>\n",
       "    </tr>\n",
       "    <tr>\n",
       "      <th>Pattani United Liberation Organization (PULO)</th>\n",
       "      <td>0.00</td>\n",
       "    </tr>\n",
       "    <tr>\n",
       "      <th>Orly Organization</th>\n",
       "      <td>0.00</td>\n",
       "    </tr>\n",
       "    <tr>\n",
       "      <th>Mexican Revolutionary Movement</th>\n",
       "      <td>0.00</td>\n",
       "    </tr>\n",
       "    <tr>\n",
       "      <th>Left-Wing Militants</th>\n",
       "      <td>0.00</td>\n",
       "    </tr>\n",
       "    <tr>\n",
       "      <th>London</th>\n",
       "      <td>0.00</td>\n",
       "    </tr>\n",
       "    <tr>\n",
       "      <th>Jihadi-inspired extremists</th>\n",
       "      <td>0.00</td>\n",
       "    </tr>\n",
       "    <tr>\n",
       "      <th>Informal Anarchist Federation</th>\n",
       "      <td>0.00</td>\n",
       "    </tr>\n",
       "    <tr>\n",
       "      <th>Hekla Reception Committee-Initiative for More Social Eruptions</th>\n",
       "      <td>0.00</td>\n",
       "    </tr>\n",
       "    <tr>\n",
       "      <th>Armed Commandos of Liberation</th>\n",
       "      <td>0.00</td>\n",
       "    </tr>\n",
       "    <tr>\n",
       "      <th>specific_target_Internet Providers</th>\n",
       "      <td>0.00</td>\n",
       "    </tr>\n",
       "    <tr>\n",
       "      <th>specific_target_Election Rally</th>\n",
       "      <td>0.00</td>\n",
       "    </tr>\n",
       "    <tr>\n",
       "      <th>September 11</th>\n",
       "      <td>0.00</td>\n",
       "    </tr>\n",
       "    <tr>\n",
       "      <th>Supporters of Ernest Wamba dia Wamba</th>\n",
       "      <td>0.00</td>\n",
       "    </tr>\n",
       "    <tr>\n",
       "      <th>The 78 Unemployed</th>\n",
       "      <td>0.00</td>\n",
       "    </tr>\n",
       "    <tr>\n",
       "      <th>The Extraditables</th>\n",
       "      <td>0.00</td>\n",
       "    </tr>\n",
       "    <tr>\n",
       "      <th>The World United Formosans for Independence (WUFI)</th>\n",
       "      <td>0.00</td>\n",
       "    </tr>\n",
       "    <tr>\n",
       "      <th>country_txt_Uruguay</th>\n",
       "      <td>0.00</td>\n",
       "    </tr>\n",
       "    <tr>\n",
       "      <th>Ajdari</th>\n",
       "      <td>0.00</td>\n",
       "    </tr>\n",
       "    <tr>\n",
       "      <th>Bihsud district</th>\n",
       "      <td>0.00</td>\n",
       "    </tr>\n",
       "    <tr>\n",
       "      <th>Brussels</th>\n",
       "      <td>0.00</td>\n",
       "    </tr>\n",
       "    <tr>\n",
       "      <th>Daraa</th>\n",
       "      <td>0.00</td>\n",
       "    </tr>\n",
       "    <tr>\n",
       "      <th>Dhangadhi</th>\n",
       "      <td>0.00</td>\n",
       "    </tr>\n",
       "    <tr>\n",
       "      <th>Dublin</th>\n",
       "      <td>0.00</td>\n",
       "    </tr>\n",
       "    <tr>\n",
       "      <th>Hind Khel</th>\n",
       "      <td>0.00</td>\n",
       "    </tr>\n",
       "    <tr>\n",
       "      <th>Imphal</th>\n",
       "      <td>0.00</td>\n",
       "    </tr>\n",
       "    <tr>\n",
       "      <th>Isulan</th>\n",
       "      <td>0.00</td>\n",
       "    </tr>\n",
       "    <tr>\n",
       "      <th>Kharan district</th>\n",
       "      <td>0.00</td>\n",
       "    </tr>\n",
       "    <tr>\n",
       "      <th>Lawdar district</th>\n",
       "      <td>0.00</td>\n",
       "    </tr>\n",
       "    <tr>\n",
       "      <th>two primate researchers, Patricia Fultz and Jiri Mestecky, at the University of Alabama at Birmingham</th>\n",
       "      <td>0.00</td>\n",
       "    </tr>\n",
       "  </tbody>\n",
       "</table>\n",
       "</div>"
      ],
      "text/plain": [
       "                                                    Importances\n",
       "0                                                              \n",
       "attack_1txt_Assassination                                  0.21\n",
       "target_1txt_Unknown                                        0.08\n",
       "sub_weapontxt_Other Explosive Type                         0.05\n",
       "sub_weapontxt_Unknown Gun Type                             0.04\n",
       "attack_1txt_Bombing/Explosion                              0.04\n",
       "sub_targettxt_Unknown                                      0.04\n",
       "Unknown                                                    0.03\n",
       "attack_1txt_Hostage Taking (Kidnapping)                    0.03\n",
       "Unknown                                                    0.02\n",
       "sub_weapontxt_Letter Bomb                                  0.02\n",
       "victim_nationalitytxt_Nepal                                0.02\n",
       "specific_target_Unknown                                    0.02\n",
       "Communist Party of Nepal - Maoist (CPN-Maoist-C...         0.02\n",
       "sub_targettxt_Gov_Figure1                                  0.02\n",
       "target_1txt_Private Citizens & Property                    0.02\n",
       "target_1txt_Government (General)                           0.02\n",
       "attack_1txt_Armed Assault                                  0.02\n",
       "Communist Party of Nepal (People's War Group)              0.01\n",
       "Local Jewish Community Member                              0.01\n",
       "NW_Indian_Groups                                           0.01\n",
       "Maoists                                                    0.01\n",
       "Sunni_Cities                                               0.01\n",
       "Split_Cities                                               0.01\n",
       "Jos                                                        0.01\n",
       "Internet Providers                                         0.01\n",
       "Communist Party of Nepal-Maoist (Baidya)                   0.01\n",
       "The target was a polling station.                          0.01\n",
       "country_txt_Nepal                                          0.01\n",
       "Black September                                            0.01\n",
       "Paris                                                      0.01\n",
       "attack_1txt_Facility/Infrastructure Attack                 0.01\n",
       "corp1_Indian Armed Forces                                  0.01\n",
       "corp1_Not Applicable                                       0.01\n",
       "corp1_Unified Communist Party of Nepal: Maoist ...         0.01\n",
       "specific_target_Local Jewish Community Member              0.01\n",
       "victim_nationalitytxt_Unknown                              0.01\n",
       "sub_weapontxt_Arson/Fire                                   0.01\n",
       "The Justice Department                                     0.01\n",
       "The Hague                                                  0.00\n",
       "Zinjibar                                                   0.00\n",
       "Ordzhonikidzevskaya                                        0.00\n",
       "Siraha district                                            0.00\n",
       "A bus terminal                                             0.00\n",
       "Bus Park                                                   0.00\n",
       "Chair: Pushpa Kamal Dahal Prachanda                        0.00\n",
       "Sirnoo                                                     0.00\n",
       "Civilians                                                  0.00\n",
       "Comm-Related                                               0.00\n",
       "researcher, Sarah Williams-Blangero, at the Sou...         0.00\n",
       "Commander                                                  0.00\n",
       "Election Rally                                             0.00\n",
       "Judge                                                      0.00\n",
       "Railway Tracks                                             0.00\n",
       "Residence of Leader: Tajmir Khan                           0.00\n",
       "Town of El Doncello                                        0.00\n",
       "four researchers at the Tulane Regional Primate...         0.00\n",
       "henry holguin cubillos, subdirector radio super...         0.00\n",
       "home of Carlos Pestana Zevallos. transport and ...         0.00\n",
       "Mogadishu                                                  0.00\n",
       "six researchers at Yerkes Regional Primate Rese...         0.00\n",
       "six researchers at the University of Washington...         0.00\n",
       "some researchers at the University of Minnesota...         0.00\n",
       "three researchers at the University of Californ...         0.00\n",
       "trucking company in Arcata, California                     0.00\n",
       "Nabalawag                                                  0.00\n",
       "Aguada                                                     0.00\n",
       "Los Angeles                                                0.00\n",
       "Maoist Communist Party of Manipur                          0.00\n",
       "Scottish Socialist Republican League                       0.00\n",
       "Sabaot Land Defense Force (SLDF)                           0.00\n",
       "Riyadus-Salikhin Reconnaissance and Sabotage Ba...         0.00\n",
       "Pattani United Liberation Organization (PULO)              0.00\n",
       "Orly Organization                                          0.00\n",
       "Mexican Revolutionary Movement                             0.00\n",
       "Left-Wing Militants                                        0.00\n",
       "London                                                     0.00\n",
       "Jihadi-inspired extremists                                 0.00\n",
       "Informal Anarchist Federation                              0.00\n",
       "Hekla Reception Committee-Initiative for More S...         0.00\n",
       "Armed Commandos of Liberation                              0.00\n",
       "specific_target_Internet Providers                         0.00\n",
       "specific_target_Election Rally                             0.00\n",
       "September 11                                               0.00\n",
       "Supporters of Ernest Wamba dia Wamba                       0.00\n",
       "The 78 Unemployed                                          0.00\n",
       "The Extraditables                                          0.00\n",
       "The World United Formosans for Independence (WUFI)         0.00\n",
       "country_txt_Uruguay                                        0.00\n",
       "Ajdari                                                     0.00\n",
       "Bihsud district                                            0.00\n",
       "Brussels                                                   0.00\n",
       "Daraa                                                      0.00\n",
       "Dhangadhi                                                  0.00\n",
       "Dublin                                                     0.00\n",
       "Hind Khel                                                  0.00\n",
       "Imphal                                                     0.00\n",
       "Isulan                                                     0.00\n",
       "Kharan district                                            0.00\n",
       "Lawdar district                                            0.00\n",
       "two primate researchers, Patricia Fultz and Jir...         0.00"
      ]
     },
     "metadata": {},
     "output_type": "display_data"
    }
   ],
   "source": [
    "RF_KBest_Eval()"
   ]
  },
  {
   "cell_type": "code",
   "execution_count": 100,
   "metadata": {
    "slideshow": {
     "slide_type": "skip"
    }
   },
   "outputs": [],
   "source": [
    "# our comm-related df:\n",
    "comms = cyber_data.loc[cyber_data['specific_target'] == 'Comm-Related']\n",
    "\n",
    "# Isolating Assassination instances (in our visualization dataframe so we can look at how our outcome variable\n",
    "# correlates with them):\n",
    "attacks_as = cyber_train_X.loc[cyber_train_X['attack_1txt'] == 'Assassination']\n",
    "\n",
    "  # Retrieving our 'success' columns for comparison:\n",
    "success_mask = cyber_train_Y.index.map(lambda x: x in attacks_as.index)\n",
    "s_col = cyber_train_Y[success_mask]\n",
    "attacks_as['success'] = s_col['success']\n",
    "attacks_success = pd.DataFrame(attacks_as.success.value_counts())\n",
    " \n",
    " ## Locating the successful instances:\n",
    "success_as = attacks_as.loc[attacks_as['success'] == 1]\n",
    "fails_as = attacks_as.loc[attacks_as['success'] == 0]\n"
   ]
  },
  {
   "cell_type": "markdown",
   "metadata": {
    "slideshow": {
     "slide_type": "subslide"
    },
    "variables": {
     "attacks_success": "<div>\n<style scoped>\n    .dataframe tbody tr th:only-of-type {\n        vertical-align: middle;\n    }\n\n    .dataframe tbody tr th {\n        vertical-align: top;\n    }\n\n    .dataframe thead th {\n        text-align: right;\n    }\n</style>\n<table border=\"1\" class=\"dataframe\">\n  <thead>\n    <tr style=\"text-align: right;\">\n      <th></th>\n      <th>success</th>\n    </tr>\n  </thead>\n  <tbody>\n    <tr>\n      <th>1</th>\n      <td>601</td>\n    </tr>\n    <tr>\n      <th>0</th>\n      <td>307</td>\n    </tr>\n  </tbody>\n</table>\n</div>",
     "pd.DataFrame(cyber_data.success.value_counts())": "<div>\n<style scoped>\n    .dataframe tbody tr th:only-of-type {\n        vertical-align: middle;\n    }\n\n    .dataframe tbody tr th {\n        vertical-align: top;\n    }\n\n    .dataframe thead th {\n        text-align: right;\n    }\n</style>\n<table border=\"1\" class=\"dataframe\">\n  <thead>\n    <tr style=\"text-align: right;\">\n      <th></th>\n      <th>success</th>\n    </tr>\n  </thead>\n  <tbody>\n    <tr>\n      <th>1</th>\n      <td>11994</td>\n    </tr>\n    <tr>\n      <th>0</th>\n      <td>1261</td>\n    </tr>\n  </tbody>\n</table>\n</div>"
    }
   },
   "source": [
    "Now that we've seen what our preliminary model gave as our most important feature (i.e. where the attack type is an assassination), we have a difficult challenge on our hands since most of our frequent values in a handful of features are 'Unknown.'  How does one predict given that our most-common evidence falls into an 'Unknown' category? Let's look at the data for within the umbrella 'assassination attacks' and check out some class-balances.\n",
    "\n",
    "<head>\n",
    "    <table>\n",
    "        <th style = 'text-align:center'> Entire Data-set </th>\n",
    "        <th style = 'text-align:center'> Data Grouped by Assassination </th>\n",
    "        <tr>\n",
    "            <td> {{pd.DataFrame(cyber_data.success.value_counts())}} </td>\n",
    "            <td> {{attacks_success}} </td>\n",
    "        </tr>\n",
    "    </table>\n",
    "</head>\n",
    "\n",
    "Here, we can see that we went from a 90% imbalance to a 50% imbalance and a distribution where our unsuccessful attacks represent one-sixth of their entire class."
   ]
  },
  {
   "cell_type": "markdown",
   "metadata": {
    "slideshow": {
     "slide_type": "subslide"
    },
    "variables": {
     "fails_as.describe(include = 'O')": "<div>\n<style scoped>\n    .dataframe tbody tr th:only-of-type {\n        vertical-align: middle;\n    }\n\n    .dataframe tbody tr th {\n        vertical-align: top;\n    }\n\n    .dataframe thead th {\n        text-align: right;\n    }\n</style>\n<table border=\"1\" class=\"dataframe\">\n  <thead>\n    <tr style=\"text-align: right;\">\n      <th></th>\n      <th>country_txt</th>\n      <th>region_txt</th>\n      <th>city</th>\n      <th>attack_1txt</th>\n      <th>target_1txt</th>\n      <th>sub_targettxt</th>\n      <th>corp1</th>\n      <th>specific_target</th>\n      <th>victim_nationalitytxt</th>\n      <th>group_name</th>\n      <th>weapontxt</th>\n      <th>sub_weapontxt</th>\n    </tr>\n  </thead>\n  <tbody>\n    <tr>\n      <th>count</th>\n      <td>307</td>\n      <td>307</td>\n      <td>307</td>\n      <td>307</td>\n      <td>307</td>\n      <td>307</td>\n      <td>307</td>\n      <td>307</td>\n      <td>307</td>\n      <td>307</td>\n      <td>307</td>\n      <td>307</td>\n    </tr>\n    <tr>\n      <th>unique</th>\n      <td>34</td>\n      <td>9</td>\n      <td>198</td>\n      <td>1</td>\n      <td>14</td>\n      <td>24</td>\n      <td>189</td>\n      <td>293</td>\n      <td>38</td>\n      <td>35</td>\n      <td>5</td>\n      <td>17</td>\n    </tr>\n    <tr>\n      <th>top</th>\n      <td>Iraq</td>\n      <td>South Asia</td>\n      <td>Sunni_Cities</td>\n      <td>Assassination</td>\n      <td>Government (General)</td>\n      <td>Gov_Figure1</td>\n      <td>Iraqi Police Service (IPS)</td>\n      <td>Commander</td>\n      <td>Iraq</td>\n      <td>Unknown</td>\n      <td>Explosives</td>\n      <td>Unknown Gun Type</td>\n    </tr>\n    <tr>\n      <th>freq</th>\n      <td>68</td>\n      <td>120</td>\n      <td>33</td>\n      <td>307</td>\n      <td>100</td>\n      <td>57</td>\n      <td>20</td>\n      <td>6</td>\n      <td>68</td>\n      <td>180</td>\n      <td>190</td>\n      <td>74</td>\n    </tr>\n  </tbody>\n</table>\n</div>"
    }
   },
   "source": [
    "Here is a closer look at Assassination attacks in our training set that failed:\n",
    "\n",
    "{{fails_as.describe(include = 'O')}}"
   ]
  },
  {
   "cell_type": "markdown",
   "metadata": {
    "slideshow": {
     "slide_type": "subslide"
    },
    "variables": {
     "fails_as.loc[fails_as['group_name'] == 'Unknown'].describe(include = 'O')": "<div>\n<style scoped>\n    .dataframe tbody tr th:only-of-type {\n        vertical-align: middle;\n    }\n\n    .dataframe tbody tr th {\n        vertical-align: top;\n    }\n\n    .dataframe thead th {\n        text-align: right;\n    }\n</style>\n<table border=\"1\" class=\"dataframe\">\n  <thead>\n    <tr style=\"text-align: right;\">\n      <th></th>\n      <th>country_txt</th>\n      <th>region_txt</th>\n      <th>city</th>\n      <th>attack_1txt</th>\n      <th>target_1txt</th>\n      <th>sub_targettxt</th>\n      <th>corp1</th>\n      <th>specific_target</th>\n      <th>victim_nationalitytxt</th>\n      <th>group_name</th>\n      <th>weapontxt</th>\n      <th>sub_weapontxt</th>\n    </tr>\n  </thead>\n  <tbody>\n    <tr>\n      <th>count</th>\n      <td>180</td>\n      <td>180</td>\n      <td>180</td>\n      <td>180</td>\n      <td>180</td>\n      <td>180</td>\n      <td>180</td>\n      <td>180</td>\n      <td>180</td>\n      <td>180</td>\n      <td>180</td>\n      <td>180</td>\n    </tr>\n    <tr>\n      <th>unique</th>\n      <td>24</td>\n      <td>9</td>\n      <td>113</td>\n      <td>1</td>\n      <td>10</td>\n      <td>19</td>\n      <td>115</td>\n      <td>173</td>\n      <td>25</td>\n      <td>1</td>\n      <td>4</td>\n      <td>15</td>\n    </tr>\n    <tr>\n      <th>top</th>\n      <td>Iraq</td>\n      <td>Middle East &amp; North Africa</td>\n      <td>Sunni_Cities</td>\n      <td>Assassination</td>\n      <td>Government (General)</td>\n      <td>Police Security Forces/Officers</td>\n      <td>Iraqi Police Service (IPS)</td>\n      <td>Commander</td>\n      <td>Iraq</td>\n      <td>Unknown</td>\n      <td>Explosives</td>\n      <td>Unknown Gun Type</td>\n    </tr>\n    <tr>\n      <th>freq</th>\n      <td>57</td>\n      <td>79</td>\n      <td>27</td>\n      <td>180</td>\n      <td>56</td>\n      <td>35</td>\n      <td>20</td>\n      <td>5</td>\n      <td>57</td>\n      <td>180</td>\n      <td>110</td>\n      <td>49</td>\n    </tr>\n  </tbody>\n</table>\n</div>"
    }
   },
   "source": [
    "...and a closer look at the same set above, with an additional filter: 'Unknown group-names'.  Here, it is important to note the very slight difference in the frequency of the feature 'Sunni_cities':\n",
    "{{fails_as.loc[fails_as['group_name'] == 'Unknown'].describe(include = 'O')}}"
   ]
  },
  {
   "cell_type": "markdown",
   "metadata": {
    "slideshow": {
     "slide_type": "subslide"
    },
    "variables": {
     "pd.DataFrame(attacks_as.loc[(attacks_as['city'] == 'Sunni_Cities')].success.value_counts())": "<div>\n<style scoped>\n    .dataframe tbody tr th:only-of-type {\n        vertical-align: middle;\n    }\n\n    .dataframe tbody tr th {\n        vertical-align: top;\n    }\n\n    .dataframe thead th {\n        text-align: right;\n    }\n</style>\n<table border=\"1\" class=\"dataframe\">\n  <thead>\n    <tr style=\"text-align: right;\">\n      <th></th>\n      <th>success</th>\n    </tr>\n  </thead>\n  <tbody>\n    <tr>\n      <th>0</th>\n      <td>33</td>\n    </tr>\n    <tr>\n      <th>1</th>\n      <td>18</td>\n    </tr>\n  </tbody>\n</table>\n</div>"
    }
   },
   "source": [
    "Looking at failed assassination attempts within Sunni_cities, we see our class imbalance has switched:\n",
    "\n",
    "{{pd.DataFrame(attacks_as.loc[(attacks_as['city'] == 'Sunni_Cities')].success.value_counts())}}\n",
    "         "
   ]
  },
  {
   "cell_type": "markdown",
   "metadata": {
    "slideshow": {
     "slide_type": "fragment"
    },
    "variables": {
     "pd.DataFrame(fails_as.city.value_counts().head(5))": "<div>\n<style scoped>\n    .dataframe tbody tr th:only-of-type {\n        vertical-align: middle;\n    }\n\n    .dataframe tbody tr th {\n        vertical-align: top;\n    }\n\n    .dataframe thead th {\n        text-align: right;\n    }\n</style>\n<table border=\"1\" class=\"dataframe\">\n  <thead>\n    <tr style=\"text-align: right;\">\n      <th></th>\n      <th>city</th>\n    </tr>\n  </thead>\n  <tbody>\n    <tr>\n      <th>Sunni_Cities</th>\n      <td>33</td>\n    </tr>\n    <tr>\n      <th>Unknown</th>\n      <td>14</td>\n    </tr>\n    <tr>\n      <th>Mogadishu</th>\n      <td>14</td>\n    </tr>\n    <tr>\n      <th>Split_Cities</th>\n      <td>13</td>\n    </tr>\n    <tr>\n      <th>Benghazi</th>\n      <td>5</td>\n    </tr>\n  </tbody>\n</table>\n</div>"
    }
   },
   "source": [
    "Here are our top 5 cities in this scenario:\n",
    "    \n",
    "   {{pd.DataFrame(fails_as.city.value_counts().head(5))}}"
   ]
  },
  {
   "cell_type": "code",
   "execution_count": null,
   "metadata": {
    "slideshow": {
     "slide_type": "subslide"
    }
   },
   "outputs": [],
   "source": [
    "cyber_train_X.loc[(cyber_train_X['city'] == 'Sunni_Cities') |\n",
    "                 (cyber_train_X['city'] == 'Mogadishu') &\n",
    "                 (cyber_train_X['attack_1txt'] == 'Assassination'), 'Barometer'] = 1\n",
    "\n",
    "Barometer_train = cyber_train_X['Barometer'].replace(np.nan, 0)\n",
    "Barometer_train = Barometer_train.reset_index().drop('index', axis = 1)"
   ]
  },
  {
   "cell_type": "code",
   "execution_count": null,
   "metadata": {
    "slideshow": {
     "slide_type": "skip"
    }
   },
   "outputs": [],
   "source": [
    "cyber_test_X.loc[(cyber_test_X['city'] == 'Sunni_Cities') |\n",
    "                 (cyber_test_X['city'] == 'Mogadishu') &\n",
    "                 (cyber_test_X['attack_1txt'] == 'Assassination'), 'Barometer'] = 1\n",
    "\n",
    "Barometer_test = cyber_test_X['Barometer'].replace(np.nan, 0)\n",
    "Barometer_test = Barometer_test.reset_index().drop('index', axis = 1)"
   ]
  },
  {
   "cell_type": "code",
   "execution_count": null,
   "metadata": {
    "slideshow": {
     "slide_type": "fragment"
    }
   },
   "outputs": [],
   "source": [
    "KBest_train_X3 = KBest_train_X\n",
    "KBest_test_X3 = KBest_test_X\n",
    "\n",
    "KBest_train_X3 = pd.concat([KBest_train_X3, Barometer_train], axis = 1)\n",
    "KBest_test_X3 = pd.concat([KBest_test_X3, Barometer_test], axis = 1)"
   ]
  },
  {
   "cell_type": "markdown",
   "metadata": {
    "slideshow": {
     "slide_type": "slide"
    }
   },
   "source": [
    "### 6. Tuning our Final Model:\n",
    "\n",
    "Here, we will try and use a for loop to run through a set of parameters, which we will then use to visualize the parameters which will optimize our model's predictive power.  For the moment, the parameters we will focus on are the 'n_estimators' and 'max_depth.'"
   ]
  },
  {
   "cell_type": "code",
   "execution_count": null,
   "metadata": {
    "slideshow": {
     "slide_type": "fragment"
    }
   },
   "outputs": [
    {
     "name": "stdout",
     "output_type": "stream",
     "text": [
      "(9907, 101)\n",
      "(2283, 101)\n"
     ]
    }
   ],
   "source": [
    "# Double checking the shape of our engineered feature-set:\n",
    "print(KBest_train_X3.shape)\n",
    "print(KBest_test_X3.shape)"
   ]
  },
  {
   "cell_type": "markdown",
   "metadata": {
    "slideshow": {
     "slide_type": "slide"
    }
   },
   "source": [
    "#### A. Using GridSearchCV"
   ]
  },
  {
   "cell_type": "code",
   "execution_count": null,
   "metadata": {
    "slideshow": {
     "slide_type": "fragment"
    }
   },
   "outputs": [],
   "source": [
    "from sklearn.model_selection import GridSearchCV\n",
    "\n",
    "KBest_Grid = RandomForestClassifier(criterion = 'entropy')\n",
    "\n",
    "params = [{'n_estimators': np.arange(40, 300, 20), \n",
    "           'max_depth': np.arange(3, 16, 1)}]\n",
    "\n",
    "params_2 = [{'n_estimators': np.arange(300, 20, -20), \n",
    "             'max_depth': np.arange(15, 2, -1)}]"
   ]
  },
  {
   "cell_type": "markdown",
   "metadata": {
    "slideshow": {
     "slide_type": "subslide"
    }
   },
   "source": [
    "##### 1. Random Forest with Original Data-Set:"
   ]
  },
  {
   "cell_type": "code",
   "execution_count": null,
   "metadata": {
    "slideshow": {
     "slide_type": "fragment"
    }
   },
   "outputs": [
    {
     "data": {
      "text/plain": [
       "GridSearchCV(cv=5, error_score='raise-deprecating',\n",
       "       estimator=RandomForestClassifier(bootstrap=True, class_weight=None, criterion='entropy',\n",
       "            max_depth=None, max_features='auto', max_leaf_nodes=None,\n",
       "            min_impurity_decrease=0.0, min_impurity_split=None,\n",
       "            min_samples_leaf=1, min_samples_split=2,\n",
       "            min_weight_fraction_leaf=0.0, n_estimators=10, n_jobs=1,\n",
       "            oob_score=False, random_state=None, verbose=0,\n",
       "            warm_start=False),\n",
       "       fit_params=None, iid='warn', n_jobs=1,\n",
       "       param_grid=[{'n_estimators': array([ 40,  60,  80, 100, 120, 140, 160, 180, 200, 220, 240, 260, 280]), 'max_depth': array([ 3,  4,  5,  6,  7,  8,  9, 10, 11, 12, 13, 14, 15])}],\n",
       "       pre_dispatch='2*n_jobs', refit=True, return_train_score='warn',\n",
       "       scoring='balanced_accuracy', verbose=0)"
      ]
     },
     "execution_count": 106,
     "metadata": {},
     "output_type": "execute_result"
    }
   ],
   "source": [
    "forest_grid = GridSearchCV(KBest_Grid, params, cv = 5, scoring = 'balanced_accuracy')\n",
    "forest_grid.fit(KBest_train_X, cyber_train_dummy_Y)"
   ]
  },
  {
   "cell_type": "code",
   "execution_count": null,
   "metadata": {
    "slideshow": {
     "slide_type": "skip"
    }
   },
   "outputs": [],
   "source": [
    "\n",
    "# These are the usual ipython objects, including this one you are creating\n",
    "ipython_vars = ['In', 'Out', 'exit', 'quit', 'get_ipython', 'ipython_vars']\n",
    "\n",
    "# Get a sorted list of the objects and their sizes\n",
    "\n",
    "cleaner = sorted([(x, sys.getsizeof(globals().get(x))) for x in dir() if not x.startswith('_') and x not in sys.modules and x not in ipython_vars], key=lambda x: x[1], reverse=True)"
   ]
  },
  {
   "cell_type": "code",
   "execution_count": null,
   "metadata": {
    "slideshow": {
     "slide_type": "skip"
    }
   },
   "outputs": [],
   "source": [
    "del dummy_prep, names_dummy_1, names_dummy_prep, spec_targ_dummy_prep, PCA_test_X, PCA_train_X\n",
    "del attacks_as, comms, success_mask, big_targets_mask"
   ]
  },
  {
   "cell_type": "code",
   "execution_count": null,
   "metadata": {
    "slideshow": {
     "slide_type": "skip"
    }
   },
   "outputs": [
    {
     "data": {
      "text/plain": [
       "522"
      ]
     },
     "execution_count": 109,
     "metadata": {},
     "output_type": "execute_result"
    }
   ],
   "source": [
    "gc.collect()"
   ]
  },
  {
   "cell_type": "code",
   "execution_count": null,
   "metadata": {
    "slideshow": {
     "slide_type": "subslide"
    }
   },
   "outputs": [],
   "source": [
    "forest_grid_2 = GridSearchCV(KBest_Grid, params_2, cv = 5, scoring = 'balanced_accuracy')\n",
    "forest_grid_2.fit(KBest_train_X, cyber_train_dummy_Y)"
   ]
  },
  {
   "cell_type": "markdown",
   "metadata": {
    "slideshow": {
     "slide_type": "subslide"
    }
   },
   "source": [
    "##### 2. Random Forest with New Feature:"
   ]
  },
  {
   "cell_type": "code",
   "execution_count": null,
   "metadata": {
    "slideshow": {
     "slide_type": "fragment"
    }
   },
   "outputs": [],
   "source": [
    "forest_grid_3 = GridSearchCV(KBest_Grid, params, cv = 5, scoring = 'balanced_accuracy')\n",
    "forest_grid_3.fit(KBest_train_X3, cyber_train_dummy_Y)"
   ]
  },
  {
   "cell_type": "code",
   "execution_count": null,
   "metadata": {
    "slideshow": {
     "slide_type": "subslide"
    }
   },
   "outputs": [],
   "source": [
    "forest_grid_4 = GridSearchCV(KBest_Grid, params_2, cv = 5, scoring = 'balanced_accuracy')\n",
    "forest_grid_4.fit(KBest_train_X3, cyber_train_dummy_Y)"
   ]
  },
  {
   "cell_type": "code",
   "execution_count": null,
   "metadata": {
    "slideshow": {
     "slide_type": "subslide"
    }
   },
   "outputs": [],
   "source": [
    "print(forest_grid.best_params_)\n",
    "print(forest_grid_2.best_params_)\n",
    "print(forest_grid_3.best_params_)\n",
    "print(forest_grid_4.best_params_)"
   ]
  },
  {
   "cell_type": "code",
   "execution_count": null,
   "metadata": {
    "slideshow": {
     "slide_type": "fragment"
    }
   },
   "outputs": [],
   "source": [
    "print(forest_grid.best_score_)\n",
    "print(forest_grid_2.best_score_)\n",
    "print(forest_grid_3.best_score_)\n",
    "print(forest_grid_4.best_score_)"
   ]
  },
  {
   "cell_type": "markdown",
   "metadata": {
    "slideshow": {
     "slide_type": "slide"
    }
   },
   "source": [
    "#### B. Custom GridSearch:"
   ]
  },
  {
   "cell_type": "markdown",
   "metadata": {
    "slideshow": {
     "slide_type": "subslide"
    }
   },
   "source": [
    "##### 1. RandomForest with KBest (original features):"
   ]
  },
  {
   "cell_type": "code",
   "execution_count": null,
   "metadata": {
    "slideshow": {
     "slide_type": "fragment"
    }
   },
   "outputs": [],
   "source": [
    "param_dict = {'n_estimators': [80, 100, 120, 80, 100, 120], \n",
    "              'max_depth' : [15, 16, 17, 13, 14, 12]}\n",
    "\n",
    "param_df = pd.DataFrame(param_dict)"
   ]
  },
  {
   "cell_type": "code",
   "execution_count": null,
   "metadata": {
    "scrolled": false,
    "slideshow": {
     "slide_type": "subslide"
    }
   },
   "outputs": [],
   "source": [
    "results_list = pd.DataFrame(columns=['B.A. Score', 'FP', 'FN', 'Mean CV Score', 'CV Std'])\n",
    "plusminus = u\"\\u00B1\"\n",
    "\n",
    "for row in param_df.itertuples(index = False):\n",
    "\n",
    "    KBest_RF = RandomForestClassifier(n_estimators = row[0], max_depth = row[1])\n",
    "\n",
    "    KBest_RF = KBest_RF.fit(KBest_train_X, cyber_train_dummy_Y)\n",
    "    KBest_RF_train_pred_ = KBest_RF.predict(KBest_train_X) \n",
    "    KBest_RF_test_pred_ = KBest_RF.predict(KBest_test_X) \n",
    "\n",
    "    # Evaluation:\n",
    "\n",
    "      # Confusion matrices:\n",
    "    KBest_RF_confusion_train = confusion_matrix(cyber_train_dummy_Y, KBest_RF_train_pred_, labels = [0, 1])\n",
    "    KBest_RF_confusion_test = confusion_matrix(cyber_test_dummy_Y, KBest_RF_test_pred_, labels = [0, 1])\n",
    "\n",
    "      # Cross_validation and train/test score:\n",
    "    KBest_RF_cv = cross_val_score(KBest_RF, KBest_train_X, cyber_train_dummy_Y, cv = 5, \n",
    "                                  scoring = 'balanced_accuracy')\n",
    "\n",
    "      # Looking at the F1/balanced accuracy scores:\n",
    "    KBest_RF_train = balanced_accuracy_score(cyber_train_dummy_Y, KBest_RF_train_pred_)\n",
    "    KBest_RF_test = balanced_accuracy_score(cyber_test_dummy_Y, KBest_RF_test_pred_)\n",
    "    \n",
    "      # Getting some scores on cross-validation, False Negatives and Positives and Balanced Accuracy:\n",
    "    print(\"\\nThe mean cross-validation score is: {:.2%} {}{:.2%}\".format(KBest_RF_cv.mean(),\n",
    "                                                                     plusminus, KBest_RF_cv.std()))\n",
    "    conf_df = pd.DataFrame(KBest_RF_confusion_train)\n",
    "  \n",
    "    FP = conf_df.loc[0, 1]\n",
    "    FN = conf_df.loc[1, 0]\n",
    "    NegT = conf_df.iloc[0].sum()\n",
    "    PosT = conf_df.iloc[1].sum()\n",
    "    \n",
    "    print(\"Training set results:\")\n",
    "    print(conf_df)\n",
    "    print('\\nFalse Positive/Type I Error: {} ({:.2%})'.format(FP, (FP / NegT)))\n",
    "    print('False Negative/Type II Error: {} ({:.2%})'.format(FN, (FN / PosT)))\n",
    "    print('Balanced Accuracy: {:.2%}\\n'.format(KBest_RF_train))\n",
    "    \n",
    "    conf_df2 = pd.DataFrame(KBest_RF_confusion_test)\n",
    "\n",
    "    FP2 = conf_df2.loc[0, 1]\n",
    "    FN2 = conf_df2.loc[1, 0]\n",
    "    NegT2 = conf_df2.iloc[0].sum()\n",
    "    PosT2 = conf_df2.iloc[1].sum()\n",
    "    \n",
    "    print(\"Test set results:\")\n",
    "    print(conf_df2)\n",
    "    print('\\nFalse Positive/Type I Error: {} ({:.2%})'.format(FP2, (FP2 / NegT2)))\n",
    "    print('False Negative/Type II Error: {} ({:.2%})'.format(FN2, (FN2 / PosT2)))\n",
    "    print('Balanced Accuracy: {:.2%}'.format(KBest_RF_test))\n",
    "    print('-----------------')\n",
    "    \n",
    "    results_list = results_list.append({'B.A. Score': KBest_RF_test, \n",
    "                                        'FP': FP2,\n",
    "                                        'FN': FN2,\n",
    "                                        'Mean CV Score': KBest_RF_cv.mean(), \n",
    "                                        'CV Std': KBest_RF_cv.std()}, ignore_index = True)"
   ]
  },
  {
   "cell_type": "markdown",
   "metadata": {
    "slideshow": {
     "slide_type": "subslide"
    },
    "variables": {
     "results_list": {}
    }
   },
   "source": [
    "Here are the results we received for Random Forest Model (with tweaked parameters and our engineered feature):\n",
    "    \n",
    "  {{results_list}}"
   ]
  },
  {
   "cell_type": "markdown",
   "metadata": {
    "slideshow": {
     "slide_type": "slide"
    }
   },
   "source": [
    "##### 2. RandomForest with KBest (engineered feature added):"
   ]
  },
  {
   "cell_type": "code",
   "execution_count": null,
   "metadata": {
    "scrolled": false,
    "slideshow": {
     "slide_type": "subslide"
    }
   },
   "outputs": [],
   "source": [
    "results_list_2 = pd.DataFrame(columns=['B.A. Score', 'FP', 'FN', 'Mean CV Score', 'CV Std'])\n",
    "plusminus = u\"\\u00B1\"\n",
    "\n",
    "for row in param_df.itertuples(index = False):\n",
    "\n",
    "    KBest_RF = RandomForestClassifier(n_estimators = row[0], max_depth = row[1])\n",
    "\n",
    "    KBest_RF = KBest_RF.fit(KBest_train_X3, cyber_train_dummy_Y)\n",
    "    KBest_RF_train_pred_ = KBest_RF.predict(KBest_train_X3) \n",
    "    KBest_RF_test_pred_ = KBest_RF.predict(KBest_test_X3) \n",
    "\n",
    "    # Evaluation:\n",
    "\n",
    "      # Confusion matrices:\n",
    "    KBest_RF_confusion_train = confusion_matrix(cyber_train_dummy_Y, KBest_RF_train_pred_, labels = [0, 1])\n",
    "    KBest_RF_confusion_test = confusion_matrix(cyber_test_dummy_Y, KBest_RF_test_pred_, labels = [0, 1])\n",
    "\n",
    "      # Cross_validation and train/test score:\n",
    "    KBest_RF_cv = cross_val_score(KBest_RF, KBest_train_X3, cyber_train_dummy_Y, cv = 5, \n",
    "                                  scoring = 'balanced_accuracy')\n",
    "\n",
    "      # Looking at the F1/balanced accuracy scores:\n",
    "    KBest_RF_train = balanced_accuracy_score(cyber_train_dummy_Y, KBest_RF_train_pred_)\n",
    "    KBest_RF_test = balanced_accuracy_score(cyber_test_dummy_Y, KBest_RF_test_pred_)\n",
    "    \n",
    "      # Getting some scores on cross-validation, False Negatives and Positives and Balanced Accuracy:\n",
    "    print(\"\\nThe mean cross-validation score is: {:.2%} {}{:.2%}\".format(KBest_RF_cv.mean(),\n",
    "                                                                     plusminus, KBest_RF_cv.std()))\n",
    "    conf_df = pd.DataFrame(KBest_RF_confusion_train)\n",
    "  \n",
    "    FP = conf_df.loc[0, 1]\n",
    "    FN = conf_df.loc[1, 0]\n",
    "    NegT = conf_df.iloc[0].sum()\n",
    "    PosT = conf_df.iloc[1].sum()\n",
    "    \n",
    "    print(\"Training set results:\")\n",
    "    print(conf_df)\n",
    "    print('\\nFalse Positive/Type I Error: {} ({:.2%})'.format(FP, (FP / NegT)))\n",
    "    print('False Negative/Type II Error: {} ({:.2%})'.format(FN, (FN / PosT)))\n",
    "    print('Balanced Accuracy: {:.2%}\\n'.format(KBest_RF_train))\n",
    "    \n",
    "    conf_df2 = pd.DataFrame(KBest_RF_confusion_test)\n",
    "\n",
    "    FP2 = conf_df2.loc[0, 1]\n",
    "    FN2 = conf_df2.loc[1, 0]\n",
    "    NegT2 = conf_df2.iloc[0].sum()\n",
    "    PosT2 = conf_df2.iloc[1].sum()\n",
    "    \n",
    "    print(\"Test set results:\")\n",
    "    print(conf_df2)\n",
    "    print('\\nFalse Positive/Type I Error: {} ({:.2%})'.format(FP2, (FP2 / NegT2)))\n",
    "    print('False Negative/Type II Error: {} ({:.2%})'.format(FN2, (FN2 / PosT2)))\n",
    "    print('Balanced Accuracy: {:.2%}'.format(KBest_RF_test))\n",
    "    print('-----------------')\n",
    "    \n",
    "    results_list_2 = results_list_2.append({'B.A. Score': KBest_RF_test, \n",
    "                                            'FP': FP2,\n",
    "                                            'FN': FN2,\n",
    "                                            'Mean CV Score': KBest_RF_cv.mean(), \n",
    "                                            'CV Std': KBest_RF_cv.std()}, ignore_index = True)"
   ]
  },
  {
   "cell_type": "markdown",
   "metadata": {
    "slideshow": {
     "slide_type": "subslide"
    },
    "variables": {
     "results_list_2": {}
    }
   },
   "source": [
    "Here are the results we received for Random Forest Model (with tweaked parameters and our engineered feature):\n",
    "    \n",
    "  {{results_list_2}}"
   ]
  },
  {
   "cell_type": "markdown",
   "metadata": {
    "slideshow": {
     "slide_type": "slide"
    }
   },
   "source": [
    "### 7. Final Analysis, Considerations and Avenues for Further Research:"
   ]
  },
  {
   "cell_type": "markdown",
   "metadata": {
    "slideshow": {
     "slide_type": "fragment"
    }
   },
   "source": [
    "#### Potential Weaknesses:\n",
    "\n",
    "While we were able to get some decent scores, there are a few things to not regarding this model and its dataset.  First of all, the filters would greatly benefit from further research and detailed attention.  The above filters are merely a start and represent a base amount of research.  It could certainly serve as a starting point for someone with expertise in the field.\n",
    "\n",
    "In addition, the filters we applied could be susceptible to a certain amount of bias: the filter itself will not be able to catch all instances of cyber-related terrorism conclusively; more likely than not it will miss one certain aspect or another. Increasing the number of eyes on the model and data will help with this.\n",
    "\n"
   ]
  },
  {
   "cell_type": "markdown",
   "metadata": {
    "slideshow": {
     "slide_type": "subslide"
    }
   },
   "source": [
    "#### Further research:\n",
    "\n",
    "Given the richness of the variables within this dataset, there are plenty of avenues for further research.  One could use Regex to search the summary and motive columns for further detail and insight into the nature of these cyber-related tasks.  The filter above is relatively broad and potentially encapsulates instances that many might not consider related to 'cyber' events.  It would be interesting to create a more intricate regex filter which could give us a more detailed understanding of the 'cyber' aspect of these events: How specifically are they related and in what manners? What geographical locations tend to be hotbeds for such activity.  What targets are specified and why?  The 'motive' feature, in particular, could have extensive benefits with prediction, depending on the vocabulary used by those conducting the study and entering the data. \n"
   ]
  },
  {
   "cell_type": "markdown",
   "metadata": {
    "slideshow": {
     "slide_type": "subslide"
    }
   },
   "source": [
    "#### Explanatory v. Predictive Power:\n",
    "\n",
    "With the current analysis, our goal lies mainly in the predictive power of our model - in other words, its ability to fit with the current data and produce an output with completely new data - preferably an output with as little variation in this new accuracy score as possible. We are trying to look at the trends in our current data and use it to identify the classifications and probabilities in which new or future observations will fall.  An explanatory model, with regards to a dataset describing Terrorism, might have interest to a scholar or an academic institution in the sense that it reveals behaviors and patterns of observations that have already occurred, but it has no bearing on future observations. It would offer no suggestions on what these patterns might say regarding incoming data (and in this case, future terror attacks). \n",
    "\n",
    "The caveat, however, is making sure that our model adapts well to new input (or test) data so that the variation between training and test results can be as minimal as possible (i.e. so the difference between the model's prediction and reality is minimal).  Predictive analysis, especially in a terror-related context, involves considerably more risk than an explanatory model, and should be handled with an intense attention to detail and accuracy.\n",
    "\n",
    "\n",
    "\n"
   ]
  },
  {
   "cell_type": "markdown",
   "metadata": {
    "slideshow": {
     "slide_type": "slide"
    }
   },
   "source": [
    "General References:\n",
    "\n",
    "Referenced the following sites for honing my knowledge of the models, python, etc:\n",
    "\n",
    "1. https://www.analyticsvidhya.com/blog/2017/06/a-comprehensive-guide-for-linear-ridge-and-lasso-regression/\n",
    "2. https://machinelearningmastery.com/feature-selection-machine-learning-python/\n",
    "3. https://medium.com/@pushkarmandot/what-is-the-significance-of-c-value-in-support-vector-machine-28224e852c5a\n",
    "4. A big shout out to Mike Swirsky for pointing out this link to me (submitted by the user 'Abdou' on Stack Overflow: https://stackoverflow.com/questions/40993626/list-memory-usage-in-ipython-and-jupyter)"
   ]
  }
 ],
 "metadata": {
  "_draft": {
   "nbviewer_url": "https://gist.github.com/047ab01a12cda5f24d1765dc7b678197"
  },
  "celltoolbar": "Slideshow",
  "gist": {
   "data": {
    "description": "CyberTerrorism6 Filtering Resources",
    "public": false
   },
   "id": "047ab01a12cda5f24d1765dc7b678197"
  },
  "kernelspec": {
   "display_name": "Python 3",
   "language": "python",
   "name": "python3"
  },
  "language_info": {
   "codemirror_mode": {
    "name": "ipython",
    "version": 3
   },
   "file_extension": ".py",
   "mimetype": "text/x-python",
   "name": "python",
   "nbconvert_exporter": "python",
   "pygments_lexer": "ipython3",
   "version": "3.7.1"
  },
  "toc": {
   "base_numbering": 1,
   "nav_menu": {
    "height": "510px",
    "width": "555px"
   },
   "number_sections": false,
   "sideBar": true,
   "skip_h1_title": false,
   "title_cell": "Table of Contents",
   "title_sidebar": "Contents",
   "toc_cell": false,
   "toc_position": {},
   "toc_section_display": true,
   "toc_window_display": true
  },
  "varInspector": {
   "cols": {
    "lenName": 16,
    "lenType": 16,
    "lenVar": 40
   },
   "kernels_config": {
    "python": {
     "delete_cmd_postfix": "",
     "delete_cmd_prefix": "del ",
     "library": "var_list.py",
     "varRefreshCmd": "print(var_dic_list())"
    },
    "r": {
     "delete_cmd_postfix": ") ",
     "delete_cmd_prefix": "rm(",
     "library": "var_list.r",
     "varRefreshCmd": "cat(var_dic_list()) "
    }
   },
   "oldHeight": 444,
   "position": {
    "height": "40px",
    "left": "1306px",
    "right": "20px",
    "top": "120px",
    "width": "356px"
   },
   "types_to_exclude": [
    "module",
    "function",
    "builtin_function_or_method",
    "instance",
    "_Feature"
   ],
   "varInspector_section_display": "none",
   "window_display": true
  }
 },
 "nbformat": 4,
 "nbformat_minor": 2
}
